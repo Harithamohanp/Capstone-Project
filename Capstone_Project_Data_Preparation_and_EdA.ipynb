{
 "cells": [
  {
   "cell_type": "markdown",
   "id": "5be452ec",
   "metadata": {},
   "source": [
    "# AMAZONE PRODUCT REVIEW ANALYSIS"
   ]
  },
  {
   "cell_type": "markdown",
   "id": "1a4f3b7a",
   "metadata": {},
   "source": [
    "## Problem Statement\n",
    "Thomas, a global market analyst, wishes to develop an automated system to analyze and monitor an enormous number of reviews. By monitoring the entire review history of products, he wishes to analyze tone, language, keywords, and trends over time to provide valuable insights that increase the success rate of existing and new products and marketing campaigns.\n",
    "\n",
    "\n",
    "## Product Category:----->Office Products and CD -Vinyl\n",
    "\n"
   ]
  },
  {
   "cell_type": "markdown",
   "id": "6b4b5bb4",
   "metadata": {},
   "source": [
    "#### Data loaded from\n",
    "https://nijianmo.github.io/amazon/index.html"
   ]
  },
  {
   "cell_type": "markdown",
   "id": "46b39c2f",
   "metadata": {},
   "source": [
    "## Importing all Required libraries"
   ]
  },
  {
   "cell_type": "code",
   "execution_count": 2,
   "id": "1f129d02",
   "metadata": {},
   "outputs": [],
   "source": [
    "import pandas as pd                    # to work with dataframe\n",
    "import numpy as np                     # to work with numpy arrays\n",
    "import gzip                            # to extract file from zip file\n",
    "import json                            # to work with json file\n",
    "import matplotlib.pyplot as plt        # to do visualization\n",
    "import seaborn as sb                   # visualization\n",
    "import re                              # regular expression\n",
    "import string                          # \n",
    "import warnings                        # to avoid warnings\n",
    "warnings.filterwarnings('ignore')"
   ]
  },
  {
   "cell_type": "markdown",
   "id": "37615498",
   "metadata": {},
   "source": [
    "## Defining function for  Converting file from json to dataframe"
   ]
  },
  {
   "cell_type": "code",
   "execution_count": 2,
   "id": "3b0f2609",
   "metadata": {},
   "outputs": [],
   "source": [
    "def parse(path):               # creating a function \n",
    "    g = gzip.open(path, 'rb')  # opening the zip file\n",
    "    for l in g:\n",
    "        yield json.loads(l)\n",
    "\n",
    "def getDF(path):             \n",
    "    i = 0\n",
    "    df = {}                   # creating an empty dictionary\n",
    "    for d in parse(path):\n",
    "        df[i] = d\n",
    "        i += 1\n",
    "    return pd.DataFrame.from_dict(df, orient='index')\n"
   ]
  },
  {
   "cell_type": "markdown",
   "id": "f9292054",
   "metadata": {},
   "source": [
    "## Importing the data"
   ]
  },
  {
   "cell_type": "markdown",
   "id": "4d489ce3",
   "metadata": {},
   "source": [
    "### CDs and Vinyl Dataset"
   ]
  },
  {
   "cell_type": "code",
   "execution_count": 3,
   "id": "fd08bbf9",
   "metadata": {},
   "outputs": [
    {
     "data": {
      "text/html": [
       "<div>\n",
       "<style scoped>\n",
       "    .dataframe tbody tr th:only-of-type {\n",
       "        vertical-align: middle;\n",
       "    }\n",
       "\n",
       "    .dataframe tbody tr th {\n",
       "        vertical-align: top;\n",
       "    }\n",
       "\n",
       "    .dataframe thead th {\n",
       "        text-align: right;\n",
       "    }\n",
       "</style>\n",
       "<table border=\"1\" class=\"dataframe\">\n",
       "  <thead>\n",
       "    <tr style=\"text-align: right;\">\n",
       "      <th></th>\n",
       "      <th>category</th>\n",
       "      <th>tech1</th>\n",
       "      <th>description</th>\n",
       "      <th>fit</th>\n",
       "      <th>title</th>\n",
       "      <th>also_buy</th>\n",
       "      <th>tech2</th>\n",
       "      <th>brand</th>\n",
       "      <th>feature</th>\n",
       "      <th>rank</th>\n",
       "      <th>also_view</th>\n",
       "      <th>main_cat</th>\n",
       "      <th>similar_item</th>\n",
       "      <th>date</th>\n",
       "      <th>price</th>\n",
       "      <th>asin</th>\n",
       "      <th>imageURL</th>\n",
       "      <th>imageURLHighRes</th>\n",
       "      <th>details</th>\n",
       "    </tr>\n",
       "  </thead>\n",
       "  <tbody>\n",
       "    <tr>\n",
       "      <th>0</th>\n",
       "      <td>[CDs &amp; Vinyl, Christian]</td>\n",
       "      <td></td>\n",
       "      <td>[]</td>\n",
       "      <td></td>\n",
       "      <td>Songs for the Shepherd</td>\n",
       "      <td>[B0016CP2GS, B0000075PB, B0000275QQ, B00000I7J...</td>\n",
       "      <td></td>\n",
       "      <td>Keith Green</td>\n",
       "      <td>[]</td>\n",
       "      <td>123,896 in CDs &amp; Vinyl (</td>\n",
       "      <td>[B0016CP2GS, B00000I7JO, B00000I9AH, B00P826ZR...</td>\n",
       "      <td>&lt;img src=\"https://images-na.ssl-images-amazon....</td>\n",
       "      <td></td>\n",
       "      <td></td>\n",
       "      <td></td>\n",
       "      <td>0001393774</td>\n",
       "      <td>[]</td>\n",
       "      <td>[]</td>\n",
       "      <td>NaN</td>\n",
       "    </tr>\n",
       "    <tr>\n",
       "      <th>1</th>\n",
       "      <td>[CDs &amp; Vinyl, Christian, Pop &amp; Contemporary]</td>\n",
       "      <td></td>\n",
       "      <td>[]</td>\n",
       "      <td></td>\n",
       "      <td>Lift Him Up With Ron Kenoly VHS</td>\n",
       "      <td>[6303908845, 6303646611, B000008GO1]</td>\n",
       "      <td></td>\n",
       "      <td></td>\n",
       "      <td>[]</td>\n",
       "      <td>284,935 in Movies &amp; TV (</td>\n",
       "      <td>[B00000DUDE]</td>\n",
       "      <td>Movies &amp; TV</td>\n",
       "      <td></td>\n",
       "      <td></td>\n",
       "      <td></td>\n",
       "      <td>0001501348</td>\n",
       "      <td>[]</td>\n",
       "      <td>[]</td>\n",
       "      <td>NaN</td>\n",
       "    </tr>\n",
       "    <tr>\n",
       "      <th>2</th>\n",
       "      <td>[CDs &amp; Vinyl, Christian, Children's]</td>\n",
       "      <td></td>\n",
       "      <td>[]</td>\n",
       "      <td></td>\n",
       "      <td>I Love You</td>\n",
       "      <td>[]</td>\n",
       "      <td></td>\n",
       "      <td>Integrity Music</td>\n",
       "      <td>[]</td>\n",
       "      <td>1,138,833 in CDs &amp; Vinyl (</td>\n",
       "      <td>[]</td>\n",
       "      <td>&lt;img src=\"https://images-na.ssl-images-amazon....</td>\n",
       "      <td></td>\n",
       "      <td></td>\n",
       "      <td></td>\n",
       "      <td>0001515209</td>\n",
       "      <td>[]</td>\n",
       "      <td>[]</td>\n",
       "      <td>NaN</td>\n",
       "    </tr>\n",
       "    <tr>\n",
       "      <th>3</th>\n",
       "      <td>[CDs &amp; Vinyl, Christian, Children's]</td>\n",
       "      <td></td>\n",
       "      <td>[1) To God Be The Glory2) This Is My Fathers W...</td>\n",
       "      <td></td>\n",
       "      <td>Hymns: 16 Classic Hymns for Children</td>\n",
       "      <td>[B00000DPLJ, B000008UPG, B00BQH9RKA, B00KYVHGR...</td>\n",
       "      <td></td>\n",
       "      <td>Sue Gay</td>\n",
       "      <td>[]</td>\n",
       "      <td>271,064 in CDs &amp; Vinyl (</td>\n",
       "      <td>[B00000DPLL, 0843113006, B00BQH9RKA, B000008UP...</td>\n",
       "      <td>&lt;img src=\"https://images-na.ssl-images-amazon....</td>\n",
       "      <td></td>\n",
       "      <td></td>\n",
       "      <td>.a-section.a-spacing-mini{margin-bottom:6px!im...</td>\n",
       "      <td>0005072298</td>\n",
       "      <td>[]</td>\n",
       "      <td>[]</td>\n",
       "      <td>NaN</td>\n",
       "    </tr>\n",
       "    <tr>\n",
       "      <th>4</th>\n",
       "      <td>[CDs &amp; Vinyl, Christian, Children's]</td>\n",
       "      <td></td>\n",
       "      <td>[Joy To The World 2 The First Noel 3 Hark! The...</td>\n",
       "      <td></td>\n",
       "      <td>Christmas Carols</td>\n",
       "      <td>[B0010WAC50, B00000DPLJ]</td>\n",
       "      <td></td>\n",
       "      <td>Cedarmont Kids</td>\n",
       "      <td>[]</td>\n",
       "      <td>409,293 in CDs &amp; Vinyl (</td>\n",
       "      <td>[B00000DPKG, B0010WAC50, B00000DPKH, B00FSZPM8...</td>\n",
       "      <td>&lt;img src=\"https://images-na.ssl-images-amazon....</td>\n",
       "      <td></td>\n",
       "      <td></td>\n",
       "      <td></td>\n",
       "      <td>0005121515</td>\n",
       "      <td>[]</td>\n",
       "      <td>[]</td>\n",
       "      <td>NaN</td>\n",
       "    </tr>\n",
       "  </tbody>\n",
       "</table>\n",
       "</div>"
      ],
      "text/plain": [
       "                                       category tech1  \\\n",
       "0                      [CDs & Vinyl, Christian]         \n",
       "1  [CDs & Vinyl, Christian, Pop & Contemporary]         \n",
       "2          [CDs & Vinyl, Christian, Children's]         \n",
       "3          [CDs & Vinyl, Christian, Children's]         \n",
       "4          [CDs & Vinyl, Christian, Children's]         \n",
       "\n",
       "                                         description fit  \\\n",
       "0                                                 []       \n",
       "1                                                 []       \n",
       "2                                                 []       \n",
       "3  [1) To God Be The Glory2) This Is My Fathers W...       \n",
       "4  [Joy To The World 2 The First Noel 3 Hark! The...       \n",
       "\n",
       "                                  title  \\\n",
       "0                Songs for the Shepherd   \n",
       "1       Lift Him Up With Ron Kenoly VHS   \n",
       "2                            I Love You   \n",
       "3  Hymns: 16 Classic Hymns for Children   \n",
       "4                      Christmas Carols   \n",
       "\n",
       "                                            also_buy tech2            brand  \\\n",
       "0  [B0016CP2GS, B0000075PB, B0000275QQ, B00000I7J...            Keith Green   \n",
       "1               [6303908845, 6303646611, B000008GO1]                          \n",
       "2                                                 []        Integrity Music   \n",
       "3  [B00000DPLJ, B000008UPG, B00BQH9RKA, B00KYVHGR...                Sue Gay   \n",
       "4                           [B0010WAC50, B00000DPLJ]         Cedarmont Kids   \n",
       "\n",
       "  feature                        rank  \\\n",
       "0      []    123,896 in CDs & Vinyl (   \n",
       "1      []    284,935 in Movies & TV (   \n",
       "2      []  1,138,833 in CDs & Vinyl (   \n",
       "3      []    271,064 in CDs & Vinyl (   \n",
       "4      []    409,293 in CDs & Vinyl (   \n",
       "\n",
       "                                           also_view  \\\n",
       "0  [B0016CP2GS, B00000I7JO, B00000I9AH, B00P826ZR...   \n",
       "1                                       [B00000DUDE]   \n",
       "2                                                 []   \n",
       "3  [B00000DPLL, 0843113006, B00BQH9RKA, B000008UP...   \n",
       "4  [B00000DPKG, B0010WAC50, B00000DPKH, B00FSZPM8...   \n",
       "\n",
       "                                            main_cat similar_item date  \\\n",
       "0  <img src=\"https://images-na.ssl-images-amazon....                     \n",
       "1                                        Movies & TV                     \n",
       "2  <img src=\"https://images-na.ssl-images-amazon....                     \n",
       "3  <img src=\"https://images-na.ssl-images-amazon....                     \n",
       "4  <img src=\"https://images-na.ssl-images-amazon....                     \n",
       "\n",
       "                                               price        asin imageURL  \\\n",
       "0                                                     0001393774       []   \n",
       "1                                                     0001501348       []   \n",
       "2                                                     0001515209       []   \n",
       "3  .a-section.a-spacing-mini{margin-bottom:6px!im...  0005072298       []   \n",
       "4                                                     0005121515       []   \n",
       "\n",
       "  imageURLHighRes details  \n",
       "0              []     NaN  \n",
       "1              []     NaN  \n",
       "2              []     NaN  \n",
       "3              []     NaN  \n",
       "4              []     NaN  "
      ]
     },
     "execution_count": 3,
     "metadata": {},
     "output_type": "execute_result"
    }
   ],
   "source": [
    "# Importing meta data\n",
    "cd_meta=getDF(\"C:/Users/sandp/Downloads/Capstone Project/meta_CDs_and_Vinyl.json.gz\")\n",
    "cd_meta.head()"
   ]
  },
  {
   "cell_type": "code",
   "execution_count": 4,
   "id": "98a05714",
   "metadata": {},
   "outputs": [
    {
     "data": {
      "text/html": [
       "<div>\n",
       "<style scoped>\n",
       "    .dataframe tbody tr th:only-of-type {\n",
       "        vertical-align: middle;\n",
       "    }\n",
       "\n",
       "    .dataframe tbody tr th {\n",
       "        vertical-align: top;\n",
       "    }\n",
       "\n",
       "    .dataframe thead th {\n",
       "        text-align: right;\n",
       "    }\n",
       "</style>\n",
       "<table border=\"1\" class=\"dataframe\">\n",
       "  <thead>\n",
       "    <tr style=\"text-align: right;\">\n",
       "      <th></th>\n",
       "      <th>reviewerID</th>\n",
       "      <th>asin</th>\n",
       "      <th>reviewerName</th>\n",
       "      <th>verified</th>\n",
       "      <th>reviewText</th>\n",
       "      <th>overall</th>\n",
       "      <th>reviewTime</th>\n",
       "      <th>summary</th>\n",
       "      <th>unixReviewTime</th>\n",
       "      <th>style</th>\n",
       "      <th>vote</th>\n",
       "      <th>image</th>\n",
       "    </tr>\n",
       "  </thead>\n",
       "  <tbody>\n",
       "    <tr>\n",
       "      <th>0</th>\n",
       "      <td>A1H1DL4K669VQ9</td>\n",
       "      <td>0001393774</td>\n",
       "      <td>Judith Paladino</td>\n",
       "      <td>True</td>\n",
       "      <td>Love it!!  Great seller!</td>\n",
       "      <td>5.0</td>\n",
       "      <td>04 29, 2016</td>\n",
       "      <td>Five Stars</td>\n",
       "      <td>1461888000</td>\n",
       "      <td>NaN</td>\n",
       "      <td>NaN</td>\n",
       "      <td>NaN</td>\n",
       "    </tr>\n",
       "    <tr>\n",
       "      <th>1</th>\n",
       "      <td>A3V5XBBT7OZG5G</td>\n",
       "      <td>0001393774</td>\n",
       "      <td>gflady</td>\n",
       "      <td>True</td>\n",
       "      <td>One of my very favourite albums from one of my...</td>\n",
       "      <td>5.0</td>\n",
       "      <td>02 23, 2016</td>\n",
       "      <td>One of my very favourite albums from one of my...</td>\n",
       "      <td>1456185600</td>\n",
       "      <td>NaN</td>\n",
       "      <td>NaN</td>\n",
       "      <td>NaN</td>\n",
       "    </tr>\n",
       "    <tr>\n",
       "      <th>2</th>\n",
       "      <td>A3SNL7UJY7GWBI</td>\n",
       "      <td>0001393774</td>\n",
       "      <td>Lady Leatherneck</td>\n",
       "      <td>True</td>\n",
       "      <td>THank you Jesus Lord God, that brother Green's...</td>\n",
       "      <td>5.0</td>\n",
       "      <td>02 11, 2016</td>\n",
       "      <td>Five Stars</td>\n",
       "      <td>1455148800</td>\n",
       "      <td>NaN</td>\n",
       "      <td>NaN</td>\n",
       "      <td>NaN</td>\n",
       "    </tr>\n",
       "    <tr>\n",
       "      <th>3</th>\n",
       "      <td>A3478QRKQDOPQ2</td>\n",
       "      <td>0001393774</td>\n",
       "      <td>jacki</td>\n",
       "      <td>True</td>\n",
       "      <td>I recall loving his other albums and maybe thi...</td>\n",
       "      <td>5.0</td>\n",
       "      <td>11 28, 2015</td>\n",
       "      <td>forgot but I figured on some of these artists ...</td>\n",
       "      <td>1448668800</td>\n",
       "      <td>NaN</td>\n",
       "      <td>NaN</td>\n",
       "      <td>NaN</td>\n",
       "    </tr>\n",
       "    <tr>\n",
       "      <th>4</th>\n",
       "      <td>A23M5VTSN2C3H1</td>\n",
       "      <td>0001393774</td>\n",
       "      <td>Caliope</td>\n",
       "      <td>True</td>\n",
       "      <td>Keith Green was a pioneer in the field of Chri...</td>\n",
       "      <td>5.0</td>\n",
       "      <td>12 16, 2014</td>\n",
       "      <td>and I have loved every album he did</td>\n",
       "      <td>1418688000</td>\n",
       "      <td>NaN</td>\n",
       "      <td>NaN</td>\n",
       "      <td>NaN</td>\n",
       "    </tr>\n",
       "  </tbody>\n",
       "</table>\n",
       "</div>"
      ],
      "text/plain": [
       "       reviewerID        asin      reviewerName  verified  \\\n",
       "0  A1H1DL4K669VQ9  0001393774   Judith Paladino      True   \n",
       "1  A3V5XBBT7OZG5G  0001393774            gflady      True   \n",
       "2  A3SNL7UJY7GWBI  0001393774  Lady Leatherneck      True   \n",
       "3  A3478QRKQDOPQ2  0001393774             jacki      True   \n",
       "4  A23M5VTSN2C3H1  0001393774           Caliope      True   \n",
       "\n",
       "                                          reviewText  overall   reviewTime  \\\n",
       "0                           Love it!!  Great seller!      5.0  04 29, 2016   \n",
       "1  One of my very favourite albums from one of my...      5.0  02 23, 2016   \n",
       "2  THank you Jesus Lord God, that brother Green's...      5.0  02 11, 2016   \n",
       "3  I recall loving his other albums and maybe thi...      5.0  11 28, 2015   \n",
       "4  Keith Green was a pioneer in the field of Chri...      5.0  12 16, 2014   \n",
       "\n",
       "                                             summary  unixReviewTime style  \\\n",
       "0                                         Five Stars      1461888000   NaN   \n",
       "1  One of my very favourite albums from one of my...      1456185600   NaN   \n",
       "2                                         Five Stars      1455148800   NaN   \n",
       "3  forgot but I figured on some of these artists ...      1448668800   NaN   \n",
       "4                and I have loved every album he did      1418688000   NaN   \n",
       "\n",
       "  vote image  \n",
       "0  NaN   NaN  \n",
       "1  NaN   NaN  \n",
       "2  NaN   NaN  \n",
       "3  NaN   NaN  \n",
       "4  NaN   NaN  "
      ]
     },
     "execution_count": 4,
     "metadata": {},
     "output_type": "execute_result"
    }
   ],
   "source": [
    "# reviews data\n",
    "cd_review=getDF(\"C:/Users/sandp/Downloads/Capstone Project/CDs_and_Vinyl_5.json.gz\")\n",
    "cd_review.head()"
   ]
  },
  {
   "cell_type": "code",
   "execution_count": 5,
   "id": "96cf2c10",
   "metadata": {},
   "outputs": [
    {
     "data": {
      "text/html": [
       "<div>\n",
       "<style scoped>\n",
       "    .dataframe tbody tr th:only-of-type {\n",
       "        vertical-align: middle;\n",
       "    }\n",
       "\n",
       "    .dataframe tbody tr th {\n",
       "        vertical-align: top;\n",
       "    }\n",
       "\n",
       "    .dataframe thead th {\n",
       "        text-align: right;\n",
       "    }\n",
       "</style>\n",
       "<table border=\"1\" class=\"dataframe\">\n",
       "  <thead>\n",
       "    <tr style=\"text-align: right;\">\n",
       "      <th></th>\n",
       "      <th>userid</th>\n",
       "      <th>reviewerID</th>\n",
       "      <th>ratings</th>\n",
       "      <th>time</th>\n",
       "    </tr>\n",
       "  </thead>\n",
       "  <tbody>\n",
       "    <tr>\n",
       "      <th>0</th>\n",
       "      <td>0001393774</td>\n",
       "      <td>A171I27YBM4FL6</td>\n",
       "      <td>5.0</td>\n",
       "      <td>1461888000</td>\n",
       "    </tr>\n",
       "    <tr>\n",
       "      <th>1</th>\n",
       "      <td>0001393774</td>\n",
       "      <td>A1H1DL4K669VQ9</td>\n",
       "      <td>5.0</td>\n",
       "      <td>1461888000</td>\n",
       "    </tr>\n",
       "    <tr>\n",
       "      <th>2</th>\n",
       "      <td>0001393774</td>\n",
       "      <td>A23WIHT5886G36</td>\n",
       "      <td>5.0</td>\n",
       "      <td>1461024000</td>\n",
       "    </tr>\n",
       "    <tr>\n",
       "      <th>3</th>\n",
       "      <td>0001393774</td>\n",
       "      <td>A3SZNOJP8OL26X</td>\n",
       "      <td>5.0</td>\n",
       "      <td>1459296000</td>\n",
       "    </tr>\n",
       "    <tr>\n",
       "      <th>4</th>\n",
       "      <td>0001393774</td>\n",
       "      <td>A3V5XBBT7OZG5G</td>\n",
       "      <td>5.0</td>\n",
       "      <td>1456185600</td>\n",
       "    </tr>\n",
       "  </tbody>\n",
       "</table>\n",
       "</div>"
      ],
      "text/plain": [
       "       userid      reviewerID  ratings        time\n",
       "0  0001393774  A171I27YBM4FL6      5.0  1461888000\n",
       "1  0001393774  A1H1DL4K669VQ9      5.0  1461888000\n",
       "2  0001393774  A23WIHT5886G36      5.0  1461024000\n",
       "3  0001393774  A3SZNOJP8OL26X      5.0  1459296000\n",
       "4  0001393774  A3V5XBBT7OZG5G      5.0  1456185600"
      ]
     },
     "execution_count": 5,
     "metadata": {},
     "output_type": "execute_result"
    }
   ],
   "source": [
    "# ratings only dataset\n",
    "columns=['userid','reviewerID','ratings','time']\n",
    "cd_rating=pd.read_csv(\"C:/Users/sandp/Downloads/Capstone Project/CDs_and_Vinyl.csv\",names=columns)\n",
    "cd_rating.head()"
   ]
  },
  {
   "cell_type": "markdown",
   "id": "c3078d3a",
   "metadata": {},
   "source": [
    "### Merging selected features of Metadata with Reviews data "
   ]
  },
  {
   "cell_type": "code",
   "execution_count": 6,
   "id": "40dc3acf",
   "metadata": {},
   "outputs": [],
   "source": [
    "cd_meta1=cd_meta[['title','category','brand','price','asin']] # selecting features"
   ]
  },
  {
   "cell_type": "code",
   "execution_count": 7,
   "id": "834a8747",
   "metadata": {
    "scrolled": true
   },
   "outputs": [
    {
     "data": {
      "text/html": [
       "<div>\n",
       "<style scoped>\n",
       "    .dataframe tbody tr th:only-of-type {\n",
       "        vertical-align: middle;\n",
       "    }\n",
       "\n",
       "    .dataframe tbody tr th {\n",
       "        vertical-align: top;\n",
       "    }\n",
       "\n",
       "    .dataframe thead th {\n",
       "        text-align: right;\n",
       "    }\n",
       "</style>\n",
       "<table border=\"1\" class=\"dataframe\">\n",
       "  <thead>\n",
       "    <tr style=\"text-align: right;\">\n",
       "      <th></th>\n",
       "      <th>reviewerID</th>\n",
       "      <th>asin</th>\n",
       "      <th>reviewerName</th>\n",
       "      <th>verified</th>\n",
       "      <th>reviewText</th>\n",
       "      <th>overall</th>\n",
       "      <th>reviewTime</th>\n",
       "      <th>summary</th>\n",
       "      <th>unixReviewTime</th>\n",
       "      <th>style</th>\n",
       "      <th>vote</th>\n",
       "      <th>image</th>\n",
       "      <th>title</th>\n",
       "      <th>category</th>\n",
       "      <th>brand</th>\n",
       "      <th>price</th>\n",
       "    </tr>\n",
       "  </thead>\n",
       "  <tbody>\n",
       "    <tr>\n",
       "      <th>0</th>\n",
       "      <td>A1H1DL4K669VQ9</td>\n",
       "      <td>0001393774</td>\n",
       "      <td>Judith Paladino</td>\n",
       "      <td>True</td>\n",
       "      <td>Love it!!  Great seller!</td>\n",
       "      <td>5.0</td>\n",
       "      <td>04 29, 2016</td>\n",
       "      <td>Five Stars</td>\n",
       "      <td>1461888000</td>\n",
       "      <td>NaN</td>\n",
       "      <td>NaN</td>\n",
       "      <td>NaN</td>\n",
       "      <td>Songs for the Shepherd</td>\n",
       "      <td>[CDs &amp; Vinyl, Christian]</td>\n",
       "      <td>Keith Green</td>\n",
       "      <td></td>\n",
       "    </tr>\n",
       "    <tr>\n",
       "      <th>1</th>\n",
       "      <td>A3V5XBBT7OZG5G</td>\n",
       "      <td>0001393774</td>\n",
       "      <td>gflady</td>\n",
       "      <td>True</td>\n",
       "      <td>One of my very favourite albums from one of my...</td>\n",
       "      <td>5.0</td>\n",
       "      <td>02 23, 2016</td>\n",
       "      <td>One of my very favourite albums from one of my...</td>\n",
       "      <td>1456185600</td>\n",
       "      <td>NaN</td>\n",
       "      <td>NaN</td>\n",
       "      <td>NaN</td>\n",
       "      <td>Songs for the Shepherd</td>\n",
       "      <td>[CDs &amp; Vinyl, Christian]</td>\n",
       "      <td>Keith Green</td>\n",
       "      <td></td>\n",
       "    </tr>\n",
       "    <tr>\n",
       "      <th>2</th>\n",
       "      <td>A3SNL7UJY7GWBI</td>\n",
       "      <td>0001393774</td>\n",
       "      <td>Lady Leatherneck</td>\n",
       "      <td>True</td>\n",
       "      <td>THank you Jesus Lord God, that brother Green's...</td>\n",
       "      <td>5.0</td>\n",
       "      <td>02 11, 2016</td>\n",
       "      <td>Five Stars</td>\n",
       "      <td>1455148800</td>\n",
       "      <td>NaN</td>\n",
       "      <td>NaN</td>\n",
       "      <td>NaN</td>\n",
       "      <td>Songs for the Shepherd</td>\n",
       "      <td>[CDs &amp; Vinyl, Christian]</td>\n",
       "      <td>Keith Green</td>\n",
       "      <td></td>\n",
       "    </tr>\n",
       "  </tbody>\n",
       "</table>\n",
       "</div>"
      ],
      "text/plain": [
       "       reviewerID        asin      reviewerName  verified  \\\n",
       "0  A1H1DL4K669VQ9  0001393774   Judith Paladino      True   \n",
       "1  A3V5XBBT7OZG5G  0001393774            gflady      True   \n",
       "2  A3SNL7UJY7GWBI  0001393774  Lady Leatherneck      True   \n",
       "\n",
       "                                          reviewText  overall   reviewTime  \\\n",
       "0                           Love it!!  Great seller!      5.0  04 29, 2016   \n",
       "1  One of my very favourite albums from one of my...      5.0  02 23, 2016   \n",
       "2  THank you Jesus Lord God, that brother Green's...      5.0  02 11, 2016   \n",
       "\n",
       "                                             summary  unixReviewTime style  \\\n",
       "0                                         Five Stars      1461888000   NaN   \n",
       "1  One of my very favourite albums from one of my...      1456185600   NaN   \n",
       "2                                         Five Stars      1455148800   NaN   \n",
       "\n",
       "  vote image                   title                  category        brand  \\\n",
       "0  NaN   NaN  Songs for the Shepherd  [CDs & Vinyl, Christian]  Keith Green   \n",
       "1  NaN   NaN  Songs for the Shepherd  [CDs & Vinyl, Christian]  Keith Green   \n",
       "2  NaN   NaN  Songs for the Shepherd  [CDs & Vinyl, Christian]  Keith Green   \n",
       "\n",
       "  price  \n",
       "0        \n",
       "1        \n",
       "2        "
      ]
     },
     "execution_count": 7,
     "metadata": {},
     "output_type": "execute_result"
    }
   ],
   "source": [
    "cd_data=pd.merge(cd_review,cd_meta1,on='asin') \n",
    "cd_data.head(3)"
   ]
  },
  {
   "cell_type": "markdown",
   "id": "cd693cea",
   "metadata": {},
   "source": [
    "### creating  subcategory column"
   ]
  },
  {
   "cell_type": "code",
   "execution_count": 18,
   "id": "597021d6",
   "metadata": {},
   "outputs": [
    {
     "data": {
      "text/html": [
       "<div>\n",
       "<style scoped>\n",
       "    .dataframe tbody tr th:only-of-type {\n",
       "        vertical-align: middle;\n",
       "    }\n",
       "\n",
       "    .dataframe tbody tr th {\n",
       "        vertical-align: top;\n",
       "    }\n",
       "\n",
       "    .dataframe thead th {\n",
       "        text-align: right;\n",
       "    }\n",
       "</style>\n",
       "<table border=\"1\" class=\"dataframe\">\n",
       "  <thead>\n",
       "    <tr style=\"text-align: right;\">\n",
       "      <th></th>\n",
       "      <th>reviewerID</th>\n",
       "      <th>asin</th>\n",
       "      <th>reviewerName</th>\n",
       "      <th>verified</th>\n",
       "      <th>reviewText</th>\n",
       "      <th>overall</th>\n",
       "      <th>reviewTime</th>\n",
       "      <th>summary</th>\n",
       "      <th>unixReviewTime</th>\n",
       "      <th>style</th>\n",
       "      <th>vote</th>\n",
       "      <th>image</th>\n",
       "      <th>title</th>\n",
       "      <th>category</th>\n",
       "      <th>brand</th>\n",
       "      <th>price</th>\n",
       "      <th>subcategory1</th>\n",
       "      <th>subcategory2</th>\n",
       "    </tr>\n",
       "  </thead>\n",
       "  <tbody>\n",
       "    <tr>\n",
       "      <th>0</th>\n",
       "      <td>A1H1DL4K669VQ9</td>\n",
       "      <td>0001393774</td>\n",
       "      <td>Judith Paladino</td>\n",
       "      <td>True</td>\n",
       "      <td>Love it!!  Great seller!</td>\n",
       "      <td>5.0</td>\n",
       "      <td>04 29, 2016</td>\n",
       "      <td>Five Stars</td>\n",
       "      <td>1461888000</td>\n",
       "      <td>NaN</td>\n",
       "      <td>NaN</td>\n",
       "      <td>NaN</td>\n",
       "      <td>Songs for the Shepherd</td>\n",
       "      <td>[CDs &amp; Vinyl, Christian]</td>\n",
       "      <td>Keith Green</td>\n",
       "      <td></td>\n",
       "      <td>CDs &amp; Vinyl</td>\n",
       "      <td>Christian</td>\n",
       "    </tr>\n",
       "    <tr>\n",
       "      <th>1</th>\n",
       "      <td>A3V5XBBT7OZG5G</td>\n",
       "      <td>0001393774</td>\n",
       "      <td>gflady</td>\n",
       "      <td>True</td>\n",
       "      <td>One of my very favourite albums from one of my...</td>\n",
       "      <td>5.0</td>\n",
       "      <td>02 23, 2016</td>\n",
       "      <td>One of my very favourite albums from one of my...</td>\n",
       "      <td>1456185600</td>\n",
       "      <td>NaN</td>\n",
       "      <td>NaN</td>\n",
       "      <td>NaN</td>\n",
       "      <td>Songs for the Shepherd</td>\n",
       "      <td>[CDs &amp; Vinyl, Christian]</td>\n",
       "      <td>Keith Green</td>\n",
       "      <td></td>\n",
       "      <td>CDs &amp; Vinyl</td>\n",
       "      <td>Christian</td>\n",
       "    </tr>\n",
       "  </tbody>\n",
       "</table>\n",
       "</div>"
      ],
      "text/plain": [
       "       reviewerID        asin     reviewerName  verified  \\\n",
       "0  A1H1DL4K669VQ9  0001393774  Judith Paladino      True   \n",
       "1  A3V5XBBT7OZG5G  0001393774           gflady      True   \n",
       "\n",
       "                                          reviewText  overall   reviewTime  \\\n",
       "0                           Love it!!  Great seller!      5.0  04 29, 2016   \n",
       "1  One of my very favourite albums from one of my...      5.0  02 23, 2016   \n",
       "\n",
       "                                             summary  unixReviewTime style  \\\n",
       "0                                         Five Stars      1461888000   NaN   \n",
       "1  One of my very favourite albums from one of my...      1456185600   NaN   \n",
       "\n",
       "  vote image                   title                  category        brand  \\\n",
       "0  NaN   NaN  Songs for the Shepherd  [CDs & Vinyl, Christian]  Keith Green   \n",
       "1  NaN   NaN  Songs for the Shepherd  [CDs & Vinyl, Christian]  Keith Green   \n",
       "\n",
       "  price subcategory1 subcategory2  \n",
       "0        CDs & Vinyl    Christian  \n",
       "1        CDs & Vinyl    Christian  "
      ]
     },
     "execution_count": 18,
     "metadata": {},
     "output_type": "execute_result"
    }
   ],
   "source": [
    "\n",
    "cd_category= pd.DataFrame(cd_data['category'].tolist()).add_prefix('sub_cat')\n",
    "cd_category.rename(columns={'sub_cat0':'subcategory1','sub_cat1':'subcategory2'}, inplace = True)\n",
    "\n",
    "cd_category=cd_category.drop(cd_category.iloc[:,2:],axis=1)\n",
    "cd_data=pd.concat([cd_data,cd_category],axis=1)\n",
    "cd_data.head(2)"
   ]
  },
  {
   "cell_type": "markdown",
   "id": "0f1adf60",
   "metadata": {},
   "source": [
    "### Office products dataset"
   ]
  },
  {
   "cell_type": "code",
   "execution_count": 8,
   "id": "8d14229b",
   "metadata": {},
   "outputs": [
    {
     "data": {
      "text/html": [
       "<div>\n",
       "<style scoped>\n",
       "    .dataframe tbody tr th:only-of-type {\n",
       "        vertical-align: middle;\n",
       "    }\n",
       "\n",
       "    .dataframe tbody tr th {\n",
       "        vertical-align: top;\n",
       "    }\n",
       "\n",
       "    .dataframe thead th {\n",
       "        text-align: right;\n",
       "    }\n",
       "</style>\n",
       "<table border=\"1\" class=\"dataframe\">\n",
       "  <thead>\n",
       "    <tr style=\"text-align: right;\">\n",
       "      <th></th>\n",
       "      <th>category</th>\n",
       "      <th>tech1</th>\n",
       "      <th>description</th>\n",
       "      <th>fit</th>\n",
       "      <th>title</th>\n",
       "      <th>also_buy</th>\n",
       "      <th>tech2</th>\n",
       "      <th>brand</th>\n",
       "      <th>feature</th>\n",
       "      <th>rank</th>\n",
       "      <th>also_view</th>\n",
       "      <th>main_cat</th>\n",
       "      <th>similar_item</th>\n",
       "      <th>date</th>\n",
       "      <th>price</th>\n",
       "      <th>asin</th>\n",
       "      <th>imageURL</th>\n",
       "      <th>imageURLHighRes</th>\n",
       "      <th>details</th>\n",
       "    </tr>\n",
       "  </thead>\n",
       "  <tbody>\n",
       "    <tr>\n",
       "      <th>0</th>\n",
       "      <td>[Office Products, Office &amp; School Supplies, Ed...</td>\n",
       "      <td>class=\"a-keyvalue prodDetTable\" role=\"present...</td>\n",
       "      <td>[Sequential Spelling is based on the classic O...</td>\n",
       "      <td></td>\n",
       "      <td>Sequential Spelling Level 1 Bundle with Studen...</td>\n",
       "      <td>[]</td>\n",
       "      <td></td>\n",
       "      <td>STL Distributors</td>\n",
       "      <td>[]</td>\n",
       "      <td>[&gt;#439,654 in Office Products (See top 100), &gt;...</td>\n",
       "      <td>[1935943065, 1935943073, B00IJH9Q4M, 002115021...</td>\n",
       "      <td>Office Products</td>\n",
       "      <td>class=\"a-bordered a-horizontal-stripes  a-spa...</td>\n",
       "      <td>August 15, 2014</td>\n",
       "      <td>$32.90</td>\n",
       "      <td>0012624861</td>\n",
       "      <td>[]</td>\n",
       "      <td>[]</td>\n",
       "      <td>NaN</td>\n",
       "    </tr>\n",
       "    <tr>\n",
       "      <th>1</th>\n",
       "      <td>[Office Products, Office &amp;amp; School Supplies...</td>\n",
       "      <td></td>\n",
       "      <td>[Unusual book, , ]</td>\n",
       "      <td></td>\n",
       "      <td>Mathematics, Applications and Concepts, Course...</td>\n",
       "      <td>[]</td>\n",
       "      <td></td>\n",
       "      <td>bailey</td>\n",
       "      <td>[]</td>\n",
       "      <td>3,839,628 in Books (</td>\n",
       "      <td>[]</td>\n",
       "      <td>Books</td>\n",
       "      <td></td>\n",
       "      <td></td>\n",
       "      <td>$8.62</td>\n",
       "      <td>0078652669</td>\n",
       "      <td>[]</td>\n",
       "      <td>[]</td>\n",
       "      <td>NaN</td>\n",
       "    </tr>\n",
       "    <tr>\n",
       "      <th>2</th>\n",
       "      <td>[]</td>\n",
       "      <td>class=\"a-keyvalue prodDetTable\" role=\"present...</td>\n",
       "      <td>[Pearson MyHistoryLab Online Access Code for A...</td>\n",
       "      <td></td>\n",
       "      <td>Pearson MyHistoryLab Online Access Code for Am...</td>\n",
       "      <td>[]</td>\n",
       "      <td></td>\n",
       "      <td>Pearson MyHistoryLab</td>\n",
       "      <td>[Pearson MyHistoryLab Online Access Code for A...</td>\n",
       "      <td>[&gt;#1,925,354 in Office Products (See top 100)]</td>\n",
       "      <td>[]</td>\n",
       "      <td>Office Products</td>\n",
       "      <td></td>\n",
       "      <td>June 21, 2012</td>\n",
       "      <td>$0.99</td>\n",
       "      <td>0136039847</td>\n",
       "      <td>[]</td>\n",
       "      <td>[]</td>\n",
       "      <td>NaN</td>\n",
       "    </tr>\n",
       "    <tr>\n",
       "      <th>3</th>\n",
       "      <td>[Office Products, Office &amp; School Supplies, Ed...</td>\n",
       "      <td>class=\"a-keyvalue prodDetTable\" role=\"present...</td>\n",
       "      <td>[Corduroy the bear goes to the launderette wit...</td>\n",
       "      <td></td>\n",
       "      <td>A Pocket for Corduroy</td>\n",
       "      <td>[0140501738, 0448421917, 0670063428, 042528875...</td>\n",
       "      <td></td>\n",
       "      <td>Ingram Book &amp; Distributor</td>\n",
       "      <td>[9780140503524]</td>\n",
       "      <td>[&gt;#422,894 in Office Products (See top 100), &gt;...</td>\n",
       "      <td>[0140501738]</td>\n",
       "      <td>Office Products</td>\n",
       "      <td></td>\n",
       "      <td>September 14, 2006</td>\n",
       "      <td>$0.95</td>\n",
       "      <td>0140503528</td>\n",
       "      <td>[]</td>\n",
       "      <td>[]</td>\n",
       "      <td>NaN</td>\n",
       "    </tr>\n",
       "    <tr>\n",
       "      <th>4</th>\n",
       "      <td>[Office Products, Office &amp; School Supplies, Ed...</td>\n",
       "      <td></td>\n",
       "      <td>[&lt;div class=\"aplus\"&gt; &lt;div class=\"leftImage\" st...</td>\n",
       "      <td></td>\n",
       "      <td>Social Entrepreneurship: What Everyone Needs t...</td>\n",
       "      <td>[0195334760, 1613630328, 1422104060, 158648956...</td>\n",
       "      <td></td>\n",
       "      <td>Visit Amazon's David Bornstein Page</td>\n",
       "      <td>[]</td>\n",
       "      <td>110,732 in Books (</td>\n",
       "      <td>[0195334760, 1586489569, 1613630328, 142210406...</td>\n",
       "      <td>Books</td>\n",
       "      <td></td>\n",
       "      <td></td>\n",
       "      <td></td>\n",
       "      <td>0195396332</td>\n",
       "      <td>[]</td>\n",
       "      <td>[]</td>\n",
       "      <td>NaN</td>\n",
       "    </tr>\n",
       "  </tbody>\n",
       "</table>\n",
       "</div>"
      ],
      "text/plain": [
       "                                            category  \\\n",
       "0  [Office Products, Office & School Supplies, Ed...   \n",
       "1  [Office Products, Office &amp; School Supplies...   \n",
       "2                                                 []   \n",
       "3  [Office Products, Office & School Supplies, Ed...   \n",
       "4  [Office Products, Office & School Supplies, Ed...   \n",
       "\n",
       "                                               tech1  \\\n",
       "0   class=\"a-keyvalue prodDetTable\" role=\"present...   \n",
       "1                                                      \n",
       "2   class=\"a-keyvalue prodDetTable\" role=\"present...   \n",
       "3   class=\"a-keyvalue prodDetTable\" role=\"present...   \n",
       "4                                                      \n",
       "\n",
       "                                         description fit  \\\n",
       "0  [Sequential Spelling is based on the classic O...       \n",
       "1                                 [Unusual book, , ]       \n",
       "2  [Pearson MyHistoryLab Online Access Code for A...       \n",
       "3  [Corduroy the bear goes to the launderette wit...       \n",
       "4  [<div class=\"aplus\"> <div class=\"leftImage\" st...       \n",
       "\n",
       "                                               title  \\\n",
       "0  Sequential Spelling Level 1 Bundle with Studen...   \n",
       "1  Mathematics, Applications and Concepts, Course...   \n",
       "2  Pearson MyHistoryLab Online Access Code for Am...   \n",
       "3                              A Pocket for Corduroy   \n",
       "4  Social Entrepreneurship: What Everyone Needs t...   \n",
       "\n",
       "                                            also_buy tech2  \\\n",
       "0                                                 []         \n",
       "1                                                 []         \n",
       "2                                                 []         \n",
       "3  [0140501738, 0448421917, 0670063428, 042528875...         \n",
       "4  [0195334760, 1613630328, 1422104060, 158648956...         \n",
       "\n",
       "                                 brand  \\\n",
       "0                     STL Distributors   \n",
       "1                               bailey   \n",
       "2                 Pearson MyHistoryLab   \n",
       "3            Ingram Book & Distributor   \n",
       "4  Visit Amazon's David Bornstein Page   \n",
       "\n",
       "                                             feature  \\\n",
       "0                                                 []   \n",
       "1                                                 []   \n",
       "2  [Pearson MyHistoryLab Online Access Code for A...   \n",
       "3                                    [9780140503524]   \n",
       "4                                                 []   \n",
       "\n",
       "                                                rank  \\\n",
       "0  [>#439,654 in Office Products (See top 100), >...   \n",
       "1                               3,839,628 in Books (   \n",
       "2     [>#1,925,354 in Office Products (See top 100)]   \n",
       "3  [>#422,894 in Office Products (See top 100), >...   \n",
       "4                                 110,732 in Books (   \n",
       "\n",
       "                                           also_view         main_cat  \\\n",
       "0  [1935943065, 1935943073, B00IJH9Q4M, 002115021...  Office Products   \n",
       "1                                                 []            Books   \n",
       "2                                                 []  Office Products   \n",
       "3                                       [0140501738]  Office Products   \n",
       "4  [0195334760, 1586489569, 1613630328, 142210406...            Books   \n",
       "\n",
       "                                        similar_item                date  \\\n",
       "0   class=\"a-bordered a-horizontal-stripes  a-spa...     August 15, 2014   \n",
       "1                                                                          \n",
       "2                                                          June 21, 2012   \n",
       "3                                                     September 14, 2006   \n",
       "4                                                                          \n",
       "\n",
       "    price        asin imageURL imageURLHighRes details  \n",
       "0  $32.90  0012624861       []              []     NaN  \n",
       "1   $8.62  0078652669       []              []     NaN  \n",
       "2   $0.99  0136039847       []              []     NaN  \n",
       "3   $0.95  0140503528       []              []     NaN  \n",
       "4          0195396332       []              []     NaN  "
      ]
     },
     "execution_count": 8,
     "metadata": {},
     "output_type": "execute_result"
    }
   ],
   "source": [
    "# meta data\n",
    "office_meta=getDF(\"C:/Users/sandp/Downloads/Capstone Project/meta_Office_Products.json.gz\")\n",
    "office_meta.head()"
   ]
  },
  {
   "cell_type": "code",
   "execution_count": 9,
   "id": "33bb3f9f",
   "metadata": {},
   "outputs": [
    {
     "data": {
      "text/html": [
       "<div>\n",
       "<style scoped>\n",
       "    .dataframe tbody tr th:only-of-type {\n",
       "        vertical-align: middle;\n",
       "    }\n",
       "\n",
       "    .dataframe tbody tr th {\n",
       "        vertical-align: top;\n",
       "    }\n",
       "\n",
       "    .dataframe thead th {\n",
       "        text-align: right;\n",
       "    }\n",
       "</style>\n",
       "<table border=\"1\" class=\"dataframe\">\n",
       "  <thead>\n",
       "    <tr style=\"text-align: right;\">\n",
       "      <th></th>\n",
       "      <th>overall</th>\n",
       "      <th>verified</th>\n",
       "      <th>reviewTime</th>\n",
       "      <th>reviewerID</th>\n",
       "      <th>asin</th>\n",
       "      <th>style</th>\n",
       "      <th>reviewerName</th>\n",
       "      <th>reviewText</th>\n",
       "      <th>summary</th>\n",
       "      <th>unixReviewTime</th>\n",
       "      <th>vote</th>\n",
       "      <th>image</th>\n",
       "    </tr>\n",
       "  </thead>\n",
       "  <tbody>\n",
       "    <tr>\n",
       "      <th>0</th>\n",
       "      <td>4.0</td>\n",
       "      <td>True</td>\n",
       "      <td>11 7, 2017</td>\n",
       "      <td>A2NIJTYWADLK57</td>\n",
       "      <td>0140503528</td>\n",
       "      <td>{'Format:': ' Board book'}</td>\n",
       "      <td>cotton clay</td>\n",
       "      <td>kids like story BUT while i really wanted a bo...</td>\n",
       "      <td>good story, small size book though</td>\n",
       "      <td>1510012800</td>\n",
       "      <td>NaN</td>\n",
       "      <td>NaN</td>\n",
       "    </tr>\n",
       "    <tr>\n",
       "      <th>1</th>\n",
       "      <td>4.0</td>\n",
       "      <td>True</td>\n",
       "      <td>03 7, 2017</td>\n",
       "      <td>A2827D8EEURMP4</td>\n",
       "      <td>0140503528</td>\n",
       "      <td>{'Format:': ' Hardcover'}</td>\n",
       "      <td>emankcin</td>\n",
       "      <td>Bought this used and it came in great conditio...</td>\n",
       "      <td>Good</td>\n",
       "      <td>1488844800</td>\n",
       "      <td>NaN</td>\n",
       "      <td>NaN</td>\n",
       "    </tr>\n",
       "    <tr>\n",
       "      <th>2</th>\n",
       "      <td>5.0</td>\n",
       "      <td>True</td>\n",
       "      <td>06 25, 2016</td>\n",
       "      <td>APB6087F4J09J</td>\n",
       "      <td>0140503528</td>\n",
       "      <td>{'Format:': ' Board book'}</td>\n",
       "      <td>Starbucks Fan</td>\n",
       "      <td>Every story and book about Corduroy is Fantast...</td>\n",
       "      <td>Best Books for All Children</td>\n",
       "      <td>1466812800</td>\n",
       "      <td>NaN</td>\n",
       "      <td>NaN</td>\n",
       "    </tr>\n",
       "    <tr>\n",
       "      <th>3</th>\n",
       "      <td>5.0</td>\n",
       "      <td>True</td>\n",
       "      <td>02 21, 2016</td>\n",
       "      <td>A2DHERRZIPFU7X</td>\n",
       "      <td>0140503528</td>\n",
       "      <td>{'Format:': ' Paperback'}</td>\n",
       "      <td>Caitlyn Jacobson</td>\n",
       "      <td>I purchased this book for my first grade class...</td>\n",
       "      <td>Great for Math!</td>\n",
       "      <td>1456012800</td>\n",
       "      <td>NaN</td>\n",
       "      <td>NaN</td>\n",
       "    </tr>\n",
       "    <tr>\n",
       "      <th>4</th>\n",
       "      <td>5.0</td>\n",
       "      <td>False</td>\n",
       "      <td>08 2, 2015</td>\n",
       "      <td>A2XCLJRGFANRC</td>\n",
       "      <td>0140503528</td>\n",
       "      <td>{'Format:': ' Hardcover'}</td>\n",
       "      <td>E. Ervin</td>\n",
       "      <td>Having spent numerous years in an elementary s...</td>\n",
       "      <td>Love Corduroy</td>\n",
       "      <td>1438473600</td>\n",
       "      <td>NaN</td>\n",
       "      <td>NaN</td>\n",
       "    </tr>\n",
       "  </tbody>\n",
       "</table>\n",
       "</div>"
      ],
      "text/plain": [
       "   overall  verified   reviewTime      reviewerID        asin  \\\n",
       "0      4.0      True   11 7, 2017  A2NIJTYWADLK57  0140503528   \n",
       "1      4.0      True   03 7, 2017  A2827D8EEURMP4  0140503528   \n",
       "2      5.0      True  06 25, 2016   APB6087F4J09J  0140503528   \n",
       "3      5.0      True  02 21, 2016  A2DHERRZIPFU7X  0140503528   \n",
       "4      5.0     False   08 2, 2015   A2XCLJRGFANRC  0140503528   \n",
       "\n",
       "                        style      reviewerName  \\\n",
       "0  {'Format:': ' Board book'}       cotton clay   \n",
       "1   {'Format:': ' Hardcover'}          emankcin   \n",
       "2  {'Format:': ' Board book'}     Starbucks Fan   \n",
       "3   {'Format:': ' Paperback'}  Caitlyn Jacobson   \n",
       "4   {'Format:': ' Hardcover'}          E. Ervin   \n",
       "\n",
       "                                          reviewText  \\\n",
       "0  kids like story BUT while i really wanted a bo...   \n",
       "1  Bought this used and it came in great conditio...   \n",
       "2  Every story and book about Corduroy is Fantast...   \n",
       "3  I purchased this book for my first grade class...   \n",
       "4  Having spent numerous years in an elementary s...   \n",
       "\n",
       "                              summary  unixReviewTime vote image  \n",
       "0  good story, small size book though      1510012800  NaN   NaN  \n",
       "1                                Good      1488844800  NaN   NaN  \n",
       "2         Best Books for All Children      1466812800  NaN   NaN  \n",
       "3                     Great for Math!      1456012800  NaN   NaN  \n",
       "4                       Love Corduroy      1438473600  NaN   NaN  "
      ]
     },
     "execution_count": 9,
     "metadata": {},
     "output_type": "execute_result"
    }
   ],
   "source": [
    "# reviews data\n",
    "office_review=getDF(\"C:/Users/sandp/Downloads/Capstone Project/Office_Products_5.json.gz\")\n",
    "office_review.head()"
   ]
  },
  {
   "cell_type": "code",
   "execution_count": 10,
   "id": "cdd97da7",
   "metadata": {},
   "outputs": [
    {
     "data": {
      "text/html": [
       "<div>\n",
       "<style scoped>\n",
       "    .dataframe tbody tr th:only-of-type {\n",
       "        vertical-align: middle;\n",
       "    }\n",
       "\n",
       "    .dataframe tbody tr th {\n",
       "        vertical-align: top;\n",
       "    }\n",
       "\n",
       "    .dataframe thead th {\n",
       "        text-align: right;\n",
       "    }\n",
       "</style>\n",
       "<table border=\"1\" class=\"dataframe\">\n",
       "  <thead>\n",
       "    <tr style=\"text-align: right;\">\n",
       "      <th></th>\n",
       "      <th>userid</th>\n",
       "      <th>reviewerID</th>\n",
       "      <th>ratings</th>\n",
       "      <th>time</th>\n",
       "    </tr>\n",
       "  </thead>\n",
       "  <tbody>\n",
       "    <tr>\n",
       "      <th>0</th>\n",
       "      <td>0140503528</td>\n",
       "      <td>A2WJLOXXIB7NF3</td>\n",
       "      <td>3.0</td>\n",
       "      <td>1162512000</td>\n",
       "    </tr>\n",
       "    <tr>\n",
       "      <th>1</th>\n",
       "      <td>0140503528</td>\n",
       "      <td>A1RKICUK0GG6VF</td>\n",
       "      <td>5.0</td>\n",
       "      <td>1147132800</td>\n",
       "    </tr>\n",
       "    <tr>\n",
       "      <th>2</th>\n",
       "      <td>0140503528</td>\n",
       "      <td>A1QA5E50M398VW</td>\n",
       "      <td>5.0</td>\n",
       "      <td>1142035200</td>\n",
       "    </tr>\n",
       "    <tr>\n",
       "      <th>3</th>\n",
       "      <td>0140503528</td>\n",
       "      <td>A3N0HBW8IP8CZQ</td>\n",
       "      <td>5.0</td>\n",
       "      <td>980294400</td>\n",
       "    </tr>\n",
       "    <tr>\n",
       "      <th>4</th>\n",
       "      <td>0140503528</td>\n",
       "      <td>A1K1JW1C5CUSUZ</td>\n",
       "      <td>5.0</td>\n",
       "      <td>964915200</td>\n",
       "    </tr>\n",
       "  </tbody>\n",
       "</table>\n",
       "</div>"
      ],
      "text/plain": [
       "       userid      reviewerID  ratings        time\n",
       "0  0140503528  A2WJLOXXIB7NF3      3.0  1162512000\n",
       "1  0140503528  A1RKICUK0GG6VF      5.0  1147132800\n",
       "2  0140503528  A1QA5E50M398VW      5.0  1142035200\n",
       "3  0140503528  A3N0HBW8IP8CZQ      5.0   980294400\n",
       "4  0140503528  A1K1JW1C5CUSUZ      5.0   964915200"
      ]
     },
     "execution_count": 10,
     "metadata": {},
     "output_type": "execute_result"
    }
   ],
   "source": [
    "office_rating=pd.read_csv(\"C:/Users/sandp/Downloads/Capstone Project/Office_Products.csv\",names=columns)\n",
    "office_rating.head()"
   ]
  },
  {
   "cell_type": "markdown",
   "id": "d1a92307",
   "metadata": {},
   "source": [
    "### Merging selected features of meta data with reviews data"
   ]
  },
  {
   "cell_type": "code",
   "execution_count": 11,
   "id": "1122e2ae",
   "metadata": {},
   "outputs": [],
   "source": [
    "office_meta1=office_meta[['title','category','brand','price','asin']]"
   ]
  },
  {
   "cell_type": "code",
   "execution_count": 12,
   "id": "4d1f6289",
   "metadata": {},
   "outputs": [
    {
     "data": {
      "text/html": [
       "<div>\n",
       "<style scoped>\n",
       "    .dataframe tbody tr th:only-of-type {\n",
       "        vertical-align: middle;\n",
       "    }\n",
       "\n",
       "    .dataframe tbody tr th {\n",
       "        vertical-align: top;\n",
       "    }\n",
       "\n",
       "    .dataframe thead th {\n",
       "        text-align: right;\n",
       "    }\n",
       "</style>\n",
       "<table border=\"1\" class=\"dataframe\">\n",
       "  <thead>\n",
       "    <tr style=\"text-align: right;\">\n",
       "      <th></th>\n",
       "      <th>overall</th>\n",
       "      <th>verified</th>\n",
       "      <th>reviewTime</th>\n",
       "      <th>reviewerID</th>\n",
       "      <th>asin</th>\n",
       "      <th>style</th>\n",
       "      <th>reviewerName</th>\n",
       "      <th>reviewText</th>\n",
       "      <th>summary</th>\n",
       "      <th>unixReviewTime</th>\n",
       "      <th>vote</th>\n",
       "      <th>image</th>\n",
       "      <th>title</th>\n",
       "      <th>category</th>\n",
       "      <th>brand</th>\n",
       "      <th>price</th>\n",
       "    </tr>\n",
       "  </thead>\n",
       "  <tbody>\n",
       "    <tr>\n",
       "      <th>0</th>\n",
       "      <td>4.0</td>\n",
       "      <td>True</td>\n",
       "      <td>11 7, 2017</td>\n",
       "      <td>A2NIJTYWADLK57</td>\n",
       "      <td>0140503528</td>\n",
       "      <td>{'Format:': ' Board book'}</td>\n",
       "      <td>cotton clay</td>\n",
       "      <td>kids like story BUT while i really wanted a bo...</td>\n",
       "      <td>good story, small size book though</td>\n",
       "      <td>1510012800</td>\n",
       "      <td>NaN</td>\n",
       "      <td>NaN</td>\n",
       "      <td>A Pocket for Corduroy</td>\n",
       "      <td>[Office Products, Office &amp; School Supplies, Ed...</td>\n",
       "      <td>Ingram Book &amp; Distributor</td>\n",
       "      <td>$0.95</td>\n",
       "    </tr>\n",
       "    <tr>\n",
       "      <th>1</th>\n",
       "      <td>4.0</td>\n",
       "      <td>True</td>\n",
       "      <td>03 7, 2017</td>\n",
       "      <td>A2827D8EEURMP4</td>\n",
       "      <td>0140503528</td>\n",
       "      <td>{'Format:': ' Hardcover'}</td>\n",
       "      <td>emankcin</td>\n",
       "      <td>Bought this used and it came in great conditio...</td>\n",
       "      <td>Good</td>\n",
       "      <td>1488844800</td>\n",
       "      <td>NaN</td>\n",
       "      <td>NaN</td>\n",
       "      <td>A Pocket for Corduroy</td>\n",
       "      <td>[Office Products, Office &amp; School Supplies, Ed...</td>\n",
       "      <td>Ingram Book &amp; Distributor</td>\n",
       "      <td>$0.95</td>\n",
       "    </tr>\n",
       "    <tr>\n",
       "      <th>2</th>\n",
       "      <td>5.0</td>\n",
       "      <td>True</td>\n",
       "      <td>06 25, 2016</td>\n",
       "      <td>APB6087F4J09J</td>\n",
       "      <td>0140503528</td>\n",
       "      <td>{'Format:': ' Board book'}</td>\n",
       "      <td>Starbucks Fan</td>\n",
       "      <td>Every story and book about Corduroy is Fantast...</td>\n",
       "      <td>Best Books for All Children</td>\n",
       "      <td>1466812800</td>\n",
       "      <td>NaN</td>\n",
       "      <td>NaN</td>\n",
       "      <td>A Pocket for Corduroy</td>\n",
       "      <td>[Office Products, Office &amp; School Supplies, Ed...</td>\n",
       "      <td>Ingram Book &amp; Distributor</td>\n",
       "      <td>$0.95</td>\n",
       "    </tr>\n",
       "  </tbody>\n",
       "</table>\n",
       "</div>"
      ],
      "text/plain": [
       "   overall  verified   reviewTime      reviewerID        asin  \\\n",
       "0      4.0      True   11 7, 2017  A2NIJTYWADLK57  0140503528   \n",
       "1      4.0      True   03 7, 2017  A2827D8EEURMP4  0140503528   \n",
       "2      5.0      True  06 25, 2016   APB6087F4J09J  0140503528   \n",
       "\n",
       "                        style   reviewerName  \\\n",
       "0  {'Format:': ' Board book'}    cotton clay   \n",
       "1   {'Format:': ' Hardcover'}       emankcin   \n",
       "2  {'Format:': ' Board book'}  Starbucks Fan   \n",
       "\n",
       "                                          reviewText  \\\n",
       "0  kids like story BUT while i really wanted a bo...   \n",
       "1  Bought this used and it came in great conditio...   \n",
       "2  Every story and book about Corduroy is Fantast...   \n",
       "\n",
       "                              summary  unixReviewTime vote image  \\\n",
       "0  good story, small size book though      1510012800  NaN   NaN   \n",
       "1                                Good      1488844800  NaN   NaN   \n",
       "2         Best Books for All Children      1466812800  NaN   NaN   \n",
       "\n",
       "                   title                                           category  \\\n",
       "0  A Pocket for Corduroy  [Office Products, Office & School Supplies, Ed...   \n",
       "1  A Pocket for Corduroy  [Office Products, Office & School Supplies, Ed...   \n",
       "2  A Pocket for Corduroy  [Office Products, Office & School Supplies, Ed...   \n",
       "\n",
       "                       brand  price  \n",
       "0  Ingram Book & Distributor  $0.95  \n",
       "1  Ingram Book & Distributor  $0.95  \n",
       "2  Ingram Book & Distributor  $0.95  "
      ]
     },
     "execution_count": 12,
     "metadata": {},
     "output_type": "execute_result"
    }
   ],
   "source": [
    "office_data=pd.merge(office_review,office_meta1,on='asin',how='inner')\n",
    "office_data.head(3)"
   ]
  },
  {
   "cell_type": "markdown",
   "id": "aa4e8861",
   "metadata": {},
   "source": [
    "### Creating  Subcategory columns from category"
   ]
  },
  {
   "cell_type": "code",
   "execution_count": 17,
   "id": "3db57b3b",
   "metadata": {},
   "outputs": [
    {
     "data": {
      "text/html": [
       "<div>\n",
       "<style scoped>\n",
       "    .dataframe tbody tr th:only-of-type {\n",
       "        vertical-align: middle;\n",
       "    }\n",
       "\n",
       "    .dataframe tbody tr th {\n",
       "        vertical-align: top;\n",
       "    }\n",
       "\n",
       "    .dataframe thead th {\n",
       "        text-align: right;\n",
       "    }\n",
       "</style>\n",
       "<table border=\"1\" class=\"dataframe\">\n",
       "  <thead>\n",
       "    <tr style=\"text-align: right;\">\n",
       "      <th></th>\n",
       "      <th>overall</th>\n",
       "      <th>verified</th>\n",
       "      <th>reviewTime</th>\n",
       "      <th>reviewerID</th>\n",
       "      <th>asin</th>\n",
       "      <th>style</th>\n",
       "      <th>reviewerName</th>\n",
       "      <th>reviewText</th>\n",
       "      <th>summary</th>\n",
       "      <th>unixReviewTime</th>\n",
       "      <th>vote</th>\n",
       "      <th>image</th>\n",
       "      <th>title</th>\n",
       "      <th>category</th>\n",
       "      <th>brand</th>\n",
       "      <th>price</th>\n",
       "      <th>subcategory1</th>\n",
       "      <th>subcategory2</th>\n",
       "    </tr>\n",
       "  </thead>\n",
       "  <tbody>\n",
       "    <tr>\n",
       "      <th>0</th>\n",
       "      <td>4.0</td>\n",
       "      <td>True</td>\n",
       "      <td>11 7, 2017</td>\n",
       "      <td>A2NIJTYWADLK57</td>\n",
       "      <td>0140503528</td>\n",
       "      <td>{'Format:': ' Board book'}</td>\n",
       "      <td>cotton clay</td>\n",
       "      <td>kids like story BUT while i really wanted a bo...</td>\n",
       "      <td>good story, small size book though</td>\n",
       "      <td>1510012800</td>\n",
       "      <td>NaN</td>\n",
       "      <td>NaN</td>\n",
       "      <td>A Pocket for Corduroy</td>\n",
       "      <td>[Office Products, Office &amp; School Supplies, Ed...</td>\n",
       "      <td>Ingram Book &amp; Distributor</td>\n",
       "      <td>$0.95</td>\n",
       "      <td>Office Products</td>\n",
       "      <td>Office &amp; School Supplies</td>\n",
       "    </tr>\n",
       "    <tr>\n",
       "      <th>1</th>\n",
       "      <td>4.0</td>\n",
       "      <td>True</td>\n",
       "      <td>03 7, 2017</td>\n",
       "      <td>A2827D8EEURMP4</td>\n",
       "      <td>0140503528</td>\n",
       "      <td>{'Format:': ' Hardcover'}</td>\n",
       "      <td>emankcin</td>\n",
       "      <td>Bought this used and it came in great conditio...</td>\n",
       "      <td>Good</td>\n",
       "      <td>1488844800</td>\n",
       "      <td>NaN</td>\n",
       "      <td>NaN</td>\n",
       "      <td>A Pocket for Corduroy</td>\n",
       "      <td>[Office Products, Office &amp; School Supplies, Ed...</td>\n",
       "      <td>Ingram Book &amp; Distributor</td>\n",
       "      <td>$0.95</td>\n",
       "      <td>Office Products</td>\n",
       "      <td>Office &amp; School Supplies</td>\n",
       "    </tr>\n",
       "  </tbody>\n",
       "</table>\n",
       "</div>"
      ],
      "text/plain": [
       "   overall  verified  reviewTime      reviewerID        asin  \\\n",
       "0      4.0      True  11 7, 2017  A2NIJTYWADLK57  0140503528   \n",
       "1      4.0      True  03 7, 2017  A2827D8EEURMP4  0140503528   \n",
       "\n",
       "                        style reviewerName  \\\n",
       "0  {'Format:': ' Board book'}  cotton clay   \n",
       "1   {'Format:': ' Hardcover'}     emankcin   \n",
       "\n",
       "                                          reviewText  \\\n",
       "0  kids like story BUT while i really wanted a bo...   \n",
       "1  Bought this used and it came in great conditio...   \n",
       "\n",
       "                              summary  unixReviewTime vote image  \\\n",
       "0  good story, small size book though      1510012800  NaN   NaN   \n",
       "1                                Good      1488844800  NaN   NaN   \n",
       "\n",
       "                   title                                           category  \\\n",
       "0  A Pocket for Corduroy  [Office Products, Office & School Supplies, Ed...   \n",
       "1  A Pocket for Corduroy  [Office Products, Office & School Supplies, Ed...   \n",
       "\n",
       "                       brand  price     subcategory1              subcategory2  \n",
       "0  Ingram Book & Distributor  $0.95  Office Products  Office & School Supplies  \n",
       "1  Ingram Book & Distributor  $0.95  Office Products  Office & School Supplies  "
      ]
     },
     "execution_count": 17,
     "metadata": {},
     "output_type": "execute_result"
    }
   ],
   "source": [
    "office_category= pd.DataFrame(office_data['category'].tolist()).fillna('').add_prefix('sub_cat')\n",
    "office_category.rename(columns={'sub_cat0':'subcategory1','sub_cat1':'subcategory2'}, inplace = True)\n",
    "\n",
    "office_category=office_category.drop(office_category.iloc[:,2:],axis=1)\n",
    "office_data=pd.concat([office_data,office_category],axis=1)\n",
    "office_data.head(2)"
   ]
  },
  {
   "cell_type": "markdown",
   "id": "197a5d6b",
   "metadata": {},
   "source": [
    "## Merging two datasets"
   ]
  },
  {
   "cell_type": "code",
   "execution_count": 19,
   "id": "f921cfb2",
   "metadata": {
    "scrolled": false
   },
   "outputs": [
    {
     "data": {
      "text/html": [
       "<div>\n",
       "<style scoped>\n",
       "    .dataframe tbody tr th:only-of-type {\n",
       "        vertical-align: middle;\n",
       "    }\n",
       "\n",
       "    .dataframe tbody tr th {\n",
       "        vertical-align: top;\n",
       "    }\n",
       "\n",
       "    .dataframe thead th {\n",
       "        text-align: right;\n",
       "    }\n",
       "</style>\n",
       "<table border=\"1\" class=\"dataframe\">\n",
       "  <thead>\n",
       "    <tr style=\"text-align: right;\">\n",
       "      <th></th>\n",
       "      <th>reviewerID</th>\n",
       "      <th>asin</th>\n",
       "      <th>reviewerName</th>\n",
       "      <th>verified</th>\n",
       "      <th>reviewText</th>\n",
       "      <th>overall</th>\n",
       "      <th>reviewTime</th>\n",
       "      <th>summary</th>\n",
       "      <th>unixReviewTime</th>\n",
       "      <th>style</th>\n",
       "      <th>vote</th>\n",
       "      <th>image</th>\n",
       "      <th>title</th>\n",
       "      <th>category</th>\n",
       "      <th>brand</th>\n",
       "      <th>price</th>\n",
       "      <th>subcategory1</th>\n",
       "      <th>subcategory2</th>\n",
       "    </tr>\n",
       "  </thead>\n",
       "  <tbody>\n",
       "    <tr>\n",
       "      <th>0</th>\n",
       "      <td>A1H1DL4K669VQ9</td>\n",
       "      <td>0001393774</td>\n",
       "      <td>Judith Paladino</td>\n",
       "      <td>True</td>\n",
       "      <td>Love it!!  Great seller!</td>\n",
       "      <td>5.0</td>\n",
       "      <td>04 29, 2016</td>\n",
       "      <td>Five Stars</td>\n",
       "      <td>1461888000</td>\n",
       "      <td>NaN</td>\n",
       "      <td>NaN</td>\n",
       "      <td>NaN</td>\n",
       "      <td>Songs for the Shepherd</td>\n",
       "      <td>[CDs &amp; Vinyl, Christian]</td>\n",
       "      <td>Keith Green</td>\n",
       "      <td></td>\n",
       "      <td>CDs &amp; Vinyl</td>\n",
       "      <td>Christian</td>\n",
       "    </tr>\n",
       "    <tr>\n",
       "      <th>1</th>\n",
       "      <td>A3V5XBBT7OZG5G</td>\n",
       "      <td>0001393774</td>\n",
       "      <td>gflady</td>\n",
       "      <td>True</td>\n",
       "      <td>One of my very favourite albums from one of my...</td>\n",
       "      <td>5.0</td>\n",
       "      <td>02 23, 2016</td>\n",
       "      <td>One of my very favourite albums from one of my...</td>\n",
       "      <td>1456185600</td>\n",
       "      <td>NaN</td>\n",
       "      <td>NaN</td>\n",
       "      <td>NaN</td>\n",
       "      <td>Songs for the Shepherd</td>\n",
       "      <td>[CDs &amp; Vinyl, Christian]</td>\n",
       "      <td>Keith Green</td>\n",
       "      <td></td>\n",
       "      <td>CDs &amp; Vinyl</td>\n",
       "      <td>Christian</td>\n",
       "    </tr>\n",
       "    <tr>\n",
       "      <th>2</th>\n",
       "      <td>A3SNL7UJY7GWBI</td>\n",
       "      <td>0001393774</td>\n",
       "      <td>Lady Leatherneck</td>\n",
       "      <td>True</td>\n",
       "      <td>THank you Jesus Lord God, that brother Green's...</td>\n",
       "      <td>5.0</td>\n",
       "      <td>02 11, 2016</td>\n",
       "      <td>Five Stars</td>\n",
       "      <td>1455148800</td>\n",
       "      <td>NaN</td>\n",
       "      <td>NaN</td>\n",
       "      <td>NaN</td>\n",
       "      <td>Songs for the Shepherd</td>\n",
       "      <td>[CDs &amp; Vinyl, Christian]</td>\n",
       "      <td>Keith Green</td>\n",
       "      <td></td>\n",
       "      <td>CDs &amp; Vinyl</td>\n",
       "      <td>Christian</td>\n",
       "    </tr>\n",
       "    <tr>\n",
       "      <th>3</th>\n",
       "      <td>A3478QRKQDOPQ2</td>\n",
       "      <td>0001393774</td>\n",
       "      <td>jacki</td>\n",
       "      <td>True</td>\n",
       "      <td>I recall loving his other albums and maybe thi...</td>\n",
       "      <td>5.0</td>\n",
       "      <td>11 28, 2015</td>\n",
       "      <td>forgot but I figured on some of these artists ...</td>\n",
       "      <td>1448668800</td>\n",
       "      <td>NaN</td>\n",
       "      <td>NaN</td>\n",
       "      <td>NaN</td>\n",
       "      <td>Songs for the Shepherd</td>\n",
       "      <td>[CDs &amp; Vinyl, Christian]</td>\n",
       "      <td>Keith Green</td>\n",
       "      <td></td>\n",
       "      <td>CDs &amp; Vinyl</td>\n",
       "      <td>Christian</td>\n",
       "    </tr>\n",
       "    <tr>\n",
       "      <th>4</th>\n",
       "      <td>A23M5VTSN2C3H1</td>\n",
       "      <td>0001393774</td>\n",
       "      <td>Caliope</td>\n",
       "      <td>True</td>\n",
       "      <td>Keith Green was a pioneer in the field of Chri...</td>\n",
       "      <td>5.0</td>\n",
       "      <td>12 16, 2014</td>\n",
       "      <td>and I have loved every album he did</td>\n",
       "      <td>1418688000</td>\n",
       "      <td>NaN</td>\n",
       "      <td>NaN</td>\n",
       "      <td>NaN</td>\n",
       "      <td>Songs for the Shepherd</td>\n",
       "      <td>[CDs &amp; Vinyl, Christian]</td>\n",
       "      <td>Keith Green</td>\n",
       "      <td></td>\n",
       "      <td>CDs &amp; Vinyl</td>\n",
       "      <td>Christian</td>\n",
       "    </tr>\n",
       "  </tbody>\n",
       "</table>\n",
       "</div>"
      ],
      "text/plain": [
       "       reviewerID        asin      reviewerName  verified  \\\n",
       "0  A1H1DL4K669VQ9  0001393774   Judith Paladino      True   \n",
       "1  A3V5XBBT7OZG5G  0001393774            gflady      True   \n",
       "2  A3SNL7UJY7GWBI  0001393774  Lady Leatherneck      True   \n",
       "3  A3478QRKQDOPQ2  0001393774             jacki      True   \n",
       "4  A23M5VTSN2C3H1  0001393774           Caliope      True   \n",
       "\n",
       "                                          reviewText  overall   reviewTime  \\\n",
       "0                           Love it!!  Great seller!      5.0  04 29, 2016   \n",
       "1  One of my very favourite albums from one of my...      5.0  02 23, 2016   \n",
       "2  THank you Jesus Lord God, that brother Green's...      5.0  02 11, 2016   \n",
       "3  I recall loving his other albums and maybe thi...      5.0  11 28, 2015   \n",
       "4  Keith Green was a pioneer in the field of Chri...      5.0  12 16, 2014   \n",
       "\n",
       "                                             summary  unixReviewTime style  \\\n",
       "0                                         Five Stars      1461888000   NaN   \n",
       "1  One of my very favourite albums from one of my...      1456185600   NaN   \n",
       "2                                         Five Stars      1455148800   NaN   \n",
       "3  forgot but I figured on some of these artists ...      1448668800   NaN   \n",
       "4                and I have loved every album he did      1418688000   NaN   \n",
       "\n",
       "  vote image                   title                  category        brand  \\\n",
       "0  NaN   NaN  Songs for the Shepherd  [CDs & Vinyl, Christian]  Keith Green   \n",
       "1  NaN   NaN  Songs for the Shepherd  [CDs & Vinyl, Christian]  Keith Green   \n",
       "2  NaN   NaN  Songs for the Shepherd  [CDs & Vinyl, Christian]  Keith Green   \n",
       "3  NaN   NaN  Songs for the Shepherd  [CDs & Vinyl, Christian]  Keith Green   \n",
       "4  NaN   NaN  Songs for the Shepherd  [CDs & Vinyl, Christian]  Keith Green   \n",
       "\n",
       "  price subcategory1 subcategory2  \n",
       "0        CDs & Vinyl    Christian  \n",
       "1        CDs & Vinyl    Christian  \n",
       "2        CDs & Vinyl    Christian  \n",
       "3        CDs & Vinyl    Christian  \n",
       "4        CDs & Vinyl    Christian  "
      ]
     },
     "execution_count": 19,
     "metadata": {},
     "output_type": "execute_result"
    }
   ],
   "source": [
    "datas=[cd_data,office_data]\n",
    "co_data=pd.concat(datas)\n",
    "co_data.head()"
   ]
  },
  {
   "cell_type": "markdown",
   "id": "b9265b8f",
   "metadata": {},
   "source": [
    "## Data Understanding"
   ]
  },
  {
   "cell_type": "markdown",
   "id": "adb30115",
   "metadata": {},
   "source": [
    "### First 5 rows of the data set"
   ]
  },
  {
   "cell_type": "code",
   "execution_count": 20,
   "id": "83949a9d",
   "metadata": {},
   "outputs": [
    {
     "data": {
      "text/html": [
       "<div>\n",
       "<style scoped>\n",
       "    .dataframe tbody tr th:only-of-type {\n",
       "        vertical-align: middle;\n",
       "    }\n",
       "\n",
       "    .dataframe tbody tr th {\n",
       "        vertical-align: top;\n",
       "    }\n",
       "\n",
       "    .dataframe thead th {\n",
       "        text-align: right;\n",
       "    }\n",
       "</style>\n",
       "<table border=\"1\" class=\"dataframe\">\n",
       "  <thead>\n",
       "    <tr style=\"text-align: right;\">\n",
       "      <th></th>\n",
       "      <th>reviewerID</th>\n",
       "      <th>asin</th>\n",
       "      <th>reviewerName</th>\n",
       "      <th>verified</th>\n",
       "      <th>reviewText</th>\n",
       "      <th>overall</th>\n",
       "      <th>reviewTime</th>\n",
       "      <th>summary</th>\n",
       "      <th>unixReviewTime</th>\n",
       "      <th>style</th>\n",
       "      <th>vote</th>\n",
       "      <th>image</th>\n",
       "      <th>title</th>\n",
       "      <th>category</th>\n",
       "      <th>brand</th>\n",
       "      <th>price</th>\n",
       "      <th>subcategory1</th>\n",
       "      <th>subcategory2</th>\n",
       "    </tr>\n",
       "  </thead>\n",
       "  <tbody>\n",
       "    <tr>\n",
       "      <th>0</th>\n",
       "      <td>A1H1DL4K669VQ9</td>\n",
       "      <td>0001393774</td>\n",
       "      <td>Judith Paladino</td>\n",
       "      <td>True</td>\n",
       "      <td>Love it!!  Great seller!</td>\n",
       "      <td>5.0</td>\n",
       "      <td>04 29, 2016</td>\n",
       "      <td>Five Stars</td>\n",
       "      <td>1461888000</td>\n",
       "      <td>NaN</td>\n",
       "      <td>NaN</td>\n",
       "      <td>NaN</td>\n",
       "      <td>Songs for the Shepherd</td>\n",
       "      <td>[CDs &amp; Vinyl, Christian]</td>\n",
       "      <td>Keith Green</td>\n",
       "      <td></td>\n",
       "      <td>CDs &amp; Vinyl</td>\n",
       "      <td>Christian</td>\n",
       "    </tr>\n",
       "    <tr>\n",
       "      <th>1</th>\n",
       "      <td>A3V5XBBT7OZG5G</td>\n",
       "      <td>0001393774</td>\n",
       "      <td>gflady</td>\n",
       "      <td>True</td>\n",
       "      <td>One of my very favourite albums from one of my...</td>\n",
       "      <td>5.0</td>\n",
       "      <td>02 23, 2016</td>\n",
       "      <td>One of my very favourite albums from one of my...</td>\n",
       "      <td>1456185600</td>\n",
       "      <td>NaN</td>\n",
       "      <td>NaN</td>\n",
       "      <td>NaN</td>\n",
       "      <td>Songs for the Shepherd</td>\n",
       "      <td>[CDs &amp; Vinyl, Christian]</td>\n",
       "      <td>Keith Green</td>\n",
       "      <td></td>\n",
       "      <td>CDs &amp; Vinyl</td>\n",
       "      <td>Christian</td>\n",
       "    </tr>\n",
       "    <tr>\n",
       "      <th>2</th>\n",
       "      <td>A3SNL7UJY7GWBI</td>\n",
       "      <td>0001393774</td>\n",
       "      <td>Lady Leatherneck</td>\n",
       "      <td>True</td>\n",
       "      <td>THank you Jesus Lord God, that brother Green's...</td>\n",
       "      <td>5.0</td>\n",
       "      <td>02 11, 2016</td>\n",
       "      <td>Five Stars</td>\n",
       "      <td>1455148800</td>\n",
       "      <td>NaN</td>\n",
       "      <td>NaN</td>\n",
       "      <td>NaN</td>\n",
       "      <td>Songs for the Shepherd</td>\n",
       "      <td>[CDs &amp; Vinyl, Christian]</td>\n",
       "      <td>Keith Green</td>\n",
       "      <td></td>\n",
       "      <td>CDs &amp; Vinyl</td>\n",
       "      <td>Christian</td>\n",
       "    </tr>\n",
       "    <tr>\n",
       "      <th>3</th>\n",
       "      <td>A3478QRKQDOPQ2</td>\n",
       "      <td>0001393774</td>\n",
       "      <td>jacki</td>\n",
       "      <td>True</td>\n",
       "      <td>I recall loving his other albums and maybe thi...</td>\n",
       "      <td>5.0</td>\n",
       "      <td>11 28, 2015</td>\n",
       "      <td>forgot but I figured on some of these artists ...</td>\n",
       "      <td>1448668800</td>\n",
       "      <td>NaN</td>\n",
       "      <td>NaN</td>\n",
       "      <td>NaN</td>\n",
       "      <td>Songs for the Shepherd</td>\n",
       "      <td>[CDs &amp; Vinyl, Christian]</td>\n",
       "      <td>Keith Green</td>\n",
       "      <td></td>\n",
       "      <td>CDs &amp; Vinyl</td>\n",
       "      <td>Christian</td>\n",
       "    </tr>\n",
       "    <tr>\n",
       "      <th>4</th>\n",
       "      <td>A23M5VTSN2C3H1</td>\n",
       "      <td>0001393774</td>\n",
       "      <td>Caliope</td>\n",
       "      <td>True</td>\n",
       "      <td>Keith Green was a pioneer in the field of Chri...</td>\n",
       "      <td>5.0</td>\n",
       "      <td>12 16, 2014</td>\n",
       "      <td>and I have loved every album he did</td>\n",
       "      <td>1418688000</td>\n",
       "      <td>NaN</td>\n",
       "      <td>NaN</td>\n",
       "      <td>NaN</td>\n",
       "      <td>Songs for the Shepherd</td>\n",
       "      <td>[CDs &amp; Vinyl, Christian]</td>\n",
       "      <td>Keith Green</td>\n",
       "      <td></td>\n",
       "      <td>CDs &amp; Vinyl</td>\n",
       "      <td>Christian</td>\n",
       "    </tr>\n",
       "  </tbody>\n",
       "</table>\n",
       "</div>"
      ],
      "text/plain": [
       "       reviewerID        asin      reviewerName  verified  \\\n",
       "0  A1H1DL4K669VQ9  0001393774   Judith Paladino      True   \n",
       "1  A3V5XBBT7OZG5G  0001393774            gflady      True   \n",
       "2  A3SNL7UJY7GWBI  0001393774  Lady Leatherneck      True   \n",
       "3  A3478QRKQDOPQ2  0001393774             jacki      True   \n",
       "4  A23M5VTSN2C3H1  0001393774           Caliope      True   \n",
       "\n",
       "                                          reviewText  overall   reviewTime  \\\n",
       "0                           Love it!!  Great seller!      5.0  04 29, 2016   \n",
       "1  One of my very favourite albums from one of my...      5.0  02 23, 2016   \n",
       "2  THank you Jesus Lord God, that brother Green's...      5.0  02 11, 2016   \n",
       "3  I recall loving his other albums and maybe thi...      5.0  11 28, 2015   \n",
       "4  Keith Green was a pioneer in the field of Chri...      5.0  12 16, 2014   \n",
       "\n",
       "                                             summary  unixReviewTime style  \\\n",
       "0                                         Five Stars      1461888000   NaN   \n",
       "1  One of my very favourite albums from one of my...      1456185600   NaN   \n",
       "2                                         Five Stars      1455148800   NaN   \n",
       "3  forgot but I figured on some of these artists ...      1448668800   NaN   \n",
       "4                and I have loved every album he did      1418688000   NaN   \n",
       "\n",
       "  vote image                   title                  category        brand  \\\n",
       "0  NaN   NaN  Songs for the Shepherd  [CDs & Vinyl, Christian]  Keith Green   \n",
       "1  NaN   NaN  Songs for the Shepherd  [CDs & Vinyl, Christian]  Keith Green   \n",
       "2  NaN   NaN  Songs for the Shepherd  [CDs & Vinyl, Christian]  Keith Green   \n",
       "3  NaN   NaN  Songs for the Shepherd  [CDs & Vinyl, Christian]  Keith Green   \n",
       "4  NaN   NaN  Songs for the Shepherd  [CDs & Vinyl, Christian]  Keith Green   \n",
       "\n",
       "  price subcategory1 subcategory2  \n",
       "0        CDs & Vinyl    Christian  \n",
       "1        CDs & Vinyl    Christian  \n",
       "2        CDs & Vinyl    Christian  \n",
       "3        CDs & Vinyl    Christian  \n",
       "4        CDs & Vinyl    Christian  "
      ]
     },
     "execution_count": 20,
     "metadata": {},
     "output_type": "execute_result"
    }
   ],
   "source": [
    "\n",
    "co_data.head()"
   ]
  },
  {
   "cell_type": "markdown",
   "id": "9c5ae964",
   "metadata": {},
   "source": [
    "### last 5 rows of the data set"
   ]
  },
  {
   "cell_type": "code",
   "execution_count": 21,
   "id": "79df8ff3",
   "metadata": {
    "scrolled": false
   },
   "outputs": [
    {
     "data": {
      "text/html": [
       "<div>\n",
       "<style scoped>\n",
       "    .dataframe tbody tr th:only-of-type {\n",
       "        vertical-align: middle;\n",
       "    }\n",
       "\n",
       "    .dataframe tbody tr th {\n",
       "        vertical-align: top;\n",
       "    }\n",
       "\n",
       "    .dataframe thead th {\n",
       "        text-align: right;\n",
       "    }\n",
       "</style>\n",
       "<table border=\"1\" class=\"dataframe\">\n",
       "  <thead>\n",
       "    <tr style=\"text-align: right;\">\n",
       "      <th></th>\n",
       "      <th>reviewerID</th>\n",
       "      <th>asin</th>\n",
       "      <th>reviewerName</th>\n",
       "      <th>verified</th>\n",
       "      <th>reviewText</th>\n",
       "      <th>overall</th>\n",
       "      <th>reviewTime</th>\n",
       "      <th>summary</th>\n",
       "      <th>unixReviewTime</th>\n",
       "      <th>style</th>\n",
       "      <th>vote</th>\n",
       "      <th>image</th>\n",
       "      <th>title</th>\n",
       "      <th>category</th>\n",
       "      <th>brand</th>\n",
       "      <th>price</th>\n",
       "      <th>subcategory1</th>\n",
       "      <th>subcategory2</th>\n",
       "    </tr>\n",
       "  </thead>\n",
       "  <tbody>\n",
       "    <tr>\n",
       "      <th>914514</th>\n",
       "      <td>A2LBDDKZ0ISPQU</td>\n",
       "      <td>B01HEFLV4M</td>\n",
       "      <td>Tanners Mom</td>\n",
       "      <td>True</td>\n",
       "      <td>barely held 1 piece of paper.  Amazon promptly...</td>\n",
       "      <td>1.0</td>\n",
       "      <td>06 1, 2017</td>\n",
       "      <td>me thinks not</td>\n",
       "      <td>1496275200</td>\n",
       "      <td>NaN</td>\n",
       "      <td>NaN</td>\n",
       "      <td>NaN</td>\n",
       "      <td>LJY Magnetic Clip Fridge Paper Clips Holder, P...</td>\n",
       "      <td>[Office Products, Office &amp; School Supplies, De...</td>\n",
       "      <td>LJY</td>\n",
       "      <td></td>\n",
       "      <td>Office Products</td>\n",
       "      <td>Office &amp; School Supplies</td>\n",
       "    </tr>\n",
       "    <tr>\n",
       "      <th>914515</th>\n",
       "      <td>A30MBDOF8VZJWK</td>\n",
       "      <td>B01HEFLV4M</td>\n",
       "      <td>JenJen</td>\n",
       "      <td>True</td>\n",
       "      <td>NaN</td>\n",
       "      <td>5.0</td>\n",
       "      <td>02 5, 2017</td>\n",
       "      <td>Clips</td>\n",
       "      <td>1486252800</td>\n",
       "      <td>NaN</td>\n",
       "      <td>NaN</td>\n",
       "      <td>[https://images-na.ssl-images-amazon.com/image...</td>\n",
       "      <td>LJY Magnetic Clip Fridge Paper Clips Holder, P...</td>\n",
       "      <td>[Office Products, Office &amp; School Supplies, De...</td>\n",
       "      <td>LJY</td>\n",
       "      <td></td>\n",
       "      <td>Office Products</td>\n",
       "      <td>Office &amp; School Supplies</td>\n",
       "    </tr>\n",
       "    <tr>\n",
       "      <th>914516</th>\n",
       "      <td>A2VVDFOWCEK3J2</td>\n",
       "      <td>B01HEFLV4M</td>\n",
       "      <td>mz</td>\n",
       "      <td>True</td>\n",
       "      <td>As advertised.</td>\n",
       "      <td>5.0</td>\n",
       "      <td>12 5, 2016</td>\n",
       "      <td>Five Stars</td>\n",
       "      <td>1480896000</td>\n",
       "      <td>NaN</td>\n",
       "      <td>NaN</td>\n",
       "      <td>NaN</td>\n",
       "      <td>LJY Magnetic Clip Fridge Paper Clips Holder, P...</td>\n",
       "      <td>[Office Products, Office &amp; School Supplies, De...</td>\n",
       "      <td>LJY</td>\n",
       "      <td></td>\n",
       "      <td>Office Products</td>\n",
       "      <td>Office &amp; School Supplies</td>\n",
       "    </tr>\n",
       "    <tr>\n",
       "      <th>914517</th>\n",
       "      <td>A2OSQT54KTT2GJ</td>\n",
       "      <td>B01HEFLV4M</td>\n",
       "      <td>Myrna W.</td>\n",
       "      <td>True</td>\n",
       "      <td>Perfect for holding pads on the refrigerator. ...</td>\n",
       "      <td>5.0</td>\n",
       "      <td>11 30, 2016</td>\n",
       "      <td>Five Stars</td>\n",
       "      <td>1480464000</td>\n",
       "      <td>NaN</td>\n",
       "      <td>NaN</td>\n",
       "      <td>NaN</td>\n",
       "      <td>LJY Magnetic Clip Fridge Paper Clips Holder, P...</td>\n",
       "      <td>[Office Products, Office &amp; School Supplies, De...</td>\n",
       "      <td>LJY</td>\n",
       "      <td></td>\n",
       "      <td>Office Products</td>\n",
       "      <td>Office &amp; School Supplies</td>\n",
       "    </tr>\n",
       "    <tr>\n",
       "      <th>914518</th>\n",
       "      <td>A1LQOTRLG8TJKB</td>\n",
       "      <td>B01HEFLV4M</td>\n",
       "      <td>Rachel</td>\n",
       "      <td>False</td>\n",
       "      <td>Does the job perfectly. Nice strong magnets.</td>\n",
       "      <td>5.0</td>\n",
       "      <td>10 28, 2016</td>\n",
       "      <td>Nice strong magnets</td>\n",
       "      <td>1477612800</td>\n",
       "      <td>NaN</td>\n",
       "      <td>NaN</td>\n",
       "      <td>NaN</td>\n",
       "      <td>LJY Magnetic Clip Fridge Paper Clips Holder, P...</td>\n",
       "      <td>[Office Products, Office &amp; School Supplies, De...</td>\n",
       "      <td>LJY</td>\n",
       "      <td></td>\n",
       "      <td>Office Products</td>\n",
       "      <td>Office &amp; School Supplies</td>\n",
       "    </tr>\n",
       "  </tbody>\n",
       "</table>\n",
       "</div>"
      ],
      "text/plain": [
       "            reviewerID        asin reviewerName  verified  \\\n",
       "914514  A2LBDDKZ0ISPQU  B01HEFLV4M  Tanners Mom      True   \n",
       "914515  A30MBDOF8VZJWK  B01HEFLV4M       JenJen      True   \n",
       "914516  A2VVDFOWCEK3J2  B01HEFLV4M           mz      True   \n",
       "914517  A2OSQT54KTT2GJ  B01HEFLV4M     Myrna W.      True   \n",
       "914518  A1LQOTRLG8TJKB  B01HEFLV4M       Rachel     False   \n",
       "\n",
       "                                               reviewText  overall  \\\n",
       "914514  barely held 1 piece of paper.  Amazon promptly...      1.0   \n",
       "914515                                                NaN      5.0   \n",
       "914516                                     As advertised.      5.0   \n",
       "914517  Perfect for holding pads on the refrigerator. ...      5.0   \n",
       "914518       Does the job perfectly. Nice strong magnets.      5.0   \n",
       "\n",
       "         reviewTime              summary  unixReviewTime style vote  \\\n",
       "914514   06 1, 2017        me thinks not      1496275200   NaN  NaN   \n",
       "914515   02 5, 2017                Clips      1486252800   NaN  NaN   \n",
       "914516   12 5, 2016           Five Stars      1480896000   NaN  NaN   \n",
       "914517  11 30, 2016           Five Stars      1480464000   NaN  NaN   \n",
       "914518  10 28, 2016  Nice strong magnets      1477612800   NaN  NaN   \n",
       "\n",
       "                                                    image  \\\n",
       "914514                                                NaN   \n",
       "914515  [https://images-na.ssl-images-amazon.com/image...   \n",
       "914516                                                NaN   \n",
       "914517                                                NaN   \n",
       "914518                                                NaN   \n",
       "\n",
       "                                                    title  \\\n",
       "914514  LJY Magnetic Clip Fridge Paper Clips Holder, P...   \n",
       "914515  LJY Magnetic Clip Fridge Paper Clips Holder, P...   \n",
       "914516  LJY Magnetic Clip Fridge Paper Clips Holder, P...   \n",
       "914517  LJY Magnetic Clip Fridge Paper Clips Holder, P...   \n",
       "914518  LJY Magnetic Clip Fridge Paper Clips Holder, P...   \n",
       "\n",
       "                                                 category brand price  \\\n",
       "914514  [Office Products, Office & School Supplies, De...   LJY         \n",
       "914515  [Office Products, Office & School Supplies, De...   LJY         \n",
       "914516  [Office Products, Office & School Supplies, De...   LJY         \n",
       "914517  [Office Products, Office & School Supplies, De...   LJY         \n",
       "914518  [Office Products, Office & School Supplies, De...   LJY         \n",
       "\n",
       "           subcategory1              subcategory2  \n",
       "914514  Office Products  Office & School Supplies  \n",
       "914515  Office Products  Office & School Supplies  \n",
       "914516  Office Products  Office & School Supplies  \n",
       "914517  Office Products  Office & School Supplies  \n",
       "914518  Office Products  Office & School Supplies  "
      ]
     },
     "execution_count": 21,
     "metadata": {},
     "output_type": "execute_result"
    }
   ],
   "source": [
    "co_data.tail()"
   ]
  },
  {
   "cell_type": "markdown",
   "id": "51fb51f4",
   "metadata": {},
   "source": [
    "### checking shape of the data"
   ]
  },
  {
   "cell_type": "code",
   "execution_count": 22,
   "id": "17f159bf",
   "metadata": {},
   "outputs": [
    {
     "data": {
      "text/plain": [
       "(2490410, 18)"
      ]
     },
     "execution_count": 22,
     "metadata": {},
     "output_type": "execute_result"
    }
   ],
   "source": [
    "co_data.shape"
   ]
  },
  {
   "cell_type": "code",
   "execution_count": 23,
   "id": "fda656e2",
   "metadata": {},
   "outputs": [
    {
     "name": "stdout",
     "output_type": "stream",
     "text": [
      "Number of rows in the dataset: 2490410\n",
      "Number of columns in the dataset: 18\n"
     ]
    }
   ],
   "source": [
    "print('Number of rows in the dataset:',co_data.shape[0])\n",
    "print('Number of columns in the dataset:',co_data.shape[1])\n"
   ]
  },
  {
   "cell_type": "markdown",
   "id": "b3f293b2",
   "metadata": {},
   "source": [
    "### checking columns in the data "
   ]
  },
  {
   "cell_type": "code",
   "execution_count": 24,
   "id": "768c527f",
   "metadata": {
    "scrolled": true
   },
   "outputs": [
    {
     "data": {
      "text/plain": [
       "Index(['reviewerID', 'asin', 'reviewerName', 'verified', 'reviewText',\n",
       "       'overall', 'reviewTime', 'summary', 'unixReviewTime', 'style', 'vote',\n",
       "       'image', 'title', 'category', 'brand', 'price', 'subcategory1',\n",
       "       'subcategory2'],\n",
       "      dtype='object')"
      ]
     },
     "execution_count": 24,
     "metadata": {},
     "output_type": "execute_result"
    }
   ],
   "source": [
    "co_data.columns"
   ]
  },
  {
   "cell_type": "markdown",
   "id": "a46c461e",
   "metadata": {},
   "source": [
    "### overall information about the data "
   ]
  },
  {
   "cell_type": "code",
   "execution_count": 25,
   "id": "6584e1bf",
   "metadata": {},
   "outputs": [
    {
     "name": "stdout",
     "output_type": "stream",
     "text": [
      "<class 'pandas.core.frame.DataFrame'>\n",
      "Int64Index: 2490410 entries, 0 to 914518\n",
      "Data columns (total 18 columns):\n",
      " #   Column          Dtype  \n",
      "---  ------          -----  \n",
      " 0   reviewerID      object \n",
      " 1   asin            object \n",
      " 2   reviewerName    object \n",
      " 3   verified        bool   \n",
      " 4   reviewText      object \n",
      " 5   overall         float64\n",
      " 6   reviewTime      object \n",
      " 7   summary         object \n",
      " 8   unixReviewTime  int64  \n",
      " 9   style           object \n",
      " 10  vote            object \n",
      " 11  image           object \n",
      " 12  title           object \n",
      " 13  category        object \n",
      " 14  brand           object \n",
      " 15  price           object \n",
      " 16  subcategory1    object \n",
      " 17  subcategory2    object \n",
      "dtypes: bool(1), float64(1), int64(1), object(15)\n",
      "memory usage: 344.4+ MB\n"
     ]
    }
   ],
   "source": [
    "co_data.info()"
   ]
  },
  {
   "cell_type": "markdown",
   "id": "9778ad76",
   "metadata": {},
   "source": [
    "### checking data types of the columns"
   ]
  },
  {
   "cell_type": "code",
   "execution_count": 26,
   "id": "a57d6a7f",
   "metadata": {},
   "outputs": [
    {
     "data": {
      "text/plain": [
       "reviewerID         object\n",
       "asin               object\n",
       "reviewerName       object\n",
       "verified             bool\n",
       "reviewText         object\n",
       "overall           float64\n",
       "reviewTime         object\n",
       "summary            object\n",
       "unixReviewTime      int64\n",
       "style              object\n",
       "vote               object\n",
       "image              object\n",
       "title              object\n",
       "category           object\n",
       "brand              object\n",
       "price              object\n",
       "subcategory1       object\n",
       "subcategory2       object\n",
       "dtype: object"
      ]
     },
     "execution_count": 26,
     "metadata": {},
     "output_type": "execute_result"
    }
   ],
   "source": [
    "co_data.dtypes"
   ]
  },
  {
   "cell_type": "markdown",
   "id": "3ece1f78",
   "metadata": {},
   "source": [
    "## Data Preprocessing"
   ]
  },
  {
   "cell_type": "markdown",
   "id": "1871db86",
   "metadata": {},
   "source": [
    "### Renaming  columns"
   ]
  },
  {
   "cell_type": "code",
   "execution_count": 27,
   "id": "c0de3e00",
   "metadata": {},
   "outputs": [],
   "source": [
    "co_data.rename(columns = {'reviewText': 'review',\"overall\" : \"ratings\",\"reviewTime\":'date'}, inplace=True)"
   ]
  },
  {
   "cell_type": "markdown",
   "id": "02870b33",
   "metadata": {},
   "source": [
    "### Removing duplicate entries"
   ]
  },
  {
   "cell_type": "code",
   "execution_count": 30,
   "id": "6c521316",
   "metadata": {},
   "outputs": [],
   "source": [
    "co_data.drop_duplicates([\"review\",\"asin\",\"reviewerName\"], keep = \"last\", inplace = True)"
   ]
  },
  {
   "cell_type": "markdown",
   "id": "decc0d18",
   "metadata": {},
   "source": [
    "### changing the datatype of date column"
   ]
  },
  {
   "cell_type": "code",
   "execution_count": 31,
   "id": "576662b4",
   "metadata": {},
   "outputs": [],
   "source": [
    "co_data[\"date\"] = pd.to_datetime(co_data[\"date\"])"
   ]
  },
  {
   "cell_type": "markdown",
   "id": "936b6d46",
   "metadata": {},
   "source": [
    "### Cleaning the price column"
   ]
  },
  {
   "cell_type": "markdown",
   "id": "5135febd",
   "metadata": {},
   "source": [
    "###  Removing $ sign from price"
   ]
  },
  {
   "cell_type": "code",
   "execution_count": 32,
   "id": "906c0b42",
   "metadata": {},
   "outputs": [
    {
     "data": {
      "text/plain": [
       "array(['', '$5.98', '$9.85', ..., '$266.35', '$73.56', '$146.99'],\n",
       "      dtype=object)"
      ]
     },
     "execution_count": 32,
     "metadata": {},
     "output_type": "execute_result"
    }
   ],
   "source": [
    "co_data['price'].unique()"
   ]
  },
  {
   "cell_type": "code",
   "execution_count": 33,
   "id": "165612d9",
   "metadata": {},
   "outputs": [
    {
     "data": {
      "text/plain": [
       "array(['', '5.98', '9.85', ..., '266.35', '73.56', '146.99'], dtype=object)"
      ]
     },
     "execution_count": 33,
     "metadata": {},
     "output_type": "execute_result"
    }
   ],
   "source": [
    "co_data['price']=co_data['price'].str.replace('$','')\n",
    "co_data['price'].unique()"
   ]
  },
  {
   "cell_type": "markdown",
   "id": "6992efb0",
   "metadata": {},
   "source": [
    "### keeping only numeric values"
   ]
  },
  {
   "cell_type": "code",
   "execution_count": 34,
   "id": "b758225f",
   "metadata": {},
   "outputs": [],
   "source": [
    "co_data['price'] = co_data['price'].apply(lambda x: pd.to_numeric(str(x).strip(\"'\"),errors='coerce'))"
   ]
  },
  {
   "cell_type": "markdown",
   "id": "3c2c8169",
   "metadata": {},
   "source": [
    "### changing the datatype of price column"
   ]
  },
  {
   "cell_type": "code",
   "execution_count": 35,
   "id": "5e3efd0d",
   "metadata": {},
   "outputs": [
    {
     "data": {
      "text/plain": [
       "array([   nan,   5.98,   9.85, ..., 266.35,  73.56, 146.99])"
      ]
     },
     "execution_count": 35,
     "metadata": {},
     "output_type": "execute_result"
    }
   ],
   "source": [
    "co_data['price']=co_data['price'].astype(float) \n",
    "co_data['price'].unique()"
   ]
  },
  {
   "cell_type": "markdown",
   "id": "a8020a42",
   "metadata": {},
   "source": [
    "### checking null values"
   ]
  },
  {
   "cell_type": "code",
   "execution_count": 36,
   "id": "ef3b6228",
   "metadata": {},
   "outputs": [
    {
     "data": {
      "text/plain": [
       "reviewerID              0\n",
       "asin                    0\n",
       "reviewerName          178\n",
       "verified                0\n",
       "review                441\n",
       "ratings                 0\n",
       "date                    0\n",
       "summary               326\n",
       "unixReviewTime          0\n",
       "style              325164\n",
       "vote              1503525\n",
       "image             2003373\n",
       "title                   0\n",
       "category                0\n",
       "brand                   0\n",
       "price              401956\n",
       "subcategory1            0\n",
       "subcategory2            0\n",
       "dtype: int64"
      ]
     },
     "execution_count": 36,
     "metadata": {},
     "output_type": "execute_result"
    }
   ],
   "source": [
    "co_data.isnull().sum()"
   ]
  },
  {
   "cell_type": "markdown",
   "id": "1723467e",
   "metadata": {},
   "source": [
    "### Finding the missing values in percentage"
   ]
  },
  {
   "cell_type": "code",
   "execution_count": 37,
   "id": "41d79002",
   "metadata": {},
   "outputs": [
    {
     "data": {
      "text/plain": [
       "reviewerID         0.000000\n",
       "asin               0.000000\n",
       "reviewerName       0.008823\n",
       "verified           0.000000\n",
       "review             0.021860\n",
       "ratings            0.000000\n",
       "date               0.000000\n",
       "summary            0.016160\n",
       "unixReviewTime     0.000000\n",
       "style             16.118133\n",
       "vote              74.528596\n",
       "image             99.305684\n",
       "title              0.000000\n",
       "category           0.000000\n",
       "brand              0.000000\n",
       "price             19.924655\n",
       "subcategory1       0.000000\n",
       "subcategory2       0.000000\n",
       "dtype: float64"
      ]
     },
     "execution_count": 37,
     "metadata": {},
     "output_type": "execute_result"
    }
   ],
   "source": [
    "(co_data.isnull().sum()*100)/co_data.shape[0]"
   ]
  },
  {
   "cell_type": "markdown",
   "id": "f7f58f79",
   "metadata": {},
   "source": [
    "### Deleting Irrelevant Columns from both datasets because it contains so many null values"
   ]
  },
  {
   "cell_type": "code",
   "execution_count": 38,
   "id": "a8f9a786",
   "metadata": {},
   "outputs": [],
   "source": [
    "co_data.drop(['style','vote','image'],axis=1,inplace=True) "
   ]
  },
  {
   "cell_type": "markdown",
   "id": "b9500a21",
   "metadata": {},
   "source": [
    "### Imputation of price column"
   ]
  },
  {
   "cell_type": "code",
   "execution_count": 39,
   "id": "2f63ca71",
   "metadata": {},
   "outputs": [],
   "source": [
    "for i in range(2000):\n",
    "    co_data['price'] = co_data['price'].interpolate(method = 'linear', limit = 5,limit_direction='forward')"
   ]
  },
  {
   "cell_type": "markdown",
   "id": "fafb6725",
   "metadata": {},
   "source": [
    "### Dropping remaining rows with null values since it is very less"
   ]
  },
  {
   "cell_type": "code",
   "execution_count": 40,
   "id": "44429a1a",
   "metadata": {},
   "outputs": [],
   "source": [
    "co_data.dropna(inplace=True)"
   ]
  },
  {
   "cell_type": "markdown",
   "id": "a84addeb",
   "metadata": {},
   "source": [
    "### checking null values after preprocessing"
   ]
  },
  {
   "cell_type": "code",
   "execution_count": 41,
   "id": "7b113ebd",
   "metadata": {},
   "outputs": [
    {
     "data": {
      "text/plain": [
       "reviewerID        0\n",
       "asin              0\n",
       "reviewerName      0\n",
       "verified          0\n",
       "review            0\n",
       "ratings           0\n",
       "date              0\n",
       "summary           0\n",
       "unixReviewTime    0\n",
       "title             0\n",
       "category          0\n",
       "brand             0\n",
       "price             0\n",
       "subcategory1      0\n",
       "subcategory2      0\n",
       "dtype: int64"
      ]
     },
     "execution_count": 41,
     "metadata": {},
     "output_type": "execute_result"
    }
   ],
   "source": [
    "co_data.isnull().sum()"
   ]
  },
  {
   "cell_type": "markdown",
   "id": "c4ecb489",
   "metadata": {},
   "source": [
    "## Data Exploration"
   ]
  },
  {
   "cell_type": "markdown",
   "id": "3ef9bc03",
   "metadata": {},
   "source": [
    "''' Now we want to explore our dataset by each column.\n",
    "    extract all possible information from the data set'''"
   ]
  },
  {
   "cell_type": "markdown",
   "id": "3433e3a7",
   "metadata": {},
   "source": [
    "### ▶ Dataset Details\n",
    "This file has reviewer ID , Reviewer Name, Reviewe, Summary(obtained from Reviewe), Ratings on a scale 5, Review time\n",
    "\n",
    "### Description of columns in the file:\n",
    "● reviewerID - ID of the reviewer, e.g. A2LBDC9ZGSCAE6\n",
    "\n",
    "● asin - ID of the product, e.g. 0000013714\n",
    "\n",
    "● reviewerName - name of the reviewer\n",
    "\n",
    "● review - text of the review\n",
    "\n",
    "● ratings - rating of the product\n",
    "\n",
    "● summary - summary of the review\n",
    "\n",
    "● unixReviewTime - time of the review (unix time)\n",
    "\n",
    "● date - date of the review\n",
    "\n",
    "● Price- price of the product\n",
    "\n",
    "●verified- whether the review is verified or not\n",
    "\n",
    "●brand - brand of the product\n"
   ]
  },
  {
   "cell_type": "markdown",
   "id": "f07bbbec",
   "metadata": {},
   "source": [
    "### ASIN\n",
    "Amazon Standard Identification Number (ASIN) is a ten-digit alphanumeric code that identifies products on Amazon. It's unique for each product and is assigned when you create a new product in Amazon's catalog."
   ]
  },
  {
   "cell_type": "code",
   "execution_count": 44,
   "id": "d126a013",
   "metadata": {},
   "outputs": [
    {
     "data": {
      "text/plain": [
       "B00006IEEV    2238\n",
       "B00006IFEU    1860\n",
       "B00A89YZ6S    1860\n",
       "B00006IFI5    1844\n",
       "B00006JNJD    1717\n",
       "              ... \n",
       "B0013MTJUQ       1\n",
       "B000WMEAMU       1\n",
       "B000ZPDCZK       1\n",
       "B000ZORT00       1\n",
       "B00147TPAO       1\n",
       "Name: asin, Length: 95533, dtype: int64"
      ]
     },
     "execution_count": 44,
     "metadata": {},
     "output_type": "execute_result"
    }
   ],
   "source": [
    "co_data['asin'].value_counts()"
   ]
  },
  {
   "cell_type": "code",
   "execution_count": 47,
   "id": "ce5214e0",
   "metadata": {},
   "outputs": [
    {
     "data": {
      "text/plain": [
       "array(['0005164885', '0788602144', '0005465079', ..., 'B01H39UYBK',\n",
       "       'B01H4R9M6Y', 'B01HEFLV4M'], dtype=object)"
      ]
     },
     "execution_count": 47,
     "metadata": {},
     "output_type": "execute_result"
    }
   ],
   "source": [
    "co_data['asin'].unique()"
   ]
  },
  {
   "cell_type": "code",
   "execution_count": 45,
   "id": "220b145e",
   "metadata": {},
   "outputs": [
    {
     "name": "stdout",
     "output_type": "stream",
     "text": [
      "number of of unique ASIN: 95533\n"
     ]
    }
   ],
   "source": [
    "print(\"number of of unique ASIN:\",len(co_data['asin'].unique()))"
   ]
  },
  {
   "cell_type": "markdown",
   "id": "dc30d5bb",
   "metadata": {},
   "source": [
    "### Rating"
   ]
  },
  {
   "cell_type": "code",
   "execution_count": 46,
   "id": "27218817",
   "metadata": {},
   "outputs": [
    {
     "data": {
      "text/plain": [
       "5.0    1385783\n",
       "4.0     356793\n",
       "3.0     144266\n",
       "1.0      66851\n",
       "2.0      62782\n",
       "Name: ratings, dtype: int64"
      ]
     },
     "execution_count": 46,
     "metadata": {},
     "output_type": "execute_result"
    }
   ],
   "source": [
    "rate_count=co_data['ratings'].value_counts()\n",
    "rate_count"
   ]
  },
  {
   "cell_type": "markdown",
   "id": "6f679302",
   "metadata": {},
   "source": [
    "We can see that the ratings 5 has the highest frequency"
   ]
  },
  {
   "cell_type": "markdown",
   "id": "07ea34c2",
   "metadata": {},
   "source": [
    "### Brand"
   ]
  },
  {
   "cell_type": "code",
   "execution_count": 48,
   "id": "99acc778",
   "metadata": {},
   "outputs": [
    {
     "data": {
      "text/plain": [
       "Avery              27096\n",
       "HP                 22972\n",
       "Canon              22881\n",
       "Various Artists    20508\n",
       "Sharpie            18628\n",
       "                   ...  \n",
       "PSG INC                1\n",
       "Featherings            1\n",
       "CSI                    1\n",
       "Pocket Pen             1\n",
       "Life In Balance        1\n",
       "Name: brand, Length: 26138, dtype: int64"
      ]
     },
     "execution_count": 48,
     "metadata": {},
     "output_type": "execute_result"
    }
   ],
   "source": [
    "co_data['brand'].value_counts()"
   ]
  },
  {
   "cell_type": "markdown",
   "id": "91fa50d9",
   "metadata": {},
   "source": [
    "#### We can see some empty lists present in brand column wich is not identified by the isnull() function "
   ]
  },
  {
   "cell_type": "code",
   "execution_count": 62,
   "id": "2dc742dd",
   "metadata": {},
   "outputs": [],
   "source": [
    "cb=co_data[co_data['brand']=='']\n"
   ]
  },
  {
   "cell_type": "code",
   "execution_count": 59,
   "id": "c9d1e4d6",
   "metadata": {},
   "outputs": [
    {
     "data": {
      "text/plain": [
       "Int64Index([   262,    263,    264,    265,    266,    267,    268,    269,\n",
       "               270,    271,\n",
       "            ...\n",
       "            912566, 912567, 912568, 912569, 912880, 912881, 912882, 912883,\n",
       "            912884, 912885],\n",
       "           dtype='int64', length=9688)"
      ]
     },
     "execution_count": 59,
     "metadata": {},
     "output_type": "execute_result"
    }
   ],
   "source": [
    "cb.index"
   ]
  },
  {
   "cell_type": "markdown",
   "id": "2297ae86",
   "metadata": {},
   "source": [
    "### Replacing the empty lists present in brand column by 'unknown'"
   ]
  },
  {
   "cell_type": "code",
   "execution_count": 57,
   "id": "3430ecdd",
   "metadata": {},
   "outputs": [],
   "source": [
    "co_data['brand']=co_data['brand'].replace('','unknown')"
   ]
  },
  {
   "cell_type": "code",
   "execution_count": 63,
   "id": "1a0062a0",
   "metadata": {},
   "outputs": [
    {
     "data": {
      "text/plain": [
       "Int64Index([], dtype='int64')"
      ]
     },
     "execution_count": 63,
     "metadata": {},
     "output_type": "execute_result"
    }
   ],
   "source": [
    "cb.index"
   ]
  },
  {
   "cell_type": "markdown",
   "id": "fb1ae80b",
   "metadata": {},
   "source": [
    "### Category"
   ]
  },
  {
   "cell_type": "code",
   "execution_count": 64,
   "id": "d8ff6685",
   "metadata": {},
   "outputs": [
    {
     "data": {
      "text/plain": [
       "[CDs & Vinyl, Classic Rock, Album-Oriented Rock (AOR)]                                                                                                                                                                                                                                          85885\n",
       "[CDs & Vinyl, Pop]                                                                                                                                                                                                                                                                              85746\n",
       "[Office Products, Office & School Supplies, Printer Ink & Toner, Inkjet Printer Ink]                                                                                                                                                                                                            51894\n",
       "[CDs & Vinyl, Rock, Progressive, Progressive Rock]                                                                                                                                                                                                                                              50080\n",
       "[CDs & Vinyl, Country, Today's Country]                                                                                                                                                                                                                                                         39309\n",
       "                                                                                                                                                                                                                                                                                                ...  \n",
       "[Office Products, Office Furniture &amp; Lighting, Desks &amp; Workstations, Desks, Computer Desks]                                                                                                                                                                                                 3\n",
       "[CDs & Vinyl, Special Interest, Sound Effects]                                                                                                                                                                                                                                                      3\n",
       "[Office Products, Office Electronics, Calculators, Basic, Imported, 100% brand new and high quality, Display: Digital, Material: Silicone and Rubber, Fashion design calculator watch and with its compact size for carrying easily and charming outlook., It is easy and convenient to use]        2\n",
       "[Office Products, Office & School Supplies, Desk Accessories & Workspace Organizers, Flags]                                                                                                                                                                                                         2\n",
       "[Office Products, Office & School Supplies, Binders & Binding Systems, Binders, Padfolio Ring Binders, 100% Leather, 12.25\" high, 9.5\" wide, 100% Leather, 12.25\" high, 9.5\" wide, Made from Man-Mad Leather, Size: 12 1/4 x 9 1/2 x 5/8]                                                           1\n",
       "Name: category, Length: 1378, dtype: int64"
      ]
     },
     "execution_count": 64,
     "metadata": {},
     "output_type": "execute_result"
    }
   ],
   "source": [
    "co_data['category'].value_counts()"
   ]
  },
  {
   "cell_type": "markdown",
   "id": "1bb239c1",
   "metadata": {},
   "source": [
    "### Checking is there any empty string present in category column"
   ]
  },
  {
   "cell_type": "code",
   "execution_count": 69,
   "id": "7c904c5f",
   "metadata": {},
   "outputs": [
    {
     "data": {
      "text/html": [
       "<div>\n",
       "<style scoped>\n",
       "    .dataframe tbody tr th:only-of-type {\n",
       "        vertical-align: middle;\n",
       "    }\n",
       "\n",
       "    .dataframe tbody tr th {\n",
       "        vertical-align: top;\n",
       "    }\n",
       "\n",
       "    .dataframe thead th {\n",
       "        text-align: right;\n",
       "    }\n",
       "</style>\n",
       "<table border=\"1\" class=\"dataframe\">\n",
       "  <thead>\n",
       "    <tr style=\"text-align: right;\">\n",
       "      <th></th>\n",
       "      <th>reviewerID</th>\n",
       "      <th>asin</th>\n",
       "      <th>reviewerName</th>\n",
       "      <th>verified</th>\n",
       "      <th>review</th>\n",
       "      <th>ratings</th>\n",
       "      <th>date</th>\n",
       "      <th>summary</th>\n",
       "      <th>unixReviewTime</th>\n",
       "      <th>title</th>\n",
       "      <th>category</th>\n",
       "      <th>brand</th>\n",
       "      <th>price</th>\n",
       "      <th>subcategory1</th>\n",
       "      <th>subcategory2</th>\n",
       "    </tr>\n",
       "  </thead>\n",
       "  <tbody>\n",
       "  </tbody>\n",
       "</table>\n",
       "</div>"
      ],
      "text/plain": [
       "Empty DataFrame\n",
       "Columns: [reviewerID, asin, reviewerName, verified, review, ratings, date, summary, unixReviewTime, title, category, brand, price, subcategory1, subcategory2]\n",
       "Index: []"
      ]
     },
     "execution_count": 69,
     "metadata": {},
     "output_type": "execute_result"
    }
   ],
   "source": [
    "cat=co_data[co_data['category']=='']\n",
    "cat"
   ]
  },
  {
   "cell_type": "code",
   "execution_count": 68,
   "id": "458439ac",
   "metadata": {},
   "outputs": [
    {
     "data": {
      "text/plain": [
       "Int64Index([], dtype='int64')"
      ]
     },
     "execution_count": 68,
     "metadata": {},
     "output_type": "execute_result"
    }
   ],
   "source": [
    "cat1=co_data[co_data['category']=='[]']\n",
    "cat1.index"
   ]
  },
  {
   "cell_type": "markdown",
   "id": "70b63581",
   "metadata": {},
   "source": [
    "There is no empty strings in category column"
   ]
  },
  {
   "cell_type": "markdown",
   "id": "8fc09cd2",
   "metadata": {},
   "source": [
    "### Sub category-1"
   ]
  },
  {
   "cell_type": "code",
   "execution_count": 70,
   "id": "260edc7d",
   "metadata": {},
   "outputs": [
    {
     "data": {
      "text/plain": [
       "CDs & Vinyl        1268434\n",
       "Office Products     733129\n",
       "                     14912\n",
       "Name: subcategory1, dtype: int64"
      ]
     },
     "execution_count": 70,
     "metadata": {},
     "output_type": "execute_result"
    }
   ],
   "source": [
    "co_data['subcategory1'].value_counts()"
   ]
  },
  {
   "cell_type": "markdown",
   "id": "40031109",
   "metadata": {},
   "source": [
    "#### We can see there is some empty values in subcategory column\n",
    "#### So replacing it by interpolate method"
   ]
  },
  {
   "cell_type": "code",
   "execution_count": 78,
   "id": "79aae737",
   "metadata": {},
   "outputs": [],
   "source": [
    "for i in range(500):\n",
    " co_data['subcategory1']= co_data['subcategory1'].interpolate(method = 'pad',limit =5,limit_direction='forward')"
   ]
  },
  {
   "cell_type": "markdown",
   "id": "f3847cc2",
   "metadata": {},
   "source": [
    "### Sub category-2"
   ]
  },
  {
   "cell_type": "code",
   "execution_count": 73,
   "id": "2e9ffb5c",
   "metadata": {},
   "outputs": [
    {
     "data": {
      "text/plain": [
       "Office & School Supplies           553172\n",
       "Pop                                258167\n",
       "Alternative Rock                   161418\n",
       "Classic Rock                       118647\n",
       "Rock                               109752\n",
       "Office Electronics                  91492\n",
       "Country                             76473\n",
       "World Music                         65886\n",
       "Metal                               65320\n",
       "Office &amp; School Supplies        64432\n",
       "Jazz                                58574\n",
       "R&B                                 58061\n",
       "Classical                           54069\n",
       "Dance & Electronic                  37020\n",
       "Blues                               35012\n",
       "Rap & Hip-Hop                       30081\n",
       "Christian                           28779\n",
       "Office Furniture & Lighting         23535\n",
       "Broadway & Vocalists                21576\n",
       "Folk                                17553\n",
       "Soundtracks                         16906\n",
       "                                    14912\n",
       "Opera & Classical Vocal             13890\n",
       "Holiday & Wedding                   13473\n",
       "Latin Music                          7250\n",
       "New Age                              7146\n",
       "Comedy & Spoken Word                 6148\n",
       "Children's Music                     4013\n",
       "Reggae                               1827\n",
       "Gospel                                640\n",
       "Special Interest                      524\n",
       "Office Furniture &amp; Lighting       498\n",
       "Karaoke                               229\n",
       "Name: subcategory2, dtype: int64"
      ]
     },
     "execution_count": 73,
     "metadata": {},
     "output_type": "execute_result"
    }
   ],
   "source": [
    "co_data['subcategory2'].value_counts()"
   ]
  },
  {
   "cell_type": "markdown",
   "id": "b1db6f20",
   "metadata": {},
   "source": [
    "### Replacing empty values by interpolate  method"
   ]
  },
  {
   "cell_type": "code",
   "execution_count": 79,
   "id": "962c3066",
   "metadata": {},
   "outputs": [],
   "source": [
    "for i in range(500):\n",
    " co_data['subcategory2']= co_data['subcategory2'].interpolate(method = 'pad',limit =5,limit_direction='forward')"
   ]
  },
  {
   "cell_type": "markdown",
   "id": "452f9d9c",
   "metadata": {},
   "source": [
    "### Verified"
   ]
  },
  {
   "cell_type": "markdown",
   "id": "17a75b07",
   "metadata": {},
   "source": [
    "#### Verified means review is verified or not."
   ]
  },
  {
   "cell_type": "code",
   "execution_count": 77,
   "id": "c18b7025",
   "metadata": {},
   "outputs": [
    {
     "data": {
      "text/plain": [
       "True     1317989\n",
       "False     698486\n",
       "Name: verified, dtype: int64"
      ]
     },
     "execution_count": 77,
     "metadata": {},
     "output_type": "execute_result"
    }
   ],
   "source": [
    "co_data['verified'].value_counts()"
   ]
  },
  {
   "cell_type": "code",
   "execution_count": 81,
   "id": "597a6126",
   "metadata": {},
   "outputs": [],
   "source": [
    "# Saving file into csv to do further analysis\n",
    "co_data.to_csv('C:/Users/sandp/Downloads/Capstone Project/final_cd_office_data.csv')"
   ]
  },
  {
   "cell_type": "markdown",
   "id": "60e6dfce",
   "metadata": {},
   "source": [
    "### Text preprocessing"
   ]
  },
  {
   "cell_type": "code",
   "execution_count": 5,
   "id": "9c32aef3",
   "metadata": {},
   "outputs": [],
   "source": [
    "# reading the saved data\n",
    "df=pd.read_csv(\"C:/Users/sandp/Downloads/Capstone Project/final_cd_office_data.csv\")"
   ]
  },
  {
   "cell_type": "code",
   "execution_count": 10,
   "id": "4aa92008",
   "metadata": {},
   "outputs": [],
   "source": [
    "df.dropna(inplace=True)"
   ]
  },
  {
   "cell_type": "code",
   "execution_count": 11,
   "id": "6c0711e9",
   "metadata": {},
   "outputs": [],
   "source": [
    "def clean_text(text):\n",
    "    \"\"\"\n",
    "    Return clean version of the text\n",
    "    \"\"\"\n",
    "    # Remove all non-letters and non-spaces except for hyphens and digits\n",
    "    text = re.sub(\"[^0-9A-Za-z\\- ]+\", \" \", text)\n",
    "    # Remove all numbers except those attached to a word\n",
    "    text = re.sub(\"(?<!\\w)\\d+\", \"\", text)\n",
    "    text = re.sub(\"-(?!\\w)|(?<!\\w)-\", \"\", text)\n",
    "    # Removing url\n",
    "    text = re.sub('https?://\\S+|www\\.\\S+', '', text)\n",
    "    # Remove multiple spaces and making lowercase everything\n",
    "    text = \" \".join(text.split())\n",
    "    text = text.lower()\n",
    "\n",
    "    return text"
   ]
  },
  {
   "cell_type": "code",
   "execution_count": 12,
   "id": "efbb7531",
   "metadata": {},
   "outputs": [],
   "source": [
    "# Calling the cleaning function for review column\n",
    "df[\"review\"] = df[\"review\"].apply(clean_text)"
   ]
  },
  {
   "cell_type": "code",
   "execution_count": 13,
   "id": "3da848f8",
   "metadata": {},
   "outputs": [],
   "source": [
    "# Calling the cleaning function for summary column\n",
    "df[\"summary\"] = df[\"summary\"].apply(clean_text)"
   ]
  },
  {
   "cell_type": "code",
   "execution_count": 14,
   "id": "f54befee",
   "metadata": {},
   "outputs": [],
   "source": [
    "df['title']=df['title'].apply(clean_text)"
   ]
  },
  {
   "cell_type": "code",
   "execution_count": null,
   "id": "5afe0723",
   "metadata": {},
   "outputs": [],
   "source": [
    "#!pip install textblob\n",
    "\n"
   ]
  },
  {
   "cell_type": "code",
   "execution_count": 15,
   "id": "36b58274",
   "metadata": {},
   "outputs": [],
   "source": [
    "from textblob import TextBlob"
   ]
  },
  {
   "cell_type": "code",
   "execution_count": 17,
   "id": "648dc179",
   "metadata": {},
   "outputs": [],
   "source": [
    "# creating a function to get the polarity -> \n",
    "def getPolarity(text):\n",
    "    return TextBlob(text).sentiment.polarity\n",
    "\n",
    "\n",
    "#creating a column for polarity:\n",
    "df['polarity'] = df['review'].apply(getPolarity)\n"
   ]
  },
  {
   "cell_type": "markdown",
   "id": "44537253",
   "metadata": {},
   "source": [
    "#### TextBlob is a python library and offers a simple API to access its methods and perform basic NLP tasks"
   ]
  },
  {
   "cell_type": "code",
   "execution_count": 18,
   "id": "765d86d4",
   "metadata": {},
   "outputs": [],
   "source": [
    "# creating a sentiment column on the basis of polarity\n",
    "def GetAnalysis(score):\n",
    "    if score <0:\n",
    "        return 'Negative'\n",
    "    elif score == 0:\n",
    "        return 'Neutral'\n",
    "    else:\n",
    "        return 'Positive'\n",
    "\n",
    "df['sentiments'] = df['polarity'].apply(GetAnalysis)\n"
   ]
  },
  {
   "cell_type": "code",
   "execution_count": 19,
   "id": "ad4a0b99",
   "metadata": {},
   "outputs": [
    {
     "data": {
      "text/html": [
       "<div>\n",
       "<style scoped>\n",
       "    .dataframe tbody tr th:only-of-type {\n",
       "        vertical-align: middle;\n",
       "    }\n",
       "\n",
       "    .dataframe tbody tr th {\n",
       "        vertical-align: top;\n",
       "    }\n",
       "\n",
       "    .dataframe thead th {\n",
       "        text-align: right;\n",
       "    }\n",
       "</style>\n",
       "<table border=\"1\" class=\"dataframe\">\n",
       "  <thead>\n",
       "    <tr style=\"text-align: right;\">\n",
       "      <th></th>\n",
       "      <th>Unnamed: 0</th>\n",
       "      <th>reviewerID</th>\n",
       "      <th>asin</th>\n",
       "      <th>reviewerName</th>\n",
       "      <th>verified</th>\n",
       "      <th>review</th>\n",
       "      <th>ratings</th>\n",
       "      <th>date</th>\n",
       "      <th>summary</th>\n",
       "      <th>unixReviewTime</th>\n",
       "      <th>title</th>\n",
       "      <th>category</th>\n",
       "      <th>brand</th>\n",
       "      <th>price</th>\n",
       "      <th>subcategory1</th>\n",
       "      <th>subcategory2</th>\n",
       "      <th>polarity</th>\n",
       "      <th>sentiments</th>\n",
       "    </tr>\n",
       "  </thead>\n",
       "  <tbody>\n",
       "    <tr>\n",
       "      <th>0</th>\n",
       "      <td>13</td>\n",
       "      <td>A2LBDC9ZGSCAE6</td>\n",
       "      <td>0005164885</td>\n",
       "      <td>Kevin</td>\n",
       "      <td>True</td>\n",
       "      <td>christmas and tso just goes together like rudo...</td>\n",
       "      <td>5.0</td>\n",
       "      <td>2018-02-22</td>\n",
       "      <td>tso what more do you need to know</td>\n",
       "      <td>1519257600</td>\n",
       "      <td>christmas eve and other stories</td>\n",
       "      <td>['CDs &amp; Vinyl', 'Holiday &amp; Wedding']</td>\n",
       "      <td>Trans-Siberian Orchestra</td>\n",
       "      <td>5.98</td>\n",
       "      <td>CDs &amp; Vinyl</td>\n",
       "      <td>Holiday &amp; Wedding</td>\n",
       "      <td>0.00</td>\n",
       "      <td>Neutral</td>\n",
       "    </tr>\n",
       "    <tr>\n",
       "      <th>1</th>\n",
       "      <td>14</td>\n",
       "      <td>A2ZB6AHRM0ZLLW</td>\n",
       "      <td>0005164885</td>\n",
       "      <td>Herbert B Brady jr</td>\n",
       "      <td>True</td>\n",
       "      <td>good</td>\n",
       "      <td>4.0</td>\n",
       "      <td>2018-02-14</td>\n",
       "      <td>four stars</td>\n",
       "      <td>1518566400</td>\n",
       "      <td>christmas eve and other stories</td>\n",
       "      <td>['CDs &amp; Vinyl', 'Holiday &amp; Wedding']</td>\n",
       "      <td>Trans-Siberian Orchestra</td>\n",
       "      <td>5.98</td>\n",
       "      <td>CDs &amp; Vinyl</td>\n",
       "      <td>Holiday &amp; Wedding</td>\n",
       "      <td>0.70</td>\n",
       "      <td>Positive</td>\n",
       "    </tr>\n",
       "    <tr>\n",
       "      <th>2</th>\n",
       "      <td>15</td>\n",
       "      <td>A1LU1VWVVCU85F</td>\n",
       "      <td>0005164885</td>\n",
       "      <td>sharon l. wachowski</td>\n",
       "      <td>True</td>\n",
       "      <td>good sound for the holiday</td>\n",
       "      <td>5.0</td>\n",
       "      <td>2018-02-10</td>\n",
       "      <td>nice</td>\n",
       "      <td>1518220800</td>\n",
       "      <td>christmas eve and other stories</td>\n",
       "      <td>['CDs &amp; Vinyl', 'Holiday &amp; Wedding']</td>\n",
       "      <td>Trans-Siberian Orchestra</td>\n",
       "      <td>5.98</td>\n",
       "      <td>CDs &amp; Vinyl</td>\n",
       "      <td>Holiday &amp; Wedding</td>\n",
       "      <td>0.55</td>\n",
       "      <td>Positive</td>\n",
       "    </tr>\n",
       "  </tbody>\n",
       "</table>\n",
       "</div>"
      ],
      "text/plain": [
       "   Unnamed: 0      reviewerID        asin         reviewerName  verified  \\\n",
       "0          13  A2LBDC9ZGSCAE6  0005164885                Kevin      True   \n",
       "1          14  A2ZB6AHRM0ZLLW  0005164885   Herbert B Brady jr      True   \n",
       "2          15  A1LU1VWVVCU85F  0005164885  sharon l. wachowski      True   \n",
       "\n",
       "                                              review  ratings        date  \\\n",
       "0  christmas and tso just goes together like rudo...      5.0  2018-02-22   \n",
       "1                                               good      4.0  2018-02-14   \n",
       "2                         good sound for the holiday      5.0  2018-02-10   \n",
       "\n",
       "                             summary  unixReviewTime  \\\n",
       "0  tso what more do you need to know      1519257600   \n",
       "1                         four stars      1518566400   \n",
       "2                               nice      1518220800   \n",
       "\n",
       "                             title                              category  \\\n",
       "0  christmas eve and other stories  ['CDs & Vinyl', 'Holiday & Wedding']   \n",
       "1  christmas eve and other stories  ['CDs & Vinyl', 'Holiday & Wedding']   \n",
       "2  christmas eve and other stories  ['CDs & Vinyl', 'Holiday & Wedding']   \n",
       "\n",
       "                      brand  price subcategory1       subcategory2  polarity  \\\n",
       "0  Trans-Siberian Orchestra   5.98  CDs & Vinyl  Holiday & Wedding      0.00   \n",
       "1  Trans-Siberian Orchestra   5.98  CDs & Vinyl  Holiday & Wedding      0.70   \n",
       "2  Trans-Siberian Orchestra   5.98  CDs & Vinyl  Holiday & Wedding      0.55   \n",
       "\n",
       "  sentiments  \n",
       "0    Neutral  \n",
       "1   Positive  \n",
       "2   Positive  "
      ]
     },
     "execution_count": 19,
     "metadata": {},
     "output_type": "execute_result"
    }
   ],
   "source": [
    "df.head(3)"
   ]
  },
  {
   "cell_type": "code",
   "execution_count": 20,
   "id": "2d3c23f7",
   "metadata": {},
   "outputs": [
    {
     "data": {
      "text/plain": [
       "Positive    1782928\n",
       "Neutral      119298\n",
       "Negative     113944\n",
       "Name: sentiments, dtype: int64"
      ]
     },
     "execution_count": 20,
     "metadata": {},
     "output_type": "execute_result"
    }
   ],
   "source": [
    "df['sentiments'].value_counts()"
   ]
  },
  {
   "cell_type": "code",
   "execution_count": 21,
   "id": "c803d8d7",
   "metadata": {},
   "outputs": [],
   "source": [
    "# saving the file into csv\n",
    "df.to_csv('C:/Users/sandp/Downloads/Capstone Project/amazone_product_data.csv')"
   ]
  },
  {
   "cell_type": "markdown",
   "id": "ee4af528",
   "metadata": {},
   "source": [
    "## Data Visualization"
   ]
  },
  {
   "cell_type": "code",
   "execution_count": 3,
   "id": "8c102db1",
   "metadata": {},
   "outputs": [],
   "source": [
    "Amazon_products1=pd.read_csv('C:/Users/sandp/Downloads/Capstone Project/amazone_product_data.csv')"
   ]
  },
  {
   "cell_type": "markdown",
   "id": "3c5892c8",
   "metadata": {},
   "source": [
    "### Univariate Analysis"
   ]
  },
  {
   "cell_type": "code",
   "execution_count": 6,
   "id": "6675579b",
   "metadata": {},
   "outputs": [
    {
     "data": {
      "image/png": "[encoded data removed]",
      "text/plain": [
       "<Figure size 1080x576 with 1 Axes>"
      ]
     },
     "metadata": {},
     "output_type": "display_data"
    }
   ],
   "source": [
    "plt.figure(figsize=(15,8))\n",
    "cat_lis=Amazon_products1[\"subcategory1\"].value_counts()\n",
    "cat_index=list(Amazon_products1[\"subcategory1\"].value_counts().index)\n",
    "plt.title(\"Category\")\n",
    "plt.pie(cat_lis,labels=cat_index,autopct='%.2f%%',shadow=True, startangle=0)\n",
    "plt.show()"
   ]
  },
  {
   "cell_type": "markdown",
   "id": "0a61b4ee",
   "metadata": {},
   "source": [
    "#### CDs & vinyl category is more in the data set"
   ]
  },
  {
   "cell_type": "code",
   "execution_count": 16,
   "id": "42a287c9",
   "metadata": {},
   "outputs": [
    {
     "data": {
      "image/png": "[encoded data removed]",
      "text/plain": [
       "<Figure size 720x576 with 1 Axes>"
      ]
     },
     "metadata": {
      "needs_background": "light"
     },
     "output_type": "display_data"
    }
   ],
   "source": [
    "plt.figure(figsize=(10,8)) \n",
    "plt.title(\" Ratings Count\")\n",
    "plt.xlabel('Ratings')\n",
    "Amazon_products1['ratings'].value_counts().plot(kind='bar',color='g',align='center')\n",
    "plt.show()"
   ]
  },
  {
   "cell_type": "markdown",
   "id": "366d8377",
   "metadata": {},
   "source": [
    "#### Most of the product have a rating 5"
   ]
  },
  {
   "cell_type": "code",
   "execution_count": 19,
   "id": "64acfb42",
   "metadata": {},
   "outputs": [
    {
     "data": {
      "image/png": "[encoded data removed]",
      "text/plain": [
       "<Figure size 720x576 with 1 Axes>"
      ]
     },
     "metadata": {},
     "output_type": "display_data"
    }
   ],
   "source": [
    "plt.figure(figsize=(10,8))\n",
    "verified_lis=Amazon_products1[\"verified\"].value_counts()\n",
    "verified_idx=list(Amazon_products1[\"verified\"].value_counts().index)\n",
    "plt.title(\"Verified\",fontsize=30)\n",
    "textprops = {\"fontsize\":25}\n",
    "plt.pie(verified_lis,labels=verified_idx,autopct='%.2f%%',colors = ['#ff9999','#66b3ff'],shadow=True,textprops =textprops)\n",
    "plt.show()"
   ]
  },
  {
   "cell_type": "markdown",
   "id": "c0c93e23",
   "metadata": {},
   "source": [
    "#### We can see that Most of the reviews are verified that means the person who wrote the reviews has brought product"
   ]
  },
  {
   "cell_type": "code",
   "execution_count": 23,
   "id": "6f850cd6",
   "metadata": {},
   "outputs": [
    {
     "data": {
      "image/png": "[encoded data removed]",
      "text/plain": [
       "<Figure size 720x576 with 1 Axes>"
      ]
     },
     "metadata": {
      "needs_background": "light"
     },
     "output_type": "display_data"
    }
   ],
   "source": [
    "plt.figure(figsize=(10,8)) \n",
    "plt.title(\" Top 10 Products ID\")\n",
    "plt.xlabel(' Products ID')\n",
    "Amazon_products1['asin'].value_counts().head(10).plot(kind='bar',align='center')\n",
    "plt.show()"
   ]
  },
  {
   "cell_type": "markdown",
   "id": "18d2f7b3",
   "metadata": {},
   "source": [
    "#### The most demanding product is B00006IEEV "
   ]
  },
  {
   "cell_type": "code",
   "execution_count": 26,
   "id": "27951ce3",
   "metadata": {},
   "outputs": [
    {
     "data": {
      "image/png": "[encoded data removed]",
      "text/plain": [
       "<Figure size 1080x576 with 1 Axes>"
      ]
     },
     "metadata": {
      "needs_background": "light"
     },
     "output_type": "display_data"
    }
   ],
   "source": [
    "brand_count=Amazon_products1['brand'].value_counts().head(10)\n",
    "plt.figure(figsize=(15,8))\n",
    "plt.title(\"Top 10 brands\")\n",
    "plt.ylabel('Reviewes')\n",
    "plt.xlabel('Brand')\n",
    "brand_count.plot(kind='bar',color='#7eb54e',align='center')\n",
    "plt.show()\n"
   ]
  },
  {
   "cell_type": "markdown",
   "id": "54543f25",
   "metadata": {},
   "source": [
    "#### Avery is the most reviewed product brand"
   ]
  },
  {
   "cell_type": "code",
   "execution_count": 28,
   "id": "dd133aa3",
   "metadata": {},
   "outputs": [
    {
     "data": {
      "image/png": "[encoded data removed]",
      "text/plain": [
       "<Figure size 1080x576 with 1 Axes>"
      ]
     },
     "metadata": {
      "needs_background": "light"
     },
     "output_type": "display_data"
    }
   ],
   "source": [
    "plt.figure(figsize=(15,8))\n",
    "plt.title(\"Top 10 most reviewed Sub category\")\n",
    "plt.xticks(rotation = 90)\n",
    "sb.countplot(data=Amazon_products1,x=\"subcategory2\",order = Amazon_products1['subcategory2'].value_counts().head(10).index)\n",
    "plt.show()"
   ]
  },
  {
   "cell_type": "markdown",
   "id": "9f3240a3",
   "metadata": {},
   "source": [
    "#### Office and School Supplies is the most reviewed sub category"
   ]
  },
  {
   "cell_type": "markdown",
   "id": "b327f94f",
   "metadata": {},
   "source": [
    "### Bivariate analysis"
   ]
  },
  {
   "cell_type": "code",
   "execution_count": 29,
   "id": "590c7314",
   "metadata": {},
   "outputs": [
    {
     "data": {
      "image/png": "[encoded data removed]",
      "text/plain": [
       "<Figure size 1080x576 with 1 Axes>"
      ]
     },
     "metadata": {
      "needs_background": "light"
     },
     "output_type": "display_data"
    }
   ],
   "source": [
    "plt.figure(figsize=(15,8))\n",
    "plt.title(\"Top 10 Review ID (Verfied Vs Not Verified)\")\n",
    "plt.xticks(rotation = 90)\n",
    "sb.countplot(data=Amazon_products1,x=\"reviewerID\",order = Amazon_products1['reviewerID'].value_counts().head(10).index,hue='verified')\n",
    "plt.show()"
   ]
  },
  {
   "cell_type": "markdown",
   "id": "0fdca1ca",
   "metadata": {},
   "source": [
    "#### Here we can see that the reviewer with id A9Q28YTLYRE07 has written more number reviews but it is not verified by the company"
   ]
  },
  {
   "cell_type": "code",
   "execution_count": 33,
   "id": "0bffa93e",
   "metadata": {},
   "outputs": [
    {
     "data": {
      "image/png": "[encoded data removed]",
      "text/plain": [
       "<Figure size 1080x576 with 1 Axes>"
      ]
     },
     "metadata": {
      "needs_background": "light"
     },
     "output_type": "display_data"
    }
   ],
   "source": [
    "plt.figure(figsize=(15,8))\n",
    "plt.title(\"Top 10 Product ID(sentiment_analysis)\",fontsize=20)\n",
    "plt.xticks(rotation = 90)\n",
    "sb.countplot(data=Amazon_products1,x=\"asin\",order = Amazon_products1['asin'].value_counts().head(10).index,hue='sentiments')\n",
    "plt.show()"
   ]
  },
  {
   "cell_type": "markdown",
   "id": "8931de33",
   "metadata": {},
   "source": [
    "For all the 10 products have a high positive sentiment..It means these products have high positive reviews"
   ]
  },
  {
   "cell_type": "code",
   "execution_count": null,
   "id": "8cbd4c7c",
   "metadata": {},
   "outputs": [],
   "source": []
  }
 ],
 "metadata": {
  "kernelspec": {
   "display_name": "Python 3 (ipykernel)",
   "language": "python",
   "name": "python3"
  },
  "language_info": {
   "codemirror_mode": {
    "name": "ipython",
    "version": 3
   },
   "file_extension": ".py",
   "mimetype": "text/x-python",
   "name": "python",
   "nbconvert_exporter": "python",
   "pygments_lexer": "ipython3",
   "version": "3.9.12"
  }
 },
 "nbformat": 4,
 "nbformat_minor": 5
}
