{
 "cells": [
  {
   "cell_type": "markdown",
   "id": "9a9de80f",
   "metadata": {},
   "source": [
    "## Time Series-Sentiment forecasting"
   ]
  },
  {
   "cell_type": "markdown",
   "id": "7a8e432c",
   "metadata": {},
   "source": [
    "### Importing libraries"
   ]
  },
  {
   "cell_type": "code",
   "execution_count": 101,
   "id": "c211ded5",
   "metadata": {},
   "outputs": [],
   "source": [
    "# import libraries\n",
    "import numpy as np\n",
    "import pandas as pd\n",
    "\n",
    "#decompose\n",
    "from statsmodels.tsa.seasonal import seasonal_decompose\n",
    "\n",
    "# dickey fuller test for stationarity\n",
    "from statsmodels.tsa.stattools import acf,pacf,adfuller\n",
    "\n",
    "# ARIMA\n",
    "from statsmodels.tsa.arima.model import ARIMA\n",
    "\n",
    "# plots\n",
    "import matplotlib.pyplot as plt\n",
    "from statsmodels.graphics.tsaplots import plot_acf, plot_pacf\n",
    "\n",
    "from sklearn.metrics import mean_squared_error\n",
    "\n",
    "# Ljung-Box test for model goodness\n",
    "import statsmodels.api as sm\n",
    "# resampling\n",
    "from sklearn.utils import resample\n",
    "\n",
    "import warnings\n",
    "warnings.filterwarnings(\"ignore\")"
   ]
  },
  {
   "cell_type": "markdown",
   "id": "433d1a3d",
   "metadata": {},
   "source": [
    "## Importing dataset"
   ]
  },
  {
   "cell_type": "code",
   "execution_count": 102,
   "id": "78de5e36",
   "metadata": {},
   "outputs": [],
   "source": [
    "cd_sent = pd.read_csv(\"C:/Users/sandp/Downloads/cd_data_final.csv\")"
   ]
  },
  {
   "cell_type": "code",
   "execution_count": 103,
   "id": "f4d7180b",
   "metadata": {},
   "outputs": [
    {
     "data": {
      "text/html": [
       "<div>\n",
       "<style scoped>\n",
       "    .dataframe tbody tr th:only-of-type {\n",
       "        vertical-align: middle;\n",
       "    }\n",
       "\n",
       "    .dataframe tbody tr th {\n",
       "        vertical-align: top;\n",
       "    }\n",
       "\n",
       "    .dataframe thead th {\n",
       "        text-align: right;\n",
       "    }\n",
       "</style>\n",
       "<table border=\"1\" class=\"dataframe\">\n",
       "  <thead>\n",
       "    <tr style=\"text-align: right;\">\n",
       "      <th></th>\n",
       "      <th>reviewerID</th>\n",
       "      <th>asin</th>\n",
       "      <th>verified</th>\n",
       "      <th>review</th>\n",
       "      <th>ratings</th>\n",
       "      <th>date</th>\n",
       "      <th>summary</th>\n",
       "      <th>unixReviewTime</th>\n",
       "      <th>category</th>\n",
       "      <th>description</th>\n",
       "      <th>...</th>\n",
       "      <th>Sentiment</th>\n",
       "      <th>word_count</th>\n",
       "      <th>char_count</th>\n",
       "      <th>avg_word</th>\n",
       "      <th>polarity</th>\n",
       "      <th>label</th>\n",
       "      <th>year</th>\n",
       "      <th>rating_class_num</th>\n",
       "      <th>review_length</th>\n",
       "      <th>review_length_bin</th>\n",
       "    </tr>\n",
       "  </thead>\n",
       "  <tbody>\n",
       "    <tr>\n",
       "      <th>0</th>\n",
       "      <td>A2LBDC9ZGSCAE6</td>\n",
       "      <td>0005164885</td>\n",
       "      <td>True</td>\n",
       "      <td>christmas tso goes together like rudolph santa</td>\n",
       "      <td>5.0</td>\n",
       "      <td>2018-02-22</td>\n",
       "      <td>TSO...what more do you need to know?</td>\n",
       "      <td>1519257600</td>\n",
       "      <td>['CDs &amp; Vinyl', 'Holiday &amp; Wedding']</td>\n",
       "      <td>['This is a concept album all the way, with ta...</td>\n",
       "      <td>...</td>\n",
       "      <td>Positive</td>\n",
       "      <td>7</td>\n",
       "      <td>46</td>\n",
       "      <td>5.7</td>\n",
       "      <td>0.0</td>\n",
       "      <td>1.0</td>\n",
       "      <td>2018</td>\n",
       "      <td>1</td>\n",
       "      <td>7</td>\n",
       "      <td>(0, 100]</td>\n",
       "    </tr>\n",
       "    <tr>\n",
       "      <th>1</th>\n",
       "      <td>A2ZB6AHRM0ZLLW</td>\n",
       "      <td>0005164885</td>\n",
       "      <td>True</td>\n",
       "      <td>good</td>\n",
       "      <td>4.0</td>\n",
       "      <td>2018-02-14</td>\n",
       "      <td>Four Stars</td>\n",
       "      <td>1518566400</td>\n",
       "      <td>['CDs &amp; Vinyl', 'Holiday &amp; Wedding']</td>\n",
       "      <td>['This is a concept album all the way, with ta...</td>\n",
       "      <td>...</td>\n",
       "      <td>Positive</td>\n",
       "      <td>1</td>\n",
       "      <td>4</td>\n",
       "      <td>4.0</td>\n",
       "      <td>0.7</td>\n",
       "      <td>1.0</td>\n",
       "      <td>2018</td>\n",
       "      <td>1</td>\n",
       "      <td>1</td>\n",
       "      <td>(0, 100]</td>\n",
       "    </tr>\n",
       "  </tbody>\n",
       "</table>\n",
       "<p>2 rows × 30 columns</p>\n",
       "</div>"
      ],
      "text/plain": [
       "       reviewerID        asin  verified  \\\n",
       "0  A2LBDC9ZGSCAE6  0005164885      True   \n",
       "1  A2ZB6AHRM0ZLLW  0005164885      True   \n",
       "\n",
       "                                           review  ratings        date  \\\n",
       "0  christmas tso goes together like rudolph santa      5.0  2018-02-22   \n",
       "1                                            good      4.0  2018-02-14   \n",
       "\n",
       "                                summary  unixReviewTime  \\\n",
       "0  TSO...what more do you need to know?      1519257600   \n",
       "1                            Four Stars      1518566400   \n",
       "\n",
       "                               category  \\\n",
       "0  ['CDs & Vinyl', 'Holiday & Wedding']   \n",
       "1  ['CDs & Vinyl', 'Holiday & Wedding']   \n",
       "\n",
       "                                         description  ... Sentiment  \\\n",
       "0  ['This is a concept album all the way, with ta...  ...  Positive   \n",
       "1  ['This is a concept album all the way, with ta...  ...  Positive   \n",
       "\n",
       "  word_count  char_count avg_word polarity  label  year  rating_class_num  \\\n",
       "0          7          46      5.7      0.0    1.0  2018                 1   \n",
       "1          1           4      4.0      0.7    1.0  2018                 1   \n",
       "\n",
       "   review_length review_length_bin  \n",
       "0              7          (0, 100]  \n",
       "1              1          (0, 100]  \n",
       "\n",
       "[2 rows x 30 columns]"
      ]
     },
     "execution_count": 103,
     "metadata": {},
     "output_type": "execute_result"
    }
   ],
   "source": [
    "cd_sent.head(2)"
   ]
  },
  {
   "cell_type": "code",
   "execution_count": 104,
   "id": "4a758856",
   "metadata": {},
   "outputs": [],
   "source": [
    "#Extracting month from date\n",
    "cd_sent['date']=pd.to_datetime(cd_sent['date'])\n",
    "cd_sent['Month'] = cd_sent['date'].dt.month "
   ]
  },
  {
   "cell_type": "code",
   "execution_count": 105,
   "id": "eb5d6156",
   "metadata": {},
   "outputs": [
    {
     "data": {
      "text/plain": [
       "parentalAdvisory                                      45002\n",
       "Greatest Hits                                          3839\n",
       "Ultimate Collection                                    1194\n",
       "The Definitive Collection                              1152\n",
       "Millennium Collection - 20th Century Masters           1079\n",
       "                                                      ...  \n",
       "Avalon: A Tribute To Mississippi John Hurt                1\n",
       "Last Kiss: The Definitive Collection                      1\n",
       "Two's Company: The Duets                                  1\n",
       "Outro Lugar                                               1\n",
       "Dream City - Essential Recordings Vol 2, 1997-2006        1\n",
       "Name: title, Length: 52957, dtype: int64"
      ]
     },
     "execution_count": 105,
     "metadata": {},
     "output_type": "execute_result"
    }
   ],
   "source": [
    "cd_sent['title']=cd_sent['title'].replace(to_replace='<span id=\"parentalAdvisory\" class=\"a-size-medium a-color-secondary a-text-normal\"',value='parentalAdvisory',regex=True)\n",
    "cd_sent['title']=cd_sent['title'].replace(to_replace='<span class=\"a-size-medium a-color-secondary a-text-normal\"',value='parentalAdvisory',regex=True)\n",
    "cd_sent['title'].value_counts()"
   ]
  },
  {
   "cell_type": "code",
   "execution_count": 106,
   "id": "00fbf89d",
   "metadata": {},
   "outputs": [],
   "source": [
    "cd_sent=cd_sent[cd_sent['title']=='parentalAdvisory']"
   ]
  },
  {
   "cell_type": "code",
   "execution_count": 216,
   "id": "fad5131d",
   "metadata": {},
   "outputs": [],
   "source": [
    "#Resampling to make the sentiment class balanced\n",
    "cd_pos = cd_sent[cd_sent['Sentiment']=='Positive']\n",
    "cd_neu = cd_sent[cd_sent['Sentiment']=='Neutral']\n",
    "cd_neg = cd_sent[cd_sent['Sentiment']=='Negative']\n",
    " "
   ]
  },
  {
   "cell_type": "markdown",
   "id": "0732613f",
   "metadata": {},
   "source": [
    "##  Postive sentiment"
   ]
  },
  {
   "cell_type": "markdown",
   "id": "fadabe8f",
   "metadata": {},
   "source": [
    "### Creating sentiment count "
   ]
  },
  {
   "cell_type": "code",
   "execution_count": 108,
   "id": "79a7aa60",
   "metadata": {},
   "outputs": [
    {
     "data": {
      "text/html": [
       "<div>\n",
       "<style scoped>\n",
       "    .dataframe tbody tr th:only-of-type {\n",
       "        vertical-align: middle;\n",
       "    }\n",
       "\n",
       "    .dataframe tbody tr th {\n",
       "        vertical-align: top;\n",
       "    }\n",
       "\n",
       "    .dataframe thead th {\n",
       "        text-align: right;\n",
       "    }\n",
       "</style>\n",
       "<table border=\"1\" class=\"dataframe\">\n",
       "  <thead>\n",
       "    <tr style=\"text-align: right;\">\n",
       "      <th></th>\n",
       "      <th>asin</th>\n",
       "      <th>Month</th>\n",
       "      <th>Sentiment</th>\n",
       "      <th>sentiment_count</th>\n",
       "    </tr>\n",
       "  </thead>\n",
       "  <tbody>\n",
       "    <tr>\n",
       "      <th>0</th>\n",
       "      <td>7799627174</td>\n",
       "      <td>1</td>\n",
       "      <td>Positive</td>\n",
       "      <td>1</td>\n",
       "    </tr>\n",
       "    <tr>\n",
       "      <th>1</th>\n",
       "      <td>7799627174</td>\n",
       "      <td>2</td>\n",
       "      <td>Positive</td>\n",
       "      <td>2</td>\n",
       "    </tr>\n",
       "    <tr>\n",
       "      <th>2</th>\n",
       "      <td>7799627174</td>\n",
       "      <td>4</td>\n",
       "      <td>Positive</td>\n",
       "      <td>1</td>\n",
       "    </tr>\n",
       "    <tr>\n",
       "      <th>3</th>\n",
       "      <td>7799627174</td>\n",
       "      <td>7</td>\n",
       "      <td>Positive</td>\n",
       "      <td>1</td>\n",
       "    </tr>\n",
       "    <tr>\n",
       "      <th>4</th>\n",
       "      <td>7799627174</td>\n",
       "      <td>11</td>\n",
       "      <td>Positive</td>\n",
       "      <td>1</td>\n",
       "    </tr>\n",
       "    <tr>\n",
       "      <th>...</th>\n",
       "      <td>...</td>\n",
       "      <td>...</td>\n",
       "      <td>...</td>\n",
       "      <td>...</td>\n",
       "    </tr>\n",
       "    <tr>\n",
       "      <th>10414</th>\n",
       "      <td>B01HC8ZLSI</td>\n",
       "      <td>7</td>\n",
       "      <td>Positive</td>\n",
       "      <td>1</td>\n",
       "    </tr>\n",
       "    <tr>\n",
       "      <th>10415</th>\n",
       "      <td>B01HC8ZLSI</td>\n",
       "      <td>9</td>\n",
       "      <td>Positive</td>\n",
       "      <td>2</td>\n",
       "    </tr>\n",
       "    <tr>\n",
       "      <th>10416</th>\n",
       "      <td>B01HC8ZLSI</td>\n",
       "      <td>10</td>\n",
       "      <td>Positive</td>\n",
       "      <td>3</td>\n",
       "    </tr>\n",
       "    <tr>\n",
       "      <th>10417</th>\n",
       "      <td>B01HC8ZLSI</td>\n",
       "      <td>11</td>\n",
       "      <td>Positive</td>\n",
       "      <td>1</td>\n",
       "    </tr>\n",
       "    <tr>\n",
       "      <th>10418</th>\n",
       "      <td>B01HC8ZLSI</td>\n",
       "      <td>12</td>\n",
       "      <td>Positive</td>\n",
       "      <td>3</td>\n",
       "    </tr>\n",
       "  </tbody>\n",
       "</table>\n",
       "<p>10419 rows × 4 columns</p>\n",
       "</div>"
      ],
      "text/plain": [
       "             asin  Month Sentiment  sentiment_count\n",
       "0      7799627174      1  Positive                1\n",
       "1      7799627174      2  Positive                2\n",
       "2      7799627174      4  Positive                1\n",
       "3      7799627174      7  Positive                1\n",
       "4      7799627174     11  Positive                1\n",
       "...           ...    ...       ...              ...\n",
       "10414  B01HC8ZLSI      7  Positive                1\n",
       "10415  B01HC8ZLSI      9  Positive                2\n",
       "10416  B01HC8ZLSI     10  Positive                3\n",
       "10417  B01HC8ZLSI     11  Positive                1\n",
       "10418  B01HC8ZLSI     12  Positive                3\n",
       "\n",
       "[10419 rows x 4 columns]"
      ]
     },
     "execution_count": 108,
     "metadata": {},
     "output_type": "execute_result"
    }
   ],
   "source": [
    "cd_pos_count=cd_pos.groupby(['asin','Month','Sentiment']).size().reset_index(name='sentiment_count')\n",
    "cd_pos_count"
   ]
  },
  {
   "cell_type": "code",
   "execution_count": 109,
   "id": "ba3933da",
   "metadata": {},
   "outputs": [],
   "source": [
    "# Merging created sentiment count with original data frame\n",
    "cd_pos=pd.merge(cd_pos,cd_pos_count)"
   ]
  },
  {
   "cell_type": "markdown",
   "id": "a2a919bb",
   "metadata": {},
   "source": [
    "### Time series analysis"
   ]
  },
  {
   "cell_type": "markdown",
   "id": "75b2c76c",
   "metadata": {},
   "source": [
    "### Creating functions for time series"
   ]
  },
  {
   "cell_type": "code",
   "execution_count": 110,
   "id": "0b65ba0a",
   "metadata": {},
   "outputs": [],
   "source": [
    "# stationarity check\n",
    "def checkStationarity(data):\n",
    "    pvalue = adfuller(data)[1]\n",
    "    print('pvalue:',pvalue)\n",
    "\n",
    "    if pvalue < 0.05:\n",
    "        msg = \"Data is Stationary. Proceed to model building\"\n",
    "    else:\n",
    "        msg = \" Data is not Stationary. Make the data stationary before model building\"\n",
    "\n",
    "    return msg\n",
    "\n",
    "# Decomposition\n",
    "def tsa_comp(df):\n",
    "    decomp = seasonal_decompose(df, period=12, model='additive')\n",
    "    d_trend = decomp.trend\n",
    "    d_seasonal = decomp.seasonal\n",
    "    d_resid = decomp.resid\n",
    "    \n",
    "    fig, (ax1,ax2,ax3,ax4) = plt.subplots(4,1,figsize=(15,8), facecolor='linen')\n",
    "    plt.suptitle('TIME SERIES COMPONENT ANALYSIS', fontweight='bold', size=20)\n",
    "    ax1.plot(df, label='Actual Sales')\n",
    "    ax2.plot(d_trend, label='Trend', c='green')\n",
    "    ax3.plot(d_seasonal, label='Seasonal', c='orange')\n",
    "    ax4.plot(d_resid, label='Irregularity', c='pink')\n",
    "    fig.legend();\n",
    "    \n",
    " # acf and pacf plots\n",
    "def p_and_q(data):\n",
    "    fig,ax=plt.subplots(1,2,figsize=(15,5))\n",
    "    plot_acf(data,lags=20,ax=ax[0])\n",
    "    plot_pacf(data,lags=20,ax=ax[1]);"
   ]
  },
  {
   "cell_type": "markdown",
   "id": "3c2e574a",
   "metadata": {},
   "source": [
    "### Data preparation"
   ]
  },
  {
   "cell_type": "code",
   "execution_count": 111,
   "id": "88e60577",
   "metadata": {},
   "outputs": [
    {
     "data": {
      "text/html": [
       "<div>\n",
       "<style scoped>\n",
       "    .dataframe tbody tr th:only-of-type {\n",
       "        vertical-align: middle;\n",
       "    }\n",
       "\n",
       "    .dataframe tbody tr th {\n",
       "        vertical-align: top;\n",
       "    }\n",
       "\n",
       "    .dataframe thead th {\n",
       "        text-align: right;\n",
       "    }\n",
       "</style>\n",
       "<table border=\"1\" class=\"dataframe\">\n",
       "  <thead>\n",
       "    <tr style=\"text-align: right;\">\n",
       "      <th></th>\n",
       "      <th>sentiment_count</th>\n",
       "    </tr>\n",
       "    <tr>\n",
       "      <th>date</th>\n",
       "      <th></th>\n",
       "    </tr>\n",
       "  </thead>\n",
       "  <tbody>\n",
       "    <tr>\n",
       "      <th>1998-02-18</th>\n",
       "      <td>24</td>\n",
       "    </tr>\n",
       "    <tr>\n",
       "      <th>1998-02-19</th>\n",
       "      <td>16</td>\n",
       "    </tr>\n",
       "    <tr>\n",
       "      <th>1998-03-17</th>\n",
       "      <td>8</td>\n",
       "    </tr>\n",
       "    <tr>\n",
       "      <th>1998-03-26</th>\n",
       "      <td>4</td>\n",
       "    </tr>\n",
       "    <tr>\n",
       "      <th>1998-03-27</th>\n",
       "      <td>6</td>\n",
       "    </tr>\n",
       "    <tr>\n",
       "      <th>...</th>\n",
       "      <td>...</td>\n",
       "    </tr>\n",
       "    <tr>\n",
       "      <th>2018-05-12</th>\n",
       "      <td>3</td>\n",
       "    </tr>\n",
       "    <tr>\n",
       "      <th>2018-05-13</th>\n",
       "      <td>2</td>\n",
       "    </tr>\n",
       "    <tr>\n",
       "      <th>2018-05-13</th>\n",
       "      <td>2</td>\n",
       "    </tr>\n",
       "    <tr>\n",
       "      <th>2018-05-25</th>\n",
       "      <td>9</td>\n",
       "    </tr>\n",
       "    <tr>\n",
       "      <th>2018-07-21</th>\n",
       "      <td>9</td>\n",
       "    </tr>\n",
       "  </tbody>\n",
       "</table>\n",
       "<p>34431 rows × 1 columns</p>\n",
       "</div>"
      ],
      "text/plain": [
       "            sentiment_count\n",
       "date                       \n",
       "1998-02-18               24\n",
       "1998-02-19               16\n",
       "1998-03-17                8\n",
       "1998-03-26                4\n",
       "1998-03-27                6\n",
       "...                     ...\n",
       "2018-05-12                3\n",
       "2018-05-13                2\n",
       "2018-05-13                2\n",
       "2018-05-25                9\n",
       "2018-07-21                9\n",
       "\n",
       "[34431 rows x 1 columns]"
      ]
     },
     "execution_count": 111,
     "metadata": {},
     "output_type": "execute_result"
    }
   ],
   "source": [
    "cd_pos=cd_pos[['date','sentiment_count']]\n",
    "cd_pos=cd_pos.set_index('date')\n",
    "cd_pos=cd_pos.sort_values(by=['date'])\n",
    "cd_pos"
   ]
  },
  {
   "cell_type": "markdown",
   "id": "f37ca192",
   "metadata": {},
   "source": [
    "### Resampling month wise"
   ]
  },
  {
   "cell_type": "code",
   "execution_count": 112,
   "id": "41978e6d",
   "metadata": {},
   "outputs": [
    {
     "data": {
      "text/html": [
       "<div>\n",
       "<style scoped>\n",
       "    .dataframe tbody tr th:only-of-type {\n",
       "        vertical-align: middle;\n",
       "    }\n",
       "\n",
       "    .dataframe tbody tr th {\n",
       "        vertical-align: top;\n",
       "    }\n",
       "\n",
       "    .dataframe thead th {\n",
       "        text-align: right;\n",
       "    }\n",
       "</style>\n",
       "<table border=\"1\" class=\"dataframe\">\n",
       "  <thead>\n",
       "    <tr style=\"text-align: right;\">\n",
       "      <th></th>\n",
       "      <th>sentiment_count</th>\n",
       "    </tr>\n",
       "    <tr>\n",
       "      <th>date</th>\n",
       "      <th></th>\n",
       "    </tr>\n",
       "  </thead>\n",
       "  <tbody>\n",
       "    <tr>\n",
       "      <th>1998-02-28</th>\n",
       "      <td>20.000000</td>\n",
       "    </tr>\n",
       "    <tr>\n",
       "      <th>1998-03-31</th>\n",
       "      <td>6.000000</td>\n",
       "    </tr>\n",
       "    <tr>\n",
       "      <th>1998-04-30</th>\n",
       "      <td>12.333333</td>\n",
       "    </tr>\n",
       "    <tr>\n",
       "      <th>1998-05-31</th>\n",
       "      <td>3.000000</td>\n",
       "    </tr>\n",
       "    <tr>\n",
       "      <th>1998-06-30</th>\n",
       "      <td>9.333333</td>\n",
       "    </tr>\n",
       "  </tbody>\n",
       "</table>\n",
       "</div>"
      ],
      "text/plain": [
       "            sentiment_count\n",
       "date                       \n",
       "1998-02-28        20.000000\n",
       "1998-03-31         6.000000\n",
       "1998-04-30        12.333333\n",
       "1998-05-31         3.000000\n",
       "1998-06-30         9.333333"
      ]
     },
     "execution_count": 112,
     "metadata": {},
     "output_type": "execute_result"
    }
   ],
   "source": [
    "cd_pos=cd_pos.resample('M').mean()\n",
    "cd_pos.head()"
   ]
  },
  {
   "cell_type": "code",
   "execution_count": 113,
   "id": "a3953924",
   "metadata": {},
   "outputs": [
    {
     "data": {
      "text/html": [
       "<div>\n",
       "<style scoped>\n",
       "    .dataframe tbody tr th:only-of-type {\n",
       "        vertical-align: middle;\n",
       "    }\n",
       "\n",
       "    .dataframe tbody tr th {\n",
       "        vertical-align: top;\n",
       "    }\n",
       "\n",
       "    .dataframe thead th {\n",
       "        text-align: right;\n",
       "    }\n",
       "</style>\n",
       "<table border=\"1\" class=\"dataframe\">\n",
       "  <thead>\n",
       "    <tr style=\"text-align: right;\">\n",
       "      <th></th>\n",
       "      <th>sentiment_count</th>\n",
       "    </tr>\n",
       "    <tr>\n",
       "      <th>date</th>\n",
       "      <th></th>\n",
       "    </tr>\n",
       "  </thead>\n",
       "  <tbody>\n",
       "    <tr>\n",
       "      <th>2018-03-31</th>\n",
       "      <td>12.957447</td>\n",
       "    </tr>\n",
       "    <tr>\n",
       "      <th>2018-04-30</th>\n",
       "      <td>9.954545</td>\n",
       "    </tr>\n",
       "    <tr>\n",
       "      <th>2018-05-31</th>\n",
       "      <td>6.000000</td>\n",
       "    </tr>\n",
       "    <tr>\n",
       "      <th>2018-06-30</th>\n",
       "      <td>NaN</td>\n",
       "    </tr>\n",
       "    <tr>\n",
       "      <th>2018-07-31</th>\n",
       "      <td>9.000000</td>\n",
       "    </tr>\n",
       "  </tbody>\n",
       "</table>\n",
       "</div>"
      ],
      "text/plain": [
       "            sentiment_count\n",
       "date                       \n",
       "2018-03-31        12.957447\n",
       "2018-04-30         9.954545\n",
       "2018-05-31         6.000000\n",
       "2018-06-30              NaN\n",
       "2018-07-31         9.000000"
      ]
     },
     "execution_count": 113,
     "metadata": {},
     "output_type": "execute_result"
    }
   ],
   "source": [
    "cd_pos.tail()"
   ]
  },
  {
   "cell_type": "code",
   "execution_count": 114,
   "id": "97d8e692",
   "metadata": {},
   "outputs": [
    {
     "data": {
      "text/plain": [
       "sentiment_count    1\n",
       "dtype: int64"
      ]
     },
     "execution_count": 114,
     "metadata": {},
     "output_type": "execute_result"
    }
   ],
   "source": [
    "cd_pos.isnull().sum()"
   ]
  },
  {
   "cell_type": "code",
   "execution_count": 115,
   "id": "eda0c099",
   "metadata": {},
   "outputs": [],
   "source": [
    "cd_pos.dropna(inplace=True)"
   ]
  },
  {
   "cell_type": "markdown",
   "id": "58030531",
   "metadata": {},
   "source": [
    "### Decomposition"
   ]
  },
  {
   "cell_type": "code",
   "execution_count": 116,
   "id": "c3de3679",
   "metadata": {},
   "outputs": [
    {
     "data": {
      "image/png": "[encoded data removed]",
      "text/plain": [
       "<Figure size 1080x576 with 4 Axes>"
      ]
     },
     "metadata": {},
     "output_type": "display_data"
    }
   ],
   "source": [
    "tsa_comp(cd_pos)"
   ]
  },
  {
   "cell_type": "markdown",
   "id": "1acb31fe",
   "metadata": {},
   "source": [
    "### Checking stationarity"
   ]
  },
  {
   "cell_type": "code",
   "execution_count": 117,
   "id": "4bb3c0db",
   "metadata": {},
   "outputs": [
    {
     "name": "stdout",
     "output_type": "stream",
     "text": [
      "pvalue: 0.11551329279986888\n"
     ]
    },
    {
     "data": {
      "text/plain": [
       "' Data is not Stationary. Make the data stationary before model building'"
      ]
     },
     "execution_count": 117,
     "metadata": {},
     "output_type": "execute_result"
    }
   ],
   "source": [
    "checkStationarity(cd_pos)"
   ]
  },
  {
   "cell_type": "code",
   "execution_count": 118,
   "id": "101ca47c",
   "metadata": {},
   "outputs": [
    {
     "name": "stdout",
     "output_type": "stream",
     "text": [
      "            sentiment_count\n",
      "date                       \n",
      "1998-02-28              NaN\n",
      "1998-03-31       -14.000000\n",
      "1998-04-30         6.333333\n",
      "1998-05-31        -9.333333\n",
      "1998-06-30         6.333333\n",
      "...                     ...\n",
      "2018-02-28        -4.698505\n",
      "2018-03-31         4.493161\n",
      "2018-04-30        -3.002901\n",
      "2018-05-31        -3.954545\n",
      "2018-07-31         3.000000\n",
      "\n",
      "[245 rows x 1 columns]\n"
     ]
    }
   ],
   "source": [
    "diff_cd_pos = cd_pos-cd_pos.shift(1)\n",
    "print(diff_cd_pos)"
   ]
  },
  {
   "cell_type": "code",
   "execution_count": 119,
   "id": "7eafd6cc",
   "metadata": {},
   "outputs": [],
   "source": [
    "diff_cd_pos.dropna(inplace=True)"
   ]
  },
  {
   "cell_type": "code",
   "execution_count": 120,
   "id": "3e0e4387",
   "metadata": {},
   "outputs": [
    {
     "name": "stdout",
     "output_type": "stream",
     "text": [
      "pvalue: 2.486218987051444e-15\n"
     ]
    },
    {
     "data": {
      "text/plain": [
       "'Data is Stationary. Proceed to model building'"
      ]
     },
     "execution_count": 120,
     "metadata": {},
     "output_type": "execute_result"
    }
   ],
   "source": [
    "checkStationarity(diff_cd_pos)"
   ]
  },
  {
   "cell_type": "markdown",
   "id": "181d3340",
   "metadata": {},
   "source": [
    "### Splitting the data"
   ]
  },
  {
   "cell_type": "code",
   "execution_count": 121,
   "id": "f6e78886",
   "metadata": {},
   "outputs": [
    {
     "name": "stdout",
     "output_type": "stream",
     "text": [
      "Total=245, Train=171, Test=74\n"
     ]
    }
   ],
   "source": [
    "ratio = 0.7\n",
    "rows = int(ratio * len(cd_pos))\n",
    "train1 =cd_pos[:rows]\n",
    "test1 = cd_pos[rows:]\n",
    "\n",
    "print(\"Total={}, Train={}, Test={}\".format(len(cd_pos), len(train1), len(test1)))"
   ]
  },
  {
   "cell_type": "markdown",
   "id": "0928e4bd",
   "metadata": {},
   "source": [
    "### PACF and ACF plots"
   ]
  },
  {
   "cell_type": "code",
   "execution_count": 126,
   "id": "d1a48664",
   "metadata": {},
   "outputs": [
    {
     "data": {
      "image/png": "[encoded data removed]",
      "text/plain": [
       "<Figure size 1080x360 with 2 Axes>"
      ]
     },
     "metadata": {
      "needs_background": "light"
     },
     "output_type": "display_data"
    }
   ],
   "source": [
    "p_and_q(diff_cd_pos)"
   ]
  },
  {
   "cell_type": "markdown",
   "id": "e96b9877",
   "metadata": {},
   "source": [
    "### creating models for different values of p and q"
   ]
  },
  {
   "cell_type": "code",
   "execution_count": 155,
   "id": "8456183f",
   "metadata": {},
   "outputs": [
    {
     "name": "stdout",
     "output_type": "stream",
     "text": [
      "Model 1 Not a good model\n",
      "Model 2 Good model\n",
      "Model 3 Good model\n",
      "Model 4 Good model\n",
      "Model 5 Good model\n",
      "Model 6 Good model\n",
      "Model 7 Good model\n",
      "Model 8 Good model\n",
      "Model 9 Good model\n",
      "Model 10 Good model\n",
      "Model 11 Good model\n",
      "Model 12 Good model\n",
      "Model 13 Good model\n",
      "Model 14 Good model\n",
      "Model 15 Good model\n",
      "Model 16 Good model\n",
      "Model 17 Good model\n",
      "Model 18 Good model\n",
      "Model 19 Good model\n",
      "Model 20 Good model\n",
      "Model 21 Good model\n",
      "Model 22 Good model\n",
      "Model 23 Good model\n",
      "Model 24 Good model\n"
     ]
    }
   ],
   "source": [
    "d=0;\n",
    "lis=[]\n",
    "for p in range(6):\n",
    "    for q in range(4):\n",
    "        lis.append((p,d,q))\n",
    "\n",
    "# building model\n",
    "model=[]\n",
    "for i in lis:\n",
    "    m =ARIMA(train1, order=i).fit() \n",
    "    model.append(m)\n",
    "\n",
    "# checking model is good or not\n",
    "model_st=[]\n",
    "c=1\n",
    "for i in model:\n",
    "    pvalue = sm.stats.acorr_ljungbox(i.resid, lags=[1], return_df=True)['lb_pvalue'].values\n",
    "    if pvalue < 0.05:\n",
    "        print(f'Model {c} Not a good model')\n",
    "    else:\n",
    "        print(f'Model {c} Good model')\n",
    "    c+=1"
   ]
  },
  {
   "cell_type": "code",
   "execution_count": 156,
   "id": "acf390b5",
   "metadata": {},
   "outputs": [
    {
     "data": {
      "text/html": [
       "<div>\n",
       "<style scoped>\n",
       "    .dataframe tbody tr th:only-of-type {\n",
       "        vertical-align: middle;\n",
       "    }\n",
       "\n",
       "    .dataframe tbody tr th {\n",
       "        vertical-align: top;\n",
       "    }\n",
       "\n",
       "    .dataframe thead th {\n",
       "        text-align: right;\n",
       "    }\n",
       "</style>\n",
       "<table border=\"1\" class=\"dataframe\">\n",
       "  <thead>\n",
       "    <tr style=\"text-align: right;\">\n",
       "      <th></th>\n",
       "      <th>Model No.</th>\n",
       "      <th>(p, d, q)</th>\n",
       "      <th>AIC</th>\n",
       "      <th>BIC</th>\n",
       "      <th>MSE</th>\n",
       "      <th>RMSE</th>\n",
       "    </tr>\n",
       "  </thead>\n",
       "  <tbody>\n",
       "    <tr>\n",
       "      <th>0</th>\n",
       "      <td>Model 0</td>\n",
       "      <td>(0, 0, 0)</td>\n",
       "      <td>897.830290</td>\n",
       "      <td>904.113617</td>\n",
       "      <td>9.728098</td>\n",
       "      <td>3.118990</td>\n",
       "    </tr>\n",
       "    <tr>\n",
       "      <th>1</th>\n",
       "      <td>Model 1</td>\n",
       "      <td>(0, 0, 1)</td>\n",
       "      <td>888.286854</td>\n",
       "      <td>897.711844</td>\n",
       "      <td>9.726619</td>\n",
       "      <td>3.118753</td>\n",
       "    </tr>\n",
       "    <tr>\n",
       "      <th>2</th>\n",
       "      <td>Model 2</td>\n",
       "      <td>(0, 0, 2)</td>\n",
       "      <td>883.757845</td>\n",
       "      <td>896.324499</td>\n",
       "      <td>9.732645</td>\n",
       "      <td>3.119719</td>\n",
       "    </tr>\n",
       "    <tr>\n",
       "      <th>3</th>\n",
       "      <td>Model 3</td>\n",
       "      <td>(0, 0, 3)</td>\n",
       "      <td>885.757745</td>\n",
       "      <td>901.466062</td>\n",
       "      <td>9.732827</td>\n",
       "      <td>3.119748</td>\n",
       "    </tr>\n",
       "    <tr>\n",
       "      <th>4</th>\n",
       "      <td>Model 4</td>\n",
       "      <td>(1, 0, 0)</td>\n",
       "      <td>884.555837</td>\n",
       "      <td>893.980827</td>\n",
       "      <td>9.712246</td>\n",
       "      <td>3.116448</td>\n",
       "    </tr>\n",
       "    <tr>\n",
       "      <th>5</th>\n",
       "      <td>Model 5</td>\n",
       "      <td>(1, 0, 1)</td>\n",
       "      <td>882.259342</td>\n",
       "      <td>894.825997</td>\n",
       "      <td>9.768177</td>\n",
       "      <td>3.125408</td>\n",
       "    </tr>\n",
       "    <tr>\n",
       "      <th>6</th>\n",
       "      <td>Model 6</td>\n",
       "      <td>(1, 0, 2)</td>\n",
       "      <td>885.757752</td>\n",
       "      <td>901.466070</td>\n",
       "      <td>9.732803</td>\n",
       "      <td>3.119744</td>\n",
       "    </tr>\n",
       "    <tr>\n",
       "      <th>7</th>\n",
       "      <td>Model 7</td>\n",
       "      <td>(1, 0, 3)</td>\n",
       "      <td>883.201737</td>\n",
       "      <td>902.051718</td>\n",
       "      <td>9.788922</td>\n",
       "      <td>3.128725</td>\n",
       "    </tr>\n",
       "    <tr>\n",
       "      <th>8</th>\n",
       "      <td>Model 8</td>\n",
       "      <td>(2, 0, 0)</td>\n",
       "      <td>884.370396</td>\n",
       "      <td>896.937051</td>\n",
       "      <td>9.684480</td>\n",
       "      <td>3.111990</td>\n",
       "    </tr>\n",
       "    <tr>\n",
       "      <th>9</th>\n",
       "      <td>Model 9</td>\n",
       "      <td>(2, 0, 1)</td>\n",
       "      <td>885.396298</td>\n",
       "      <td>901.104616</td>\n",
       "      <td>9.694635</td>\n",
       "      <td>3.113621</td>\n",
       "    </tr>\n",
       "    <tr>\n",
       "      <th>10</th>\n",
       "      <td>Model 10</td>\n",
       "      <td>(2, 0, 2)</td>\n",
       "      <td>887.670064</td>\n",
       "      <td>906.520045</td>\n",
       "      <td>9.768105</td>\n",
       "      <td>3.125397</td>\n",
       "    </tr>\n",
       "    <tr>\n",
       "      <th>11</th>\n",
       "      <td>Model 11</td>\n",
       "      <td>(2, 0, 3)</td>\n",
       "      <td>883.913246</td>\n",
       "      <td>905.904890</td>\n",
       "      <td>9.795912</td>\n",
       "      <td>3.129842</td>\n",
       "    </tr>\n",
       "    <tr>\n",
       "      <th>12</th>\n",
       "      <td>Model 12</td>\n",
       "      <td>(3, 0, 0)</td>\n",
       "      <td>886.133984</td>\n",
       "      <td>901.842302</td>\n",
       "      <td>9.699416</td>\n",
       "      <td>3.114389</td>\n",
       "    </tr>\n",
       "    <tr>\n",
       "      <th>13</th>\n",
       "      <td>Model 13</td>\n",
       "      <td>(3, 0, 1)</td>\n",
       "      <td>884.264170</td>\n",
       "      <td>903.114151</td>\n",
       "      <td>9.752525</td>\n",
       "      <td>3.122903</td>\n",
       "    </tr>\n",
       "    <tr>\n",
       "      <th>14</th>\n",
       "      <td>Model 14</td>\n",
       "      <td>(3, 0, 2)</td>\n",
       "      <td>883.700026</td>\n",
       "      <td>905.691671</td>\n",
       "      <td>9.695409</td>\n",
       "      <td>3.113745</td>\n",
       "    </tr>\n",
       "    <tr>\n",
       "      <th>15</th>\n",
       "      <td>Model 15</td>\n",
       "      <td>(3, 0, 3)</td>\n",
       "      <td>875.607313</td>\n",
       "      <td>900.740622</td>\n",
       "      <td>9.710349</td>\n",
       "      <td>3.116143</td>\n",
       "    </tr>\n",
       "    <tr>\n",
       "      <th>16</th>\n",
       "      <td>Model 16</td>\n",
       "      <td>(4, 0, 0)</td>\n",
       "      <td>885.843482</td>\n",
       "      <td>904.693463</td>\n",
       "      <td>9.703817</td>\n",
       "      <td>3.115095</td>\n",
       "    </tr>\n",
       "    <tr>\n",
       "      <th>17</th>\n",
       "      <td>Model 17</td>\n",
       "      <td>(4, 0, 1)</td>\n",
       "      <td>881.097086</td>\n",
       "      <td>903.088731</td>\n",
       "      <td>9.839914</td>\n",
       "      <td>3.136864</td>\n",
       "    </tr>\n",
       "    <tr>\n",
       "      <th>18</th>\n",
       "      <td>Model 18</td>\n",
       "      <td>(4, 0, 2)</td>\n",
       "      <td>881.275639</td>\n",
       "      <td>906.408948</td>\n",
       "      <td>9.765879</td>\n",
       "      <td>3.125041</td>\n",
       "    </tr>\n",
       "    <tr>\n",
       "      <th>19</th>\n",
       "      <td>Model 19</td>\n",
       "      <td>(4, 0, 3)</td>\n",
       "      <td>877.356634</td>\n",
       "      <td>905.631606</td>\n",
       "      <td>9.938278</td>\n",
       "      <td>3.152504</td>\n",
       "    </tr>\n",
       "    <tr>\n",
       "      <th>20</th>\n",
       "      <td>Model 20</td>\n",
       "      <td>(5, 0, 0)</td>\n",
       "      <td>882.472258</td>\n",
       "      <td>904.463903</td>\n",
       "      <td>9.824293</td>\n",
       "      <td>3.134373</td>\n",
       "    </tr>\n",
       "    <tr>\n",
       "      <th>21</th>\n",
       "      <td>Model 21</td>\n",
       "      <td>(5, 0, 1)</td>\n",
       "      <td>881.294513</td>\n",
       "      <td>906.427822</td>\n",
       "      <td>9.826633</td>\n",
       "      <td>3.134746</td>\n",
       "    </tr>\n",
       "    <tr>\n",
       "      <th>22</th>\n",
       "      <td>Model 22</td>\n",
       "      <td>(5, 0, 2)</td>\n",
       "      <td>877.713526</td>\n",
       "      <td>905.988498</td>\n",
       "      <td>10.497925</td>\n",
       "      <td>3.240050</td>\n",
       "    </tr>\n",
       "    <tr>\n",
       "      <th>23</th>\n",
       "      <td>Model 23</td>\n",
       "      <td>(5, 0, 3)</td>\n",
       "      <td>878.463467</td>\n",
       "      <td>909.880103</td>\n",
       "      <td>10.018666</td>\n",
       "      <td>3.165228</td>\n",
       "    </tr>\n",
       "  </tbody>\n",
       "</table>\n",
       "</div>"
      ],
      "text/plain": [
       "   Model No.  (p, d, q)         AIC         BIC        MSE      RMSE\n",
       "0    Model 0  (0, 0, 0)  897.830290  904.113617   9.728098  3.118990\n",
       "1    Model 1  (0, 0, 1)  888.286854  897.711844   9.726619  3.118753\n",
       "2    Model 2  (0, 0, 2)  883.757845  896.324499   9.732645  3.119719\n",
       "3    Model 3  (0, 0, 3)  885.757745  901.466062   9.732827  3.119748\n",
       "4    Model 4  (1, 0, 0)  884.555837  893.980827   9.712246  3.116448\n",
       "5    Model 5  (1, 0, 1)  882.259342  894.825997   9.768177  3.125408\n",
       "6    Model 6  (1, 0, 2)  885.757752  901.466070   9.732803  3.119744\n",
       "7    Model 7  (1, 0, 3)  883.201737  902.051718   9.788922  3.128725\n",
       "8    Model 8  (2, 0, 0)  884.370396  896.937051   9.684480  3.111990\n",
       "9    Model 9  (2, 0, 1)  885.396298  901.104616   9.694635  3.113621\n",
       "10  Model 10  (2, 0, 2)  887.670064  906.520045   9.768105  3.125397\n",
       "11  Model 11  (2, 0, 3)  883.913246  905.904890   9.795912  3.129842\n",
       "12  Model 12  (3, 0, 0)  886.133984  901.842302   9.699416  3.114389\n",
       "13  Model 13  (3, 0, 1)  884.264170  903.114151   9.752525  3.122903\n",
       "14  Model 14  (3, 0, 2)  883.700026  905.691671   9.695409  3.113745\n",
       "15  Model 15  (3, 0, 3)  875.607313  900.740622   9.710349  3.116143\n",
       "16  Model 16  (4, 0, 0)  885.843482  904.693463   9.703817  3.115095\n",
       "17  Model 17  (4, 0, 1)  881.097086  903.088731   9.839914  3.136864\n",
       "18  Model 18  (4, 0, 2)  881.275639  906.408948   9.765879  3.125041\n",
       "19  Model 19  (4, 0, 3)  877.356634  905.631606   9.938278  3.152504\n",
       "20  Model 20  (5, 0, 0)  882.472258  904.463903   9.824293  3.134373\n",
       "21  Model 21  (5, 0, 1)  881.294513  906.427822   9.826633  3.134746\n",
       "22  Model 22  (5, 0, 2)  877.713526  905.988498  10.497925  3.240050\n",
       "23  Model 23  (5, 0, 3)  878.463467  909.880103  10.018666  3.165228"
      ]
     },
     "execution_count": 156,
     "metadata": {},
     "output_type": "execute_result"
    }
   ],
   "source": [
    "aic=[]\n",
    "bic=[]\n",
    "for i in model[0:]:\n",
    "    aic.append(i.aic)\n",
    "    bic.append(i.bic)\n",
    "\n",
    "# predicting values\n",
    "forecast=[]\n",
    "for i in model[0:]:\n",
    "    fcast = i.predict(start=len(train1), end=len(train1)+len(test1)-1)\n",
    "    forecast.append(fcast)\n",
    "\n",
    "# calculating MSE and RMSE score\n",
    "MSE = []\n",
    "RMSE = []\n",
    "for i in forecast:\n",
    "    mse = mean_squared_error(test1, i)\n",
    "    rmse = np.sqrt(mse)\n",
    "    MSE.append(mse)\n",
    "    RMSE.append(rmse)\n",
    "\n",
    "# printing model numbers\n",
    "model_no=[]\n",
    "for i in range(0,len(model)):\n",
    "    model_no.append('Model '+str(i))\n",
    "    \n",
    "# dataframe of all results\n",
    "df_results = pd.DataFrame({'Model No.': model_no, '(p, d, q)':lis[0:], 'AIC': aic, 'BIC': bic, 'MSE': MSE, 'RMSE': RMSE})\n",
    "df_results"
   ]
  },
  {
   "cell_type": "code",
   "execution_count": 157,
   "id": "93805dfe",
   "metadata": {},
   "outputs": [
    {
     "name": "stdout",
     "output_type": "stream",
     "text": [
      "Taking model with lowest RMSE score:\n"
     ]
    },
    {
     "data": {
      "text/html": [
       "<div>\n",
       "<style scoped>\n",
       "    .dataframe tbody tr th:only-of-type {\n",
       "        vertical-align: middle;\n",
       "    }\n",
       "\n",
       "    .dataframe tbody tr th {\n",
       "        vertical-align: top;\n",
       "    }\n",
       "\n",
       "    .dataframe thead th {\n",
       "        text-align: right;\n",
       "    }\n",
       "</style>\n",
       "<table border=\"1\" class=\"dataframe\">\n",
       "  <thead>\n",
       "    <tr style=\"text-align: right;\">\n",
       "      <th></th>\n",
       "      <th>Model No.</th>\n",
       "      <th>(p, d, q)</th>\n",
       "      <th>AIC</th>\n",
       "      <th>BIC</th>\n",
       "      <th>MSE</th>\n",
       "      <th>RMSE</th>\n",
       "    </tr>\n",
       "  </thead>\n",
       "  <tbody>\n",
       "    <tr>\n",
       "      <th>8</th>\n",
       "      <td>Model 8</td>\n",
       "      <td>(2, 0, 0)</td>\n",
       "      <td>884.370396</td>\n",
       "      <td>896.937051</td>\n",
       "      <td>9.68448</td>\n",
       "      <td>3.11199</td>\n",
       "    </tr>\n",
       "  </tbody>\n",
       "</table>\n",
       "</div>"
      ],
      "text/plain": [
       "  Model No.  (p, d, q)         AIC         BIC      MSE     RMSE\n",
       "8   Model 8  (2, 0, 0)  884.370396  896.937051  9.68448  3.11199"
      ]
     },
     "execution_count": 157,
     "metadata": {},
     "output_type": "execute_result"
    }
   ],
   "source": [
    "print('Taking model with lowest RMSE score:')\n",
    "df_results[df_results.RMSE==df_results.RMSE.min()]\n"
   ]
  },
  {
   "cell_type": "code",
   "execution_count": 158,
   "id": "c4f669e3",
   "metadata": {},
   "outputs": [
    {
     "name": "stdout",
     "output_type": "stream",
     "text": [
      "Taking model with lowest BIC score:\n"
     ]
    },
    {
     "data": {
      "text/html": [
       "<div>\n",
       "<style scoped>\n",
       "    .dataframe tbody tr th:only-of-type {\n",
       "        vertical-align: middle;\n",
       "    }\n",
       "\n",
       "    .dataframe tbody tr th {\n",
       "        vertical-align: top;\n",
       "    }\n",
       "\n",
       "    .dataframe thead th {\n",
       "        text-align: right;\n",
       "    }\n",
       "</style>\n",
       "<table border=\"1\" class=\"dataframe\">\n",
       "  <thead>\n",
       "    <tr style=\"text-align: right;\">\n",
       "      <th></th>\n",
       "      <th>Model No.</th>\n",
       "      <th>(p, d, q)</th>\n",
       "      <th>AIC</th>\n",
       "      <th>BIC</th>\n",
       "      <th>MSE</th>\n",
       "      <th>RMSE</th>\n",
       "    </tr>\n",
       "  </thead>\n",
       "  <tbody>\n",
       "    <tr>\n",
       "      <th>4</th>\n",
       "      <td>Model 4</td>\n",
       "      <td>(1, 0, 0)</td>\n",
       "      <td>884.555837</td>\n",
       "      <td>893.980827</td>\n",
       "      <td>9.712246</td>\n",
       "      <td>3.116448</td>\n",
       "    </tr>\n",
       "  </tbody>\n",
       "</table>\n",
       "</div>"
      ],
      "text/plain": [
       "  Model No.  (p, d, q)         AIC         BIC       MSE      RMSE\n",
       "4   Model 4  (1, 0, 0)  884.555837  893.980827  9.712246  3.116448"
      ]
     },
     "execution_count": 158,
     "metadata": {},
     "output_type": "execute_result"
    }
   ],
   "source": [
    "print('Taking model with lowest BIC score:')\n",
    "\n",
    "df_results[df_results.BIC==df_results.BIC.min()]"
   ]
  },
  {
   "cell_type": "code",
   "execution_count": 159,
   "id": "1eaf915f",
   "metadata": {},
   "outputs": [
    {
     "name": "stdout",
     "output_type": "stream",
     "text": [
      "Taking model with lowest AIC score:\n"
     ]
    },
    {
     "data": {
      "text/html": [
       "<div>\n",
       "<style scoped>\n",
       "    .dataframe tbody tr th:only-of-type {\n",
       "        vertical-align: middle;\n",
       "    }\n",
       "\n",
       "    .dataframe tbody tr th {\n",
       "        vertical-align: top;\n",
       "    }\n",
       "\n",
       "    .dataframe thead th {\n",
       "        text-align: right;\n",
       "    }\n",
       "</style>\n",
       "<table border=\"1\" class=\"dataframe\">\n",
       "  <thead>\n",
       "    <tr style=\"text-align: right;\">\n",
       "      <th></th>\n",
       "      <th>Model No.</th>\n",
       "      <th>(p, d, q)</th>\n",
       "      <th>AIC</th>\n",
       "      <th>BIC</th>\n",
       "      <th>MSE</th>\n",
       "      <th>RMSE</th>\n",
       "    </tr>\n",
       "  </thead>\n",
       "  <tbody>\n",
       "    <tr>\n",
       "      <th>15</th>\n",
       "      <td>Model 15</td>\n",
       "      <td>(3, 0, 3)</td>\n",
       "      <td>875.607313</td>\n",
       "      <td>900.740622</td>\n",
       "      <td>9.710349</td>\n",
       "      <td>3.116143</td>\n",
       "    </tr>\n",
       "  </tbody>\n",
       "</table>\n",
       "</div>"
      ],
      "text/plain": [
       "   Model No.  (p, d, q)         AIC         BIC       MSE      RMSE\n",
       "15  Model 15  (3, 0, 3)  875.607313  900.740622  9.710349  3.116143"
      ]
     },
     "execution_count": 159,
     "metadata": {},
     "output_type": "execute_result"
    }
   ],
   "source": [
    "print('Taking model with lowest AIC score:')\n",
    "df_results[df_results.AIC==df_results.AIC.min()]"
   ]
  },
  {
   "cell_type": "markdown",
   "id": "b0f94ffe",
   "metadata": {},
   "source": [
    "### Modelling"
   ]
  },
  {
   "cell_type": "code",
   "execution_count": 160,
   "id": "aa96fb9f",
   "metadata": {},
   "outputs": [
    {
     "data": {
      "text/html": [
       "<table class=\"simpletable\">\n",
       "<caption>SARIMAX Results</caption>\n",
       "<tr>\n",
       "  <th>Dep. Variable:</th>            <td>sentiment_count</td>         <th>  No. Observations:  </th>    <td>245</td>  \n",
       "</tr>\n",
       "<tr>\n",
       "  <th>Model:</th>           <td>SARIMAX(3, 0, 3)x(1, 0, [1], 12)</td> <th>  Log Likelihood     </th> <td>-611.629</td>\n",
       "</tr>\n",
       "<tr>\n",
       "  <th>Date:</th>                    <td>Wed, 25 Jan 2023</td>         <th>  AIC                </th> <td>1241.257</td>\n",
       "</tr>\n",
       "<tr>\n",
       "  <th>Time:</th>                        <td>15:32:42</td>             <th>  BIC                </th> <td>1272.769</td>\n",
       "</tr>\n",
       "<tr>\n",
       "  <th>Sample:</th>                          <td>0</td>                <th>  HQIC               </th> <td>1253.947</td>\n",
       "</tr>\n",
       "<tr>\n",
       "  <th></th>                              <td> - 245</td>              <th>                     </th>     <td> </td>   \n",
       "</tr>\n",
       "<tr>\n",
       "  <th>Covariance Type:</th>                <td>opg</td>               <th>                     </th>     <td> </td>   \n",
       "</tr>\n",
       "</table>\n",
       "<table class=\"simpletable\">\n",
       "<tr>\n",
       "      <td></td>        <th>coef</th>     <th>std err</th>      <th>z</th>      <th>P>|z|</th>  <th>[0.025</th>    <th>0.975]</th>  \n",
       "</tr>\n",
       "<tr>\n",
       "  <th>ar.L1</th>    <td>    0.4040</td> <td>    0.572</td> <td>    0.706</td> <td> 0.480</td> <td>   -0.717</td> <td>    1.525</td>\n",
       "</tr>\n",
       "<tr>\n",
       "  <th>ar.L2</th>    <td>    0.9516</td> <td>    0.284</td> <td>    3.351</td> <td> 0.001</td> <td>    0.395</td> <td>    1.508</td>\n",
       "</tr>\n",
       "<tr>\n",
       "  <th>ar.L3</th>    <td>   -0.3618</td> <td>    0.411</td> <td>   -0.881</td> <td> 0.378</td> <td>   -1.167</td> <td>    0.443</td>\n",
       "</tr>\n",
       "<tr>\n",
       "  <th>ma.L1</th>    <td>   -0.1233</td> <td>    0.577</td> <td>   -0.214</td> <td> 0.831</td> <td>   -1.254</td> <td>    1.008</td>\n",
       "</tr>\n",
       "<tr>\n",
       "  <th>ma.L2</th>    <td>   -0.9107</td> <td>    0.176</td> <td>   -5.162</td> <td> 0.000</td> <td>   -1.256</td> <td>   -0.565</td>\n",
       "</tr>\n",
       "<tr>\n",
       "  <th>ma.L3</th>    <td>    0.1558</td> <td>    0.401</td> <td>    0.389</td> <td> 0.697</td> <td>   -0.629</td> <td>    0.941</td>\n",
       "</tr>\n",
       "<tr>\n",
       "  <th>ar.S.L12</th> <td>    0.9599</td> <td>    0.059</td> <td>   16.405</td> <td> 0.000</td> <td>    0.845</td> <td>    1.075</td>\n",
       "</tr>\n",
       "<tr>\n",
       "  <th>ma.S.L12</th> <td>   -0.8303</td> <td>    0.121</td> <td>   -6.839</td> <td> 0.000</td> <td>   -1.068</td> <td>   -0.592</td>\n",
       "</tr>\n",
       "<tr>\n",
       "  <th>sigma2</th>   <td>    8.3089</td> <td>    0.474</td> <td>   17.518</td> <td> 0.000</td> <td>    7.379</td> <td>    9.239</td>\n",
       "</tr>\n",
       "</table>\n",
       "<table class=\"simpletable\">\n",
       "<tr>\n",
       "  <th>Ljung-Box (L1) (Q):</th>     <td>0.04</td> <th>  Jarque-Bera (JB):  </th> <td>568.05</td>\n",
       "</tr>\n",
       "<tr>\n",
       "  <th>Prob(Q):</th>                <td>0.84</td> <th>  Prob(JB):          </th>  <td>0.00</td> \n",
       "</tr>\n",
       "<tr>\n",
       "  <th>Heteroskedasticity (H):</th> <td>0.69</td> <th>  Skew:              </th>  <td>1.60</td> \n",
       "</tr>\n",
       "<tr>\n",
       "  <th>Prob(H) (two-sided):</th>    <td>0.10</td> <th>  Kurtosis:          </th>  <td>9.74</td> \n",
       "</tr>\n",
       "</table><br/><br/>Warnings:<br/>[1] Covariance matrix calculated using the outer product of gradients (complex-step)."
      ],
      "text/plain": [
       "<class 'statsmodels.iolib.summary.Summary'>\n",
       "\"\"\"\n",
       "                                      SARIMAX Results                                       \n",
       "============================================================================================\n",
       "Dep. Variable:                      sentiment_count   No. Observations:                  245\n",
       "Model:             SARIMAX(3, 0, 3)x(1, 0, [1], 12)   Log Likelihood                -611.629\n",
       "Date:                              Wed, 25 Jan 2023   AIC                           1241.257\n",
       "Time:                                      15:32:42   BIC                           1272.769\n",
       "Sample:                                           0   HQIC                          1253.947\n",
       "                                              - 245                                         \n",
       "Covariance Type:                                opg                                         \n",
       "==============================================================================\n",
       "                 coef    std err          z      P>|z|      [0.025      0.975]\n",
       "------------------------------------------------------------------------------\n",
       "ar.L1          0.4040      0.572      0.706      0.480      -0.717       1.525\n",
       "ar.L2          0.9516      0.284      3.351      0.001       0.395       1.508\n",
       "ar.L3         -0.3618      0.411     -0.881      0.378      -1.167       0.443\n",
       "ma.L1         -0.1233      0.577     -0.214      0.831      -1.254       1.008\n",
       "ma.L2         -0.9107      0.176     -5.162      0.000      -1.256      -0.565\n",
       "ma.L3          0.1558      0.401      0.389      0.697      -0.629       0.941\n",
       "ar.S.L12       0.9599      0.059     16.405      0.000       0.845       1.075\n",
       "ma.S.L12      -0.8303      0.121     -6.839      0.000      -1.068      -0.592\n",
       "sigma2         8.3089      0.474     17.518      0.000       7.379       9.239\n",
       "===================================================================================\n",
       "Ljung-Box (L1) (Q):                   0.04   Jarque-Bera (JB):               568.05\n",
       "Prob(Q):                              0.84   Prob(JB):                         0.00\n",
       "Heteroskedasticity (H):               0.69   Skew:                             1.60\n",
       "Prob(H) (two-sided):                  0.10   Kurtosis:                         9.74\n",
       "===================================================================================\n",
       "\n",
       "Warnings:\n",
       "[1] Covariance matrix calculated using the outer product of gradients (complex-step).\n",
       "\"\"\""
      ]
     },
     "execution_count": 160,
     "metadata": {},
     "output_type": "execute_result"
    }
   ],
   "source": [
    "p=3;q=3;d=0\n",
    "P=1;Q=1;D=0\n",
    "m1 = sm.tsa.statespace.SARIMAX(cd_pos['sentiment_count'],order=(p,d,q),seasonal_order=(P,D,Q,12)).fit()\n",
    "# summarise the model\n",
    "m1.summary()\n"
   ]
  },
  {
   "cell_type": "code",
   "execution_count": 161,
   "id": "dfbe6b6a",
   "metadata": {},
   "outputs": [
    {
     "name": "stdout",
     "output_type": "stream",
     "text": [
      "Fail-to-Reject H0. Good model\n"
     ]
    }
   ],
   "source": [
    "# LJung-Box test\n",
    "pvalue = sm.stats.acorr_ljungbox(m1.resid,lags=[1],return_df=True)['lb_pvalue'].values\n",
    "if pvalue < 0.05:\n",
    "    print(\"Reject H0. Bad model\")\n",
    "else:\n",
    "    print(\"Fail-to-Reject H0. Good model\")"
   ]
  },
  {
   "cell_type": "code",
   "execution_count": 162,
   "id": "e0df2388",
   "metadata": {},
   "outputs": [
    {
     "name": "stdout",
     "output_type": "stream",
     "text": [
      "start = 171, end = 244\n"
     ]
    }
   ],
   "source": [
    "start = len(train1) \n",
    "end = len(train1) + len(test1) - 1\n",
    "\n",
    "print('start = {}, end = {}'.format(start,end))"
   ]
  },
  {
   "cell_type": "code",
   "execution_count": 163,
   "id": "67535010",
   "metadata": {},
   "outputs": [
    {
     "name": "stdout",
     "output_type": "stream",
     "text": [
      "date\n",
      "2012-05-31     6.636813\n",
      "2012-06-30     8.641393\n",
      "2012-07-31     5.607919\n",
      "2012-08-31     7.838036\n",
      "2012-09-30     6.504898\n",
      "                ...    \n",
      "2018-02-28     9.274022\n",
      "2018-03-31    10.051073\n",
      "2018-04-30    10.072458\n",
      "2018-05-31     8.679884\n",
      "2018-07-31     9.127434\n",
      "Name: predicted_mean, Length: 74, dtype: float64\n"
     ]
    }
   ],
   "source": [
    "predictions = m1.predict(start,end)\n",
    "predictions.index=test1.index\n",
    "print(predictions)"
   ]
  },
  {
   "cell_type": "code",
   "execution_count": 164,
   "id": "005407ef",
   "metadata": {},
   "outputs": [
    {
     "name": "stdout",
     "output_type": "stream",
     "text": [
      "               actual  predicted     error\n",
      "date                                      \n",
      "2012-05-31   5.045455   6.636813 -1.591358\n",
      "2012-06-30   5.552239   8.641393 -3.089154\n",
      "2012-07-31  12.091743   5.607919  6.483824\n",
      "2012-08-31   6.741573   7.838036 -1.096463\n",
      "2012-09-30   9.129412   6.504898  2.624514\n",
      "...               ...        ...       ...\n",
      "2018-02-28   8.464286   9.274022 -0.809737\n",
      "2018-03-31  12.957447  10.051073  2.906374\n",
      "2018-04-30   9.954545  10.072458 -0.117913\n",
      "2018-05-31   6.000000   8.679884 -2.679884\n",
      "2018-07-31   9.000000   9.127434 -0.127434\n",
      "\n",
      "[74 rows x 3 columns]\n"
     ]
    }
   ],
   "source": [
    "actual = []; pred = []\n",
    "test1.reset_index(drop=True)\n",
    "for i in range(len(predictions)):\n",
    "    actual.append(test1['sentiment_count'][i])\n",
    "    pred.append(predictions[i])\n",
    "\n",
    "df_res1 = pd.DataFrame({'actual':actual, 'predicted':pred})\n",
    "df_res1['error'] = df_res1.actual - df_res1.predicted\n",
    "df_res1.index=test1.index\n",
    "print(df_res1)"
   ]
  },
  {
   "cell_type": "code",
   "execution_count": 165,
   "id": "92ac7606",
   "metadata": {},
   "outputs": [
    {
     "name": "stdout",
     "output_type": "stream",
     "text": [
      "mse: 7.0887736726621835\n",
      "rmse: 2.66247510273095\n"
     ]
    }
   ],
   "source": [
    "mse1=mean_squared_error(df_res1.actual,df_res1.predicted)\n",
    "rmse1=np.sqrt(mse1)\n",
    "print('mse:',mse1)\n",
    "print('rmse:',rmse1)"
   ]
  },
  {
   "cell_type": "code",
   "execution_count": 166,
   "id": "4d133df1",
   "metadata": {},
   "outputs": [
    {
     "data": {
      "text/plain": [
       "Text(0.5, 1.0, 'SARIMA Model. Order=(3,0,3)')"
      ]
     },
     "execution_count": 166,
     "metadata": {},
     "output_type": "execute_result"
    },
    {
     "data": {
      "image/png": "[encoded data removed]",
      "text/plain": [
       "<Figure size 720x576 with 1 Axes>"
      ]
     },
     "metadata": {
      "needs_background": "light"
     },
     "output_type": "display_data"
    }
   ],
   "source": [
    "msg = 'SARIMA Model. Order=(' + str(p) + ',' + str(d) + ',' + str(q) + ')'\n",
    "df_res1.actual.plot(figsize=(10,8),legend=True)\n",
    "df_res1.predicted.plot(legend=True)\n",
    "plt.title(msg)"
   ]
  },
  {
   "cell_type": "code",
   "execution_count": 212,
   "id": "86880a13",
   "metadata": {},
   "outputs": [],
   "source": [
    "future_dates=pd.DataFrame()\n",
    "future_dates['date']=[    \n",
    "'2018-07-31',    \n",
    "'2018-10-31',  \n",
    "'2018-12-30',  \n",
    "'2019-01-31',    \n",
    "'2019-03-30',   \n",
    "'2019-05-31',    \n",
    "'2019-07-30',    \n",
    "]      \n",
    "future_dates=pd.to_datetime(future_dates['date'])\n",
    "future_dates=pd.DataFrame(future_dates)\n"
   ]
  },
  {
   "cell_type": "code",
   "execution_count": 213,
   "id": "2c66804b",
   "metadata": {},
   "outputs": [
    {
     "name": "stdout",
     "output_type": "stream",
     "text": [
      "date\n",
      "2018-07-31    8.649253\n",
      "2018-10-31    7.633219\n",
      "2018-12-30    8.053921\n",
      "2019-01-31    7.970040\n",
      "2019-03-30    8.014399\n",
      "Name: Forecast, dtype: float64\n"
     ]
    }
   ],
   "source": [
    "fcast1 = m1.predict(end,end+6).rename('Forecast')\n",
    "fcast1.index=future_dates.date\n",
    "print(fcast1.head())"
   ]
  },
  {
   "cell_type": "code",
   "execution_count": 214,
   "id": "c9e760c9",
   "metadata": {},
   "outputs": [
    {
     "data": {
      "text/plain": [
       "<AxesSubplot:xlabel='date', ylabel='count of positive sentiment'>"
      ]
     },
     "execution_count": 214,
     "metadata": {},
     "output_type": "execute_result"
    },
    {
     "data": {
      "image/png": "[encoded data removed]",
      "text/plain": [
       "<Figure size 720x576 with 1 Axes>"
      ]
     },
     "metadata": {
      "needs_background": "light"
     },
     "output_type": "display_data"
    }
   ],
   "source": [
    "df_res1.actual.tail(30).plot(figsize=(10,8),legend=True)\n",
    "df_res1.predicted.tail(30).plot(legend=True)\n",
    "plt.ylabel('count of positive sentiment')\n",
    "fcast1.plot(legend=True)"
   ]
  },
  {
   "cell_type": "markdown",
   "id": "073e2ad3",
   "metadata": {},
   "source": [
    "## Neutral Sentiment"
   ]
  },
  {
   "cell_type": "code",
   "execution_count": 217,
   "id": "a39f0918",
   "metadata": {},
   "outputs": [
    {
     "data": {
      "text/html": [
       "<div>\n",
       "<style scoped>\n",
       "    .dataframe tbody tr th:only-of-type {\n",
       "        vertical-align: middle;\n",
       "    }\n",
       "\n",
       "    .dataframe tbody tr th {\n",
       "        vertical-align: top;\n",
       "    }\n",
       "\n",
       "    .dataframe thead th {\n",
       "        text-align: right;\n",
       "    }\n",
       "</style>\n",
       "<table border=\"1\" class=\"dataframe\">\n",
       "  <thead>\n",
       "    <tr style=\"text-align: right;\">\n",
       "      <th></th>\n",
       "      <th>reviewerID</th>\n",
       "      <th>asin</th>\n",
       "      <th>verified</th>\n",
       "      <th>review</th>\n",
       "      <th>ratings</th>\n",
       "      <th>date</th>\n",
       "      <th>summary</th>\n",
       "      <th>unixReviewTime</th>\n",
       "      <th>category</th>\n",
       "      <th>description</th>\n",
       "      <th>...</th>\n",
       "      <th>word_count</th>\n",
       "      <th>char_count</th>\n",
       "      <th>avg_word</th>\n",
       "      <th>polarity</th>\n",
       "      <th>label</th>\n",
       "      <th>year</th>\n",
       "      <th>rating_class_num</th>\n",
       "      <th>review_length</th>\n",
       "      <th>review_length_bin</th>\n",
       "      <th>Month</th>\n",
       "    </tr>\n",
       "  </thead>\n",
       "  <tbody>\n",
       "    <tr>\n",
       "      <th>4306</th>\n",
       "      <td>A1GIIPXONCEEHP</td>\n",
       "      <td>7799627174</td>\n",
       "      <td>False</td>\n",
       "      <td>elvis valentines day offering certainly less f...</td>\n",
       "      <td>3.0</td>\n",
       "      <td>2005-02-01</td>\n",
       "      <td>+ 1/2 stars...For Romantics Only</td>\n",
       "      <td>1107216000</td>\n",
       "      <td>['CDs &amp; Vinyl', 'Pop', 'Oldies']</td>\n",
       "      <td>['ASIAN IMPORT FROM BMG/SONY. SEALED SHIPS FIR...</td>\n",
       "      <td>...</td>\n",
       "      <td>77</td>\n",
       "      <td>568</td>\n",
       "      <td>6.4</td>\n",
       "      <td>0.255556</td>\n",
       "      <td>0.0</td>\n",
       "      <td>2005</td>\n",
       "      <td>1</td>\n",
       "      <td>77</td>\n",
       "      <td>(0, 100]</td>\n",
       "      <td>2</td>\n",
       "    </tr>\n",
       "    <tr>\n",
       "      <th>4382</th>\n",
       "      <td>A2XFJMYT2S05SR</td>\n",
       "      <td>807232053X</td>\n",
       "      <td>False</td>\n",
       "      <td>great idea carol lost voice</td>\n",
       "      <td>3.0</td>\n",
       "      <td>2014-11-04</td>\n",
       "      <td>Three Stars</td>\n",
       "      <td>1415059200</td>\n",
       "      <td>['CDs &amp; Vinyl', 'Rock', 'Folk Rock']</td>\n",
       "      <td>['KING CAROLE &amp; TAYLOR JAMES-LIVE AT THE TROUB...</td>\n",
       "      <td>...</td>\n",
       "      <td>5</td>\n",
       "      <td>27</td>\n",
       "      <td>4.6</td>\n",
       "      <td>0.800000</td>\n",
       "      <td>0.0</td>\n",
       "      <td>2014</td>\n",
       "      <td>1</td>\n",
       "      <td>5</td>\n",
       "      <td>(0, 100]</td>\n",
       "      <td>11</td>\n",
       "    </tr>\n",
       "    <tr>\n",
       "      <th>4383</th>\n",
       "      <td>A11FM1J5FMQPHR</td>\n",
       "      <td>807232053X</td>\n",
       "      <td>True</td>\n",
       "      <td>skips  sometimes reverts</td>\n",
       "      <td>3.0</td>\n",
       "      <td>2014-10-21</td>\n",
       "      <td>Three Stars</td>\n",
       "      <td>1413849600</td>\n",
       "      <td>['CDs &amp; Vinyl', 'Rock', 'Folk Rock']</td>\n",
       "      <td>['KING CAROLE &amp; TAYLOR JAMES-LIVE AT THE TROUB...</td>\n",
       "      <td>...</td>\n",
       "      <td>5</td>\n",
       "      <td>25</td>\n",
       "      <td>7.0</td>\n",
       "      <td>0.000000</td>\n",
       "      <td>0.0</td>\n",
       "      <td>2014</td>\n",
       "      <td>1</td>\n",
       "      <td>3</td>\n",
       "      <td>(0, 100]</td>\n",
       "      <td>10</td>\n",
       "    </tr>\n",
       "  </tbody>\n",
       "</table>\n",
       "<p>3 rows × 31 columns</p>\n",
       "</div>"
      ],
      "text/plain": [
       "          reviewerID        asin  verified  \\\n",
       "4306  A1GIIPXONCEEHP  7799627174     False   \n",
       "4382  A2XFJMYT2S05SR  807232053X     False   \n",
       "4383  A11FM1J5FMQPHR  807232053X      True   \n",
       "\n",
       "                                                 review  ratings       date  \\\n",
       "4306  elvis valentines day offering certainly less f...      3.0 2005-02-01   \n",
       "4382                        great idea carol lost voice      3.0 2014-11-04   \n",
       "4383                          skips  sometimes reverts       3.0 2014-10-21   \n",
       "\n",
       "                               summary  unixReviewTime  \\\n",
       "4306  + 1/2 stars...For Romantics Only      1107216000   \n",
       "4382                       Three Stars      1415059200   \n",
       "4383                       Three Stars      1413849600   \n",
       "\n",
       "                                  category  \\\n",
       "4306      ['CDs & Vinyl', 'Pop', 'Oldies']   \n",
       "4382  ['CDs & Vinyl', 'Rock', 'Folk Rock']   \n",
       "4383  ['CDs & Vinyl', 'Rock', 'Folk Rock']   \n",
       "\n",
       "                                            description  ... word_count  \\\n",
       "4306  ['ASIAN IMPORT FROM BMG/SONY. SEALED SHIPS FIR...  ...         77   \n",
       "4382  ['KING CAROLE & TAYLOR JAMES-LIVE AT THE TROUB...  ...          5   \n",
       "4383  ['KING CAROLE & TAYLOR JAMES-LIVE AT THE TROUB...  ...          5   \n",
       "\n",
       "     char_count  avg_word  polarity label  year  rating_class_num  \\\n",
       "4306        568       6.4  0.255556   0.0  2005                 1   \n",
       "4382         27       4.6  0.800000   0.0  2014                 1   \n",
       "4383         25       7.0  0.000000   0.0  2014                 1   \n",
       "\n",
       "      review_length  review_length_bin Month  \n",
       "4306             77           (0, 100]     2  \n",
       "4382              5           (0, 100]    11  \n",
       "4383              3           (0, 100]    10  \n",
       "\n",
       "[3 rows x 31 columns]"
      ]
     },
     "execution_count": 217,
     "metadata": {},
     "output_type": "execute_result"
    }
   ],
   "source": [
    "cd_neu.head(3)"
   ]
  },
  {
   "cell_type": "code",
   "execution_count": 218,
   "id": "d0e21a18",
   "metadata": {},
   "outputs": [
    {
     "data": {
      "text/plain": [
       "parentalAdvisory    4579\n",
       "Name: title, dtype: int64"
      ]
     },
     "execution_count": 218,
     "metadata": {},
     "output_type": "execute_result"
    }
   ],
   "source": [
    "cd_neu['title'].value_counts()"
   ]
  },
  {
   "cell_type": "code",
   "execution_count": 219,
   "id": "d3a0d9bd",
   "metadata": {},
   "outputs": [
    {
     "data": {
      "text/html": [
       "<div>\n",
       "<style scoped>\n",
       "    .dataframe tbody tr th:only-of-type {\n",
       "        vertical-align: middle;\n",
       "    }\n",
       "\n",
       "    .dataframe tbody tr th {\n",
       "        vertical-align: top;\n",
       "    }\n",
       "\n",
       "    .dataframe thead th {\n",
       "        text-align: right;\n",
       "    }\n",
       "</style>\n",
       "<table border=\"1\" class=\"dataframe\">\n",
       "  <thead>\n",
       "    <tr style=\"text-align: right;\">\n",
       "      <th></th>\n",
       "      <th>asin</th>\n",
       "      <th>Month</th>\n",
       "      <th>Sentiment</th>\n",
       "      <th>sentiment_count</th>\n",
       "    </tr>\n",
       "  </thead>\n",
       "  <tbody>\n",
       "    <tr>\n",
       "      <th>0</th>\n",
       "      <td>7799627174</td>\n",
       "      <td>2</td>\n",
       "      <td>Neutral</td>\n",
       "      <td>1</td>\n",
       "    </tr>\n",
       "    <tr>\n",
       "      <th>1</th>\n",
       "      <td>807232053X</td>\n",
       "      <td>5</td>\n",
       "      <td>Neutral</td>\n",
       "      <td>1</td>\n",
       "    </tr>\n",
       "    <tr>\n",
       "      <th>2</th>\n",
       "      <td>807232053X</td>\n",
       "      <td>6</td>\n",
       "      <td>Neutral</td>\n",
       "      <td>1</td>\n",
       "    </tr>\n",
       "    <tr>\n",
       "      <th>3</th>\n",
       "      <td>807232053X</td>\n",
       "      <td>9</td>\n",
       "      <td>Neutral</td>\n",
       "      <td>1</td>\n",
       "    </tr>\n",
       "    <tr>\n",
       "      <th>4</th>\n",
       "      <td>807232053X</td>\n",
       "      <td>10</td>\n",
       "      <td>Neutral</td>\n",
       "      <td>1</td>\n",
       "    </tr>\n",
       "    <tr>\n",
       "      <th>...</th>\n",
       "      <td>...</td>\n",
       "      <td>...</td>\n",
       "      <td>...</td>\n",
       "      <td>...</td>\n",
       "    </tr>\n",
       "    <tr>\n",
       "      <th>3080</th>\n",
       "      <td>B01GVQWS4C</td>\n",
       "      <td>9</td>\n",
       "      <td>Neutral</td>\n",
       "      <td>5</td>\n",
       "    </tr>\n",
       "    <tr>\n",
       "      <th>3081</th>\n",
       "      <td>B01GVQWS4C</td>\n",
       "      <td>10</td>\n",
       "      <td>Neutral</td>\n",
       "      <td>1</td>\n",
       "    </tr>\n",
       "    <tr>\n",
       "      <th>3082</th>\n",
       "      <td>B01GVQWS4C</td>\n",
       "      <td>11</td>\n",
       "      <td>Neutral</td>\n",
       "      <td>2</td>\n",
       "    </tr>\n",
       "    <tr>\n",
       "      <th>3083</th>\n",
       "      <td>B01HC8ZLSI</td>\n",
       "      <td>9</td>\n",
       "      <td>Neutral</td>\n",
       "      <td>1</td>\n",
       "    </tr>\n",
       "    <tr>\n",
       "      <th>3084</th>\n",
       "      <td>B01HC8ZLSI</td>\n",
       "      <td>10</td>\n",
       "      <td>Neutral</td>\n",
       "      <td>1</td>\n",
       "    </tr>\n",
       "  </tbody>\n",
       "</table>\n",
       "<p>3085 rows × 4 columns</p>\n",
       "</div>"
      ],
      "text/plain": [
       "            asin  Month Sentiment  sentiment_count\n",
       "0     7799627174      2   Neutral                1\n",
       "1     807232053X      5   Neutral                1\n",
       "2     807232053X      6   Neutral                1\n",
       "3     807232053X      9   Neutral                1\n",
       "4     807232053X     10   Neutral                1\n",
       "...          ...    ...       ...              ...\n",
       "3080  B01GVQWS4C      9   Neutral                5\n",
       "3081  B01GVQWS4C     10   Neutral                1\n",
       "3082  B01GVQWS4C     11   Neutral                2\n",
       "3083  B01HC8ZLSI      9   Neutral                1\n",
       "3084  B01HC8ZLSI     10   Neutral                1\n",
       "\n",
       "[3085 rows x 4 columns]"
      ]
     },
     "execution_count": 219,
     "metadata": {},
     "output_type": "execute_result"
    }
   ],
   "source": [
    "cd_neu_count=cd_neu.groupby(['asin','Month','Sentiment']).size().reset_index(name='sentiment_count')\n",
    "cd_neu_count"
   ]
  },
  {
   "cell_type": "code",
   "execution_count": 220,
   "id": "b09de695",
   "metadata": {},
   "outputs": [],
   "source": [
    "cd_neu=pd.merge(cd_neu,cd_neu_count)"
   ]
  },
  {
   "cell_type": "code",
   "execution_count": 221,
   "id": "4906d945",
   "metadata": {},
   "outputs": [
    {
     "data": {
      "text/html": [
       "<div>\n",
       "<style scoped>\n",
       "    .dataframe tbody tr th:only-of-type {\n",
       "        vertical-align: middle;\n",
       "    }\n",
       "\n",
       "    .dataframe tbody tr th {\n",
       "        vertical-align: top;\n",
       "    }\n",
       "\n",
       "    .dataframe thead th {\n",
       "        text-align: right;\n",
       "    }\n",
       "</style>\n",
       "<table border=\"1\" class=\"dataframe\">\n",
       "  <thead>\n",
       "    <tr style=\"text-align: right;\">\n",
       "      <th></th>\n",
       "      <th>sentiment_count</th>\n",
       "    </tr>\n",
       "    <tr>\n",
       "      <th>date</th>\n",
       "      <th></th>\n",
       "    </tr>\n",
       "  </thead>\n",
       "  <tbody>\n",
       "    <tr>\n",
       "      <th>1998-08-03</th>\n",
       "      <td>1</td>\n",
       "    </tr>\n",
       "    <tr>\n",
       "      <th>1998-11-09</th>\n",
       "      <td>1</td>\n",
       "    </tr>\n",
       "    <tr>\n",
       "      <th>1998-11-24</th>\n",
       "      <td>1</td>\n",
       "    </tr>\n",
       "    <tr>\n",
       "      <th>1998-11-27</th>\n",
       "      <td>1</td>\n",
       "    </tr>\n",
       "    <tr>\n",
       "      <th>1998-11-27</th>\n",
       "      <td>1</td>\n",
       "    </tr>\n",
       "    <tr>\n",
       "      <th>...</th>\n",
       "      <td>...</td>\n",
       "    </tr>\n",
       "    <tr>\n",
       "      <th>2018-04-05</th>\n",
       "      <td>1</td>\n",
       "    </tr>\n",
       "    <tr>\n",
       "      <th>2018-04-14</th>\n",
       "      <td>1</td>\n",
       "    </tr>\n",
       "    <tr>\n",
       "      <th>2018-04-17</th>\n",
       "      <td>1</td>\n",
       "    </tr>\n",
       "    <tr>\n",
       "      <th>2018-04-18</th>\n",
       "      <td>1</td>\n",
       "    </tr>\n",
       "    <tr>\n",
       "      <th>2018-04-22</th>\n",
       "      <td>1</td>\n",
       "    </tr>\n",
       "  </tbody>\n",
       "</table>\n",
       "<p>4579 rows × 1 columns</p>\n",
       "</div>"
      ],
      "text/plain": [
       "            sentiment_count\n",
       "date                       \n",
       "1998-08-03                1\n",
       "1998-11-09                1\n",
       "1998-11-24                1\n",
       "1998-11-27                1\n",
       "1998-11-27                1\n",
       "...                     ...\n",
       "2018-04-05                1\n",
       "2018-04-14                1\n",
       "2018-04-17                1\n",
       "2018-04-18                1\n",
       "2018-04-22                1\n",
       "\n",
       "[4579 rows x 1 columns]"
      ]
     },
     "execution_count": 221,
     "metadata": {},
     "output_type": "execute_result"
    }
   ],
   "source": [
    "cd_neu=cd_neu[['date','sentiment_count']]\n",
    "cd_neu=cd_neu.set_index('date')\n",
    "cd_neu=cd_neu.sort_values(by=['date'])\n",
    "cd_neu"
   ]
  },
  {
   "cell_type": "code",
   "execution_count": 222,
   "id": "20ea5338",
   "metadata": {},
   "outputs": [
    {
     "data": {
      "text/html": [
       "<div>\n",
       "<style scoped>\n",
       "    .dataframe tbody tr th:only-of-type {\n",
       "        vertical-align: middle;\n",
       "    }\n",
       "\n",
       "    .dataframe tbody tr th {\n",
       "        vertical-align: top;\n",
       "    }\n",
       "\n",
       "    .dataframe thead th {\n",
       "        text-align: right;\n",
       "    }\n",
       "</style>\n",
       "<table border=\"1\" class=\"dataframe\">\n",
       "  <thead>\n",
       "    <tr style=\"text-align: right;\">\n",
       "      <th></th>\n",
       "      <th>sentiment_count</th>\n",
       "    </tr>\n",
       "    <tr>\n",
       "      <th>date</th>\n",
       "      <th></th>\n",
       "    </tr>\n",
       "  </thead>\n",
       "  <tbody>\n",
       "    <tr>\n",
       "      <th>1998-08-31</th>\n",
       "      <td>1.0</td>\n",
       "    </tr>\n",
       "    <tr>\n",
       "      <th>1998-09-30</th>\n",
       "      <td>NaN</td>\n",
       "    </tr>\n",
       "    <tr>\n",
       "      <th>1998-10-31</th>\n",
       "      <td>NaN</td>\n",
       "    </tr>\n",
       "    <tr>\n",
       "      <th>1998-11-30</th>\n",
       "      <td>1.2</td>\n",
       "    </tr>\n",
       "    <tr>\n",
       "      <th>1998-12-31</th>\n",
       "      <td>2.0</td>\n",
       "    </tr>\n",
       "  </tbody>\n",
       "</table>\n",
       "</div>"
      ],
      "text/plain": [
       "            sentiment_count\n",
       "date                       \n",
       "1998-08-31              1.0\n",
       "1998-09-30              NaN\n",
       "1998-10-31              NaN\n",
       "1998-11-30              1.2\n",
       "1998-12-31              2.0"
      ]
     },
     "execution_count": 222,
     "metadata": {},
     "output_type": "execute_result"
    }
   ],
   "source": [
    "cd_neu=cd_neu.resample('M').mean()\n",
    "cd_neu.head()"
   ]
  },
  {
   "cell_type": "code",
   "execution_count": 223,
   "id": "d3a3ceb3",
   "metadata": {},
   "outputs": [
    {
     "data": {
      "text/plain": [
       "sentiment_count    4\n",
       "dtype: int64"
      ]
     },
     "execution_count": 223,
     "metadata": {},
     "output_type": "execute_result"
    }
   ],
   "source": [
    "cd_neu.isnull().sum()"
   ]
  },
  {
   "cell_type": "code",
   "execution_count": 224,
   "id": "7f8b7423",
   "metadata": {},
   "outputs": [],
   "source": [
    "cd_neu.dropna(inplace=True)"
   ]
  },
  {
   "cell_type": "code",
   "execution_count": 225,
   "id": "ff12f824",
   "metadata": {},
   "outputs": [
    {
     "data": {
      "image/png": "[encoded data removed]",
      "text/plain": [
       "<Figure size 1080x576 with 4 Axes>"
      ]
     },
     "metadata": {},
     "output_type": "display_data"
    }
   ],
   "source": [
    "tsa_comp(cd_neu)"
   ]
  },
  {
   "cell_type": "code",
   "execution_count": 226,
   "id": "e5654597",
   "metadata": {},
   "outputs": [
    {
     "name": "stdout",
     "output_type": "stream",
     "text": [
      "pvalue: 0.03557398426340664\n"
     ]
    },
    {
     "data": {
      "text/plain": [
       "'Data is Stationary. Proceed to model building'"
      ]
     },
     "execution_count": 226,
     "metadata": {},
     "output_type": "execute_result"
    }
   ],
   "source": [
    "checkStationarity(cd_neu)"
   ]
  },
  {
   "cell_type": "code",
   "execution_count": 227,
   "id": "3090d7a2",
   "metadata": {},
   "outputs": [
    {
     "name": "stdout",
     "output_type": "stream",
     "text": [
      "Total=233, Train=163, Test=70\n"
     ]
    }
   ],
   "source": [
    "ratio = 0.7\n",
    "rows = int(ratio * len(cd_neu))\n",
    "train2 =cd_neu[:rows]\n",
    "test2 = cd_neu[rows:]\n",
    "\n",
    "print(\"Total={}, Train={}, Test={}\".format(len(cd_neu), len(train2), len(test2)))"
   ]
  },
  {
   "cell_type": "code",
   "execution_count": 228,
   "id": "3bd63266",
   "metadata": {},
   "outputs": [
    {
     "data": {
      "image/png": "[encoded data removed]",
      "text/plain": [
       "<Figure size 1080x360 with 2 Axes>"
      ]
     },
     "metadata": {
      "needs_background": "light"
     },
     "output_type": "display_data"
    }
   ],
   "source": [
    "p_and_q(cd_neu)"
   ]
  },
  {
   "cell_type": "code",
   "execution_count": 266,
   "id": "46128c81",
   "metadata": {},
   "outputs": [
    {
     "name": "stdout",
     "output_type": "stream",
     "text": [
      "Model 1 Good model\n",
      "Model 2 Good model\n",
      "Model 3 Good model\n",
      "Model 4 Good model\n",
      "Model 5 Good model\n",
      "Model 6 Good model\n",
      "Model 7 Good model\n",
      "Model 8 Good model\n",
      "Model 9 Good model\n",
      "Model 10 Good model\n",
      "Model 11 Good model\n",
      "Model 12 Good model\n",
      "Model 13 Good model\n",
      "Model 14 Good model\n",
      "Model 15 Good model\n",
      "Model 16 Good model\n",
      "Model 17 Good model\n",
      "Model 18 Good model\n",
      "Model 19 Good model\n",
      "Model 20 Good model\n",
      "Model 21 Good model\n",
      "Model 22 Good model\n",
      "Model 23 Good model\n",
      "Model 24 Good model\n",
      "Model 25 Good model\n",
      "Model 26 Good model\n",
      "Model 27 Good model\n",
      "Model 28 Good model\n",
      "Model 29 Good model\n",
      "Model 30 Good model\n"
     ]
    }
   ],
   "source": [
    "d=0;\n",
    "lis=[]\n",
    "for p in range(6):\n",
    "    for q in range(5):\n",
    "        lis.append((p,d,q))\n",
    "\n",
    "# building model\n",
    "model=[]\n",
    "for i in lis:\n",
    "    m =ARIMA(train2, order=i).fit() \n",
    "    model.append(m)\n",
    "\n",
    "# checking model is good or not\n",
    "model_st=[]\n",
    "c=1\n",
    "for i in model:\n",
    "    pvalue = sm.stats.acorr_ljungbox(i.resid, lags=[1], return_df=True)['lb_pvalue'].values\n",
    "    if pvalue < 0.05:\n",
    "        print(f'Model {c} Not a good model')\n",
    "    else:\n",
    "        print(f'Model {c} Good model')\n",
    "    c+=1"
   ]
  },
  {
   "cell_type": "code",
   "execution_count": 267,
   "id": "6bb7cb58",
   "metadata": {},
   "outputs": [
    {
     "data": {
      "text/html": [
       "<div>\n",
       "<style scoped>\n",
       "    .dataframe tbody tr th:only-of-type {\n",
       "        vertical-align: middle;\n",
       "    }\n",
       "\n",
       "    .dataframe tbody tr th {\n",
       "        vertical-align: top;\n",
       "    }\n",
       "\n",
       "    .dataframe thead th {\n",
       "        text-align: right;\n",
       "    }\n",
       "</style>\n",
       "<table border=\"1\" class=\"dataframe\">\n",
       "  <thead>\n",
       "    <tr style=\"text-align: right;\">\n",
       "      <th></th>\n",
       "      <th>Model No.</th>\n",
       "      <th>(p, d, q)</th>\n",
       "      <th>AIC</th>\n",
       "      <th>BIC</th>\n",
       "      <th>MSE</th>\n",
       "      <th>RMSE</th>\n",
       "    </tr>\n",
       "  </thead>\n",
       "  <tbody>\n",
       "    <tr>\n",
       "      <th>0</th>\n",
       "      <td>Model 0</td>\n",
       "      <td>(0, 0, 0)</td>\n",
       "      <td>538.874769</td>\n",
       "      <td>545.062269</td>\n",
       "      <td>0.775471</td>\n",
       "      <td>0.880608</td>\n",
       "    </tr>\n",
       "    <tr>\n",
       "      <th>1</th>\n",
       "      <td>Model 1</td>\n",
       "      <td>(0, 0, 1)</td>\n",
       "      <td>540.706198</td>\n",
       "      <td>549.987448</td>\n",
       "      <td>0.774878</td>\n",
       "      <td>0.880272</td>\n",
       "    </tr>\n",
       "    <tr>\n",
       "      <th>2</th>\n",
       "      <td>Model 2</td>\n",
       "      <td>(0, 0, 2)</td>\n",
       "      <td>542.391013</td>\n",
       "      <td>554.766014</td>\n",
       "      <td>0.772870</td>\n",
       "      <td>0.879130</td>\n",
       "    </tr>\n",
       "    <tr>\n",
       "      <th>3</th>\n",
       "      <td>Model 3</td>\n",
       "      <td>(0, 0, 3)</td>\n",
       "      <td>544.363037</td>\n",
       "      <td>559.831788</td>\n",
       "      <td>0.773185</td>\n",
       "      <td>0.879309</td>\n",
       "    </tr>\n",
       "    <tr>\n",
       "      <th>4</th>\n",
       "      <td>Model 4</td>\n",
       "      <td>(0, 0, 4)</td>\n",
       "      <td>546.082341</td>\n",
       "      <td>564.644842</td>\n",
       "      <td>0.775311</td>\n",
       "      <td>0.880518</td>\n",
       "    </tr>\n",
       "    <tr>\n",
       "      <th>5</th>\n",
       "      <td>Model 5</td>\n",
       "      <td>(1, 0, 0)</td>\n",
       "      <td>540.692077</td>\n",
       "      <td>549.973328</td>\n",
       "      <td>0.774775</td>\n",
       "      <td>0.880213</td>\n",
       "    </tr>\n",
       "    <tr>\n",
       "      <th>6</th>\n",
       "      <td>Model 6</td>\n",
       "      <td>(1, 0, 1)</td>\n",
       "      <td>541.946736</td>\n",
       "      <td>554.321737</td>\n",
       "      <td>0.764872</td>\n",
       "      <td>0.874570</td>\n",
       "    </tr>\n",
       "    <tr>\n",
       "      <th>7</th>\n",
       "      <td>Model 7</td>\n",
       "      <td>(1, 0, 2)</td>\n",
       "      <td>544.381991</td>\n",
       "      <td>559.850742</td>\n",
       "      <td>0.772933</td>\n",
       "      <td>0.879166</td>\n",
       "    </tr>\n",
       "    <tr>\n",
       "      <th>8</th>\n",
       "      <td>Model 8</td>\n",
       "      <td>(1, 0, 3)</td>\n",
       "      <td>546.355148</td>\n",
       "      <td>564.917649</td>\n",
       "      <td>0.773298</td>\n",
       "      <td>0.879374</td>\n",
       "    </tr>\n",
       "    <tr>\n",
       "      <th>9</th>\n",
       "      <td>Model 9</td>\n",
       "      <td>(1, 0, 4)</td>\n",
       "      <td>546.303329</td>\n",
       "      <td>567.959580</td>\n",
       "      <td>0.776105</td>\n",
       "      <td>0.880968</td>\n",
       "    </tr>\n",
       "    <tr>\n",
       "      <th>10</th>\n",
       "      <td>Model 10</td>\n",
       "      <td>(2, 0, 0)</td>\n",
       "      <td>542.413911</td>\n",
       "      <td>554.788911</td>\n",
       "      <td>0.772843</td>\n",
       "      <td>0.879115</td>\n",
       "    </tr>\n",
       "    <tr>\n",
       "      <th>11</th>\n",
       "      <td>Model 11</td>\n",
       "      <td>(2, 0, 1)</td>\n",
       "      <td>544.413726</td>\n",
       "      <td>559.882477</td>\n",
       "      <td>0.772869</td>\n",
       "      <td>0.879130</td>\n",
       "    </tr>\n",
       "    <tr>\n",
       "      <th>12</th>\n",
       "      <td>Model 12</td>\n",
       "      <td>(2, 0, 2)</td>\n",
       "      <td>536.972120</td>\n",
       "      <td>555.534622</td>\n",
       "      <td>0.778379</td>\n",
       "      <td>0.882258</td>\n",
       "    </tr>\n",
       "    <tr>\n",
       "      <th>13</th>\n",
       "      <td>Model 13</td>\n",
       "      <td>(2, 0, 3)</td>\n",
       "      <td>538.740816</td>\n",
       "      <td>560.397067</td>\n",
       "      <td>0.776878</td>\n",
       "      <td>0.881407</td>\n",
       "    </tr>\n",
       "    <tr>\n",
       "      <th>14</th>\n",
       "      <td>Model 14</td>\n",
       "      <td>(2, 0, 4)</td>\n",
       "      <td>541.010552</td>\n",
       "      <td>565.760554</td>\n",
       "      <td>0.776073</td>\n",
       "      <td>0.880950</td>\n",
       "    </tr>\n",
       "    <tr>\n",
       "      <th>15</th>\n",
       "      <td>Model 15</td>\n",
       "      <td>(3, 0, 0)</td>\n",
       "      <td>544.413517</td>\n",
       "      <td>559.882268</td>\n",
       "      <td>0.772913</td>\n",
       "      <td>0.879155</td>\n",
       "    </tr>\n",
       "    <tr>\n",
       "      <th>16</th>\n",
       "      <td>Model 16</td>\n",
       "      <td>(3, 0, 1)</td>\n",
       "      <td>546.413673</td>\n",
       "      <td>564.976175</td>\n",
       "      <td>0.772886</td>\n",
       "      <td>0.879139</td>\n",
       "    </tr>\n",
       "    <tr>\n",
       "      <th>17</th>\n",
       "      <td>Model 17</td>\n",
       "      <td>(3, 0, 2)</td>\n",
       "      <td>535.610234</td>\n",
       "      <td>557.266486</td>\n",
       "      <td>0.797563</td>\n",
       "      <td>0.893064</td>\n",
       "    </tr>\n",
       "    <tr>\n",
       "      <th>18</th>\n",
       "      <td>Model 18</td>\n",
       "      <td>(3, 0, 3)</td>\n",
       "      <td>540.399938</td>\n",
       "      <td>565.149940</td>\n",
       "      <td>0.768070</td>\n",
       "      <td>0.876396</td>\n",
       "    </tr>\n",
       "    <tr>\n",
       "      <th>19</th>\n",
       "      <td>Model 19</td>\n",
       "      <td>(3, 0, 4)</td>\n",
       "      <td>542.410455</td>\n",
       "      <td>570.254207</td>\n",
       "      <td>0.767907</td>\n",
       "      <td>0.876303</td>\n",
       "    </tr>\n",
       "    <tr>\n",
       "      <th>20</th>\n",
       "      <td>Model 20</td>\n",
       "      <td>(4, 0, 0)</td>\n",
       "      <td>546.352084</td>\n",
       "      <td>564.914585</td>\n",
       "      <td>0.773891</td>\n",
       "      <td>0.879711</td>\n",
       "    </tr>\n",
       "    <tr>\n",
       "      <th>21</th>\n",
       "      <td>Model 21</td>\n",
       "      <td>(4, 0, 1)</td>\n",
       "      <td>547.064565</td>\n",
       "      <td>568.720817</td>\n",
       "      <td>0.774952</td>\n",
       "      <td>0.880314</td>\n",
       "    </tr>\n",
       "    <tr>\n",
       "      <th>22</th>\n",
       "      <td>Model 22</td>\n",
       "      <td>(4, 0, 2)</td>\n",
       "      <td>537.554052</td>\n",
       "      <td>562.304053</td>\n",
       "      <td>0.778169</td>\n",
       "      <td>0.882139</td>\n",
       "    </tr>\n",
       "    <tr>\n",
       "      <th>23</th>\n",
       "      <td>Model 23</td>\n",
       "      <td>(4, 0, 3)</td>\n",
       "      <td>542.372532</td>\n",
       "      <td>570.216284</td>\n",
       "      <td>0.766270</td>\n",
       "      <td>0.875368</td>\n",
       "    </tr>\n",
       "    <tr>\n",
       "      <th>24</th>\n",
       "      <td>Model 24</td>\n",
       "      <td>(4, 0, 4)</td>\n",
       "      <td>540.879121</td>\n",
       "      <td>571.816623</td>\n",
       "      <td>0.771179</td>\n",
       "      <td>0.878168</td>\n",
       "    </tr>\n",
       "    <tr>\n",
       "      <th>25</th>\n",
       "      <td>Model 25</td>\n",
       "      <td>(5, 0, 0)</td>\n",
       "      <td>543.196233</td>\n",
       "      <td>564.852484</td>\n",
       "      <td>0.763441</td>\n",
       "      <td>0.873751</td>\n",
       "    </tr>\n",
       "    <tr>\n",
       "      <th>26</th>\n",
       "      <td>Model 26</td>\n",
       "      <td>(5, 0, 1)</td>\n",
       "      <td>545.075496</td>\n",
       "      <td>569.825498</td>\n",
       "      <td>0.762233</td>\n",
       "      <td>0.873060</td>\n",
       "    </tr>\n",
       "    <tr>\n",
       "      <th>27</th>\n",
       "      <td>Model 27</td>\n",
       "      <td>(5, 0, 2)</td>\n",
       "      <td>536.900720</td>\n",
       "      <td>564.744472</td>\n",
       "      <td>0.802789</td>\n",
       "      <td>0.895985</td>\n",
       "    </tr>\n",
       "    <tr>\n",
       "      <th>28</th>\n",
       "      <td>Model 28</td>\n",
       "      <td>(5, 0, 3)</td>\n",
       "      <td>542.153236</td>\n",
       "      <td>573.090738</td>\n",
       "      <td>0.761826</td>\n",
       "      <td>0.872826</td>\n",
       "    </tr>\n",
       "    <tr>\n",
       "      <th>29</th>\n",
       "      <td>Model 29</td>\n",
       "      <td>(5, 0, 4)</td>\n",
       "      <td>541.630478</td>\n",
       "      <td>575.661730</td>\n",
       "      <td>0.761700</td>\n",
       "      <td>0.872754</td>\n",
       "    </tr>\n",
       "  </tbody>\n",
       "</table>\n",
       "</div>"
      ],
      "text/plain": [
       "   Model No.  (p, d, q)         AIC         BIC       MSE      RMSE\n",
       "0    Model 0  (0, 0, 0)  538.874769  545.062269  0.775471  0.880608\n",
       "1    Model 1  (0, 0, 1)  540.706198  549.987448  0.774878  0.880272\n",
       "2    Model 2  (0, 0, 2)  542.391013  554.766014  0.772870  0.879130\n",
       "3    Model 3  (0, 0, 3)  544.363037  559.831788  0.773185  0.879309\n",
       "4    Model 4  (0, 0, 4)  546.082341  564.644842  0.775311  0.880518\n",
       "5    Model 5  (1, 0, 0)  540.692077  549.973328  0.774775  0.880213\n",
       "6    Model 6  (1, 0, 1)  541.946736  554.321737  0.764872  0.874570\n",
       "7    Model 7  (1, 0, 2)  544.381991  559.850742  0.772933  0.879166\n",
       "8    Model 8  (1, 0, 3)  546.355148  564.917649  0.773298  0.879374\n",
       "9    Model 9  (1, 0, 4)  546.303329  567.959580  0.776105  0.880968\n",
       "10  Model 10  (2, 0, 0)  542.413911  554.788911  0.772843  0.879115\n",
       "11  Model 11  (2, 0, 1)  544.413726  559.882477  0.772869  0.879130\n",
       "12  Model 12  (2, 0, 2)  536.972120  555.534622  0.778379  0.882258\n",
       "13  Model 13  (2, 0, 3)  538.740816  560.397067  0.776878  0.881407\n",
       "14  Model 14  (2, 0, 4)  541.010552  565.760554  0.776073  0.880950\n",
       "15  Model 15  (3, 0, 0)  544.413517  559.882268  0.772913  0.879155\n",
       "16  Model 16  (3, 0, 1)  546.413673  564.976175  0.772886  0.879139\n",
       "17  Model 17  (3, 0, 2)  535.610234  557.266486  0.797563  0.893064\n",
       "18  Model 18  (3, 0, 3)  540.399938  565.149940  0.768070  0.876396\n",
       "19  Model 19  (3, 0, 4)  542.410455  570.254207  0.767907  0.876303\n",
       "20  Model 20  (4, 0, 0)  546.352084  564.914585  0.773891  0.879711\n",
       "21  Model 21  (4, 0, 1)  547.064565  568.720817  0.774952  0.880314\n",
       "22  Model 22  (4, 0, 2)  537.554052  562.304053  0.778169  0.882139\n",
       "23  Model 23  (4, 0, 3)  542.372532  570.216284  0.766270  0.875368\n",
       "24  Model 24  (4, 0, 4)  540.879121  571.816623  0.771179  0.878168\n",
       "25  Model 25  (5, 0, 0)  543.196233  564.852484  0.763441  0.873751\n",
       "26  Model 26  (5, 0, 1)  545.075496  569.825498  0.762233  0.873060\n",
       "27  Model 27  (5, 0, 2)  536.900720  564.744472  0.802789  0.895985\n",
       "28  Model 28  (5, 0, 3)  542.153236  573.090738  0.761826  0.872826\n",
       "29  Model 29  (5, 0, 4)  541.630478  575.661730  0.761700  0.872754"
      ]
     },
     "execution_count": 267,
     "metadata": {},
     "output_type": "execute_result"
    }
   ],
   "source": [
    "aic=[]\n",
    "bic=[]\n",
    "for i in model[0:]:\n",
    "    aic.append(i.aic)\n",
    "    bic.append(i.bic)\n",
    "\n",
    "# predicting values\n",
    "forecast=[]\n",
    "for i in model[0:]:\n",
    "    fcast = i.predict(start=len(train2), end=len(train2)+len(test2)-1)\n",
    "    forecast.append(fcast)\n",
    "\n",
    "# calculating MSE and RMSE score\n",
    "MSE = []\n",
    "RMSE = []\n",
    "for i in forecast:\n",
    "    mse = mean_squared_error(test2, i)\n",
    "    rmse = np.sqrt(mse)\n",
    "    MSE.append(mse)\n",
    "    RMSE.append(rmse)\n",
    "\n",
    "# printing model numbers\n",
    "model_no=[]\n",
    "for i in range(0,len(model)):\n",
    "    model_no.append('Model '+str(i))\n",
    "    \n",
    "# dataframe of all results\n",
    "df_results2 = pd.DataFrame({'Model No.': model_no, '(p, d, q)':lis[0:], 'AIC': aic, 'BIC': bic, 'MSE': MSE, 'RMSE': RMSE})\n",
    "df_results2"
   ]
  },
  {
   "cell_type": "code",
   "execution_count": 268,
   "id": "9c23ae2d",
   "metadata": {},
   "outputs": [
    {
     "name": "stdout",
     "output_type": "stream",
     "text": [
      "Taking model with lowest RMSE score:\n"
     ]
    },
    {
     "data": {
      "text/html": [
       "<div>\n",
       "<style scoped>\n",
       "    .dataframe tbody tr th:only-of-type {\n",
       "        vertical-align: middle;\n",
       "    }\n",
       "\n",
       "    .dataframe tbody tr th {\n",
       "        vertical-align: top;\n",
       "    }\n",
       "\n",
       "    .dataframe thead th {\n",
       "        text-align: right;\n",
       "    }\n",
       "</style>\n",
       "<table border=\"1\" class=\"dataframe\">\n",
       "  <thead>\n",
       "    <tr style=\"text-align: right;\">\n",
       "      <th></th>\n",
       "      <th>Model No.</th>\n",
       "      <th>(p, d, q)</th>\n",
       "      <th>AIC</th>\n",
       "      <th>BIC</th>\n",
       "      <th>MSE</th>\n",
       "      <th>RMSE</th>\n",
       "    </tr>\n",
       "  </thead>\n",
       "  <tbody>\n",
       "    <tr>\n",
       "      <th>29</th>\n",
       "      <td>Model 29</td>\n",
       "      <td>(5, 0, 4)</td>\n",
       "      <td>541.630478</td>\n",
       "      <td>575.66173</td>\n",
       "      <td>0.7617</td>\n",
       "      <td>0.872754</td>\n",
       "    </tr>\n",
       "  </tbody>\n",
       "</table>\n",
       "</div>"
      ],
      "text/plain": [
       "   Model No.  (p, d, q)         AIC        BIC     MSE      RMSE\n",
       "29  Model 29  (5, 0, 4)  541.630478  575.66173  0.7617  0.872754"
      ]
     },
     "execution_count": 268,
     "metadata": {},
     "output_type": "execute_result"
    }
   ],
   "source": [
    "print('Taking model with lowest RMSE score:')\n",
    "df_results2[df_results2.RMSE==df_results2.RMSE.min()]\n"
   ]
  },
  {
   "cell_type": "code",
   "execution_count": 269,
   "id": "7fb48a22",
   "metadata": {},
   "outputs": [
    {
     "name": "stdout",
     "output_type": "stream",
     "text": [
      "Taking model with lowest BIC score:\n"
     ]
    },
    {
     "data": {
      "text/html": [
       "<div>\n",
       "<style scoped>\n",
       "    .dataframe tbody tr th:only-of-type {\n",
       "        vertical-align: middle;\n",
       "    }\n",
       "\n",
       "    .dataframe tbody tr th {\n",
       "        vertical-align: top;\n",
       "    }\n",
       "\n",
       "    .dataframe thead th {\n",
       "        text-align: right;\n",
       "    }\n",
       "</style>\n",
       "<table border=\"1\" class=\"dataframe\">\n",
       "  <thead>\n",
       "    <tr style=\"text-align: right;\">\n",
       "      <th></th>\n",
       "      <th>Model No.</th>\n",
       "      <th>(p, d, q)</th>\n",
       "      <th>AIC</th>\n",
       "      <th>BIC</th>\n",
       "      <th>MSE</th>\n",
       "      <th>RMSE</th>\n",
       "    </tr>\n",
       "  </thead>\n",
       "  <tbody>\n",
       "    <tr>\n",
       "      <th>0</th>\n",
       "      <td>Model 0</td>\n",
       "      <td>(0, 0, 0)</td>\n",
       "      <td>538.874769</td>\n",
       "      <td>545.062269</td>\n",
       "      <td>0.775471</td>\n",
       "      <td>0.880608</td>\n",
       "    </tr>\n",
       "  </tbody>\n",
       "</table>\n",
       "</div>"
      ],
      "text/plain": [
       "  Model No.  (p, d, q)         AIC         BIC       MSE      RMSE\n",
       "0   Model 0  (0, 0, 0)  538.874769  545.062269  0.775471  0.880608"
      ]
     },
     "execution_count": 269,
     "metadata": {},
     "output_type": "execute_result"
    }
   ],
   "source": [
    "print('Taking model with lowest BIC score:')\n",
    "\n",
    "df_results2[df_results2.BIC==df_results2.BIC.min()]"
   ]
  },
  {
   "cell_type": "code",
   "execution_count": 270,
   "id": "03470ef1",
   "metadata": {},
   "outputs": [
    {
     "name": "stdout",
     "output_type": "stream",
     "text": [
      "Taking model with lowest AIC score:\n"
     ]
    },
    {
     "data": {
      "text/html": [
       "<div>\n",
       "<style scoped>\n",
       "    .dataframe tbody tr th:only-of-type {\n",
       "        vertical-align: middle;\n",
       "    }\n",
       "\n",
       "    .dataframe tbody tr th {\n",
       "        vertical-align: top;\n",
       "    }\n",
       "\n",
       "    .dataframe thead th {\n",
       "        text-align: right;\n",
       "    }\n",
       "</style>\n",
       "<table border=\"1\" class=\"dataframe\">\n",
       "  <thead>\n",
       "    <tr style=\"text-align: right;\">\n",
       "      <th></th>\n",
       "      <th>Model No.</th>\n",
       "      <th>(p, d, q)</th>\n",
       "      <th>AIC</th>\n",
       "      <th>BIC</th>\n",
       "      <th>MSE</th>\n",
       "      <th>RMSE</th>\n",
       "    </tr>\n",
       "  </thead>\n",
       "  <tbody>\n",
       "    <tr>\n",
       "      <th>17</th>\n",
       "      <td>Model 17</td>\n",
       "      <td>(3, 0, 2)</td>\n",
       "      <td>535.610234</td>\n",
       "      <td>557.266486</td>\n",
       "      <td>0.797563</td>\n",
       "      <td>0.893064</td>\n",
       "    </tr>\n",
       "  </tbody>\n",
       "</table>\n",
       "</div>"
      ],
      "text/plain": [
       "   Model No.  (p, d, q)         AIC         BIC       MSE      RMSE\n",
       "17  Model 17  (3, 0, 2)  535.610234  557.266486  0.797563  0.893064"
      ]
     },
     "execution_count": 270,
     "metadata": {},
     "output_type": "execute_result"
    }
   ],
   "source": [
    "print('Taking model with lowest AIC score:')\n",
    "df_results2[df_results2.AIC==df_results2.AIC.min()]"
   ]
  },
  {
   "cell_type": "code",
   "execution_count": 289,
   "id": "8d8b7989",
   "metadata": {},
   "outputs": [
    {
     "data": {
      "text/html": [
       "<table class=\"simpletable\">\n",
       "<caption>SARIMAX Results</caption>\n",
       "<tr>\n",
       "  <th>Dep. Variable:</th>            <td>sentiment_count</td>         <th>  No. Observations:  </th>    <td>233</td>  \n",
       "</tr>\n",
       "<tr>\n",
       "  <th>Model:</th>           <td>SARIMAX(4, 0, 2)x(1, 0, [1], 12)</td> <th>  Log Likelihood     </th> <td>-358.125</td>\n",
       "</tr>\n",
       "<tr>\n",
       "  <th>Date:</th>                    <td>Wed, 25 Jan 2023</td>         <th>  AIC                </th>  <td>734.251</td>\n",
       "</tr>\n",
       "<tr>\n",
       "  <th>Time:</th>                        <td>15:49:12</td>             <th>  BIC                </th>  <td>765.310</td>\n",
       "</tr>\n",
       "<tr>\n",
       "  <th>Sample:</th>                          <td>0</td>                <th>  HQIC               </th>  <td>746.775</td>\n",
       "</tr>\n",
       "<tr>\n",
       "  <th></th>                              <td> - 233</td>              <th>                     </th>     <td> </td>   \n",
       "</tr>\n",
       "<tr>\n",
       "  <th>Covariance Type:</th>                <td>opg</td>               <th>                     </th>     <td> </td>   \n",
       "</tr>\n",
       "</table>\n",
       "<table class=\"simpletable\">\n",
       "<tr>\n",
       "      <td></td>        <th>coef</th>     <th>std err</th>      <th>z</th>      <th>P>|z|</th>  <th>[0.025</th>    <th>0.975]</th>  \n",
       "</tr>\n",
       "<tr>\n",
       "  <th>ar.L1</th>    <td>    0.0562</td> <td>    0.092</td> <td>    0.610</td> <td> 0.542</td> <td>   -0.124</td> <td>    0.237</td>\n",
       "</tr>\n",
       "<tr>\n",
       "  <th>ar.L2</th>    <td>    1.0224</td> <td>    0.098</td> <td>   10.475</td> <td> 0.000</td> <td>    0.831</td> <td>    1.214</td>\n",
       "</tr>\n",
       "<tr>\n",
       "  <th>ar.L3</th>    <td>   -0.0276</td> <td>    0.077</td> <td>   -0.356</td> <td> 0.722</td> <td>   -0.179</td> <td>    0.124</td>\n",
       "</tr>\n",
       "<tr>\n",
       "  <th>ar.L4</th>    <td>   -0.0532</td> <td>    0.096</td> <td>   -0.551</td> <td> 0.582</td> <td>   -0.242</td> <td>    0.136</td>\n",
       "</tr>\n",
       "<tr>\n",
       "  <th>ma.L1</th>    <td>    0.0392</td> <td>    0.054</td> <td>    0.726</td> <td> 0.468</td> <td>   -0.067</td> <td>    0.145</td>\n",
       "</tr>\n",
       "<tr>\n",
       "  <th>ma.L2</th>    <td>   -0.9370</td> <td>    0.053</td> <td>  -17.830</td> <td> 0.000</td> <td>   -1.040</td> <td>   -0.834</td>\n",
       "</tr>\n",
       "<tr>\n",
       "  <th>ar.S.L12</th> <td>    0.4735</td> <td>    0.387</td> <td>    1.224</td> <td> 0.221</td> <td>   -0.285</td> <td>    1.232</td>\n",
       "</tr>\n",
       "<tr>\n",
       "  <th>ma.S.L12</th> <td>   -0.3349</td> <td>    0.390</td> <td>   -0.859</td> <td> 0.390</td> <td>   -1.099</td> <td>    0.429</td>\n",
       "</tr>\n",
       "<tr>\n",
       "  <th>sigma2</th>   <td>    1.2540</td> <td>    0.062</td> <td>   20.150</td> <td> 0.000</td> <td>    1.132</td> <td>    1.376</td>\n",
       "</tr>\n",
       "</table>\n",
       "<table class=\"simpletable\">\n",
       "<tr>\n",
       "  <th>Ljung-Box (L1) (Q):</th>     <td>0.00</td> <th>  Jarque-Bera (JB):  </th> <td>2369.60</td>\n",
       "</tr>\n",
       "<tr>\n",
       "  <th>Prob(Q):</th>                <td>0.98</td> <th>  Prob(JB):          </th>  <td>0.00</td>  \n",
       "</tr>\n",
       "<tr>\n",
       "  <th>Heteroskedasticity (H):</th> <td>0.57</td> <th>  Skew:              </th>  <td>3.14</td>  \n",
       "</tr>\n",
       "<tr>\n",
       "  <th>Prob(H) (two-sided):</th>    <td>0.01</td> <th>  Kurtosis:          </th>  <td>17.30</td> \n",
       "</tr>\n",
       "</table><br/><br/>Warnings:<br/>[1] Covariance matrix calculated using the outer product of gradients (complex-step)."
      ],
      "text/plain": [
       "<class 'statsmodels.iolib.summary.Summary'>\n",
       "\"\"\"\n",
       "                                      SARIMAX Results                                       \n",
       "============================================================================================\n",
       "Dep. Variable:                      sentiment_count   No. Observations:                  233\n",
       "Model:             SARIMAX(4, 0, 2)x(1, 0, [1], 12)   Log Likelihood                -358.125\n",
       "Date:                              Wed, 25 Jan 2023   AIC                            734.251\n",
       "Time:                                      15:49:12   BIC                            765.310\n",
       "Sample:                                           0   HQIC                           746.775\n",
       "                                              - 233                                         \n",
       "Covariance Type:                                opg                                         \n",
       "==============================================================================\n",
       "                 coef    std err          z      P>|z|      [0.025      0.975]\n",
       "------------------------------------------------------------------------------\n",
       "ar.L1          0.0562      0.092      0.610      0.542      -0.124       0.237\n",
       "ar.L2          1.0224      0.098     10.475      0.000       0.831       1.214\n",
       "ar.L3         -0.0276      0.077     -0.356      0.722      -0.179       0.124\n",
       "ar.L4         -0.0532      0.096     -0.551      0.582      -0.242       0.136\n",
       "ma.L1          0.0392      0.054      0.726      0.468      -0.067       0.145\n",
       "ma.L2         -0.9370      0.053    -17.830      0.000      -1.040      -0.834\n",
       "ar.S.L12       0.4735      0.387      1.224      0.221      -0.285       1.232\n",
       "ma.S.L12      -0.3349      0.390     -0.859      0.390      -1.099       0.429\n",
       "sigma2         1.2540      0.062     20.150      0.000       1.132       1.376\n",
       "===================================================================================\n",
       "Ljung-Box (L1) (Q):                   0.00   Jarque-Bera (JB):              2369.60\n",
       "Prob(Q):                              0.98   Prob(JB):                         0.00\n",
       "Heteroskedasticity (H):               0.57   Skew:                             3.14\n",
       "Prob(H) (two-sided):                  0.01   Kurtosis:                        17.30\n",
       "===================================================================================\n",
       "\n",
       "Warnings:\n",
       "[1] Covariance matrix calculated using the outer product of gradients (complex-step).\n",
       "\"\"\""
      ]
     },
     "execution_count": 289,
     "metadata": {},
     "output_type": "execute_result"
    }
   ],
   "source": [
    "p=4;q=2;d=0\n",
    "P=1;Q=1;D=0\n",
    "m2 = sm.tsa.statespace.SARIMAX(cd_neu['sentiment_count'],order=(p,d,q),seasonal_order=(P,D,Q,12)).fit()\n",
    "# summarise the model\n",
    "m2.summary()\n"
   ]
  },
  {
   "cell_type": "code",
   "execution_count": 290,
   "id": "cf1fede8",
   "metadata": {},
   "outputs": [
    {
     "name": "stdout",
     "output_type": "stream",
     "text": [
      "Fail-to-Reject H0. Good model\n"
     ]
    }
   ],
   "source": [
    "# LJung-Box test\n",
    "pvalue = sm.stats.acorr_ljungbox(m2.resid,lags=[1],return_df=True)['lb_pvalue'].values\n",
    "if pvalue < 0.05:\n",
    "    print(\"Reject H0. Bad model\")\n",
    "else:\n",
    "    print(\"Fail-to-Reject H0. Good model\")"
   ]
  },
  {
   "cell_type": "code",
   "execution_count": 291,
   "id": "7717834c",
   "metadata": {},
   "outputs": [
    {
     "name": "stdout",
     "output_type": "stream",
     "text": [
      "start = 163, end = 232\n"
     ]
    }
   ],
   "source": [
    "start = len(train2) \n",
    "end = len(train2) + len(test2) - 1\n",
    "\n",
    "print('start = {}, end = {}'.format(start,end))"
   ]
  },
  {
   "cell_type": "code",
   "execution_count": 292,
   "id": "5368e57d",
   "metadata": {},
   "outputs": [
    {
     "name": "stdout",
     "output_type": "stream",
     "text": [
      "date\n",
      "2012-07-31    2.276397\n",
      "2012-08-31    2.347922\n",
      "2012-09-30    1.963872\n",
      "2012-10-31    1.649206\n",
      "2012-11-30    2.050493\n",
      "                ...   \n",
      "2017-12-31    1.515500\n",
      "2018-01-31    1.548221\n",
      "2018-02-28    1.471615\n",
      "2018-03-31    1.485677\n",
      "2018-04-30    1.357817\n",
      "Name: predicted_mean, Length: 70, dtype: float64\n"
     ]
    }
   ],
   "source": [
    "predictions = m2.predict(start,end)\n",
    "predictions.index=test2.index\n",
    "print(predictions)"
   ]
  },
  {
   "cell_type": "code",
   "execution_count": 293,
   "id": "6c7c9838",
   "metadata": {},
   "outputs": [
    {
     "name": "stdout",
     "output_type": "stream",
     "text": [
      "              actual  predicted     error\n",
      "date                                     \n",
      "2012-07-31  1.750000   2.276397 -0.526397\n",
      "2012-08-31  1.307692   2.347922 -1.040230\n",
      "2012-09-30  1.833333   1.963872 -0.130538\n",
      "2012-10-31  1.500000   1.649206 -0.149206\n",
      "2012-11-30  2.428571   2.050493  0.378078\n",
      "...              ...        ...       ...\n",
      "2017-12-31  1.000000   1.515500 -0.515500\n",
      "2018-01-31  1.000000   1.548221 -0.548221\n",
      "2018-02-28  1.000000   1.471615 -0.471615\n",
      "2018-03-31  1.333333   1.485677 -0.152343\n",
      "2018-04-30  1.000000   1.357817 -0.357817\n",
      "\n",
      "[70 rows x 3 columns]\n"
     ]
    }
   ],
   "source": [
    "actual = []; pred = []\n",
    "for i in range(len(predictions)):\n",
    "    actual.append(test2['sentiment_count'][i])\n",
    "    pred.append(predictions[i])\n",
    "\n",
    "df_res2 = pd.DataFrame({'actual':actual, 'predicted':pred})\n",
    "df_res2['error'] = df_res2.actual - df_res2.predicted\n",
    "df_res2.index=test2.index\n",
    "print(df_res2)"
   ]
  },
  {
   "cell_type": "code",
   "execution_count": 294,
   "id": "7b351b2e",
   "metadata": {},
   "outputs": [
    {
     "name": "stdout",
     "output_type": "stream",
     "text": [
      "mse: 0.5507129683521452\n",
      "rmse: 0.7421003761972805\n"
     ]
    }
   ],
   "source": [
    "mse2=mean_squared_error(df_res2.actual,df_res2.predicted)\n",
    "rmse2=np.sqrt(mse2)\n",
    "print('mse:',mse2)\n",
    "print('rmse:',rmse2)"
   ]
  },
  {
   "cell_type": "code",
   "execution_count": 261,
   "id": "8e72ebd1",
   "metadata": {},
   "outputs": [
    {
     "data": {
      "text/plain": [
       "Text(0.5, 1.0, 'SARIMA Model. Order=(4,0,2)')"
      ]
     },
     "execution_count": 261,
     "metadata": {},
     "output_type": "execute_result"
    },
    {
     "data": {
      "image/png": "[encoded data removed]",
      "text/plain": [
       "<Figure size 720x576 with 1 Axes>"
      ]
     },
     "metadata": {
      "needs_background": "light"
     },
     "output_type": "display_data"
    }
   ],
   "source": [
    "msg = 'SARIMA Model. Order=(' + str(p) + ',' + str(d) + ',' + str(q) + ')'\n",
    "df_res2.actual.plot(figsize=(10,8),legend=True)\n",
    "df_res2.predicted.plot(legend=True)\n",
    "plt.title(msg)"
   ]
  },
  {
   "cell_type": "code",
   "execution_count": 262,
   "id": "3de71081",
   "metadata": {},
   "outputs": [],
   "source": [
    "future_dates=pd.DataFrame()\n",
    "future_dates['date']=[    \n",
    "'2018-04-30',    \n",
    "'2018-07-31',  \n",
    "'2018-11-30',  \n",
    "'2019-01-31',    \n",
    "'2019-03-30',   \n",
    "'2019-05-31',    \n",
    "'2019-07-30',    \n",
    "]      \n",
    "future_dates=pd.to_datetime(future_dates['date'])\n",
    "future_dates=pd.DataFrame(future_dates)\n"
   ]
  },
  {
   "cell_type": "code",
   "execution_count": 263,
   "id": "8c536d81",
   "metadata": {},
   "outputs": [
    {
     "name": "stdout",
     "output_type": "stream",
     "text": [
      "date\n",
      "2018-04-30    1.357817\n",
      "2018-07-31    1.407471\n",
      "2018-11-30    1.316971\n",
      "2019-01-31    1.346393\n",
      "2019-03-30    1.676420\n",
      "Name: Forecast, dtype: float64\n"
     ]
    }
   ],
   "source": [
    "fcast2 = m2.predict(end,end+6).rename('Forecast')\n",
    "fcast2.index=future_dates.date\n",
    "print(fcast2.head())"
   ]
  },
  {
   "cell_type": "code",
   "execution_count": 297,
   "id": "61ce8efa",
   "metadata": {},
   "outputs": [
    {
     "data": {
      "text/plain": [
       "<AxesSubplot:xlabel='date', ylabel='count of neutral sentiment'>"
      ]
     },
     "execution_count": 297,
     "metadata": {},
     "output_type": "execute_result"
    },
    {
     "data": {
      "image/png": "[encoded data removed]",
      "text/plain": [
       "<Figure size 720x576 with 1 Axes>"
      ]
     },
     "metadata": {
      "needs_background": "light"
     },
     "output_type": "display_data"
    }
   ],
   "source": [
    "df_res2.actual.tail(30).plot(figsize=(10,8),legend=True)\n",
    "df_res2.predicted.tail(30).plot(legend=True)\n",
    "plt.ylabel('count of neutral sentiment')\n",
    "fcast2.plot(legend=True)"
   ]
  },
  {
   "cell_type": "markdown",
   "id": "edea35d7",
   "metadata": {},
   "source": [
    "## Negative"
   ]
  },
  {
   "cell_type": "code",
   "execution_count": 298,
   "id": "3389e046",
   "metadata": {},
   "outputs": [
    {
     "data": {
      "text/html": [
       "<div>\n",
       "<style scoped>\n",
       "    .dataframe tbody tr th:only-of-type {\n",
       "        vertical-align: middle;\n",
       "    }\n",
       "\n",
       "    .dataframe tbody tr th {\n",
       "        vertical-align: top;\n",
       "    }\n",
       "\n",
       "    .dataframe thead th {\n",
       "        text-align: right;\n",
       "    }\n",
       "</style>\n",
       "<table border=\"1\" class=\"dataframe\">\n",
       "  <thead>\n",
       "    <tr style=\"text-align: right;\">\n",
       "      <th></th>\n",
       "      <th>asin</th>\n",
       "      <th>Month</th>\n",
       "      <th>Sentiment</th>\n",
       "      <th>sentiment_count</th>\n",
       "    </tr>\n",
       "  </thead>\n",
       "  <tbody>\n",
       "    <tr>\n",
       "      <th>0</th>\n",
       "      <td>7883938797</td>\n",
       "      <td>6</td>\n",
       "      <td>Negative</td>\n",
       "      <td>1</td>\n",
       "    </tr>\n",
       "    <tr>\n",
       "      <th>1</th>\n",
       "      <td>807232053X</td>\n",
       "      <td>2</td>\n",
       "      <td>Negative</td>\n",
       "      <td>1</td>\n",
       "    </tr>\n",
       "    <tr>\n",
       "      <th>2</th>\n",
       "      <td>807232053X</td>\n",
       "      <td>5</td>\n",
       "      <td>Negative</td>\n",
       "      <td>1</td>\n",
       "    </tr>\n",
       "    <tr>\n",
       "      <th>3</th>\n",
       "      <td>B00000010R</td>\n",
       "      <td>3</td>\n",
       "      <td>Negative</td>\n",
       "      <td>1</td>\n",
       "    </tr>\n",
       "    <tr>\n",
       "      <th>4</th>\n",
       "      <td>B00000010R</td>\n",
       "      <td>5</td>\n",
       "      <td>Negative</td>\n",
       "      <td>1</td>\n",
       "    </tr>\n",
       "    <tr>\n",
       "      <th>...</th>\n",
       "      <td>...</td>\n",
       "      <td>...</td>\n",
       "      <td>...</td>\n",
       "      <td>...</td>\n",
       "    </tr>\n",
       "    <tr>\n",
       "      <th>3085</th>\n",
       "      <td>B01GVQWS4C</td>\n",
       "      <td>10</td>\n",
       "      <td>Negative</td>\n",
       "      <td>5</td>\n",
       "    </tr>\n",
       "    <tr>\n",
       "      <th>3086</th>\n",
       "      <td>B01GVQWS4C</td>\n",
       "      <td>11</td>\n",
       "      <td>Negative</td>\n",
       "      <td>2</td>\n",
       "    </tr>\n",
       "    <tr>\n",
       "      <th>3087</th>\n",
       "      <td>B01HC8ZLSI</td>\n",
       "      <td>9</td>\n",
       "      <td>Negative</td>\n",
       "      <td>3</td>\n",
       "    </tr>\n",
       "    <tr>\n",
       "      <th>3088</th>\n",
       "      <td>B01HC8ZLSI</td>\n",
       "      <td>10</td>\n",
       "      <td>Negative</td>\n",
       "      <td>2</td>\n",
       "    </tr>\n",
       "    <tr>\n",
       "      <th>3089</th>\n",
       "      <td>B01HC8ZLSI</td>\n",
       "      <td>12</td>\n",
       "      <td>Negative</td>\n",
       "      <td>1</td>\n",
       "    </tr>\n",
       "  </tbody>\n",
       "</table>\n",
       "<p>3090 rows × 4 columns</p>\n",
       "</div>"
      ],
      "text/plain": [
       "            asin  Month Sentiment  sentiment_count\n",
       "0     7883938797      6  Negative                1\n",
       "1     807232053X      2  Negative                1\n",
       "2     807232053X      5  Negative                1\n",
       "3     B00000010R      3  Negative                1\n",
       "4     B00000010R      5  Negative                1\n",
       "...          ...    ...       ...              ...\n",
       "3085  B01GVQWS4C     10  Negative                5\n",
       "3086  B01GVQWS4C     11  Negative                2\n",
       "3087  B01HC8ZLSI      9  Negative                3\n",
       "3088  B01HC8ZLSI     10  Negative                2\n",
       "3089  B01HC8ZLSI     12  Negative                1\n",
       "\n",
       "[3090 rows x 4 columns]"
      ]
     },
     "execution_count": 298,
     "metadata": {},
     "output_type": "execute_result"
    }
   ],
   "source": [
    "cd_neg_count=cd_neg.groupby(['asin','Month','Sentiment']).size().reset_index(name='sentiment_count')\n",
    "cd_neg_count"
   ]
  },
  {
   "cell_type": "code",
   "execution_count": 299,
   "id": "a3dd69aa",
   "metadata": {},
   "outputs": [],
   "source": [
    "cd_neg=pd.merge(cd_neg,cd_neg_count)"
   ]
  },
  {
   "cell_type": "code",
   "execution_count": 300,
   "id": "4365b84c",
   "metadata": {},
   "outputs": [
    {
     "data": {
      "text/html": [
       "<div>\n",
       "<style scoped>\n",
       "    .dataframe tbody tr th:only-of-type {\n",
       "        vertical-align: middle;\n",
       "    }\n",
       "\n",
       "    .dataframe tbody tr th {\n",
       "        vertical-align: top;\n",
       "    }\n",
       "\n",
       "    .dataframe thead th {\n",
       "        text-align: right;\n",
       "    }\n",
       "</style>\n",
       "<table border=\"1\" class=\"dataframe\">\n",
       "  <thead>\n",
       "    <tr style=\"text-align: right;\">\n",
       "      <th></th>\n",
       "      <th>sentiment_count</th>\n",
       "    </tr>\n",
       "    <tr>\n",
       "      <th>date</th>\n",
       "      <th></th>\n",
       "    </tr>\n",
       "  </thead>\n",
       "  <tbody>\n",
       "    <tr>\n",
       "      <th>1998-06-29</th>\n",
       "      <td>4</td>\n",
       "    </tr>\n",
       "    <tr>\n",
       "      <th>1998-06-29</th>\n",
       "      <td>1</td>\n",
       "    </tr>\n",
       "    <tr>\n",
       "      <th>1998-09-23</th>\n",
       "      <td>1</td>\n",
       "    </tr>\n",
       "    <tr>\n",
       "      <th>1998-10-02</th>\n",
       "      <td>1</td>\n",
       "    </tr>\n",
       "    <tr>\n",
       "      <th>1998-11-25</th>\n",
       "      <td>1</td>\n",
       "    </tr>\n",
       "    <tr>\n",
       "      <th>...</th>\n",
       "      <td>...</td>\n",
       "    </tr>\n",
       "    <tr>\n",
       "      <th>2018-03-04</th>\n",
       "      <td>1</td>\n",
       "    </tr>\n",
       "    <tr>\n",
       "      <th>2018-03-07</th>\n",
       "      <td>2</td>\n",
       "    </tr>\n",
       "    <tr>\n",
       "      <th>2018-04-25</th>\n",
       "      <td>3</td>\n",
       "    </tr>\n",
       "    <tr>\n",
       "      <th>2018-05-02</th>\n",
       "      <td>3</td>\n",
       "    </tr>\n",
       "    <tr>\n",
       "      <th>2018-06-16</th>\n",
       "      <td>1</td>\n",
       "    </tr>\n",
       "  </tbody>\n",
       "</table>\n",
       "<p>5992 rows × 1 columns</p>\n",
       "</div>"
      ],
      "text/plain": [
       "            sentiment_count\n",
       "date                       \n",
       "1998-06-29                4\n",
       "1998-06-29                1\n",
       "1998-09-23                1\n",
       "1998-10-02                1\n",
       "1998-11-25                1\n",
       "...                     ...\n",
       "2018-03-04                1\n",
       "2018-03-07                2\n",
       "2018-04-25                3\n",
       "2018-05-02                3\n",
       "2018-06-16                1\n",
       "\n",
       "[5992 rows x 1 columns]"
      ]
     },
     "execution_count": 300,
     "metadata": {},
     "output_type": "execute_result"
    }
   ],
   "source": [
    "cd_neg=cd_neg[['date','sentiment_count']]\n",
    "cd_neg=cd_neg.set_index('date')\n",
    "cd_neg=cd_neg.sort_values(by=['date'])\n",
    "cd_neg"
   ]
  },
  {
   "cell_type": "code",
   "execution_count": 301,
   "id": "5dfc5e57",
   "metadata": {},
   "outputs": [
    {
     "data": {
      "text/html": [
       "<div>\n",
       "<style scoped>\n",
       "    .dataframe tbody tr th:only-of-type {\n",
       "        vertical-align: middle;\n",
       "    }\n",
       "\n",
       "    .dataframe tbody tr th {\n",
       "        vertical-align: top;\n",
       "    }\n",
       "\n",
       "    .dataframe thead th {\n",
       "        text-align: right;\n",
       "    }\n",
       "</style>\n",
       "<table border=\"1\" class=\"dataframe\">\n",
       "  <thead>\n",
       "    <tr style=\"text-align: right;\">\n",
       "      <th></th>\n",
       "      <th>sentiment_count</th>\n",
       "    </tr>\n",
       "    <tr>\n",
       "      <th>date</th>\n",
       "      <th></th>\n",
       "    </tr>\n",
       "  </thead>\n",
       "  <tbody>\n",
       "    <tr>\n",
       "      <th>1998-06-30</th>\n",
       "      <td>2.5</td>\n",
       "    </tr>\n",
       "    <tr>\n",
       "      <th>1998-07-31</th>\n",
       "      <td>NaN</td>\n",
       "    </tr>\n",
       "    <tr>\n",
       "      <th>1998-08-31</th>\n",
       "      <td>NaN</td>\n",
       "    </tr>\n",
       "    <tr>\n",
       "      <th>1998-09-30</th>\n",
       "      <td>1.0</td>\n",
       "    </tr>\n",
       "    <tr>\n",
       "      <th>1998-10-31</th>\n",
       "      <td>1.0</td>\n",
       "    </tr>\n",
       "  </tbody>\n",
       "</table>\n",
       "</div>"
      ],
      "text/plain": [
       "            sentiment_count\n",
       "date                       \n",
       "1998-06-30              2.5\n",
       "1998-07-31              NaN\n",
       "1998-08-31              NaN\n",
       "1998-09-30              1.0\n",
       "1998-10-31              1.0"
      ]
     },
     "execution_count": 301,
     "metadata": {},
     "output_type": "execute_result"
    }
   ],
   "source": [
    "cd_neg=cd_neg.resample('M').mean()\n",
    "cd_neg.head()"
   ]
  },
  {
   "cell_type": "code",
   "execution_count": 302,
   "id": "76057d30",
   "metadata": {},
   "outputs": [
    {
     "data": {
      "text/plain": [
       "sentiment_count    4\n",
       "dtype: int64"
      ]
     },
     "execution_count": 302,
     "metadata": {},
     "output_type": "execute_result"
    }
   ],
   "source": [
    "cd_neg.isnull().sum()"
   ]
  },
  {
   "cell_type": "code",
   "execution_count": 303,
   "id": "327e3a6a",
   "metadata": {},
   "outputs": [],
   "source": [
    "cd_neg.dropna(inplace=True)"
   ]
  },
  {
   "cell_type": "code",
   "execution_count": 304,
   "id": "99a6b034",
   "metadata": {},
   "outputs": [
    {
     "name": "stdout",
     "output_type": "stream",
     "text": [
      "pvalue: 0.001971790780439436\n"
     ]
    },
    {
     "data": {
      "text/plain": [
       "'Data is Stationary. Proceed to model building'"
      ]
     },
     "execution_count": 304,
     "metadata": {},
     "output_type": "execute_result"
    }
   ],
   "source": [
    "checkStationarity(cd_neg)"
   ]
  },
  {
   "cell_type": "code",
   "execution_count": 305,
   "id": "59ef41fb",
   "metadata": {},
   "outputs": [
    {
     "name": "stdout",
     "output_type": "stream",
     "text": [
      "Total=237, Train=165, Test=72\n"
     ]
    }
   ],
   "source": [
    "ratio = 0.7\n",
    "rows = int(ratio * len(cd_neg))\n",
    "train3 =cd_neg[:rows]\n",
    "test3 = cd_neg[rows:]\n",
    "\n",
    "print(\"Total={}, Train={}, Test={}\".format(len(cd_neg), len(train3), len(test3)))"
   ]
  },
  {
   "cell_type": "code",
   "execution_count": 306,
   "id": "a5e2ea72",
   "metadata": {},
   "outputs": [
    {
     "data": {
      "image/png": "[encoded data removed]",
      "text/plain": [
       "<Figure size 1080x360 with 2 Axes>"
      ]
     },
     "metadata": {
      "needs_background": "light"
     },
     "output_type": "display_data"
    }
   ],
   "source": [
    "p_and_q(cd_neg)"
   ]
  },
  {
   "cell_type": "code",
   "execution_count": 307,
   "id": "2731fc24",
   "metadata": {},
   "outputs": [
    {
     "name": "stdout",
     "output_type": "stream",
     "text": [
      "Model 1 Not a good model\n",
      "Model 2 Good model\n",
      "Model 3 Good model\n",
      "Model 4 Good model\n",
      "Model 5 Good model\n",
      "Model 6 Good model\n",
      "Model 7 Good model\n",
      "Model 8 Good model\n",
      "Model 9 Good model\n",
      "Model 10 Good model\n",
      "Model 11 Good model\n",
      "Model 12 Good model\n",
      "Model 13 Good model\n",
      "Model 14 Good model\n",
      "Model 15 Good model\n",
      "Model 16 Good model\n",
      "Model 17 Good model\n",
      "Model 18 Good model\n",
      "Model 19 Good model\n",
      "Model 20 Good model\n",
      "Model 21 Good model\n",
      "Model 22 Good model\n",
      "Model 23 Good model\n",
      "Model 24 Good model\n",
      "Model 25 Good model\n"
     ]
    }
   ],
   "source": [
    "d=0;\n",
    "lis=[]\n",
    "for p in range(5):\n",
    "    for q in range(5):\n",
    "        lis.append((p,d,q))\n",
    "\n",
    "# building model\n",
    "model=[]\n",
    "for i in lis:\n",
    "    m =ARIMA(train3, order=i).fit() \n",
    "    model.append(m)\n",
    "\n",
    "# checking model is good or not\n",
    "model_st=[]\n",
    "c=1\n",
    "for i in model:\n",
    "    pvalue = sm.stats.acorr_ljungbox(i.resid, lags=[1], return_df=True)['lb_pvalue'].values\n",
    "    if pvalue < 0.05:\n",
    "        print(f'Model {c} Not a good model')\n",
    "    else:\n",
    "        print(f'Model {c} Good model')\n",
    "    c+=1"
   ]
  },
  {
   "cell_type": "code",
   "execution_count": 308,
   "id": "e823a828",
   "metadata": {},
   "outputs": [
    {
     "data": {
      "text/html": [
       "<div>\n",
       "<style scoped>\n",
       "    .dataframe tbody tr th:only-of-type {\n",
       "        vertical-align: middle;\n",
       "    }\n",
       "\n",
       "    .dataframe tbody tr th {\n",
       "        vertical-align: top;\n",
       "    }\n",
       "\n",
       "    .dataframe thead th {\n",
       "        text-align: right;\n",
       "    }\n",
       "</style>\n",
       "<table border=\"1\" class=\"dataframe\">\n",
       "  <thead>\n",
       "    <tr style=\"text-align: right;\">\n",
       "      <th></th>\n",
       "      <th>Model No.</th>\n",
       "      <th>(p, d, q)</th>\n",
       "      <th>AIC</th>\n",
       "      <th>BIC</th>\n",
       "      <th>MSE</th>\n",
       "      <th>RMSE</th>\n",
       "    </tr>\n",
       "  </thead>\n",
       "  <tbody>\n",
       "    <tr>\n",
       "      <th>0</th>\n",
       "      <td>Model 0</td>\n",
       "      <td>(0, 0, 0)</td>\n",
       "      <td>899.168662</td>\n",
       "      <td>905.380553</td>\n",
       "      <td>7.989657</td>\n",
       "      <td>2.826598</td>\n",
       "    </tr>\n",
       "    <tr>\n",
       "      <th>1</th>\n",
       "      <td>Model 1</td>\n",
       "      <td>(0, 0, 1)</td>\n",
       "      <td>898.213129</td>\n",
       "      <td>907.530965</td>\n",
       "      <td>7.975650</td>\n",
       "      <td>2.824119</td>\n",
       "    </tr>\n",
       "    <tr>\n",
       "      <th>2</th>\n",
       "      <td>Model 2</td>\n",
       "      <td>(0, 0, 2)</td>\n",
       "      <td>897.471984</td>\n",
       "      <td>909.895766</td>\n",
       "      <td>7.971405</td>\n",
       "      <td>2.823368</td>\n",
       "    </tr>\n",
       "    <tr>\n",
       "      <th>3</th>\n",
       "      <td>Model 3</td>\n",
       "      <td>(0, 0, 3)</td>\n",
       "      <td>895.917787</td>\n",
       "      <td>911.447514</td>\n",
       "      <td>7.965450</td>\n",
       "      <td>2.822313</td>\n",
       "    </tr>\n",
       "    <tr>\n",
       "      <th>4</th>\n",
       "      <td>Model 4</td>\n",
       "      <td>(0, 0, 4)</td>\n",
       "      <td>897.461807</td>\n",
       "      <td>916.097479</td>\n",
       "      <td>7.947411</td>\n",
       "      <td>2.819115</td>\n",
       "    </tr>\n",
       "    <tr>\n",
       "      <th>5</th>\n",
       "      <td>Model 5</td>\n",
       "      <td>(1, 0, 0)</td>\n",
       "      <td>897.366079</td>\n",
       "      <td>906.683915</td>\n",
       "      <td>7.968001</td>\n",
       "      <td>2.822765</td>\n",
       "    </tr>\n",
       "    <tr>\n",
       "      <th>6</th>\n",
       "      <td>Model 6</td>\n",
       "      <td>(1, 0, 1)</td>\n",
       "      <td>889.184697</td>\n",
       "      <td>901.608479</td>\n",
       "      <td>7.418610</td>\n",
       "      <td>2.723713</td>\n",
       "    </tr>\n",
       "    <tr>\n",
       "      <th>7</th>\n",
       "      <td>Model 7</td>\n",
       "      <td>(1, 0, 2)</td>\n",
       "      <td>891.040157</td>\n",
       "      <td>906.569884</td>\n",
       "      <td>7.461378</td>\n",
       "      <td>2.731552</td>\n",
       "    </tr>\n",
       "    <tr>\n",
       "      <th>8</th>\n",
       "      <td>Model 8</td>\n",
       "      <td>(1, 0, 3)</td>\n",
       "      <td>893.029977</td>\n",
       "      <td>911.665650</td>\n",
       "      <td>7.451574</td>\n",
       "      <td>2.729757</td>\n",
       "    </tr>\n",
       "    <tr>\n",
       "      <th>9</th>\n",
       "      <td>Model 9</td>\n",
       "      <td>(1, 0, 4)</td>\n",
       "      <td>894.680151</td>\n",
       "      <td>916.421769</td>\n",
       "      <td>7.413704</td>\n",
       "      <td>2.722812</td>\n",
       "    </tr>\n",
       "    <tr>\n",
       "      <th>10</th>\n",
       "      <td>Model 10</td>\n",
       "      <td>(2, 0, 0)</td>\n",
       "      <td>895.488932</td>\n",
       "      <td>907.912713</td>\n",
       "      <td>7.947914</td>\n",
       "      <td>2.819205</td>\n",
       "    </tr>\n",
       "    <tr>\n",
       "      <th>11</th>\n",
       "      <td>Model 11</td>\n",
       "      <td>(2, 0, 1)</td>\n",
       "      <td>891.038283</td>\n",
       "      <td>906.568010</td>\n",
       "      <td>7.460450</td>\n",
       "      <td>2.731382</td>\n",
       "    </tr>\n",
       "    <tr>\n",
       "      <th>12</th>\n",
       "      <td>Model 12</td>\n",
       "      <td>(2, 0, 2)</td>\n",
       "      <td>892.932844</td>\n",
       "      <td>911.568517</td>\n",
       "      <td>7.429914</td>\n",
       "      <td>2.725787</td>\n",
       "    </tr>\n",
       "    <tr>\n",
       "      <th>13</th>\n",
       "      <td>Model 13</td>\n",
       "      <td>(2, 0, 3)</td>\n",
       "      <td>894.888492</td>\n",
       "      <td>916.630110</td>\n",
       "      <td>7.454378</td>\n",
       "      <td>2.730271</td>\n",
       "    </tr>\n",
       "    <tr>\n",
       "      <th>14</th>\n",
       "      <td>Model 14</td>\n",
       "      <td>(2, 0, 4)</td>\n",
       "      <td>896.883076</td>\n",
       "      <td>921.730639</td>\n",
       "      <td>7.461794</td>\n",
       "      <td>2.731629</td>\n",
       "    </tr>\n",
       "    <tr>\n",
       "      <th>15</th>\n",
       "      <td>Model 15</td>\n",
       "      <td>(3, 0, 0)</td>\n",
       "      <td>893.612298</td>\n",
       "      <td>909.142025</td>\n",
       "      <td>7.904220</td>\n",
       "      <td>2.811445</td>\n",
       "    </tr>\n",
       "    <tr>\n",
       "      <th>16</th>\n",
       "      <td>Model 16</td>\n",
       "      <td>(3, 0, 1)</td>\n",
       "      <td>893.037257</td>\n",
       "      <td>911.672930</td>\n",
       "      <td>7.456864</td>\n",
       "      <td>2.730726</td>\n",
       "    </tr>\n",
       "    <tr>\n",
       "      <th>17</th>\n",
       "      <td>Model 17</td>\n",
       "      <td>(3, 0, 2)</td>\n",
       "      <td>894.889389</td>\n",
       "      <td>916.631008</td>\n",
       "      <td>7.450545</td>\n",
       "      <td>2.729569</td>\n",
       "    </tr>\n",
       "    <tr>\n",
       "      <th>18</th>\n",
       "      <td>Model 18</td>\n",
       "      <td>(3, 0, 3)</td>\n",
       "      <td>884.688395</td>\n",
       "      <td>909.535959</td>\n",
       "      <td>7.360035</td>\n",
       "      <td>2.712938</td>\n",
       "    </tr>\n",
       "    <tr>\n",
       "      <th>19</th>\n",
       "      <td>Model 19</td>\n",
       "      <td>(3, 0, 4)</td>\n",
       "      <td>886.285002</td>\n",
       "      <td>914.238511</td>\n",
       "      <td>7.318993</td>\n",
       "      <td>2.705364</td>\n",
       "    </tr>\n",
       "    <tr>\n",
       "      <th>20</th>\n",
       "      <td>Model 20</td>\n",
       "      <td>(4, 0, 0)</td>\n",
       "      <td>895.227644</td>\n",
       "      <td>913.863317</td>\n",
       "      <td>7.870450</td>\n",
       "      <td>2.805432</td>\n",
       "    </tr>\n",
       "    <tr>\n",
       "      <th>21</th>\n",
       "      <td>Model 21</td>\n",
       "      <td>(4, 0, 1)</td>\n",
       "      <td>896.038721</td>\n",
       "      <td>917.780339</td>\n",
       "      <td>7.878997</td>\n",
       "      <td>2.806955</td>\n",
       "    </tr>\n",
       "    <tr>\n",
       "      <th>22</th>\n",
       "      <td>Model 22</td>\n",
       "      <td>(4, 0, 2)</td>\n",
       "      <td>896.875582</td>\n",
       "      <td>921.723146</td>\n",
       "      <td>7.468191</td>\n",
       "      <td>2.732799</td>\n",
       "    </tr>\n",
       "    <tr>\n",
       "      <th>23</th>\n",
       "      <td>Model 23</td>\n",
       "      <td>(4, 0, 3)</td>\n",
       "      <td>890.734240</td>\n",
       "      <td>918.687749</td>\n",
       "      <td>7.409797</td>\n",
       "      <td>2.722094</td>\n",
       "    </tr>\n",
       "    <tr>\n",
       "      <th>24</th>\n",
       "      <td>Model 24</td>\n",
       "      <td>(4, 0, 4)</td>\n",
       "      <td>892.335764</td>\n",
       "      <td>923.395219</td>\n",
       "      <td>7.244938</td>\n",
       "      <td>2.691642</td>\n",
       "    </tr>\n",
       "  </tbody>\n",
       "</table>\n",
       "</div>"
      ],
      "text/plain": [
       "   Model No.  (p, d, q)         AIC         BIC       MSE      RMSE\n",
       "0    Model 0  (0, 0, 0)  899.168662  905.380553  7.989657  2.826598\n",
       "1    Model 1  (0, 0, 1)  898.213129  907.530965  7.975650  2.824119\n",
       "2    Model 2  (0, 0, 2)  897.471984  909.895766  7.971405  2.823368\n",
       "3    Model 3  (0, 0, 3)  895.917787  911.447514  7.965450  2.822313\n",
       "4    Model 4  (0, 0, 4)  897.461807  916.097479  7.947411  2.819115\n",
       "5    Model 5  (1, 0, 0)  897.366079  906.683915  7.968001  2.822765\n",
       "6    Model 6  (1, 0, 1)  889.184697  901.608479  7.418610  2.723713\n",
       "7    Model 7  (1, 0, 2)  891.040157  906.569884  7.461378  2.731552\n",
       "8    Model 8  (1, 0, 3)  893.029977  911.665650  7.451574  2.729757\n",
       "9    Model 9  (1, 0, 4)  894.680151  916.421769  7.413704  2.722812\n",
       "10  Model 10  (2, 0, 0)  895.488932  907.912713  7.947914  2.819205\n",
       "11  Model 11  (2, 0, 1)  891.038283  906.568010  7.460450  2.731382\n",
       "12  Model 12  (2, 0, 2)  892.932844  911.568517  7.429914  2.725787\n",
       "13  Model 13  (2, 0, 3)  894.888492  916.630110  7.454378  2.730271\n",
       "14  Model 14  (2, 0, 4)  896.883076  921.730639  7.461794  2.731629\n",
       "15  Model 15  (3, 0, 0)  893.612298  909.142025  7.904220  2.811445\n",
       "16  Model 16  (3, 0, 1)  893.037257  911.672930  7.456864  2.730726\n",
       "17  Model 17  (3, 0, 2)  894.889389  916.631008  7.450545  2.729569\n",
       "18  Model 18  (3, 0, 3)  884.688395  909.535959  7.360035  2.712938\n",
       "19  Model 19  (3, 0, 4)  886.285002  914.238511  7.318993  2.705364\n",
       "20  Model 20  (4, 0, 0)  895.227644  913.863317  7.870450  2.805432\n",
       "21  Model 21  (4, 0, 1)  896.038721  917.780339  7.878997  2.806955\n",
       "22  Model 22  (4, 0, 2)  896.875582  921.723146  7.468191  2.732799\n",
       "23  Model 23  (4, 0, 3)  890.734240  918.687749  7.409797  2.722094\n",
       "24  Model 24  (4, 0, 4)  892.335764  923.395219  7.244938  2.691642"
      ]
     },
     "execution_count": 308,
     "metadata": {},
     "output_type": "execute_result"
    }
   ],
   "source": [
    "aic=[]\n",
    "bic=[]\n",
    "for i in model[0:]:\n",
    "    aic.append(i.aic)\n",
    "    bic.append(i.bic)\n",
    "\n",
    "# predicting values\n",
    "forecast=[]\n",
    "for i in model[0:]:\n",
    "    fcast = i.predict(start=len(train3), end=len(train3)+len(test3)-1)\n",
    "    forecast.append(fcast)\n",
    "\n",
    "# calculating MSE and RMSE score\n",
    "MSE = []\n",
    "RMSE = []\n",
    "for i in forecast:\n",
    "    mse = mean_squared_error(test3, i)\n",
    "    rmse = np.sqrt(mse)\n",
    "    MSE.append(mse)\n",
    "    RMSE.append(rmse)\n",
    "\n",
    "# printing model numbers\n",
    "model_no=[]\n",
    "for i in range(0,len(model)):\n",
    "    model_no.append('Model '+str(i))\n",
    "    \n",
    "# dataframe of all results\n",
    "df_results3 = pd.DataFrame({'Model No.': model_no, '(p, d, q)':lis[0:], 'AIC': aic, 'BIC': bic, 'MSE': MSE, 'RMSE': RMSE})\n",
    "df_results3"
   ]
  },
  {
   "cell_type": "code",
   "execution_count": 309,
   "id": "bcc6e389",
   "metadata": {},
   "outputs": [
    {
     "name": "stdout",
     "output_type": "stream",
     "text": [
      "Taking model with lowest RMSE score:\n"
     ]
    },
    {
     "data": {
      "text/html": [
       "<div>\n",
       "<style scoped>\n",
       "    .dataframe tbody tr th:only-of-type {\n",
       "        vertical-align: middle;\n",
       "    }\n",
       "\n",
       "    .dataframe tbody tr th {\n",
       "        vertical-align: top;\n",
       "    }\n",
       "\n",
       "    .dataframe thead th {\n",
       "        text-align: right;\n",
       "    }\n",
       "</style>\n",
       "<table border=\"1\" class=\"dataframe\">\n",
       "  <thead>\n",
       "    <tr style=\"text-align: right;\">\n",
       "      <th></th>\n",
       "      <th>Model No.</th>\n",
       "      <th>(p, d, q)</th>\n",
       "      <th>AIC</th>\n",
       "      <th>BIC</th>\n",
       "      <th>MSE</th>\n",
       "      <th>RMSE</th>\n",
       "    </tr>\n",
       "  </thead>\n",
       "  <tbody>\n",
       "    <tr>\n",
       "      <th>24</th>\n",
       "      <td>Model 24</td>\n",
       "      <td>(4, 0, 4)</td>\n",
       "      <td>892.335764</td>\n",
       "      <td>923.395219</td>\n",
       "      <td>7.244938</td>\n",
       "      <td>2.691642</td>\n",
       "    </tr>\n",
       "  </tbody>\n",
       "</table>\n",
       "</div>"
      ],
      "text/plain": [
       "   Model No.  (p, d, q)         AIC         BIC       MSE      RMSE\n",
       "24  Model 24  (4, 0, 4)  892.335764  923.395219  7.244938  2.691642"
      ]
     },
     "execution_count": 309,
     "metadata": {},
     "output_type": "execute_result"
    }
   ],
   "source": [
    "print('Taking model with lowest RMSE score:')\n",
    "df_results3[df_results3.RMSE==df_results3.RMSE.min()]\n"
   ]
  },
  {
   "cell_type": "code",
   "execution_count": 310,
   "id": "d5406995",
   "metadata": {},
   "outputs": [
    {
     "name": "stdout",
     "output_type": "stream",
     "text": [
      "Taking model with lowest BIC score:\n"
     ]
    },
    {
     "data": {
      "text/html": [
       "<div>\n",
       "<style scoped>\n",
       "    .dataframe tbody tr th:only-of-type {\n",
       "        vertical-align: middle;\n",
       "    }\n",
       "\n",
       "    .dataframe tbody tr th {\n",
       "        vertical-align: top;\n",
       "    }\n",
       "\n",
       "    .dataframe thead th {\n",
       "        text-align: right;\n",
       "    }\n",
       "</style>\n",
       "<table border=\"1\" class=\"dataframe\">\n",
       "  <thead>\n",
       "    <tr style=\"text-align: right;\">\n",
       "      <th></th>\n",
       "      <th>Model No.</th>\n",
       "      <th>(p, d, q)</th>\n",
       "      <th>AIC</th>\n",
       "      <th>BIC</th>\n",
       "      <th>MSE</th>\n",
       "      <th>RMSE</th>\n",
       "    </tr>\n",
       "  </thead>\n",
       "  <tbody>\n",
       "    <tr>\n",
       "      <th>6</th>\n",
       "      <td>Model 6</td>\n",
       "      <td>(1, 0, 1)</td>\n",
       "      <td>889.184697</td>\n",
       "      <td>901.608479</td>\n",
       "      <td>7.41861</td>\n",
       "      <td>2.723713</td>\n",
       "    </tr>\n",
       "  </tbody>\n",
       "</table>\n",
       "</div>"
      ],
      "text/plain": [
       "  Model No.  (p, d, q)         AIC         BIC      MSE      RMSE\n",
       "6   Model 6  (1, 0, 1)  889.184697  901.608479  7.41861  2.723713"
      ]
     },
     "execution_count": 310,
     "metadata": {},
     "output_type": "execute_result"
    }
   ],
   "source": [
    "print('Taking model with lowest BIC score:')\n",
    "\n",
    "df_results3[df_results3.BIC==df_results3.BIC.min()]"
   ]
  },
  {
   "cell_type": "code",
   "execution_count": 311,
   "id": "26462351",
   "metadata": {},
   "outputs": [
    {
     "name": "stdout",
     "output_type": "stream",
     "text": [
      "Taking model with lowest AIC score:\n"
     ]
    },
    {
     "data": {
      "text/html": [
       "<div>\n",
       "<style scoped>\n",
       "    .dataframe tbody tr th:only-of-type {\n",
       "        vertical-align: middle;\n",
       "    }\n",
       "\n",
       "    .dataframe tbody tr th {\n",
       "        vertical-align: top;\n",
       "    }\n",
       "\n",
       "    .dataframe thead th {\n",
       "        text-align: right;\n",
       "    }\n",
       "</style>\n",
       "<table border=\"1\" class=\"dataframe\">\n",
       "  <thead>\n",
       "    <tr style=\"text-align: right;\">\n",
       "      <th></th>\n",
       "      <th>Model No.</th>\n",
       "      <th>(p, d, q)</th>\n",
       "      <th>AIC</th>\n",
       "      <th>BIC</th>\n",
       "      <th>MSE</th>\n",
       "      <th>RMSE</th>\n",
       "    </tr>\n",
       "  </thead>\n",
       "  <tbody>\n",
       "    <tr>\n",
       "      <th>18</th>\n",
       "      <td>Model 18</td>\n",
       "      <td>(3, 0, 3)</td>\n",
       "      <td>884.688395</td>\n",
       "      <td>909.535959</td>\n",
       "      <td>7.360035</td>\n",
       "      <td>2.712938</td>\n",
       "    </tr>\n",
       "  </tbody>\n",
       "</table>\n",
       "</div>"
      ],
      "text/plain": [
       "   Model No.  (p, d, q)         AIC         BIC       MSE      RMSE\n",
       "18  Model 18  (3, 0, 3)  884.688395  909.535959  7.360035  2.712938"
      ]
     },
     "execution_count": 311,
     "metadata": {},
     "output_type": "execute_result"
    }
   ],
   "source": [
    "print('Taking model with lowest AIC score:')\n",
    "df_results3[df_results3.AIC==df_results3.AIC.min()]"
   ]
  },
  {
   "cell_type": "code",
   "execution_count": 326,
   "id": "ceda7ecf",
   "metadata": {},
   "outputs": [
    {
     "data": {
      "text/html": [
       "<table class=\"simpletable\">\n",
       "<caption>SARIMAX Results</caption>\n",
       "<tr>\n",
       "  <th>Dep. Variable:</th>           <td>sentiment_count</td>        <th>  No. Observations:  </th>    <td>237</td>  \n",
       "</tr>\n",
       "<tr>\n",
       "  <th>Model:</th>           <td>SARIMAX(1, 0, 1)x(1, 0, 1, 12)</td> <th>  Log Likelihood     </th> <td>-615.798</td>\n",
       "</tr>\n",
       "<tr>\n",
       "  <th>Date:</th>                   <td>Wed, 25 Jan 2023</td>        <th>  AIC                </th> <td>1241.596</td>\n",
       "</tr>\n",
       "<tr>\n",
       "  <th>Time:</th>                       <td>15:53:34</td>            <th>  BIC                </th> <td>1258.936</td>\n",
       "</tr>\n",
       "<tr>\n",
       "  <th>Sample:</th>                         <td>0</td>               <th>  HQIC               </th> <td>1248.585</td>\n",
       "</tr>\n",
       "<tr>\n",
       "  <th></th>                             <td> - 237</td>             <th>                     </th>     <td> </td>   \n",
       "</tr>\n",
       "<tr>\n",
       "  <th>Covariance Type:</th>               <td>opg</td>              <th>                     </th>     <td> </td>   \n",
       "</tr>\n",
       "</table>\n",
       "<table class=\"simpletable\">\n",
       "<tr>\n",
       "      <td></td>        <th>coef</th>     <th>std err</th>      <th>z</th>      <th>P>|z|</th>  <th>[0.025</th>    <th>0.975]</th>  \n",
       "</tr>\n",
       "<tr>\n",
       "  <th>ar.L1</th>    <td>    0.9917</td> <td>    0.012</td> <td>   82.937</td> <td> 0.000</td> <td>    0.968</td> <td>    1.015</td>\n",
       "</tr>\n",
       "<tr>\n",
       "  <th>ma.L1</th>    <td>   -0.8831</td> <td>    0.040</td> <td>  -22.057</td> <td> 0.000</td> <td>   -0.962</td> <td>   -0.805</td>\n",
       "</tr>\n",
       "<tr>\n",
       "  <th>ar.S.L12</th> <td>    0.5228</td> <td>    0.653</td> <td>    0.801</td> <td> 0.423</td> <td>   -0.757</td> <td>    1.802</td>\n",
       "</tr>\n",
       "<tr>\n",
       "  <th>ma.S.L12</th> <td>   -0.4228</td> <td>    0.757</td> <td>   -0.558</td> <td> 0.577</td> <td>   -1.907</td> <td>    1.061</td>\n",
       "</tr>\n",
       "<tr>\n",
       "  <th>sigma2</th>   <td>   10.4924</td> <td>    0.341</td> <td>   30.736</td> <td> 0.000</td> <td>    9.823</td> <td>   11.161</td>\n",
       "</tr>\n",
       "</table>\n",
       "<table class=\"simpletable\">\n",
       "<tr>\n",
       "  <th>Ljung-Box (L1) (Q):</th>     <td>0.28</td> <th>  Jarque-Bera (JB):  </th> <td>17863.59</td>\n",
       "</tr>\n",
       "<tr>\n",
       "  <th>Prob(Q):</th>                <td>0.59</td> <th>  Prob(JB):          </th>   <td>0.00</td>  \n",
       "</tr>\n",
       "<tr>\n",
       "  <th>Heteroskedasticity (H):</th> <td>0.40</td> <th>  Skew:              </th>   <td>5.17</td>  \n",
       "</tr>\n",
       "<tr>\n",
       "  <th>Prob(H) (two-sided):</th>    <td>0.00</td> <th>  Kurtosis:          </th>   <td>44.26</td> \n",
       "</tr>\n",
       "</table><br/><br/>Warnings:<br/>[1] Covariance matrix calculated using the outer product of gradients (complex-step)."
      ],
      "text/plain": [
       "<class 'statsmodels.iolib.summary.Summary'>\n",
       "\"\"\"\n",
       "                                     SARIMAX Results                                      \n",
       "==========================================================================================\n",
       "Dep. Variable:                    sentiment_count   No. Observations:                  237\n",
       "Model:             SARIMAX(1, 0, 1)x(1, 0, 1, 12)   Log Likelihood                -615.798\n",
       "Date:                            Wed, 25 Jan 2023   AIC                           1241.596\n",
       "Time:                                    15:53:34   BIC                           1258.936\n",
       "Sample:                                         0   HQIC                          1248.585\n",
       "                                            - 237                                         \n",
       "Covariance Type:                              opg                                         \n",
       "==============================================================================\n",
       "                 coef    std err          z      P>|z|      [0.025      0.975]\n",
       "------------------------------------------------------------------------------\n",
       "ar.L1          0.9917      0.012     82.937      0.000       0.968       1.015\n",
       "ma.L1         -0.8831      0.040    -22.057      0.000      -0.962      -0.805\n",
       "ar.S.L12       0.5228      0.653      0.801      0.423      -0.757       1.802\n",
       "ma.S.L12      -0.4228      0.757     -0.558      0.577      -1.907       1.061\n",
       "sigma2        10.4924      0.341     30.736      0.000       9.823      11.161\n",
       "===================================================================================\n",
       "Ljung-Box (L1) (Q):                   0.28   Jarque-Bera (JB):             17863.59\n",
       "Prob(Q):                              0.59   Prob(JB):                         0.00\n",
       "Heteroskedasticity (H):               0.40   Skew:                             5.17\n",
       "Prob(H) (two-sided):                  0.00   Kurtosis:                        44.26\n",
       "===================================================================================\n",
       "\n",
       "Warnings:\n",
       "[1] Covariance matrix calculated using the outer product of gradients (complex-step).\n",
       "\"\"\""
      ]
     },
     "execution_count": 326,
     "metadata": {},
     "output_type": "execute_result"
    }
   ],
   "source": [
    "p=1;q=1;d=0\n",
    "P=1;Q=1;D=0\n",
    "m3 = sm.tsa.statespace.SARIMAX(cd_neg['sentiment_count'],order=(p,d,q),seasonal_order=(P,D,Q,12)).fit()\n",
    "# summarise the model\n",
    "m3.summary()\n"
   ]
  },
  {
   "cell_type": "code",
   "execution_count": 327,
   "id": "10ca8dde",
   "metadata": {},
   "outputs": [
    {
     "name": "stdout",
     "output_type": "stream",
     "text": [
      "Fail-to-Reject H0. Good model\n"
     ]
    }
   ],
   "source": [
    "# LJung-Box test\n",
    "pvalue = sm.stats.acorr_ljungbox(m3.resid,lags=[1],return_df=True)['lb_pvalue'].values\n",
    "if pvalue < 0.05:\n",
    "    print(\"Reject H0. Bad model\")\n",
    "else:\n",
    "    print(\"Fail-to-Reject H0. Good model\")"
   ]
  },
  {
   "cell_type": "code",
   "execution_count": 328,
   "id": "237f60e9",
   "metadata": {},
   "outputs": [
    {
     "name": "stdout",
     "output_type": "stream",
     "text": [
      "start = 165, end = 236\n"
     ]
    }
   ],
   "source": [
    "start = len(train3) \n",
    "end = len(train3) + len(test3) - 1\n",
    "\n",
    "print('start = {}, end = {}'.format(start,end))"
   ]
  },
  {
   "cell_type": "code",
   "execution_count": 329,
   "id": "80e3554a",
   "metadata": {},
   "outputs": [
    {
     "name": "stdout",
     "output_type": "stream",
     "text": [
      "date\n",
      "2012-06-30    2.636105\n",
      "2012-07-31    2.231299\n",
      "2012-08-31    3.196336\n",
      "2012-09-30    2.585658\n",
      "2012-10-31    2.264367\n",
      "                ...   \n",
      "2018-01-31    1.981109\n",
      "2018-03-31    1.910235\n",
      "2018-04-30    1.760215\n",
      "2018-05-31    2.086282\n",
      "2018-06-30    2.040311\n",
      "Name: predicted_mean, Length: 72, dtype: float64\n"
     ]
    }
   ],
   "source": [
    "predictions = m3.predict(start,end)\n",
    "predictions.index=test3.index\n",
    "print(predictions)"
   ]
  },
  {
   "cell_type": "code",
   "execution_count": 330,
   "id": "cd311c59",
   "metadata": {},
   "outputs": [
    {
     "name": "stdout",
     "output_type": "stream",
     "text": [
      "              actual  predicted     error\n",
      "date                                     \n",
      "2012-06-30  1.923077   2.636105 -0.713028\n",
      "2012-07-31  3.875000   2.231299  1.643701\n",
      "2012-08-31  4.000000   3.196336  0.803664\n",
      "2012-09-30  1.375000   2.585658 -1.210658\n",
      "2012-10-31  1.809524   2.264367 -0.454843\n",
      "...              ...        ...       ...\n",
      "2018-01-31  1.500000   1.981109 -0.481109\n",
      "2018-03-31  1.666667   1.910235 -0.243568\n",
      "2018-04-30  3.000000   1.760215  1.239785\n",
      "2018-05-31  3.000000   2.086282  0.913718\n",
      "2018-06-30  1.000000   2.040311 -1.040311\n",
      "\n",
      "[72 rows x 3 columns]\n"
     ]
    }
   ],
   "source": [
    "actual = []; pred = []\n",
    "for i in range(len(predictions)):\n",
    "    actual.append(test3['sentiment_count'][i])\n",
    "    pred.append(predictions[i])\n",
    "\n",
    "df_res3 = pd.DataFrame({'actual':actual, 'predicted':pred})\n",
    "df_res3['error'] = df_res3.actual - df_res3.predicted\n",
    "df_res3.index=test3.index\n",
    "print(df_res3)"
   ]
  },
  {
   "cell_type": "code",
   "execution_count": 331,
   "id": "dd2b25ff",
   "metadata": {},
   "outputs": [
    {
     "name": "stdout",
     "output_type": "stream",
     "text": [
      "mse: 6.6279522849823325\n",
      "rmse: 2.5744809739017946\n"
     ]
    }
   ],
   "source": [
    "mse3=mean_squared_error(df_res3.actual,df_res3.predicted)\n",
    "rmse3=np.sqrt(mse3)\n",
    "print('mse:',mse3)\n",
    "print('rmse:',rmse3)"
   ]
  },
  {
   "cell_type": "code",
   "execution_count": 332,
   "id": "e0f89428",
   "metadata": {},
   "outputs": [
    {
     "data": {
      "text/plain": [
       "Text(0.5, 1.0, 'SARIMA Model. Order=(1,0,1)')"
      ]
     },
     "execution_count": 332,
     "metadata": {},
     "output_type": "execute_result"
    },
    {
     "data": {
      "image/png": "[encoded data removed]",
      "text/plain": [
       "<Figure size 720x576 with 1 Axes>"
      ]
     },
     "metadata": {
      "needs_background": "light"
     },
     "output_type": "display_data"
    }
   ],
   "source": [
    "msg = 'SARIMA Model. Order=(' + str(p) + ',' + str(d) + ',' + str(q) + ')'\n",
    "df_res3.actual.plot(figsize=(10,8),legend=True)\n",
    "df_res3.predicted.plot(legend=True)\n",
    "plt.title(msg)"
   ]
  },
  {
   "cell_type": "code",
   "execution_count": 336,
   "id": "ab93e1ba",
   "metadata": {},
   "outputs": [],
   "source": [
    "future_dates=pd.DataFrame()\n",
    "future_dates['date']=[     \n",
    "'2018-06-30',    \n",
    "'2018-09-30',       \n",
    "'2018-12-31',     \n",
    "'2019-01-31',   \n",
    "'2019-03-30',\n",
    "'2019-05-31',\n",
    "'2019-07-31']      \n",
    "future_dates=pd.to_datetime(future_dates['date'])\n",
    "future_dates=pd.DataFrame(future_dates)"
   ]
  },
  {
   "cell_type": "code",
   "execution_count": 337,
   "id": "a4ecb4b9",
   "metadata": {},
   "outputs": [
    {
     "name": "stdout",
     "output_type": "stream",
     "text": [
      "date\n",
      "2018-06-30    2.040311\n",
      "2018-09-30    1.982646\n",
      "2018-12-31    1.844585\n",
      "2019-01-31    2.139989\n",
      "2019-03-30    2.347157\n",
      "Name: Forecast, dtype: float64\n"
     ]
    }
   ],
   "source": [
    "fcast3 = m3.predict(end,end+6).rename('Forecast')\n",
    "fcast3.index=future_dates.date\n",
    "print(fcast3.head())"
   ]
  },
  {
   "cell_type": "code",
   "execution_count": 338,
   "id": "9371d02a",
   "metadata": {},
   "outputs": [
    {
     "data": {
      "text/plain": [
       "<AxesSubplot:xlabel='date', ylabel='count of negative sentiment'>"
      ]
     },
     "execution_count": 338,
     "metadata": {},
     "output_type": "execute_result"
    },
    {
     "data": {
      "image/png": "[encoded data removed]",
      "text/plain": [
       "<Figure size 720x576 with 1 Axes>"
      ]
     },
     "metadata": {
      "needs_background": "light"
     },
     "output_type": "display_data"
    }
   ],
   "source": [
    "df_res3.actual.tail(30).plot(figsize=(10,8),legend=True)\n",
    "df_res3.predicted.tail(30).plot(legend=True)\n",
    "plt.ylabel('count of negative sentiment')\n",
    "fcast3.plot(legend=True)"
   ]
  },
  {
   "cell_type": "code",
   "execution_count": 345,
   "id": "224303c5",
   "metadata": {},
   "outputs": [
    {
     "data": {
      "text/plain": [
       "<matplotlib.legend.Legend at 0x1ca94b64ac0>"
      ]
     },
     "execution_count": 345,
     "metadata": {},
     "output_type": "execute_result"
    },
    {
     "data": {
      "image/png": "[encoded data removed]",
      "text/plain": [
       "<Figure size 720x576 with 1 Axes>"
      ]
     },
     "metadata": {
      "needs_background": "light"
     },
     "output_type": "display_data"
    }
   ],
   "source": [
    "plt.figure(figsize=(10,8))\n",
    "plt.title('Sentiment Forecast')\n",
    "plt.ylabel('count of sentiment')\n",
    "fcast1.plot(label='postive')\n",
    "fcast2.plot(label='neutral')\n",
    "fcast3.plot(label='negative')\n",
    "plt.legend()"
   ]
  },
  {
   "cell_type": "code",
   "execution_count": null,
   "id": "5aead81b",
   "metadata": {},
   "outputs": [],
   "source": []
  }
 ],
 "metadata": {
  "kernelspec": {
   "display_name": "Python 3 (ipykernel)",
   "language": "python",
   "name": "python3"
  },
  "language_info": {
   "codemirror_mode": {
    "name": "ipython",
    "version": 3
   },
   "file_extension": ".py",
   "mimetype": "text/x-python",
   "name": "python",
   "nbconvert_exporter": "python",
   "pygments_lexer": "ipython3",
   "version": "3.9.12"
  }
 },
 "nbformat": 4,
 "nbformat_minor": 5
}
