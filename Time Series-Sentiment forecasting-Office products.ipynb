{
 "cells": [
  {
   "cell_type": "markdown",
   "id": "9b3bfc11",
   "metadata": {},
   "source": [
    "## Time Series-Sentiment forecasting"
   ]
  },
  {
   "cell_type": "markdown",
   "id": "7d1dd1ad",
   "metadata": {},
   "source": [
    "### Import libraries"
   ]
  },
  {
   "cell_type": "code",
   "execution_count": 15,
   "id": "c211ded5",
   "metadata": {},
   "outputs": [],
   "source": [
    "\n",
    "import numpy as np\n",
    "import pandas as pd\n",
    "import gzip                            # to extract file from zip file\n",
    "import json  \n",
    "\n",
    "#decompose\n",
    "from statsmodels.tsa.seasonal import seasonal_decompose\n",
    "\n",
    "# dickey fuller test for stationarity\n",
    "from statsmodels.tsa.stattools import acf,pacf,adfuller\n",
    "\n",
    "# ARIMA\n",
    "from statsmodels.tsa.arima.model import ARIMA\n",
    "\n",
    "# plots\n",
    "import matplotlib.pyplot as plt\n",
    "from statsmodels.graphics.tsaplots import plot_acf, plot_pacf\n",
    "\n",
    "from sklearn.metrics import mean_squared_error\n",
    "\n",
    "# Ljung-Box test for model goodness\n",
    "import statsmodels.api as sm\n",
    "# resampling\n",
    "from sklearn.utils import resample\n",
    "\n",
    "import warnings\n",
    "warnings.filterwarnings(\"ignore\")"
   ]
  },
  {
   "cell_type": "markdown",
   "id": "55c7ad36",
   "metadata": {},
   "source": [
    "### Importing data set"
   ]
  },
  {
   "cell_type": "code",
   "execution_count": 16,
   "id": "78de5e36",
   "metadata": {},
   "outputs": [],
   "source": [
    "office_sent = pd.read_csv(\"C:/Users/sandp/Downloads/office_data_final.csv\")"
   ]
  },
  {
   "cell_type": "code",
   "execution_count": 17,
   "id": "354ca4c1",
   "metadata": {},
   "outputs": [
    {
     "data": {
      "text/plain": [
       "Prismacolor 3598T Premier Colored Pencils, Soft Core, 48 Pack                                                                                                                                                1953\n",
       "Sharpie 37003 Ultra-Fine Permanent Marker, Marks on Paper and Plastic, Resist Fading and Water, AP Certified, Blue Color, Pack of 12                                                                         1420\n",
       "Pilot G2 Retractable Premium Gel Ink Roller Ball Pens Fine Pt (.7) Dozen Box Red ; Retractable, Refillable &amp; Premium Comfort Grip; Smooth Lines to the End of the Page, Americas #1 Selling Pen Brand    1314\n",
       "Sharpie Permanent Markers, Fine Point, Purple, 12-Pack (30008)                                                                                                                                               1235\n",
       "Canon Office and Business MX922 All-In-One Printer, Wireless and mobile printing                                                                                                                             1114\n",
       "                                                                                                                                                                                                             ... \n",
       "VoIP/Skype USB Phone with LCD Display (Black)                                                                                                                                                                   1\n",
       "Palomino Blackwing Replacement Erasers - White - 10 Count                                                                                                                                                       1\n",
       "DayMark Day of the Week 2&quot; x 2&quot; Removable Label, Wednesday, Item/Date/Use By (Roll of 500)                                                                                                            1\n",
       "Darice Smooth A2 Envelopes, 4.37 x 5.75-Inch, White, 50-Pack                                                                                                                                                    1\n",
       "Avery 24286 Preprinted Laminated Tab Dividers w/Copper Reinforced Holes, 12-Tab, Letter                                                                                                                         1\n",
       "Name: title, Length: 27504, dtype: int64"
      ]
     },
     "execution_count": 17,
     "metadata": {},
     "output_type": "execute_result"
    }
   ],
   "source": [
    "office_sent['title'].value_counts()"
   ]
  },
  {
   "cell_type": "code",
   "execution_count": 18,
   "id": "b101fec6",
   "metadata": {},
   "outputs": [],
   "source": [
    "#Extracting month from date\n",
    "office_sent['date']=pd.to_datetime(office_sent['date'])\n",
    "office_sent['Month'] = office_sent['date'].dt.month "
   ]
  },
  {
   "cell_type": "code",
   "execution_count": 19,
   "id": "0e3abff9",
   "metadata": {},
   "outputs": [],
   "source": [
    "office_sent1=office_sent[office_sent['title']=='Prismacolor 3598T Premier Colored Pencils, Soft Core, 48 Pack']"
   ]
  },
  {
   "cell_type": "code",
   "execution_count": 20,
   "id": "f910d689",
   "metadata": {},
   "outputs": [
    {
     "data": {
      "text/plain": [
       "Prismacolor 3598T Premier Colored Pencils, Soft Core, 48 Pack    1953\n",
       "Name: title, dtype: int64"
      ]
     },
     "execution_count": 20,
     "metadata": {},
     "output_type": "execute_result"
    }
   ],
   "source": [
    "office_sent1['title'].value_counts()"
   ]
  },
  {
   "cell_type": "code",
   "execution_count": 21,
   "id": "fad5131d",
   "metadata": {},
   "outputs": [],
   "source": [
    "# Resampling\n",
    "office_pos = office_sent1[office_sent['Sentiment']=='Positive']\n",
    "office_neu = office_sent1[office_sent['Sentiment']=='Neutral']\n",
    "office_neg = office_sent1[office_sent['Sentiment']=='Negative']\n",
    " "
   ]
  },
  {
   "cell_type": "markdown",
   "id": "a4a6e4b4",
   "metadata": {},
   "source": [
    "### Taking month wise count of sentiment for products"
   ]
  },
  {
   "cell_type": "code",
   "execution_count": 22,
   "id": "79a7aa60",
   "metadata": {},
   "outputs": [
    {
     "data": {
      "text/html": [
       "<div>\n",
       "<style scoped>\n",
       "    .dataframe tbody tr th:only-of-type {\n",
       "        vertical-align: middle;\n",
       "    }\n",
       "\n",
       "    .dataframe tbody tr th {\n",
       "        vertical-align: top;\n",
       "    }\n",
       "\n",
       "    .dataframe thead th {\n",
       "        text-align: right;\n",
       "    }\n",
       "</style>\n",
       "<table border=\"1\" class=\"dataframe\">\n",
       "  <thead>\n",
       "    <tr style=\"text-align: right;\">\n",
       "      <th></th>\n",
       "      <th>asin</th>\n",
       "      <th>Month</th>\n",
       "      <th>Sentiment</th>\n",
       "      <th>sentiment_count</th>\n",
       "    </tr>\n",
       "  </thead>\n",
       "  <tbody>\n",
       "    <tr>\n",
       "      <th>0</th>\n",
       "      <td>B00006IEEV</td>\n",
       "      <td>1</td>\n",
       "      <td>Positive</td>\n",
       "      <td>222</td>\n",
       "    </tr>\n",
       "    <tr>\n",
       "      <th>1</th>\n",
       "      <td>B00006IEEV</td>\n",
       "      <td>2</td>\n",
       "      <td>Positive</td>\n",
       "      <td>171</td>\n",
       "    </tr>\n",
       "    <tr>\n",
       "      <th>2</th>\n",
       "      <td>B00006IEEV</td>\n",
       "      <td>3</td>\n",
       "      <td>Positive</td>\n",
       "      <td>181</td>\n",
       "    </tr>\n",
       "    <tr>\n",
       "      <th>3</th>\n",
       "      <td>B00006IEEV</td>\n",
       "      <td>4</td>\n",
       "      <td>Positive</td>\n",
       "      <td>172</td>\n",
       "    </tr>\n",
       "    <tr>\n",
       "      <th>4</th>\n",
       "      <td>B00006IEEV</td>\n",
       "      <td>5</td>\n",
       "      <td>Positive</td>\n",
       "      <td>132</td>\n",
       "    </tr>\n",
       "    <tr>\n",
       "      <th>5</th>\n",
       "      <td>B00006IEEV</td>\n",
       "      <td>6</td>\n",
       "      <td>Positive</td>\n",
       "      <td>92</td>\n",
       "    </tr>\n",
       "    <tr>\n",
       "      <th>6</th>\n",
       "      <td>B00006IEEV</td>\n",
       "      <td>7</td>\n",
       "      <td>Positive</td>\n",
       "      <td>115</td>\n",
       "    </tr>\n",
       "    <tr>\n",
       "      <th>7</th>\n",
       "      <td>B00006IEEV</td>\n",
       "      <td>8</td>\n",
       "      <td>Positive</td>\n",
       "      <td>143</td>\n",
       "    </tr>\n",
       "    <tr>\n",
       "      <th>8</th>\n",
       "      <td>B00006IEEV</td>\n",
       "      <td>9</td>\n",
       "      <td>Positive</td>\n",
       "      <td>121</td>\n",
       "    </tr>\n",
       "    <tr>\n",
       "      <th>9</th>\n",
       "      <td>B00006IEEV</td>\n",
       "      <td>10</td>\n",
       "      <td>Positive</td>\n",
       "      <td>107</td>\n",
       "    </tr>\n",
       "    <tr>\n",
       "      <th>10</th>\n",
       "      <td>B00006IEEV</td>\n",
       "      <td>11</td>\n",
       "      <td>Positive</td>\n",
       "      <td>145</td>\n",
       "    </tr>\n",
       "    <tr>\n",
       "      <th>11</th>\n",
       "      <td>B00006IEEV</td>\n",
       "      <td>12</td>\n",
       "      <td>Positive</td>\n",
       "      <td>195</td>\n",
       "    </tr>\n",
       "  </tbody>\n",
       "</table>\n",
       "</div>"
      ],
      "text/plain": [
       "          asin  Month Sentiment  sentiment_count\n",
       "0   B00006IEEV      1  Positive              222\n",
       "1   B00006IEEV      2  Positive              171\n",
       "2   B00006IEEV      3  Positive              181\n",
       "3   B00006IEEV      4  Positive              172\n",
       "4   B00006IEEV      5  Positive              132\n",
       "5   B00006IEEV      6  Positive               92\n",
       "6   B00006IEEV      7  Positive              115\n",
       "7   B00006IEEV      8  Positive              143\n",
       "8   B00006IEEV      9  Positive              121\n",
       "9   B00006IEEV     10  Positive              107\n",
       "10  B00006IEEV     11  Positive              145\n",
       "11  B00006IEEV     12  Positive              195"
      ]
     },
     "execution_count": 22,
     "metadata": {},
     "output_type": "execute_result"
    }
   ],
   "source": [
    "office_pos_count=office_pos.groupby(['asin','Month','Sentiment']).size().reset_index(name='sentiment_count')\n",
    "office_pos_count"
   ]
  },
  {
   "cell_type": "code",
   "execution_count": 23,
   "id": "ba3933da",
   "metadata": {},
   "outputs": [],
   "source": [
    "office_pos=pd.merge(office_pos,office_pos_count)"
   ]
  },
  {
   "cell_type": "markdown",
   "id": "a3dba55a",
   "metadata": {},
   "source": [
    "### Time series analysis"
   ]
  },
  {
   "cell_type": "code",
   "execution_count": 24,
   "id": "d39a3d0c",
   "metadata": {},
   "outputs": [
    {
     "data": {
      "text/html": [
       "<div>\n",
       "<style scoped>\n",
       "    .dataframe tbody tr th:only-of-type {\n",
       "        vertical-align: middle;\n",
       "    }\n",
       "\n",
       "    .dataframe tbody tr th {\n",
       "        vertical-align: top;\n",
       "    }\n",
       "\n",
       "    .dataframe thead th {\n",
       "        text-align: right;\n",
       "    }\n",
       "</style>\n",
       "<table border=\"1\" class=\"dataframe\">\n",
       "  <thead>\n",
       "    <tr style=\"text-align: right;\">\n",
       "      <th></th>\n",
       "      <th>sentiment_count</th>\n",
       "    </tr>\n",
       "    <tr>\n",
       "      <th>date</th>\n",
       "      <th></th>\n",
       "    </tr>\n",
       "  </thead>\n",
       "  <tbody>\n",
       "    <tr>\n",
       "      <th>2009-03-15</th>\n",
       "      <td>181</td>\n",
       "    </tr>\n",
       "    <tr>\n",
       "      <th>2009-05-23</th>\n",
       "      <td>132</td>\n",
       "    </tr>\n",
       "    <tr>\n",
       "      <th>2009-09-13</th>\n",
       "      <td>121</td>\n",
       "    </tr>\n",
       "    <tr>\n",
       "      <th>2009-11-04</th>\n",
       "      <td>145</td>\n",
       "    </tr>\n",
       "    <tr>\n",
       "      <th>2010-02-01</th>\n",
       "      <td>171</td>\n",
       "    </tr>\n",
       "    <tr>\n",
       "      <th>...</th>\n",
       "      <td>...</td>\n",
       "    </tr>\n",
       "    <tr>\n",
       "      <th>2018-05-08</th>\n",
       "      <td>132</td>\n",
       "    </tr>\n",
       "    <tr>\n",
       "      <th>2018-05-09</th>\n",
       "      <td>132</td>\n",
       "    </tr>\n",
       "    <tr>\n",
       "      <th>2018-05-12</th>\n",
       "      <td>132</td>\n",
       "    </tr>\n",
       "    <tr>\n",
       "      <th>2018-05-13</th>\n",
       "      <td>132</td>\n",
       "    </tr>\n",
       "    <tr>\n",
       "      <th>2018-05-17</th>\n",
       "      <td>132</td>\n",
       "    </tr>\n",
       "  </tbody>\n",
       "</table>\n",
       "<p>1796 rows × 1 columns</p>\n",
       "</div>"
      ],
      "text/plain": [
       "            sentiment_count\n",
       "date                       \n",
       "2009-03-15              181\n",
       "2009-05-23              132\n",
       "2009-09-13              121\n",
       "2009-11-04              145\n",
       "2010-02-01              171\n",
       "...                     ...\n",
       "2018-05-08              132\n",
       "2018-05-09              132\n",
       "2018-05-12              132\n",
       "2018-05-13              132\n",
       "2018-05-17              132\n",
       "\n",
       "[1796 rows x 1 columns]"
      ]
     },
     "execution_count": 24,
     "metadata": {},
     "output_type": "execute_result"
    }
   ],
   "source": [
    "office_pos=office_pos[['date','sentiment_count']]\n",
    "office_pos=office_pos.set_index('date')\n",
    "office_pos=office_pos.sort_values(by=['date'])\n",
    "office_pos"
   ]
  },
  {
   "cell_type": "markdown",
   "id": "7773d26e",
   "metadata": {},
   "source": [
    "### Resampling monthwise"
   ]
  },
  {
   "cell_type": "code",
   "execution_count": 25,
   "id": "c7fffe8e",
   "metadata": {},
   "outputs": [
    {
     "data": {
      "text/html": [
       "<div>\n",
       "<style scoped>\n",
       "    .dataframe tbody tr th:only-of-type {\n",
       "        vertical-align: middle;\n",
       "    }\n",
       "\n",
       "    .dataframe tbody tr th {\n",
       "        vertical-align: top;\n",
       "    }\n",
       "\n",
       "    .dataframe thead th {\n",
       "        text-align: right;\n",
       "    }\n",
       "</style>\n",
       "<table border=\"1\" class=\"dataframe\">\n",
       "  <thead>\n",
       "    <tr style=\"text-align: right;\">\n",
       "      <th></th>\n",
       "      <th>sentiment_count</th>\n",
       "    </tr>\n",
       "    <tr>\n",
       "      <th>date</th>\n",
       "      <th></th>\n",
       "    </tr>\n",
       "  </thead>\n",
       "  <tbody>\n",
       "    <tr>\n",
       "      <th>2009-03-31</th>\n",
       "      <td>181.0</td>\n",
       "    </tr>\n",
       "    <tr>\n",
       "      <th>2009-04-30</th>\n",
       "      <td>NaN</td>\n",
       "    </tr>\n",
       "    <tr>\n",
       "      <th>2009-05-31</th>\n",
       "      <td>132.0</td>\n",
       "    </tr>\n",
       "    <tr>\n",
       "      <th>2009-06-30</th>\n",
       "      <td>NaN</td>\n",
       "    </tr>\n",
       "    <tr>\n",
       "      <th>2009-07-31</th>\n",
       "      <td>NaN</td>\n",
       "    </tr>\n",
       "  </tbody>\n",
       "</table>\n",
       "</div>"
      ],
      "text/plain": [
       "            sentiment_count\n",
       "date                       \n",
       "2009-03-31            181.0\n",
       "2009-04-30              NaN\n",
       "2009-05-31            132.0\n",
       "2009-06-30              NaN\n",
       "2009-07-31              NaN"
      ]
     },
     "execution_count": 25,
     "metadata": {},
     "output_type": "execute_result"
    }
   ],
   "source": [
    "office_pos=office_pos.resample('M').mean()\n",
    "office_pos.head()"
   ]
  },
  {
   "cell_type": "code",
   "execution_count": 26,
   "id": "e46dac5d",
   "metadata": {},
   "outputs": [],
   "source": [
    "#office_pos.tail()"
   ]
  },
  {
   "cell_type": "code",
   "execution_count": 27,
   "id": "4e18a85b",
   "metadata": {},
   "outputs": [
    {
     "data": {
      "text/plain": [
       "sentiment_count    22\n",
       "dtype: int64"
      ]
     },
     "execution_count": 27,
     "metadata": {},
     "output_type": "execute_result"
    }
   ],
   "source": [
    "office_pos.isnull().sum()"
   ]
  },
  {
   "cell_type": "code",
   "execution_count": 28,
   "id": "a510be1f",
   "metadata": {},
   "outputs": [],
   "source": [
    "office_pos.dropna(inplace=True)"
   ]
  },
  {
   "cell_type": "markdown",
   "id": "8a777bfa",
   "metadata": {},
   "source": [
    "### Defining functions for time series analysis"
   ]
  },
  {
   "cell_type": "code",
   "execution_count": 29,
   "id": "817f84a0",
   "metadata": {},
   "outputs": [],
   "source": [
    "# stationarity check\n",
    "def checkStationarity(data):\n",
    "    pvalue = adfuller(data)[1]\n",
    "    print('pvalue:',pvalue)\n",
    "\n",
    "    if pvalue < 0.05:\n",
    "        msg = \"Data is Stationary. Proceed to model building\"\n",
    "    else:\n",
    "        msg = \" Data is not Stationary. Make the data stationary before model building\"\n",
    "\n",
    "    return msg\n",
    "\n",
    "# Decomposition\n",
    "def tsa_comp(df):\n",
    "    decomp = seasonal_decompose(df, period=12, model='additive')\n",
    "    d_trend = decomp.trend\n",
    "    d_seasonal = decomp.seasonal\n",
    "    d_resid = decomp.resid\n",
    "    \n",
    "    fig, (ax1,ax2,ax3,ax4) = plt.subplots(4,1,figsize=(15,8), facecolor='linen')\n",
    "    plt.xlabel('date')\n",
    "    plt.ylabel('count of sentiment')\n",
    "    plt.suptitle('TIME SERIES COMPONENT ANALYSIS', fontweight='bold', size=20)\n",
    "    ax1.plot(df, label='Actual Sales')\n",
    "    ax2.plot(d_trend, label='Trend', c='green')\n",
    "    ax3.plot(d_seasonal, label='Seasonal', c='orange')\n",
    "    ax4.plot(d_resid, label='Irregularity', c='pink')\n",
    "    fig.legend();\n",
    "    \n",
    " # acf and pacf plots\n",
    "def p_and_q(data):\n",
    "    fig,ax=plt.subplots(1,2,figsize=(15,5))\n",
    "    plot_acf(data,lags=10,ax=ax[0])\n",
    "    plot_pacf(data,lags=10,ax=ax[1]);"
   ]
  },
  {
   "cell_type": "code",
   "execution_count": 30,
   "id": "283c1614",
   "metadata": {},
   "outputs": [
    {
     "data": {
      "image/png": "[encoded data removed]",
      "text/plain": [
       "<Figure size 1080x576 with 4 Axes>"
      ]
     },
     "metadata": {},
     "output_type": "display_data"
    }
   ],
   "source": [
    "tsa_comp(office_pos)"
   ]
  },
  {
   "cell_type": "code",
   "execution_count": 31,
   "id": "c45dc54a",
   "metadata": {},
   "outputs": [
    {
     "name": "stdout",
     "output_type": "stream",
     "text": [
      "pvalue: 3.230592860492903e-10\n"
     ]
    },
    {
     "data": {
      "text/plain": [
       "'Data is Stationary. Proceed to model building'"
      ]
     },
     "execution_count": 31,
     "metadata": {},
     "output_type": "execute_result"
    }
   ],
   "source": [
    "checkStationarity(office_pos)"
   ]
  },
  {
   "cell_type": "code",
   "execution_count": 18,
   "id": "4e890b93",
   "metadata": {},
   "outputs": [
    {
     "name": "stdout",
     "output_type": "stream",
     "text": [
      "            sentiment_count\n",
      "date                       \n",
      "2000-03-31              NaN\n",
      "2000-04-30         0.000000\n",
      "2000-08-31         0.000000\n",
      "2000-09-30         0.000000\n",
      "2000-12-31         0.000000\n",
      "...                     ...\n",
      "2018-05-31        -0.410189\n",
      "2018-06-30        -0.182356\n",
      "2018-07-31         0.014632\n",
      "2018-08-31        -0.043578\n",
      "2018-09-30         0.148061\n",
      "\n",
      "[197 rows x 1 columns]\n"
     ]
    }
   ],
   "source": [
    "#diff_office_pos = office_pos-office_pos.shift(1)\n",
    "#print(diff_office_pos)"
   ]
  },
  {
   "cell_type": "markdown",
   "id": "f5341e60",
   "metadata": {},
   "source": [
    "### Splitting"
   ]
  },
  {
   "cell_type": "code",
   "execution_count": 32,
   "id": "e38f6fed",
   "metadata": {},
   "outputs": [
    {
     "name": "stdout",
     "output_type": "stream",
     "text": [
      "Total=89, Train=62, Test=27\n"
     ]
    }
   ],
   "source": [
    "ratio = 0.7\n",
    "rows = int(ratio * len(office_pos))\n",
    "train1 =office_pos[:rows]\n",
    "test1 = office_pos[rows:]\n",
    "\n",
    "print(\"Total={}, Train={}, Test={}\".format(len(office_pos), len(train1), len(test1)))"
   ]
  },
  {
   "cell_type": "code",
   "execution_count": 33,
   "id": "d19c6a43",
   "metadata": {},
   "outputs": [
    {
     "data": {
      "image/png": "[encoded data removed]",
      "text/plain": [
       "<Figure size 1080x360 with 2 Axes>"
      ]
     },
     "metadata": {
      "needs_background": "light"
     },
     "output_type": "display_data"
    }
   ],
   "source": [
    "p_and_q(office_pos)"
   ]
  },
  {
   "cell_type": "code",
   "execution_count": 34,
   "id": "9e8f04a1",
   "metadata": {},
   "outputs": [
    {
     "name": "stdout",
     "output_type": "stream",
     "text": [
      "Model 1 Not a good model\n",
      "Model 2 Good model\n",
      "Model 3 Good model\n",
      "Model 4 Good model\n",
      "Model 5 Good model\n",
      "Model 6 Good model\n",
      "Model 7 Good model\n",
      "Model 8 Good model\n",
      "Model 9 Good model\n",
      "Model 10 Good model\n",
      "Model 11 Good model\n",
      "Model 12 Good model\n",
      "Model 13 Good model\n",
      "Model 14 Good model\n",
      "Model 15 Good model\n",
      "Model 16 Good model\n"
     ]
    }
   ],
   "source": [
    "d=0;\n",
    "lis=[]\n",
    "for p in range(4):\n",
    "    for q in range(4):\n",
    "        lis.append((p,d,q))\n",
    "\n",
    "# building model\n",
    "model=[]\n",
    "for i in lis:\n",
    "    m =ARIMA(train1, order=i).fit() \n",
    "    model.append(m)\n",
    "\n",
    "# checking model is good or not\n",
    "model_st=[]\n",
    "c=1\n",
    "for i in model:\n",
    "    pvalue = sm.stats.acorr_ljungbox(i.resid, lags=[1], return_df=True)['lb_pvalue'].values\n",
    "    if pvalue < 0.05:\n",
    "        print(f'Model {c} Not a good model')\n",
    "    else:\n",
    "        print(f'Model {c} Good model')\n",
    "    c+=1"
   ]
  },
  {
   "cell_type": "code",
   "execution_count": 35,
   "id": "45c1ea37",
   "metadata": {},
   "outputs": [
    {
     "data": {
      "text/html": [
       "<div>\n",
       "<style scoped>\n",
       "    .dataframe tbody tr th:only-of-type {\n",
       "        vertical-align: middle;\n",
       "    }\n",
       "\n",
       "    .dataframe tbody tr th {\n",
       "        vertical-align: top;\n",
       "    }\n",
       "\n",
       "    .dataframe thead th {\n",
       "        text-align: right;\n",
       "    }\n",
       "</style>\n",
       "<table border=\"1\" class=\"dataframe\">\n",
       "  <thead>\n",
       "    <tr style=\"text-align: right;\">\n",
       "      <th></th>\n",
       "      <th>Model No.</th>\n",
       "      <th>(p, d, q)</th>\n",
       "      <th>AIC</th>\n",
       "      <th>BIC</th>\n",
       "      <th>MSE</th>\n",
       "      <th>RMSE</th>\n",
       "    </tr>\n",
       "  </thead>\n",
       "  <tbody>\n",
       "    <tr>\n",
       "      <th>0</th>\n",
       "      <td>Model 0</td>\n",
       "      <td>(0, 0, 0)</td>\n",
       "      <td>624.198303</td>\n",
       "      <td>628.452572</td>\n",
       "      <td>1307.305129</td>\n",
       "      <td>36.156675</td>\n",
       "    </tr>\n",
       "    <tr>\n",
       "      <th>1</th>\n",
       "      <td>Model 1</td>\n",
       "      <td>(0, 0, 1)</td>\n",
       "      <td>605.930051</td>\n",
       "      <td>612.311454</td>\n",
       "      <td>1314.965111</td>\n",
       "      <td>36.262448</td>\n",
       "    </tr>\n",
       "    <tr>\n",
       "      <th>2</th>\n",
       "      <td>Model 2</td>\n",
       "      <td>(0, 0, 2)</td>\n",
       "      <td>603.824630</td>\n",
       "      <td>612.333168</td>\n",
       "      <td>1325.154555</td>\n",
       "      <td>36.402672</td>\n",
       "    </tr>\n",
       "    <tr>\n",
       "      <th>3</th>\n",
       "      <td>Model 3</td>\n",
       "      <td>(0, 0, 3)</td>\n",
       "      <td>597.486151</td>\n",
       "      <td>608.121823</td>\n",
       "      <td>1422.227297</td>\n",
       "      <td>37.712429</td>\n",
       "    </tr>\n",
       "    <tr>\n",
       "      <th>4</th>\n",
       "      <td>Model 4</td>\n",
       "      <td>(1, 0, 0)</td>\n",
       "      <td>608.213006</td>\n",
       "      <td>614.594409</td>\n",
       "      <td>1293.561162</td>\n",
       "      <td>35.966111</td>\n",
       "    </tr>\n",
       "    <tr>\n",
       "      <th>5</th>\n",
       "      <td>Model 5</td>\n",
       "      <td>(1, 0, 1)</td>\n",
       "      <td>606.052185</td>\n",
       "      <td>614.560723</td>\n",
       "      <td>1307.697049</td>\n",
       "      <td>36.162094</td>\n",
       "    </tr>\n",
       "    <tr>\n",
       "      <th>6</th>\n",
       "      <td>Model 6</td>\n",
       "      <td>(1, 0, 2)</td>\n",
       "      <td>604.515016</td>\n",
       "      <td>615.150688</td>\n",
       "      <td>1328.115100</td>\n",
       "      <td>36.443314</td>\n",
       "    </tr>\n",
       "    <tr>\n",
       "      <th>7</th>\n",
       "      <td>Model 7</td>\n",
       "      <td>(1, 0, 3)</td>\n",
       "      <td>592.998357</td>\n",
       "      <td>605.761164</td>\n",
       "      <td>1371.134483</td>\n",
       "      <td>37.028833</td>\n",
       "    </tr>\n",
       "    <tr>\n",
       "      <th>8</th>\n",
       "      <td>Model 8</td>\n",
       "      <td>(2, 0, 0)</td>\n",
       "      <td>603.899140</td>\n",
       "      <td>612.407677</td>\n",
       "      <td>1359.733644</td>\n",
       "      <td>36.874566</td>\n",
       "    </tr>\n",
       "    <tr>\n",
       "      <th>9</th>\n",
       "      <td>Model 9</td>\n",
       "      <td>(2, 0, 1)</td>\n",
       "      <td>587.998755</td>\n",
       "      <td>598.634427</td>\n",
       "      <td>1328.337834</td>\n",
       "      <td>36.446369</td>\n",
       "    </tr>\n",
       "    <tr>\n",
       "      <th>10</th>\n",
       "      <td>Model 10</td>\n",
       "      <td>(2, 0, 2)</td>\n",
       "      <td>605.316346</td>\n",
       "      <td>618.079152</td>\n",
       "      <td>1358.528524</td>\n",
       "      <td>36.858222</td>\n",
       "    </tr>\n",
       "    <tr>\n",
       "      <th>11</th>\n",
       "      <td>Model 11</td>\n",
       "      <td>(2, 0, 3)</td>\n",
       "      <td>594.455969</td>\n",
       "      <td>609.345909</td>\n",
       "      <td>1396.244520</td>\n",
       "      <td>37.366355</td>\n",
       "    </tr>\n",
       "    <tr>\n",
       "      <th>12</th>\n",
       "      <td>Model 12</td>\n",
       "      <td>(3, 0, 0)</td>\n",
       "      <td>605.736882</td>\n",
       "      <td>616.372554</td>\n",
       "      <td>1366.962997</td>\n",
       "      <td>36.972463</td>\n",
       "    </tr>\n",
       "    <tr>\n",
       "      <th>13</th>\n",
       "      <td>Model 13</td>\n",
       "      <td>(3, 0, 1)</td>\n",
       "      <td>605.948790</td>\n",
       "      <td>618.711596</td>\n",
       "      <td>1351.192080</td>\n",
       "      <td>36.758565</td>\n",
       "    </tr>\n",
       "    <tr>\n",
       "      <th>14</th>\n",
       "      <td>Model 14</td>\n",
       "      <td>(3, 0, 2)</td>\n",
       "      <td>590.598448</td>\n",
       "      <td>605.488389</td>\n",
       "      <td>1317.725197</td>\n",
       "      <td>36.300485</td>\n",
       "    </tr>\n",
       "    <tr>\n",
       "      <th>15</th>\n",
       "      <td>Model 15</td>\n",
       "      <td>(3, 0, 3)</td>\n",
       "      <td>574.818153</td>\n",
       "      <td>591.835228</td>\n",
       "      <td>538.051167</td>\n",
       "      <td>23.195930</td>\n",
       "    </tr>\n",
       "  </tbody>\n",
       "</table>\n",
       "</div>"
      ],
      "text/plain": [
       "   Model No.  (p, d, q)         AIC         BIC          MSE       RMSE\n",
       "0    Model 0  (0, 0, 0)  624.198303  628.452572  1307.305129  36.156675\n",
       "1    Model 1  (0, 0, 1)  605.930051  612.311454  1314.965111  36.262448\n",
       "2    Model 2  (0, 0, 2)  603.824630  612.333168  1325.154555  36.402672\n",
       "3    Model 3  (0, 0, 3)  597.486151  608.121823  1422.227297  37.712429\n",
       "4    Model 4  (1, 0, 0)  608.213006  614.594409  1293.561162  35.966111\n",
       "5    Model 5  (1, 0, 1)  606.052185  614.560723  1307.697049  36.162094\n",
       "6    Model 6  (1, 0, 2)  604.515016  615.150688  1328.115100  36.443314\n",
       "7    Model 7  (1, 0, 3)  592.998357  605.761164  1371.134483  37.028833\n",
       "8    Model 8  (2, 0, 0)  603.899140  612.407677  1359.733644  36.874566\n",
       "9    Model 9  (2, 0, 1)  587.998755  598.634427  1328.337834  36.446369\n",
       "10  Model 10  (2, 0, 2)  605.316346  618.079152  1358.528524  36.858222\n",
       "11  Model 11  (2, 0, 3)  594.455969  609.345909  1396.244520  37.366355\n",
       "12  Model 12  (3, 0, 0)  605.736882  616.372554  1366.962997  36.972463\n",
       "13  Model 13  (3, 0, 1)  605.948790  618.711596  1351.192080  36.758565\n",
       "14  Model 14  (3, 0, 2)  590.598448  605.488389  1317.725197  36.300485\n",
       "15  Model 15  (3, 0, 3)  574.818153  591.835228   538.051167  23.195930"
      ]
     },
     "execution_count": 35,
     "metadata": {},
     "output_type": "execute_result"
    }
   ],
   "source": [
    "aic=[]\n",
    "bic=[]\n",
    "for i in model[0:]:\n",
    "    aic.append(i.aic)\n",
    "    bic.append(i.bic)\n",
    "\n",
    "# predicting values\n",
    "forecast=[]\n",
    "for i in model[0:]:\n",
    "    fcast = i.predict(start=len(train1), end=len(train1)+len(test1)-1)\n",
    "    forecast.append(fcast)\n",
    "\n",
    "# calculating MSE and RMSE score\n",
    "MSE = []\n",
    "RMSE = []\n",
    "for i in forecast:\n",
    "    mse = mean_squared_error(test1, i)\n",
    "    rmse = np.sqrt(mse)\n",
    "    MSE.append(mse)\n",
    "    RMSE.append(rmse)\n",
    "\n",
    "# printing model numbers\n",
    "model_no=[]\n",
    "for i in range(0,len(model)):\n",
    "    model_no.append('Model '+str(i))\n",
    "    \n",
    "# dataframe of all results\n",
    "df_results1 = pd.DataFrame({'Model No.': model_no, '(p, d, q)':lis[0:], 'AIC': aic, 'BIC': bic, 'MSE': MSE, 'RMSE': RMSE})\n",
    "df_results1"
   ]
  },
  {
   "cell_type": "code",
   "execution_count": 36,
   "id": "c1759f97",
   "metadata": {},
   "outputs": [
    {
     "name": "stdout",
     "output_type": "stream",
     "text": [
      "Taking model with lowest RMSE score:\n"
     ]
    },
    {
     "data": {
      "text/html": [
       "<div>\n",
       "<style scoped>\n",
       "    .dataframe tbody tr th:only-of-type {\n",
       "        vertical-align: middle;\n",
       "    }\n",
       "\n",
       "    .dataframe tbody tr th {\n",
       "        vertical-align: top;\n",
       "    }\n",
       "\n",
       "    .dataframe thead th {\n",
       "        text-align: right;\n",
       "    }\n",
       "</style>\n",
       "<table border=\"1\" class=\"dataframe\">\n",
       "  <thead>\n",
       "    <tr style=\"text-align: right;\">\n",
       "      <th></th>\n",
       "      <th>Model No.</th>\n",
       "      <th>(p, d, q)</th>\n",
       "      <th>AIC</th>\n",
       "      <th>BIC</th>\n",
       "      <th>MSE</th>\n",
       "      <th>RMSE</th>\n",
       "    </tr>\n",
       "  </thead>\n",
       "  <tbody>\n",
       "    <tr>\n",
       "      <th>15</th>\n",
       "      <td>Model 15</td>\n",
       "      <td>(3, 0, 3)</td>\n",
       "      <td>574.818153</td>\n",
       "      <td>591.835228</td>\n",
       "      <td>538.051167</td>\n",
       "      <td>23.19593</td>\n",
       "    </tr>\n",
       "  </tbody>\n",
       "</table>\n",
       "</div>"
      ],
      "text/plain": [
       "   Model No.  (p, d, q)         AIC         BIC         MSE      RMSE\n",
       "15  Model 15  (3, 0, 3)  574.818153  591.835228  538.051167  23.19593"
      ]
     },
     "execution_count": 36,
     "metadata": {},
     "output_type": "execute_result"
    }
   ],
   "source": [
    "print('Taking model with lowest RMSE score:')\n",
    "df_results1[df_results1.RMSE==df_results1.RMSE.min()]\n"
   ]
  },
  {
   "cell_type": "code",
   "execution_count": 37,
   "id": "0b066466",
   "metadata": {},
   "outputs": [
    {
     "name": "stdout",
     "output_type": "stream",
     "text": [
      "Taking model with lowest BIC score:\n"
     ]
    },
    {
     "data": {
      "text/html": [
       "<div>\n",
       "<style scoped>\n",
       "    .dataframe tbody tr th:only-of-type {\n",
       "        vertical-align: middle;\n",
       "    }\n",
       "\n",
       "    .dataframe tbody tr th {\n",
       "        vertical-align: top;\n",
       "    }\n",
       "\n",
       "    .dataframe thead th {\n",
       "        text-align: right;\n",
       "    }\n",
       "</style>\n",
       "<table border=\"1\" class=\"dataframe\">\n",
       "  <thead>\n",
       "    <tr style=\"text-align: right;\">\n",
       "      <th></th>\n",
       "      <th>Model No.</th>\n",
       "      <th>(p, d, q)</th>\n",
       "      <th>AIC</th>\n",
       "      <th>BIC</th>\n",
       "      <th>MSE</th>\n",
       "      <th>RMSE</th>\n",
       "    </tr>\n",
       "  </thead>\n",
       "  <tbody>\n",
       "    <tr>\n",
       "      <th>15</th>\n",
       "      <td>Model 15</td>\n",
       "      <td>(3, 0, 3)</td>\n",
       "      <td>574.818153</td>\n",
       "      <td>591.835228</td>\n",
       "      <td>538.051167</td>\n",
       "      <td>23.19593</td>\n",
       "    </tr>\n",
       "  </tbody>\n",
       "</table>\n",
       "</div>"
      ],
      "text/plain": [
       "   Model No.  (p, d, q)         AIC         BIC         MSE      RMSE\n",
       "15  Model 15  (3, 0, 3)  574.818153  591.835228  538.051167  23.19593"
      ]
     },
     "execution_count": 37,
     "metadata": {},
     "output_type": "execute_result"
    }
   ],
   "source": [
    "print('Taking model with lowest BIC score:')\n",
    "\n",
    "df_results1[df_results1.BIC==df_results1.BIC.min()]"
   ]
  },
  {
   "cell_type": "code",
   "execution_count": 38,
   "id": "61904631",
   "metadata": {},
   "outputs": [
    {
     "name": "stdout",
     "output_type": "stream",
     "text": [
      "Taking model with lowest AIC score:\n"
     ]
    },
    {
     "data": {
      "text/html": [
       "<div>\n",
       "<style scoped>\n",
       "    .dataframe tbody tr th:only-of-type {\n",
       "        vertical-align: middle;\n",
       "    }\n",
       "\n",
       "    .dataframe tbody tr th {\n",
       "        vertical-align: top;\n",
       "    }\n",
       "\n",
       "    .dataframe thead th {\n",
       "        text-align: right;\n",
       "    }\n",
       "</style>\n",
       "<table border=\"1\" class=\"dataframe\">\n",
       "  <thead>\n",
       "    <tr style=\"text-align: right;\">\n",
       "      <th></th>\n",
       "      <th>Model No.</th>\n",
       "      <th>(p, d, q)</th>\n",
       "      <th>AIC</th>\n",
       "      <th>BIC</th>\n",
       "      <th>MSE</th>\n",
       "      <th>RMSE</th>\n",
       "    </tr>\n",
       "  </thead>\n",
       "  <tbody>\n",
       "    <tr>\n",
       "      <th>15</th>\n",
       "      <td>Model 15</td>\n",
       "      <td>(3, 0, 3)</td>\n",
       "      <td>574.818153</td>\n",
       "      <td>591.835228</td>\n",
       "      <td>538.051167</td>\n",
       "      <td>23.19593</td>\n",
       "    </tr>\n",
       "  </tbody>\n",
       "</table>\n",
       "</div>"
      ],
      "text/plain": [
       "   Model No.  (p, d, q)         AIC         BIC         MSE      RMSE\n",
       "15  Model 15  (3, 0, 3)  574.818153  591.835228  538.051167  23.19593"
      ]
     },
     "execution_count": 38,
     "metadata": {},
     "output_type": "execute_result"
    }
   ],
   "source": [
    "print('Taking model with lowest AIC score:')\n",
    "df_results1[df_results1.AIC==df_results1.AIC.min()]"
   ]
  },
  {
   "cell_type": "code",
   "execution_count": 40,
   "id": "9c7bd2a4",
   "metadata": {},
   "outputs": [
    {
     "data": {
      "text/html": [
       "<table class=\"simpletable\">\n",
       "<caption>SARIMAX Results</caption>\n",
       "<tr>\n",
       "  <th>Dep. Variable:</th>            <td>sentiment_count</td>         <th>  No. Observations:  </th>    <td>89</td>   \n",
       "</tr>\n",
       "<tr>\n",
       "  <th>Model:</th>           <td>SARIMAX(3, 0, 3)x(1, 0, [1], 12)</td> <th>  Log Likelihood     </th> <td>-397.173</td>\n",
       "</tr>\n",
       "<tr>\n",
       "  <th>Date:</th>                    <td>Wed, 25 Jan 2023</td>         <th>  AIC                </th>  <td>812.345</td>\n",
       "</tr>\n",
       "<tr>\n",
       "  <th>Time:</th>                        <td>14:38:56</td>             <th>  BIC                </th>  <td>834.743</td>\n",
       "</tr>\n",
       "<tr>\n",
       "  <th>Sample:</th>                          <td>0</td>                <th>  HQIC               </th>  <td>821.373</td>\n",
       "</tr>\n",
       "<tr>\n",
       "  <th></th>                               <td> - 89</td>              <th>                     </th>     <td> </td>   \n",
       "</tr>\n",
       "<tr>\n",
       "  <th>Covariance Type:</th>                <td>opg</td>               <th>                     </th>     <td> </td>   \n",
       "</tr>\n",
       "</table>\n",
       "<table class=\"simpletable\">\n",
       "<tr>\n",
       "      <td></td>        <th>coef</th>     <th>std err</th>      <th>z</th>      <th>P>|z|</th>  <th>[0.025</th>    <th>0.975]</th>  \n",
       "</tr>\n",
       "<tr>\n",
       "  <th>ar.L1</th>    <td>    1.1127</td> <td>    0.336</td> <td>    3.314</td> <td> 0.001</td> <td>    0.455</td> <td>    1.771</td>\n",
       "</tr>\n",
       "<tr>\n",
       "  <th>ar.L2</th>    <td>   -0.5202</td> <td>    0.447</td> <td>   -1.165</td> <td> 0.244</td> <td>   -1.395</td> <td>    0.355</td>\n",
       "</tr>\n",
       "<tr>\n",
       "  <th>ar.L3</th>    <td>    0.4064</td> <td>    0.192</td> <td>    2.116</td> <td> 0.034</td> <td>    0.030</td> <td>    0.783</td>\n",
       "</tr>\n",
       "<tr>\n",
       "  <th>ma.L1</th>    <td>   -0.5001</td> <td>    0.342</td> <td>   -1.464</td> <td> 0.143</td> <td>   -1.170</td> <td>    0.169</td>\n",
       "</tr>\n",
       "<tr>\n",
       "  <th>ma.L2</th>    <td>   -0.0110</td> <td>    0.259</td> <td>   -0.043</td> <td> 0.966</td> <td>   -0.519</td> <td>    0.497</td>\n",
       "</tr>\n",
       "<tr>\n",
       "  <th>ma.L3</th>    <td>   -0.4489</td> <td>    0.207</td> <td>   -2.164</td> <td> 0.030</td> <td>   -0.856</td> <td>   -0.042</td>\n",
       "</tr>\n",
       "<tr>\n",
       "  <th>ar.S.L12</th> <td>    0.9101</td> <td>    0.089</td> <td>   10.262</td> <td> 0.000</td> <td>    0.736</td> <td>    1.084</td>\n",
       "</tr>\n",
       "<tr>\n",
       "  <th>ma.S.L12</th> <td>   -0.3928</td> <td>    0.212</td> <td>   -1.856</td> <td> 0.063</td> <td>   -0.808</td> <td>    0.022</td>\n",
       "</tr>\n",
       "<tr>\n",
       "  <th>sigma2</th>   <td>  366.3724</td> <td>   52.343</td> <td>    6.999</td> <td> 0.000</td> <td>  263.782</td> <td>  468.963</td>\n",
       "</tr>\n",
       "</table>\n",
       "<table class=\"simpletable\">\n",
       "<tr>\n",
       "  <th>Ljung-Box (L1) (Q):</th>     <td>0.11</td> <th>  Jarque-Bera (JB):  </th> <td>103.08</td>\n",
       "</tr>\n",
       "<tr>\n",
       "  <th>Prob(Q):</th>                <td>0.74</td> <th>  Prob(JB):          </th>  <td>0.00</td> \n",
       "</tr>\n",
       "<tr>\n",
       "  <th>Heteroskedasticity (H):</th> <td>0.03</td> <th>  Skew:              </th>  <td>0.91</td> \n",
       "</tr>\n",
       "<tr>\n",
       "  <th>Prob(H) (two-sided):</th>    <td>0.00</td> <th>  Kurtosis:          </th>  <td>7.95</td> \n",
       "</tr>\n",
       "</table><br/><br/>Warnings:<br/>[1] Covariance matrix calculated using the outer product of gradients (complex-step)."
      ],
      "text/plain": [
       "<class 'statsmodels.iolib.summary.Summary'>\n",
       "\"\"\"\n",
       "                                      SARIMAX Results                                       \n",
       "============================================================================================\n",
       "Dep. Variable:                      sentiment_count   No. Observations:                   89\n",
       "Model:             SARIMAX(3, 0, 3)x(1, 0, [1], 12)   Log Likelihood                -397.173\n",
       "Date:                              Wed, 25 Jan 2023   AIC                            812.345\n",
       "Time:                                      14:38:56   BIC                            834.743\n",
       "Sample:                                           0   HQIC                           821.373\n",
       "                                               - 89                                         \n",
       "Covariance Type:                                opg                                         \n",
       "==============================================================================\n",
       "                 coef    std err          z      P>|z|      [0.025      0.975]\n",
       "------------------------------------------------------------------------------\n",
       "ar.L1          1.1127      0.336      3.314      0.001       0.455       1.771\n",
       "ar.L2         -0.5202      0.447     -1.165      0.244      -1.395       0.355\n",
       "ar.L3          0.4064      0.192      2.116      0.034       0.030       0.783\n",
       "ma.L1         -0.5001      0.342     -1.464      0.143      -1.170       0.169\n",
       "ma.L2         -0.0110      0.259     -0.043      0.966      -0.519       0.497\n",
       "ma.L3         -0.4489      0.207     -2.164      0.030      -0.856      -0.042\n",
       "ar.S.L12       0.9101      0.089     10.262      0.000       0.736       1.084\n",
       "ma.S.L12      -0.3928      0.212     -1.856      0.063      -0.808       0.022\n",
       "sigma2       366.3724     52.343      6.999      0.000     263.782     468.963\n",
       "===================================================================================\n",
       "Ljung-Box (L1) (Q):                   0.11   Jarque-Bera (JB):               103.08\n",
       "Prob(Q):                              0.74   Prob(JB):                         0.00\n",
       "Heteroskedasticity (H):               0.03   Skew:                             0.91\n",
       "Prob(H) (two-sided):                  0.00   Kurtosis:                         7.95\n",
       "===================================================================================\n",
       "\n",
       "Warnings:\n",
       "[1] Covariance matrix calculated using the outer product of gradients (complex-step).\n",
       "\"\"\""
      ]
     },
     "execution_count": 40,
     "metadata": {},
     "output_type": "execute_result"
    }
   ],
   "source": [
    "p=3;q=3;d=0\n",
    "P=1;Q=1;D=0\n",
    "m1 =sm.tsa.statespace.SARIMAX(office_pos['sentiment_count'],order=(p,d,q),seasonal_order=(P,D,Q,12)).fit()\n",
    "#m1=ARIMA(office_pos['sentiment_count'],order=(p,d,q)).fit()\n",
    "# summarise the model\n",
    "m1.summary()\n"
   ]
  },
  {
   "cell_type": "code",
   "execution_count": 41,
   "id": "e5ee0fb9",
   "metadata": {},
   "outputs": [
    {
     "name": "stdout",
     "output_type": "stream",
     "text": [
      "Fail-to-Reject H0. Good model\n"
     ]
    }
   ],
   "source": [
    "# LJung-Box test\n",
    "pvalue = sm.stats.acorr_ljungbox(m1.resid,lags=[1],return_df=True)['lb_pvalue'].values\n",
    "if pvalue < 0.05:\n",
    "    print(\"Reject H0. Bad model\")\n",
    "else:\n",
    "    print(\"Fail-to-Reject H0. Good model\")"
   ]
  },
  {
   "cell_type": "code",
   "execution_count": 42,
   "id": "9ca56eda",
   "metadata": {},
   "outputs": [
    {
     "name": "stdout",
     "output_type": "stream",
     "text": [
      "start = 62, end = 88\n"
     ]
    }
   ],
   "source": [
    "start = len(train1) \n",
    "end = len(train1) + len(test1) - 1\n",
    "\n",
    "print('start = {}, end = {}'.format(start,end))"
   ]
  },
  {
   "cell_type": "code",
   "execution_count": 43,
   "id": "58370bac",
   "metadata": {},
   "outputs": [
    {
     "name": "stdout",
     "output_type": "stream",
     "text": [
      "date\n",
      "2016-03-31    176.106416\n",
      "2016-04-30    169.210428\n",
      "2016-05-31    139.039881\n",
      "2016-06-30     98.829852\n",
      "2016-07-31    113.095077\n",
      "Name: predicted_mean, dtype: float64\n"
     ]
    }
   ],
   "source": [
    "predictions = m1.predict(start,end)\n",
    "predictions.index=test1.index\n",
    "print(predictions.head(5))"
   ]
  },
  {
   "cell_type": "code",
   "execution_count": 44,
   "id": "e3cf2e45",
   "metadata": {},
   "outputs": [
    {
     "name": "stdout",
     "output_type": "stream",
     "text": [
      "            actual   predicted     error\n",
      "date                                    \n",
      "2016-03-31   181.0  176.106416  4.893584\n",
      "2016-04-30   172.0  169.210428  2.789572\n",
      "2016-05-31   132.0  139.039881 -7.039881\n",
      "2016-06-30    92.0   98.829852 -6.829852\n",
      "2016-07-31   115.0  113.095077  1.904923\n"
     ]
    }
   ],
   "source": [
    "actual = []; pred = []\n",
    "test1.reset_index(drop=True)\n",
    "for i in range(len(predictions)):\n",
    "    actual.append(test1['sentiment_count'][i])\n",
    "    pred.append(predictions[i])\n",
    "\n",
    "df_res1 = pd.DataFrame({'actual':actual, 'predicted':pred})\n",
    "df_res1['error'] = df_res1.actual - df_res1.predicted\n",
    "df_res1.index=test1.index\n",
    "print(df_res1.head())"
   ]
  },
  {
   "cell_type": "code",
   "execution_count": 45,
   "id": "e9df70a5",
   "metadata": {},
   "outputs": [
    {
     "data": {
      "text/html": [
       "<div>\n",
       "<style scoped>\n",
       "    .dataframe tbody tr th:only-of-type {\n",
       "        vertical-align: middle;\n",
       "    }\n",
       "\n",
       "    .dataframe tbody tr th {\n",
       "        vertical-align: top;\n",
       "    }\n",
       "\n",
       "    .dataframe thead th {\n",
       "        text-align: right;\n",
       "    }\n",
       "</style>\n",
       "<table border=\"1\" class=\"dataframe\">\n",
       "  <thead>\n",
       "    <tr style=\"text-align: right;\">\n",
       "      <th></th>\n",
       "      <th>sentiment_count</th>\n",
       "    </tr>\n",
       "    <tr>\n",
       "      <th>date</th>\n",
       "      <th></th>\n",
       "    </tr>\n",
       "  </thead>\n",
       "  <tbody>\n",
       "    <tr>\n",
       "      <th>2018-01-31</th>\n",
       "      <td>222.0</td>\n",
       "    </tr>\n",
       "    <tr>\n",
       "      <th>2018-02-28</th>\n",
       "      <td>171.0</td>\n",
       "    </tr>\n",
       "    <tr>\n",
       "      <th>2018-03-31</th>\n",
       "      <td>181.0</td>\n",
       "    </tr>\n",
       "    <tr>\n",
       "      <th>2018-04-30</th>\n",
       "      <td>172.0</td>\n",
       "    </tr>\n",
       "    <tr>\n",
       "      <th>2018-05-31</th>\n",
       "      <td>132.0</td>\n",
       "    </tr>\n",
       "  </tbody>\n",
       "</table>\n",
       "</div>"
      ],
      "text/plain": [
       "            sentiment_count\n",
       "date                       \n",
       "2018-01-31            222.0\n",
       "2018-02-28            171.0\n",
       "2018-03-31            181.0\n",
       "2018-04-30            172.0\n",
       "2018-05-31            132.0"
      ]
     },
     "execution_count": 45,
     "metadata": {},
     "output_type": "execute_result"
    }
   ],
   "source": [
    "office_pos.tail()"
   ]
  },
  {
   "cell_type": "code",
   "execution_count": 46,
   "id": "34776699",
   "metadata": {},
   "outputs": [
    {
     "name": "stdout",
     "output_type": "stream",
     "text": [
      "mse: 21.56493599690046\n",
      "rmse: 4.643806197172795\n"
     ]
    }
   ],
   "source": [
    "mse1=mean_squared_error(df_res1.actual,df_res1.predicted)\n",
    "rmse1=np.sqrt(mse1)\n",
    "print('mse:',mse1)\n",
    "print('rmse:',rmse1)"
   ]
  },
  {
   "cell_type": "code",
   "execution_count": 47,
   "id": "de6ba9f4",
   "metadata": {},
   "outputs": [
    {
     "data": {
      "text/plain": [
       "Text(0.5, 1.0, 'SARIMA Model. Order=(3,0,3)')"
      ]
     },
     "execution_count": 47,
     "metadata": {},
     "output_type": "execute_result"
    },
    {
     "data": {
      "image/png": "[encoded data removed]",
      "text/plain": [
       "<Figure size 720x576 with 1 Axes>"
      ]
     },
     "metadata": {
      "needs_background": "light"
     },
     "output_type": "display_data"
    }
   ],
   "source": [
    "msg = 'SARIMA Model. Order=(' + str(p) + ',' + str(d) + ',' + str(q) + ')'\n",
    "df_res1.actual.plot(figsize=(10,8),legend=True)\n",
    "df_res1.predicted.plot(legend=True)\n",
    "plt.title(msg)"
   ]
  },
  {
   "cell_type": "code",
   "execution_count": 56,
   "id": "c6333829",
   "metadata": {},
   "outputs": [],
   "source": [
    "future_dates=pd.DataFrame()\n",
    "future_dates['date']=[     \n",
    "'2018-05-31',    \n",
    "'2018-07-30',       \n",
    "'2018-11-30',   \n",
    "'2019-01-31',  \n",
    "'2019-02-28',   \n",
    "'2019-03-31',\n",
    "'2019-05-31']      \n",
    "future_dates=pd.to_datetime(future_dates['date'])\n",
    "future_dates=pd.DataFrame(future_dates)\n"
   ]
  },
  {
   "cell_type": "code",
   "execution_count": 57,
   "id": "3e46ee8f",
   "metadata": {},
   "outputs": [
    {
     "name": "stdout",
     "output_type": "stream",
     "text": [
      "date\n",
      "2018-05-31    136.726981\n",
      "2018-07-30     97.354351\n",
      "2018-11-30    118.111481\n",
      "2019-01-31    144.512881\n",
      "2019-02-28    125.744672\n",
      "Name: Forecast, dtype: float64\n"
     ]
    }
   ],
   "source": [
    "fcast1 = m1.predict(end,end+6).rename('Forecast')\n",
    "fcast1.index=future_dates.date\n",
    "print(fcast1.head())"
   ]
  },
  {
   "cell_type": "code",
   "execution_count": 59,
   "id": "2eb99a31",
   "metadata": {},
   "outputs": [
    {
     "data": {
      "text/plain": [
       "<AxesSubplot:xlabel='date', ylabel='count of positive sentiment'>"
      ]
     },
     "execution_count": 59,
     "metadata": {},
     "output_type": "execute_result"
    },
    {
     "data": {
      "image/png": "[encoded data removed]",
      "text/plain": [
       "<Figure size 720x576 with 1 Axes>"
      ]
     },
     "metadata": {
      "needs_background": "light"
     },
     "output_type": "display_data"
    }
   ],
   "source": [
    "\n",
    "df_res1.actual.tail(30).plot(figsize=(10,8),legend=True)\n",
    "df_res1.predicted.tail(30).plot(legend=True)\n",
    "plt.ylabel('count of positive sentiment')\n",
    "fcast1.plot(legend=True)"
   ]
  },
  {
   "cell_type": "markdown",
   "id": "b468689f",
   "metadata": {},
   "source": [
    "### Neutral"
   ]
  },
  {
   "cell_type": "code",
   "execution_count": 60,
   "id": "faf9a80e",
   "metadata": {},
   "outputs": [
    {
     "data": {
      "text/html": [
       "<div>\n",
       "<style scoped>\n",
       "    .dataframe tbody tr th:only-of-type {\n",
       "        vertical-align: middle;\n",
       "    }\n",
       "\n",
       "    .dataframe tbody tr th {\n",
       "        vertical-align: top;\n",
       "    }\n",
       "\n",
       "    .dataframe thead th {\n",
       "        text-align: right;\n",
       "    }\n",
       "</style>\n",
       "<table border=\"1\" class=\"dataframe\">\n",
       "  <thead>\n",
       "    <tr style=\"text-align: right;\">\n",
       "      <th></th>\n",
       "      <th>asin</th>\n",
       "      <th>Month</th>\n",
       "      <th>Sentiment</th>\n",
       "      <th>sentiment_count</th>\n",
       "    </tr>\n",
       "  </thead>\n",
       "  <tbody>\n",
       "    <tr>\n",
       "      <th>0</th>\n",
       "      <td>B00006IEEV</td>\n",
       "      <td>1</td>\n",
       "      <td>Neutral</td>\n",
       "      <td>8</td>\n",
       "    </tr>\n",
       "    <tr>\n",
       "      <th>1</th>\n",
       "      <td>B00006IEEV</td>\n",
       "      <td>2</td>\n",
       "      <td>Neutral</td>\n",
       "      <td>5</td>\n",
       "    </tr>\n",
       "    <tr>\n",
       "      <th>2</th>\n",
       "      <td>B00006IEEV</td>\n",
       "      <td>3</td>\n",
       "      <td>Neutral</td>\n",
       "      <td>7</td>\n",
       "    </tr>\n",
       "    <tr>\n",
       "      <th>3</th>\n",
       "      <td>B00006IEEV</td>\n",
       "      <td>4</td>\n",
       "      <td>Neutral</td>\n",
       "      <td>6</td>\n",
       "    </tr>\n",
       "    <tr>\n",
       "      <th>4</th>\n",
       "      <td>B00006IEEV</td>\n",
       "      <td>5</td>\n",
       "      <td>Neutral</td>\n",
       "      <td>8</td>\n",
       "    </tr>\n",
       "    <tr>\n",
       "      <th>5</th>\n",
       "      <td>B00006IEEV</td>\n",
       "      <td>6</td>\n",
       "      <td>Neutral</td>\n",
       "      <td>9</td>\n",
       "    </tr>\n",
       "    <tr>\n",
       "      <th>6</th>\n",
       "      <td>B00006IEEV</td>\n",
       "      <td>7</td>\n",
       "      <td>Neutral</td>\n",
       "      <td>6</td>\n",
       "    </tr>\n",
       "    <tr>\n",
       "      <th>7</th>\n",
       "      <td>B00006IEEV</td>\n",
       "      <td>8</td>\n",
       "      <td>Neutral</td>\n",
       "      <td>15</td>\n",
       "    </tr>\n",
       "    <tr>\n",
       "      <th>8</th>\n",
       "      <td>B00006IEEV</td>\n",
       "      <td>9</td>\n",
       "      <td>Neutral</td>\n",
       "      <td>4</td>\n",
       "    </tr>\n",
       "    <tr>\n",
       "      <th>9</th>\n",
       "      <td>B00006IEEV</td>\n",
       "      <td>10</td>\n",
       "      <td>Neutral</td>\n",
       "      <td>2</td>\n",
       "    </tr>\n",
       "    <tr>\n",
       "      <th>10</th>\n",
       "      <td>B00006IEEV</td>\n",
       "      <td>11</td>\n",
       "      <td>Neutral</td>\n",
       "      <td>8</td>\n",
       "    </tr>\n",
       "    <tr>\n",
       "      <th>11</th>\n",
       "      <td>B00006IEEV</td>\n",
       "      <td>12</td>\n",
       "      <td>Neutral</td>\n",
       "      <td>7</td>\n",
       "    </tr>\n",
       "  </tbody>\n",
       "</table>\n",
       "</div>"
      ],
      "text/plain": [
       "          asin  Month Sentiment  sentiment_count\n",
       "0   B00006IEEV      1   Neutral                8\n",
       "1   B00006IEEV      2   Neutral                5\n",
       "2   B00006IEEV      3   Neutral                7\n",
       "3   B00006IEEV      4   Neutral                6\n",
       "4   B00006IEEV      5   Neutral                8\n",
       "5   B00006IEEV      6   Neutral                9\n",
       "6   B00006IEEV      7   Neutral                6\n",
       "7   B00006IEEV      8   Neutral               15\n",
       "8   B00006IEEV      9   Neutral                4\n",
       "9   B00006IEEV     10   Neutral                2\n",
       "10  B00006IEEV     11   Neutral                8\n",
       "11  B00006IEEV     12   Neutral                7"
      ]
     },
     "execution_count": 60,
     "metadata": {},
     "output_type": "execute_result"
    }
   ],
   "source": [
    "office_neu_count=office_neu.groupby(['asin','Month','Sentiment']).size().reset_index(name='sentiment_count')\n",
    "office_neu_count"
   ]
  },
  {
   "cell_type": "code",
   "execution_count": 61,
   "id": "829bd123",
   "metadata": {},
   "outputs": [],
   "source": [
    "office_neu=pd.merge(office_neu,office_neu_count)"
   ]
  },
  {
   "cell_type": "code",
   "execution_count": 62,
   "id": "ee368673",
   "metadata": {},
   "outputs": [
    {
     "data": {
      "text/html": [
       "<div>\n",
       "<style scoped>\n",
       "    .dataframe tbody tr th:only-of-type {\n",
       "        vertical-align: middle;\n",
       "    }\n",
       "\n",
       "    .dataframe tbody tr th {\n",
       "        vertical-align: top;\n",
       "    }\n",
       "\n",
       "    .dataframe thead th {\n",
       "        text-align: right;\n",
       "    }\n",
       "</style>\n",
       "<table border=\"1\" class=\"dataframe\">\n",
       "  <thead>\n",
       "    <tr style=\"text-align: right;\">\n",
       "      <th></th>\n",
       "      <th>sentiment_count</th>\n",
       "    </tr>\n",
       "    <tr>\n",
       "      <th>date</th>\n",
       "      <th></th>\n",
       "    </tr>\n",
       "  </thead>\n",
       "  <tbody>\n",
       "    <tr>\n",
       "      <th>2011-08-20</th>\n",
       "      <td>15</td>\n",
       "    </tr>\n",
       "    <tr>\n",
       "      <th>2012-06-15</th>\n",
       "      <td>9</td>\n",
       "    </tr>\n",
       "    <tr>\n",
       "      <th>2013-08-02</th>\n",
       "      <td>15</td>\n",
       "    </tr>\n",
       "    <tr>\n",
       "      <th>2013-11-01</th>\n",
       "      <td>8</td>\n",
       "    </tr>\n",
       "    <tr>\n",
       "      <th>2013-11-27</th>\n",
       "      <td>8</td>\n",
       "    </tr>\n",
       "    <tr>\n",
       "      <th>...</th>\n",
       "      <td>...</td>\n",
       "    </tr>\n",
       "    <tr>\n",
       "      <th>2018-03-05</th>\n",
       "      <td>7</td>\n",
       "    </tr>\n",
       "    <tr>\n",
       "      <th>2018-03-28</th>\n",
       "      <td>7</td>\n",
       "    </tr>\n",
       "    <tr>\n",
       "      <th>2018-03-28</th>\n",
       "      <td>7</td>\n",
       "    </tr>\n",
       "    <tr>\n",
       "      <th>2018-04-17</th>\n",
       "      <td>6</td>\n",
       "    </tr>\n",
       "    <tr>\n",
       "      <th>2018-05-07</th>\n",
       "      <td>8</td>\n",
       "    </tr>\n",
       "  </tbody>\n",
       "</table>\n",
       "<p>85 rows × 1 columns</p>\n",
       "</div>"
      ],
      "text/plain": [
       "            sentiment_count\n",
       "date                       \n",
       "2011-08-20               15\n",
       "2012-06-15                9\n",
       "2013-08-02               15\n",
       "2013-11-01                8\n",
       "2013-11-27                8\n",
       "...                     ...\n",
       "2018-03-05                7\n",
       "2018-03-28                7\n",
       "2018-03-28                7\n",
       "2018-04-17                6\n",
       "2018-05-07                8\n",
       "\n",
       "[85 rows x 1 columns]"
      ]
     },
     "execution_count": 62,
     "metadata": {},
     "output_type": "execute_result"
    }
   ],
   "source": [
    "office_neu=office_neu[['date','sentiment_count']]\n",
    "office_neu=office_neu.set_index('date')\n",
    "office_neu=office_neu.sort_values(by=['date'])\n",
    "office_neu"
   ]
  },
  {
   "cell_type": "code",
   "execution_count": 63,
   "id": "e7256f0e",
   "metadata": {},
   "outputs": [
    {
     "data": {
      "text/html": [
       "<div>\n",
       "<style scoped>\n",
       "    .dataframe tbody tr th:only-of-type {\n",
       "        vertical-align: middle;\n",
       "    }\n",
       "\n",
       "    .dataframe tbody tr th {\n",
       "        vertical-align: top;\n",
       "    }\n",
       "\n",
       "    .dataframe thead th {\n",
       "        text-align: right;\n",
       "    }\n",
       "</style>\n",
       "<table border=\"1\" class=\"dataframe\">\n",
       "  <thead>\n",
       "    <tr style=\"text-align: right;\">\n",
       "      <th></th>\n",
       "      <th>sentiment_count</th>\n",
       "    </tr>\n",
       "    <tr>\n",
       "      <th>date</th>\n",
       "      <th></th>\n",
       "    </tr>\n",
       "  </thead>\n",
       "  <tbody>\n",
       "    <tr>\n",
       "      <th>2011-08-31</th>\n",
       "      <td>15.0</td>\n",
       "    </tr>\n",
       "    <tr>\n",
       "      <th>2011-09-30</th>\n",
       "      <td>NaN</td>\n",
       "    </tr>\n",
       "    <tr>\n",
       "      <th>2011-10-31</th>\n",
       "      <td>NaN</td>\n",
       "    </tr>\n",
       "    <tr>\n",
       "      <th>2011-11-30</th>\n",
       "      <td>NaN</td>\n",
       "    </tr>\n",
       "    <tr>\n",
       "      <th>2011-12-31</th>\n",
       "      <td>NaN</td>\n",
       "    </tr>\n",
       "    <tr>\n",
       "      <th>...</th>\n",
       "      <td>...</td>\n",
       "    </tr>\n",
       "    <tr>\n",
       "      <th>2018-01-31</th>\n",
       "      <td>8.0</td>\n",
       "    </tr>\n",
       "    <tr>\n",
       "      <th>2018-02-28</th>\n",
       "      <td>5.0</td>\n",
       "    </tr>\n",
       "    <tr>\n",
       "      <th>2018-03-31</th>\n",
       "      <td>7.0</td>\n",
       "    </tr>\n",
       "    <tr>\n",
       "      <th>2018-04-30</th>\n",
       "      <td>6.0</td>\n",
       "    </tr>\n",
       "    <tr>\n",
       "      <th>2018-05-31</th>\n",
       "      <td>8.0</td>\n",
       "    </tr>\n",
       "  </tbody>\n",
       "</table>\n",
       "<p>82 rows × 1 columns</p>\n",
       "</div>"
      ],
      "text/plain": [
       "            sentiment_count\n",
       "date                       \n",
       "2011-08-31             15.0\n",
       "2011-09-30              NaN\n",
       "2011-10-31              NaN\n",
       "2011-11-30              NaN\n",
       "2011-12-31              NaN\n",
       "...                     ...\n",
       "2018-01-31              8.0\n",
       "2018-02-28              5.0\n",
       "2018-03-31              7.0\n",
       "2018-04-30              6.0\n",
       "2018-05-31              8.0\n",
       "\n",
       "[82 rows x 1 columns]"
      ]
     },
     "execution_count": 63,
     "metadata": {},
     "output_type": "execute_result"
    }
   ],
   "source": [
    "office_neu=office_neu.resample('M').mean()\n",
    "office_neu"
   ]
  },
  {
   "cell_type": "code",
   "execution_count": 64,
   "id": "b5e6faa9",
   "metadata": {},
   "outputs": [
    {
     "data": {
      "text/plain": [
       "sentiment_count    42\n",
       "dtype: int64"
      ]
     },
     "execution_count": 64,
     "metadata": {},
     "output_type": "execute_result"
    }
   ],
   "source": [
    "office_neu.isnull().sum()"
   ]
  },
  {
   "cell_type": "code",
   "execution_count": 65,
   "id": "b3864ddf",
   "metadata": {},
   "outputs": [],
   "source": [
    "office_neu.dropna(inplace=True)"
   ]
  },
  {
   "cell_type": "code",
   "execution_count": 66,
   "id": "289a6950",
   "metadata": {},
   "outputs": [
    {
     "data": {
      "image/png": "[encoded data removed]",
      "text/plain": [
       "<Figure size 1080x576 with 4 Axes>"
      ]
     },
     "metadata": {},
     "output_type": "display_data"
    }
   ],
   "source": [
    "tsa_comp(office_neu)"
   ]
  },
  {
   "cell_type": "code",
   "execution_count": 67,
   "id": "244cb087",
   "metadata": {},
   "outputs": [
    {
     "name": "stdout",
     "output_type": "stream",
     "text": [
      "pvalue: 2.262244868593271e-12\n"
     ]
    },
    {
     "data": {
      "text/plain": [
       "'Data is Stationary. Proceed to model building'"
      ]
     },
     "execution_count": 67,
     "metadata": {},
     "output_type": "execute_result"
    }
   ],
   "source": [
    "checkStationarity(office_neu)"
   ]
  },
  {
   "cell_type": "code",
   "execution_count": 69,
   "id": "e61a84cf",
   "metadata": {},
   "outputs": [
    {
     "name": "stdout",
     "output_type": "stream",
     "text": [
      "            sentiment_count\n",
      "date                       \n",
      "2000-05-31              NaN\n",
      "2000-06-30         0.000000\n",
      "2000-09-30         0.333333\n",
      "2000-10-31         1.000000\n",
      "2001-02-28        -1.333333\n",
      "...                     ...\n",
      "2018-05-31         0.079908\n",
      "2018-06-30        -0.318184\n",
      "2018-07-31        -0.364335\n",
      "2018-08-31        -0.071818\n",
      "2018-09-30         0.115152\n",
      "\n",
      "[190 rows x 1 columns]\n"
     ]
    }
   ],
   "source": [
    "#diff_office_neu = office_neu-office_neu.shift(1)\n",
    "#print(diff_office_neu)"
   ]
  },
  {
   "cell_type": "code",
   "execution_count": 70,
   "id": "34fae65b",
   "metadata": {},
   "outputs": [],
   "source": [
    "#diff_office_neu.dropna(inplace=True)"
   ]
  },
  {
   "cell_type": "code",
   "execution_count": 71,
   "id": "c5f40d17",
   "metadata": {},
   "outputs": [
    {
     "name": "stdout",
     "output_type": "stream",
     "text": [
      "pvalue: 4.0762493817565416e-10\n"
     ]
    },
    {
     "data": {
      "text/plain": [
       "'Data is Stationary. Proceed to model building'"
      ]
     },
     "execution_count": 71,
     "metadata": {},
     "output_type": "execute_result"
    }
   ],
   "source": [
    "#checkStationarity(diff_office_neu)"
   ]
  },
  {
   "cell_type": "code",
   "execution_count": 68,
   "id": "ef31e03f",
   "metadata": {},
   "outputs": [
    {
     "name": "stdout",
     "output_type": "stream",
     "text": [
      "Total=40, Train=28, Test=12\n"
     ]
    }
   ],
   "source": [
    "ratio = 0.7\n",
    "rows = int(ratio * len(office_neu))\n",
    "train2 =office_neu[:rows]\n",
    "test2 = office_neu[rows:]\n",
    "\n",
    "print(\"Total={}, Train={}, Test={}\".format(len(office_neu), len(train2), len(test2)))"
   ]
  },
  {
   "cell_type": "code",
   "execution_count": 69,
   "id": "96ffb070",
   "metadata": {},
   "outputs": [
    {
     "data": {
      "image/png": "[encoded data removed]",
      "text/plain": [
       "<Figure size 1080x360 with 2 Axes>"
      ]
     },
     "metadata": {
      "needs_background": "light"
     },
     "output_type": "display_data"
    }
   ],
   "source": [
    "p_and_q(office_neu)"
   ]
  },
  {
   "cell_type": "code",
   "execution_count": 70,
   "id": "7dc4041d",
   "metadata": {},
   "outputs": [
    {
     "name": "stdout",
     "output_type": "stream",
     "text": [
      "Model 1 Good model\n",
      "Model 2 Good model\n",
      "Model 3 Good model\n",
      "Model 4 Good model\n",
      "Model 5 Good model\n",
      "Model 6 Good model\n",
      "Model 7 Good model\n",
      "Model 8 Good model\n",
      "Model 9 Good model\n",
      "Model 10 Good model\n",
      "Model 11 Good model\n",
      "Model 12 Good model\n",
      "Model 13 Good model\n",
      "Model 14 Good model\n",
      "Model 15 Good model\n",
      "Model 16 Good model\n"
     ]
    }
   ],
   "source": [
    "d=0;\n",
    "lis=[]\n",
    "for p in range(4):\n",
    "    for q in range(4):\n",
    "        lis.append((p,d,q))\n",
    "\n",
    "# building model\n",
    "model=[]\n",
    "for i in lis:\n",
    "    m =ARIMA(train2, order=i).fit() \n",
    "    model.append(m)\n",
    "\n",
    "# checking model is good or not\n",
    "model_st=[]\n",
    "c=1\n",
    "for i in model:\n",
    "    pvalue = sm.stats.acorr_ljungbox(i.resid, lags=[1], return_df=True)['lb_pvalue'].values\n",
    "    if pvalue < 0.05:\n",
    "        print(f'Model {c} Not a good model')\n",
    "    else:\n",
    "        print(f'Model {c} Good model')\n",
    "    c+=1"
   ]
  },
  {
   "cell_type": "code",
   "execution_count": 71,
   "id": "38283d1f",
   "metadata": {},
   "outputs": [
    {
     "data": {
      "text/html": [
       "<div>\n",
       "<style scoped>\n",
       "    .dataframe tbody tr th:only-of-type {\n",
       "        vertical-align: middle;\n",
       "    }\n",
       "\n",
       "    .dataframe tbody tr th {\n",
       "        vertical-align: top;\n",
       "    }\n",
       "\n",
       "    .dataframe thead th {\n",
       "        text-align: right;\n",
       "    }\n",
       "</style>\n",
       "<table border=\"1\" class=\"dataframe\">\n",
       "  <thead>\n",
       "    <tr style=\"text-align: right;\">\n",
       "      <th></th>\n",
       "      <th>Model No.</th>\n",
       "      <th>(p, d, q)</th>\n",
       "      <th>AIC</th>\n",
       "      <th>BIC</th>\n",
       "      <th>MSE</th>\n",
       "      <th>RMSE</th>\n",
       "    </tr>\n",
       "  </thead>\n",
       "  <tbody>\n",
       "    <tr>\n",
       "      <th>0</th>\n",
       "      <td>Model 0</td>\n",
       "      <td>(0, 0, 0)</td>\n",
       "      <td>151.933097</td>\n",
       "      <td>154.597506</td>\n",
       "      <td>7.916657</td>\n",
       "      <td>2.813655</td>\n",
       "    </tr>\n",
       "    <tr>\n",
       "      <th>1</th>\n",
       "      <td>Model 1</td>\n",
       "      <td>(0, 0, 1)</td>\n",
       "      <td>153.253783</td>\n",
       "      <td>157.250397</td>\n",
       "      <td>7.881133</td>\n",
       "      <td>2.807336</td>\n",
       "    </tr>\n",
       "    <tr>\n",
       "      <th>2</th>\n",
       "      <td>Model 2</td>\n",
       "      <td>(0, 0, 2)</td>\n",
       "      <td>154.535294</td>\n",
       "      <td>159.864112</td>\n",
       "      <td>7.894924</td>\n",
       "      <td>2.809791</td>\n",
       "    </tr>\n",
       "    <tr>\n",
       "      <th>3</th>\n",
       "      <td>Model 3</td>\n",
       "      <td>(0, 0, 3)</td>\n",
       "      <td>156.244974</td>\n",
       "      <td>162.905996</td>\n",
       "      <td>7.903328</td>\n",
       "      <td>2.811286</td>\n",
       "    </tr>\n",
       "    <tr>\n",
       "      <th>4</th>\n",
       "      <td>Model 4</td>\n",
       "      <td>(1, 0, 0)</td>\n",
       "      <td>153.024201</td>\n",
       "      <td>157.020815</td>\n",
       "      <td>7.869295</td>\n",
       "      <td>2.805226</td>\n",
       "    </tr>\n",
       "    <tr>\n",
       "      <th>5</th>\n",
       "      <td>Model 5</td>\n",
       "      <td>(1, 0, 1)</td>\n",
       "      <td>154.545539</td>\n",
       "      <td>159.874357</td>\n",
       "      <td>7.879566</td>\n",
       "      <td>2.807056</td>\n",
       "    </tr>\n",
       "    <tr>\n",
       "      <th>6</th>\n",
       "      <td>Model 6</td>\n",
       "      <td>(1, 0, 2)</td>\n",
       "      <td>156.294001</td>\n",
       "      <td>162.955023</td>\n",
       "      <td>7.865442</td>\n",
       "      <td>2.804540</td>\n",
       "    </tr>\n",
       "    <tr>\n",
       "      <th>7</th>\n",
       "      <td>Model 7</td>\n",
       "      <td>(1, 0, 3)</td>\n",
       "      <td>158.242008</td>\n",
       "      <td>166.235235</td>\n",
       "      <td>7.895852</td>\n",
       "      <td>2.809956</td>\n",
       "    </tr>\n",
       "    <tr>\n",
       "      <th>8</th>\n",
       "      <td>Model 8</td>\n",
       "      <td>(2, 0, 0)</td>\n",
       "      <td>154.373160</td>\n",
       "      <td>159.701978</td>\n",
       "      <td>7.865859</td>\n",
       "      <td>2.804614</td>\n",
       "    </tr>\n",
       "    <tr>\n",
       "      <th>9</th>\n",
       "      <td>Model 9</td>\n",
       "      <td>(2, 0, 1)</td>\n",
       "      <td>156.356864</td>\n",
       "      <td>163.017886</td>\n",
       "      <td>7.858758</td>\n",
       "      <td>2.803348</td>\n",
       "    </tr>\n",
       "    <tr>\n",
       "      <th>10</th>\n",
       "      <td>Model 10</td>\n",
       "      <td>(2, 0, 2)</td>\n",
       "      <td>157.342224</td>\n",
       "      <td>165.335451</td>\n",
       "      <td>8.090976</td>\n",
       "      <td>2.844464</td>\n",
       "    </tr>\n",
       "    <tr>\n",
       "      <th>11</th>\n",
       "      <td>Model 11</td>\n",
       "      <td>(2, 0, 3)</td>\n",
       "      <td>160.250508</td>\n",
       "      <td>169.575940</td>\n",
       "      <td>7.879342</td>\n",
       "      <td>2.807017</td>\n",
       "    </tr>\n",
       "    <tr>\n",
       "      <th>12</th>\n",
       "      <td>Model 12</td>\n",
       "      <td>(3, 0, 0)</td>\n",
       "      <td>156.345613</td>\n",
       "      <td>163.006636</td>\n",
       "      <td>7.852345</td>\n",
       "      <td>2.802204</td>\n",
       "    </tr>\n",
       "    <tr>\n",
       "      <th>13</th>\n",
       "      <td>Model 13</td>\n",
       "      <td>(3, 0, 1)</td>\n",
       "      <td>158.342129</td>\n",
       "      <td>166.335356</td>\n",
       "      <td>7.850497</td>\n",
       "      <td>2.801874</td>\n",
       "    </tr>\n",
       "    <tr>\n",
       "      <th>14</th>\n",
       "      <td>Model 14</td>\n",
       "      <td>(3, 0, 2)</td>\n",
       "      <td>156.116058</td>\n",
       "      <td>165.441490</td>\n",
       "      <td>8.024964</td>\n",
       "      <td>2.832837</td>\n",
       "    </tr>\n",
       "    <tr>\n",
       "      <th>15</th>\n",
       "      <td>Model 15</td>\n",
       "      <td>(3, 0, 3)</td>\n",
       "      <td>158.557045</td>\n",
       "      <td>169.214681</td>\n",
       "      <td>10.608285</td>\n",
       "      <td>3.257036</td>\n",
       "    </tr>\n",
       "  </tbody>\n",
       "</table>\n",
       "</div>"
      ],
      "text/plain": [
       "   Model No.  (p, d, q)         AIC         BIC        MSE      RMSE\n",
       "0    Model 0  (0, 0, 0)  151.933097  154.597506   7.916657  2.813655\n",
       "1    Model 1  (0, 0, 1)  153.253783  157.250397   7.881133  2.807336\n",
       "2    Model 2  (0, 0, 2)  154.535294  159.864112   7.894924  2.809791\n",
       "3    Model 3  (0, 0, 3)  156.244974  162.905996   7.903328  2.811286\n",
       "4    Model 4  (1, 0, 0)  153.024201  157.020815   7.869295  2.805226\n",
       "5    Model 5  (1, 0, 1)  154.545539  159.874357   7.879566  2.807056\n",
       "6    Model 6  (1, 0, 2)  156.294001  162.955023   7.865442  2.804540\n",
       "7    Model 7  (1, 0, 3)  158.242008  166.235235   7.895852  2.809956\n",
       "8    Model 8  (2, 0, 0)  154.373160  159.701978   7.865859  2.804614\n",
       "9    Model 9  (2, 0, 1)  156.356864  163.017886   7.858758  2.803348\n",
       "10  Model 10  (2, 0, 2)  157.342224  165.335451   8.090976  2.844464\n",
       "11  Model 11  (2, 0, 3)  160.250508  169.575940   7.879342  2.807017\n",
       "12  Model 12  (3, 0, 0)  156.345613  163.006636   7.852345  2.802204\n",
       "13  Model 13  (3, 0, 1)  158.342129  166.335356   7.850497  2.801874\n",
       "14  Model 14  (3, 0, 2)  156.116058  165.441490   8.024964  2.832837\n",
       "15  Model 15  (3, 0, 3)  158.557045  169.214681  10.608285  3.257036"
      ]
     },
     "execution_count": 71,
     "metadata": {},
     "output_type": "execute_result"
    }
   ],
   "source": [
    "aic=[]\n",
    "bic=[]\n",
    "for i in model[0:]:\n",
    "    aic.append(i.aic)\n",
    "    bic.append(i.bic)\n",
    "\n",
    "# predicting values\n",
    "forecast=[]\n",
    "for i in model[0:]:\n",
    "    fcast = i.predict(start=len(train2), end=len(train2)+len(test2)-1)\n",
    "    forecast.append(fcast)\n",
    "\n",
    "# calculating MSE and RMSE score\n",
    "MSE = []\n",
    "RMSE = []\n",
    "for i in forecast:\n",
    "    mse = mean_squared_error(test2, i)\n",
    "    rmse = np.sqrt(mse)\n",
    "    MSE.append(mse)\n",
    "    RMSE.append(rmse)\n",
    "\n",
    "# printing model numbers\n",
    "model_no=[]\n",
    "for i in range(0,len(model)):\n",
    "    model_no.append('Model '+str(i))\n",
    "    \n",
    "# dataframe of all results\n",
    "df_results2 = pd.DataFrame({'Model No.': model_no, '(p, d, q)':lis[0:], 'AIC': aic, 'BIC': bic, 'MSE': MSE, 'RMSE': RMSE})\n",
    "df_results2"
   ]
  },
  {
   "cell_type": "code",
   "execution_count": 72,
   "id": "b3734313",
   "metadata": {},
   "outputs": [
    {
     "name": "stdout",
     "output_type": "stream",
     "text": [
      "Taking model with lowest RMSE score:\n"
     ]
    },
    {
     "data": {
      "text/html": [
       "<div>\n",
       "<style scoped>\n",
       "    .dataframe tbody tr th:only-of-type {\n",
       "        vertical-align: middle;\n",
       "    }\n",
       "\n",
       "    .dataframe tbody tr th {\n",
       "        vertical-align: top;\n",
       "    }\n",
       "\n",
       "    .dataframe thead th {\n",
       "        text-align: right;\n",
       "    }\n",
       "</style>\n",
       "<table border=\"1\" class=\"dataframe\">\n",
       "  <thead>\n",
       "    <tr style=\"text-align: right;\">\n",
       "      <th></th>\n",
       "      <th>Model No.</th>\n",
       "      <th>(p, d, q)</th>\n",
       "      <th>AIC</th>\n",
       "      <th>BIC</th>\n",
       "      <th>MSE</th>\n",
       "      <th>RMSE</th>\n",
       "    </tr>\n",
       "  </thead>\n",
       "  <tbody>\n",
       "    <tr>\n",
       "      <th>13</th>\n",
       "      <td>Model 13</td>\n",
       "      <td>(3, 0, 1)</td>\n",
       "      <td>158.342129</td>\n",
       "      <td>166.335356</td>\n",
       "      <td>7.850497</td>\n",
       "      <td>2.801874</td>\n",
       "    </tr>\n",
       "  </tbody>\n",
       "</table>\n",
       "</div>"
      ],
      "text/plain": [
       "   Model No.  (p, d, q)         AIC         BIC       MSE      RMSE\n",
       "13  Model 13  (3, 0, 1)  158.342129  166.335356  7.850497  2.801874"
      ]
     },
     "execution_count": 72,
     "metadata": {},
     "output_type": "execute_result"
    }
   ],
   "source": [
    "print('Taking model with lowest RMSE score:')\n",
    "df_results2[df_results2.RMSE==df_results2.RMSE.min()]\n"
   ]
  },
  {
   "cell_type": "code",
   "execution_count": 73,
   "id": "505df276",
   "metadata": {},
   "outputs": [
    {
     "name": "stdout",
     "output_type": "stream",
     "text": [
      "Taking model with lowest BIC score:\n"
     ]
    },
    {
     "data": {
      "text/html": [
       "<div>\n",
       "<style scoped>\n",
       "    .dataframe tbody tr th:only-of-type {\n",
       "        vertical-align: middle;\n",
       "    }\n",
       "\n",
       "    .dataframe tbody tr th {\n",
       "        vertical-align: top;\n",
       "    }\n",
       "\n",
       "    .dataframe thead th {\n",
       "        text-align: right;\n",
       "    }\n",
       "</style>\n",
       "<table border=\"1\" class=\"dataframe\">\n",
       "  <thead>\n",
       "    <tr style=\"text-align: right;\">\n",
       "      <th></th>\n",
       "      <th>Model No.</th>\n",
       "      <th>(p, d, q)</th>\n",
       "      <th>AIC</th>\n",
       "      <th>BIC</th>\n",
       "      <th>MSE</th>\n",
       "      <th>RMSE</th>\n",
       "    </tr>\n",
       "  </thead>\n",
       "  <tbody>\n",
       "    <tr>\n",
       "      <th>0</th>\n",
       "      <td>Model 0</td>\n",
       "      <td>(0, 0, 0)</td>\n",
       "      <td>151.933097</td>\n",
       "      <td>154.597506</td>\n",
       "      <td>7.916657</td>\n",
       "      <td>2.813655</td>\n",
       "    </tr>\n",
       "  </tbody>\n",
       "</table>\n",
       "</div>"
      ],
      "text/plain": [
       "  Model No.  (p, d, q)         AIC         BIC       MSE      RMSE\n",
       "0   Model 0  (0, 0, 0)  151.933097  154.597506  7.916657  2.813655"
      ]
     },
     "execution_count": 73,
     "metadata": {},
     "output_type": "execute_result"
    }
   ],
   "source": [
    "print('Taking model with lowest BIC score:')\n",
    "\n",
    "df_results2[df_results2.BIC==df_results2.BIC.min()]"
   ]
  },
  {
   "cell_type": "code",
   "execution_count": 74,
   "id": "4d26bd1a",
   "metadata": {},
   "outputs": [
    {
     "name": "stdout",
     "output_type": "stream",
     "text": [
      "Taking model with lowest AIC score:\n"
     ]
    },
    {
     "data": {
      "text/html": [
       "<div>\n",
       "<style scoped>\n",
       "    .dataframe tbody tr th:only-of-type {\n",
       "        vertical-align: middle;\n",
       "    }\n",
       "\n",
       "    .dataframe tbody tr th {\n",
       "        vertical-align: top;\n",
       "    }\n",
       "\n",
       "    .dataframe thead th {\n",
       "        text-align: right;\n",
       "    }\n",
       "</style>\n",
       "<table border=\"1\" class=\"dataframe\">\n",
       "  <thead>\n",
       "    <tr style=\"text-align: right;\">\n",
       "      <th></th>\n",
       "      <th>Model No.</th>\n",
       "      <th>(p, d, q)</th>\n",
       "      <th>AIC</th>\n",
       "      <th>BIC</th>\n",
       "      <th>MSE</th>\n",
       "      <th>RMSE</th>\n",
       "    </tr>\n",
       "  </thead>\n",
       "  <tbody>\n",
       "    <tr>\n",
       "      <th>0</th>\n",
       "      <td>Model 0</td>\n",
       "      <td>(0, 0, 0)</td>\n",
       "      <td>151.933097</td>\n",
       "      <td>154.597506</td>\n",
       "      <td>7.916657</td>\n",
       "      <td>2.813655</td>\n",
       "    </tr>\n",
       "  </tbody>\n",
       "</table>\n",
       "</div>"
      ],
      "text/plain": [
       "  Model No.  (p, d, q)         AIC         BIC       MSE      RMSE\n",
       "0   Model 0  (0, 0, 0)  151.933097  154.597506  7.916657  2.813655"
      ]
     },
     "execution_count": 74,
     "metadata": {},
     "output_type": "execute_result"
    }
   ],
   "source": [
    "print('Taking model with lowest AIC score:')\n",
    "df_results2[df_results2.AIC==df_results2.AIC.min()]"
   ]
  },
  {
   "cell_type": "code",
   "execution_count": 75,
   "id": "1b730506",
   "metadata": {},
   "outputs": [
    {
     "data": {
      "text/html": [
       "<table class=\"simpletable\">\n",
       "<caption>SARIMAX Results</caption>\n",
       "<tr>\n",
       "  <th>Dep. Variable:</th>           <td>sentiment_count</td>        <th>  No. Observations:  </th>    <td>40</td>   \n",
       "</tr>\n",
       "<tr>\n",
       "  <th>Model:</th>           <td>SARIMAX(3, 0, 1)x(1, 0, 1, 12)</td> <th>  Log Likelihood     </th> <td>-104.464</td>\n",
       "</tr>\n",
       "<tr>\n",
       "  <th>Date:</th>                   <td>Wed, 25 Jan 2023</td>        <th>  AIC                </th>  <td>222.929</td>\n",
       "</tr>\n",
       "<tr>\n",
       "  <th>Time:</th>                       <td>14:48:25</td>            <th>  BIC                </th>  <td>234.751</td>\n",
       "</tr>\n",
       "<tr>\n",
       "  <th>Sample:</th>                         <td>0</td>               <th>  HQIC               </th>  <td>227.203</td>\n",
       "</tr>\n",
       "<tr>\n",
       "  <th></th>                              <td> - 40</td>             <th>                     </th>     <td> </td>   \n",
       "</tr>\n",
       "<tr>\n",
       "  <th>Covariance Type:</th>               <td>opg</td>              <th>                     </th>     <td> </td>   \n",
       "</tr>\n",
       "</table>\n",
       "<table class=\"simpletable\">\n",
       "<tr>\n",
       "      <td></td>        <th>coef</th>     <th>std err</th>      <th>z</th>      <th>P>|z|</th>  <th>[0.025</th>    <th>0.975]</th>  \n",
       "</tr>\n",
       "<tr>\n",
       "  <th>ar.L1</th>    <td>    0.6689</td> <td>    0.834</td> <td>    0.802</td> <td> 0.423</td> <td>   -0.966</td> <td>    2.304</td>\n",
       "</tr>\n",
       "<tr>\n",
       "  <th>ar.L2</th>    <td>    0.3598</td> <td>    0.336</td> <td>    1.070</td> <td> 0.284</td> <td>   -0.299</td> <td>    1.019</td>\n",
       "</tr>\n",
       "<tr>\n",
       "  <th>ar.L3</th>    <td>   -0.0289</td> <td>    0.256</td> <td>   -0.113</td> <td> 0.910</td> <td>   -0.531</td> <td>    0.473</td>\n",
       "</tr>\n",
       "<tr>\n",
       "  <th>ma.L1</th>    <td>   -0.8086</td> <td>    0.210</td> <td>   -3.842</td> <td> 0.000</td> <td>   -1.221</td> <td>   -0.396</td>\n",
       "</tr>\n",
       "<tr>\n",
       "  <th>ar.S.L12</th> <td>    0.9829</td> <td>    1.280</td> <td>    0.768</td> <td> 0.443</td> <td>   -1.526</td> <td>    3.492</td>\n",
       "</tr>\n",
       "<tr>\n",
       "  <th>ma.S.L12</th> <td>   -0.9988</td> <td>    9.648</td> <td>   -0.104</td> <td> 0.918</td> <td>  -19.908</td> <td>   17.910</td>\n",
       "</tr>\n",
       "<tr>\n",
       "  <th>sigma2</th>   <td>    9.8613</td> <td>   75.513</td> <td>    0.131</td> <td> 0.896</td> <td> -138.142</td> <td>  157.865</td>\n",
       "</tr>\n",
       "</table>\n",
       "<table class=\"simpletable\">\n",
       "<tr>\n",
       "  <th>Ljung-Box (L1) (Q):</th>     <td>0.28</td> <th>  Jarque-Bera (JB):  </th> <td>6.63</td>\n",
       "</tr>\n",
       "<tr>\n",
       "  <th>Prob(Q):</th>                <td>0.60</td> <th>  Prob(JB):          </th> <td>0.04</td>\n",
       "</tr>\n",
       "<tr>\n",
       "  <th>Heteroskedasticity (H):</th> <td>0.49</td> <th>  Skew:              </th> <td>0.96</td>\n",
       "</tr>\n",
       "<tr>\n",
       "  <th>Prob(H) (two-sided):</th>    <td>0.22</td> <th>  Kurtosis:          </th> <td>3.55</td>\n",
       "</tr>\n",
       "</table><br/><br/>Warnings:<br/>[1] Covariance matrix calculated using the outer product of gradients (complex-step)."
      ],
      "text/plain": [
       "<class 'statsmodels.iolib.summary.Summary'>\n",
       "\"\"\"\n",
       "                                     SARIMAX Results                                      \n",
       "==========================================================================================\n",
       "Dep. Variable:                    sentiment_count   No. Observations:                   40\n",
       "Model:             SARIMAX(3, 0, 1)x(1, 0, 1, 12)   Log Likelihood                -104.464\n",
       "Date:                            Wed, 25 Jan 2023   AIC                            222.929\n",
       "Time:                                    14:48:25   BIC                            234.751\n",
       "Sample:                                         0   HQIC                           227.203\n",
       "                                             - 40                                         \n",
       "Covariance Type:                              opg                                         \n",
       "==============================================================================\n",
       "                 coef    std err          z      P>|z|      [0.025      0.975]\n",
       "------------------------------------------------------------------------------\n",
       "ar.L1          0.6689      0.834      0.802      0.423      -0.966       2.304\n",
       "ar.L2          0.3598      0.336      1.070      0.284      -0.299       1.019\n",
       "ar.L3         -0.0289      0.256     -0.113      0.910      -0.531       0.473\n",
       "ma.L1         -0.8086      0.210     -3.842      0.000      -1.221      -0.396\n",
       "ar.S.L12       0.9829      1.280      0.768      0.443      -1.526       3.492\n",
       "ma.S.L12      -0.9988      9.648     -0.104      0.918     -19.908      17.910\n",
       "sigma2         9.8613     75.513      0.131      0.896    -138.142     157.865\n",
       "===================================================================================\n",
       "Ljung-Box (L1) (Q):                   0.28   Jarque-Bera (JB):                 6.63\n",
       "Prob(Q):                              0.60   Prob(JB):                         0.04\n",
       "Heteroskedasticity (H):               0.49   Skew:                             0.96\n",
       "Prob(H) (two-sided):                  0.22   Kurtosis:                         3.55\n",
       "===================================================================================\n",
       "\n",
       "Warnings:\n",
       "[1] Covariance matrix calculated using the outer product of gradients (complex-step).\n",
       "\"\"\""
      ]
     },
     "execution_count": 75,
     "metadata": {},
     "output_type": "execute_result"
    }
   ],
   "source": [
    "p=3;q=1;d=0\n",
    "P=1;Q=1;D=0\n",
    "m2 =sm.tsa.statespace.SARIMAX(office_neu['sentiment_count'],order=(p,d,q),seasonal_order=(P,D,Q,12)).fit()\n",
    "# summarise the model\n",
    "m2.summary()\n"
   ]
  },
  {
   "cell_type": "code",
   "execution_count": 76,
   "id": "ffc7cc63",
   "metadata": {},
   "outputs": [
    {
     "name": "stdout",
     "output_type": "stream",
     "text": [
      "Fail-to-Reject H0. Good model\n"
     ]
    }
   ],
   "source": [
    "# LJung-Box test\n",
    "pvalue = sm.stats.acorr_ljungbox(m2.resid,lags=[1],return_df=True)['lb_pvalue'].values\n",
    "if pvalue < 0.05:\n",
    "    print(\"Reject H0. Bad model\")\n",
    "else:\n",
    "    print(\"Fail-to-Reject H0. Good model\")"
   ]
  },
  {
   "cell_type": "code",
   "execution_count": 77,
   "id": "9cb8bfba",
   "metadata": {},
   "outputs": [
    {
     "name": "stdout",
     "output_type": "stream",
     "text": [
      "start = 28, end = 39\n"
     ]
    }
   ],
   "source": [
    "start = len(train2) \n",
    "end = len(train2) + len(test2) - 1\n",
    "\n",
    "print('start = {}, end = {}'.format(start,end))"
   ]
  },
  {
   "cell_type": "code",
   "execution_count": 78,
   "id": "d8d6fbed",
   "metadata": {},
   "outputs": [
    {
     "name": "stdout",
     "output_type": "stream",
     "text": [
      "date\n",
      "2017-03-31    7.596545\n",
      "2017-05-31    7.847546\n",
      "2017-06-30    7.431888\n",
      "2017-07-31    7.453286\n",
      "2017-08-31    8.186576\n",
      "Name: predicted_mean, dtype: float64\n"
     ]
    }
   ],
   "source": [
    "predictions = m2.predict(start,end)\n",
    "predictions.index=test2.index\n",
    "print(predictions.head())"
   ]
  },
  {
   "cell_type": "code",
   "execution_count": 79,
   "id": "23f0d958",
   "metadata": {},
   "outputs": [
    {
     "name": "stdout",
     "output_type": "stream",
     "text": [
      "            actual  predicted     error\n",
      "date                                   \n",
      "2017-03-31     7.0   7.596545 -0.596545\n",
      "2017-05-31     8.0   7.847546  0.152454\n",
      "2017-06-30     9.0   7.431888  1.568112\n",
      "2017-07-31     6.0   7.453286 -1.453286\n",
      "2017-08-31    15.0   8.186576  6.813424\n"
     ]
    }
   ],
   "source": [
    "actual = []; pred = []\n",
    "test2.reset_index(drop=True)\n",
    "for i in range(len(predictions)):\n",
    "    actual.append(test2['sentiment_count'][i])\n",
    "    pred.append(predictions[i])\n",
    "\n",
    "df_res2 = pd.DataFrame({'actual':actual, 'predicted':pred})\n",
    "df_res2['error'] = df_res2.actual - df_res2.predicted\n",
    "df_res2.index=test2.index\n",
    "print(df_res2.head())"
   ]
  },
  {
   "cell_type": "code",
   "execution_count": 83,
   "id": "b32b4c05",
   "metadata": {},
   "outputs": [
    {
     "data": {
      "text/html": [
       "<div>\n",
       "<style scoped>\n",
       "    .dataframe tbody tr th:only-of-type {\n",
       "        vertical-align: middle;\n",
       "    }\n",
       "\n",
       "    .dataframe tbody tr th {\n",
       "        vertical-align: top;\n",
       "    }\n",
       "\n",
       "    .dataframe thead th {\n",
       "        text-align: right;\n",
       "    }\n",
       "</style>\n",
       "<table border=\"1\" class=\"dataframe\">\n",
       "  <thead>\n",
       "    <tr style=\"text-align: right;\">\n",
       "      <th></th>\n",
       "      <th>actual</th>\n",
       "      <th>predicted</th>\n",
       "      <th>error</th>\n",
       "    </tr>\n",
       "    <tr>\n",
       "      <th>date</th>\n",
       "      <th></th>\n",
       "      <th></th>\n",
       "      <th></th>\n",
       "    </tr>\n",
       "  </thead>\n",
       "  <tbody>\n",
       "    <tr>\n",
       "      <th>2018-01-31</th>\n",
       "      <td>8.0</td>\n",
       "      <td>7.906571</td>\n",
       "      <td>0.093429</td>\n",
       "    </tr>\n",
       "    <tr>\n",
       "      <th>2018-02-28</th>\n",
       "      <td>5.0</td>\n",
       "      <td>7.674087</td>\n",
       "      <td>-2.674087</td>\n",
       "    </tr>\n",
       "    <tr>\n",
       "      <th>2018-03-31</th>\n",
       "      <td>7.0</td>\n",
       "      <td>8.146133</td>\n",
       "      <td>-1.146133</td>\n",
       "    </tr>\n",
       "    <tr>\n",
       "      <th>2018-04-30</th>\n",
       "      <td>6.0</td>\n",
       "      <td>7.218181</td>\n",
       "      <td>-1.218181</td>\n",
       "    </tr>\n",
       "    <tr>\n",
       "      <th>2018-05-31</th>\n",
       "      <td>8.0</td>\n",
       "      <td>7.388759</td>\n",
       "      <td>0.611241</td>\n",
       "    </tr>\n",
       "  </tbody>\n",
       "</table>\n",
       "</div>"
      ],
      "text/plain": [
       "            actual  predicted     error\n",
       "date                                   \n",
       "2018-01-31     8.0   7.906571  0.093429\n",
       "2018-02-28     5.0   7.674087 -2.674087\n",
       "2018-03-31     7.0   8.146133 -1.146133\n",
       "2018-04-30     6.0   7.218181 -1.218181\n",
       "2018-05-31     8.0   7.388759  0.611241"
      ]
     },
     "execution_count": 83,
     "metadata": {},
     "output_type": "execute_result"
    }
   ],
   "source": [
    "df_res2.tail()"
   ]
  },
  {
   "cell_type": "code",
   "execution_count": 80,
   "id": "57c6ab74",
   "metadata": {},
   "outputs": [
    {
     "name": "stdout",
     "output_type": "stream",
     "text": [
      "mse: 6.301986580332657\n",
      "rmse: 2.5103757846849657\n"
     ]
    }
   ],
   "source": [
    "mse2=mean_squared_error(df_res2.actual,df_res2.predicted)\n",
    "rmse2=np.sqrt(mse2)\n",
    "print('mse:',mse2)\n",
    "print('rmse:',rmse2)"
   ]
  },
  {
   "cell_type": "code",
   "execution_count": 81,
   "id": "6878c0c2",
   "metadata": {},
   "outputs": [
    {
     "data": {
      "text/plain": [
       "Text(0.5, 1.0, 'SARIMA Model. Order=(3,0,1)')"
      ]
     },
     "execution_count": 81,
     "metadata": {},
     "output_type": "execute_result"
    },
    {
     "data": {
      "image/png": "[encoded data removed]",
      "text/plain": [
       "<Figure size 720x576 with 1 Axes>"
      ]
     },
     "metadata": {
      "needs_background": "light"
     },
     "output_type": "display_data"
    }
   ],
   "source": [
    "msg = 'SARIMA Model. Order=(' + str(p) + ',' + str(d) + ',' + str(q) + ')'\n",
    "df_res2.actual.plot(figsize=(10,8),legend=True)\n",
    "df_res2.predicted.plot(legend=True)\n",
    "plt.title(msg)"
   ]
  },
  {
   "cell_type": "code",
   "execution_count": 88,
   "id": "d6671d88",
   "metadata": {},
   "outputs": [],
   "source": [
    "future_dates=pd.DataFrame()\n",
    "future_dates['date']=[     \n",
    "'2018-05-30',    \n",
    "'2018-09-30',       \n",
    "'2018-12-30',   \n",
    "'2019-01-31',  \n",
    "'2019-02-28',   \n",
    "'2019-03-31',\n",
    "'2019-05-31']      \n",
    "future_dates=pd.to_datetime(future_dates['date'])\n",
    "future_dates=pd.DataFrame(future_dates)"
   ]
  },
  {
   "cell_type": "code",
   "execution_count": 89,
   "id": "fc734a48",
   "metadata": {},
   "outputs": [
    {
     "name": "stdout",
     "output_type": "stream",
     "text": [
      "date\n",
      "2018-05-30    7.388759\n",
      "2018-09-30    6.798246\n",
      "2018-12-30    7.253479\n",
      "2019-01-31    6.972561\n",
      "2019-02-28    7.126665\n",
      "2019-03-31    6.988044\n",
      "2019-05-31    7.101532\n",
      "Name: Forecast, dtype: float64\n"
     ]
    }
   ],
   "source": [
    "fcast2 = m2.predict(end,end+6).rename('Forecast')\n",
    "fcast2.index=future_dates.date\n",
    "print(fcast2)"
   ]
  },
  {
   "cell_type": "code",
   "execution_count": 91,
   "id": "064a7731",
   "metadata": {},
   "outputs": [
    {
     "data": {
      "text/plain": [
       "<AxesSubplot:xlabel='date', ylabel='count of neutral sentiment'>"
      ]
     },
     "execution_count": 91,
     "metadata": {},
     "output_type": "execute_result"
    },
    {
     "data": {
      "image/png": "[encoded data removed]",
      "text/plain": [
       "<Figure size 720x576 with 1 Axes>"
      ]
     },
     "metadata": {
      "needs_background": "light"
     },
     "output_type": "display_data"
    }
   ],
   "source": [
    "plt.ylabel('count of neutral sentiment')\n",
    "df_res2.actual.tail(10).plot(figsize=(10,8),legend=True)\n",
    "df_res2.predicted.tail(10).plot(legend=True)\n",
    "fcast2.plot(legend=True)"
   ]
  },
  {
   "cell_type": "markdown",
   "id": "0e7f08b8",
   "metadata": {},
   "source": [
    "### Negative"
   ]
  },
  {
   "cell_type": "code",
   "execution_count": 92,
   "id": "d8ed6a9b",
   "metadata": {},
   "outputs": [
    {
     "data": {
      "text/html": [
       "<div>\n",
       "<style scoped>\n",
       "    .dataframe tbody tr th:only-of-type {\n",
       "        vertical-align: middle;\n",
       "    }\n",
       "\n",
       "    .dataframe tbody tr th {\n",
       "        vertical-align: top;\n",
       "    }\n",
       "\n",
       "    .dataframe thead th {\n",
       "        text-align: right;\n",
       "    }\n",
       "</style>\n",
       "<table border=\"1\" class=\"dataframe\">\n",
       "  <thead>\n",
       "    <tr style=\"text-align: right;\">\n",
       "      <th></th>\n",
       "      <th>asin</th>\n",
       "      <th>Month</th>\n",
       "      <th>Sentiment</th>\n",
       "      <th>sentiment_count</th>\n",
       "    </tr>\n",
       "  </thead>\n",
       "  <tbody>\n",
       "    <tr>\n",
       "      <th>0</th>\n",
       "      <td>B00006IEEV</td>\n",
       "      <td>1</td>\n",
       "      <td>Negative</td>\n",
       "      <td>8</td>\n",
       "    </tr>\n",
       "    <tr>\n",
       "      <th>1</th>\n",
       "      <td>B00006IEEV</td>\n",
       "      <td>2</td>\n",
       "      <td>Negative</td>\n",
       "      <td>7</td>\n",
       "    </tr>\n",
       "    <tr>\n",
       "      <th>2</th>\n",
       "      <td>B00006IEEV</td>\n",
       "      <td>3</td>\n",
       "      <td>Negative</td>\n",
       "      <td>4</td>\n",
       "    </tr>\n",
       "    <tr>\n",
       "      <th>3</th>\n",
       "      <td>B00006IEEV</td>\n",
       "      <td>4</td>\n",
       "      <td>Negative</td>\n",
       "      <td>10</td>\n",
       "    </tr>\n",
       "    <tr>\n",
       "      <th>4</th>\n",
       "      <td>B00006IEEV</td>\n",
       "      <td>5</td>\n",
       "      <td>Negative</td>\n",
       "      <td>5</td>\n",
       "    </tr>\n",
       "    <tr>\n",
       "      <th>5</th>\n",
       "      <td>B00006IEEV</td>\n",
       "      <td>6</td>\n",
       "      <td>Negative</td>\n",
       "      <td>6</td>\n",
       "    </tr>\n",
       "    <tr>\n",
       "      <th>6</th>\n",
       "      <td>B00006IEEV</td>\n",
       "      <td>7</td>\n",
       "      <td>Negative</td>\n",
       "      <td>4</td>\n",
       "    </tr>\n",
       "    <tr>\n",
       "      <th>7</th>\n",
       "      <td>B00006IEEV</td>\n",
       "      <td>8</td>\n",
       "      <td>Negative</td>\n",
       "      <td>8</td>\n",
       "    </tr>\n",
       "    <tr>\n",
       "      <th>8</th>\n",
       "      <td>B00006IEEV</td>\n",
       "      <td>9</td>\n",
       "      <td>Negative</td>\n",
       "      <td>6</td>\n",
       "    </tr>\n",
       "    <tr>\n",
       "      <th>9</th>\n",
       "      <td>B00006IEEV</td>\n",
       "      <td>10</td>\n",
       "      <td>Negative</td>\n",
       "      <td>4</td>\n",
       "    </tr>\n",
       "    <tr>\n",
       "      <th>10</th>\n",
       "      <td>B00006IEEV</td>\n",
       "      <td>11</td>\n",
       "      <td>Negative</td>\n",
       "      <td>7</td>\n",
       "    </tr>\n",
       "    <tr>\n",
       "      <th>11</th>\n",
       "      <td>B00006IEEV</td>\n",
       "      <td>12</td>\n",
       "      <td>Negative</td>\n",
       "      <td>3</td>\n",
       "    </tr>\n",
       "  </tbody>\n",
       "</table>\n",
       "</div>"
      ],
      "text/plain": [
       "          asin  Month Sentiment  sentiment_count\n",
       "0   B00006IEEV      1  Negative                8\n",
       "1   B00006IEEV      2  Negative                7\n",
       "2   B00006IEEV      3  Negative                4\n",
       "3   B00006IEEV      4  Negative               10\n",
       "4   B00006IEEV      5  Negative                5\n",
       "5   B00006IEEV      6  Negative                6\n",
       "6   B00006IEEV      7  Negative                4\n",
       "7   B00006IEEV      8  Negative                8\n",
       "8   B00006IEEV      9  Negative                6\n",
       "9   B00006IEEV     10  Negative                4\n",
       "10  B00006IEEV     11  Negative                7\n",
       "11  B00006IEEV     12  Negative                3"
      ]
     },
     "execution_count": 92,
     "metadata": {},
     "output_type": "execute_result"
    }
   ],
   "source": [
    "office_neg_count=office_neg.groupby(['asin','Month','Sentiment']).size().reset_index(name='sentiment_count')\n",
    "office_neg_count"
   ]
  },
  {
   "cell_type": "code",
   "execution_count": 93,
   "id": "0aa6b171",
   "metadata": {},
   "outputs": [],
   "source": [
    "office_neg=pd.merge(office_neg,office_neg_count)"
   ]
  },
  {
   "cell_type": "code",
   "execution_count": 94,
   "id": "51bd88c2",
   "metadata": {},
   "outputs": [
    {
     "data": {
      "text/html": [
       "<div>\n",
       "<style scoped>\n",
       "    .dataframe tbody tr th:only-of-type {\n",
       "        vertical-align: middle;\n",
       "    }\n",
       "\n",
       "    .dataframe tbody tr th {\n",
       "        vertical-align: top;\n",
       "    }\n",
       "\n",
       "    .dataframe thead th {\n",
       "        text-align: right;\n",
       "    }\n",
       "</style>\n",
       "<table border=\"1\" class=\"dataframe\">\n",
       "  <thead>\n",
       "    <tr style=\"text-align: right;\">\n",
       "      <th></th>\n",
       "      <th>sentiment_count</th>\n",
       "    </tr>\n",
       "    <tr>\n",
       "      <th>date</th>\n",
       "      <th></th>\n",
       "    </tr>\n",
       "  </thead>\n",
       "  <tbody>\n",
       "    <tr>\n",
       "      <th>2011-11-18</th>\n",
       "      <td>7</td>\n",
       "    </tr>\n",
       "    <tr>\n",
       "      <th>2013-05-20</th>\n",
       "      <td>5</td>\n",
       "    </tr>\n",
       "    <tr>\n",
       "      <th>2013-08-26</th>\n",
       "      <td>8</td>\n",
       "    </tr>\n",
       "    <tr>\n",
       "      <th>2014-08-11</th>\n",
       "      <td>8</td>\n",
       "    </tr>\n",
       "    <tr>\n",
       "      <th>2014-09-27</th>\n",
       "      <td>6</td>\n",
       "    </tr>\n",
       "    <tr>\n",
       "      <th>...</th>\n",
       "      <td>...</td>\n",
       "    </tr>\n",
       "    <tr>\n",
       "      <th>2018-01-08</th>\n",
       "      <td>8</td>\n",
       "    </tr>\n",
       "    <tr>\n",
       "      <th>2018-01-08</th>\n",
       "      <td>8</td>\n",
       "    </tr>\n",
       "    <tr>\n",
       "      <th>2018-01-23</th>\n",
       "      <td>8</td>\n",
       "    </tr>\n",
       "    <tr>\n",
       "      <th>2018-02-02</th>\n",
       "      <td>7</td>\n",
       "    </tr>\n",
       "    <tr>\n",
       "      <th>2018-02-28</th>\n",
       "      <td>7</td>\n",
       "    </tr>\n",
       "  </tbody>\n",
       "</table>\n",
       "<p>72 rows × 1 columns</p>\n",
       "</div>"
      ],
      "text/plain": [
       "            sentiment_count\n",
       "date                       \n",
       "2011-11-18                7\n",
       "2013-05-20                5\n",
       "2013-08-26                8\n",
       "2014-08-11                8\n",
       "2014-09-27                6\n",
       "...                     ...\n",
       "2018-01-08                8\n",
       "2018-01-08                8\n",
       "2018-01-23                8\n",
       "2018-02-02                7\n",
       "2018-02-28                7\n",
       "\n",
       "[72 rows x 1 columns]"
      ]
     },
     "execution_count": 94,
     "metadata": {},
     "output_type": "execute_result"
    }
   ],
   "source": [
    "office_neg=office_neg[['date','sentiment_count']]\n",
    "office_neg=office_neg.set_index('date')\n",
    "office_neg=office_neg.sort_values(by=['date'])\n",
    "office_neg"
   ]
  },
  {
   "cell_type": "code",
   "execution_count": 96,
   "id": "1a4cb400",
   "metadata": {},
   "outputs": [
    {
     "data": {
      "text/html": [
       "<div>\n",
       "<style scoped>\n",
       "    .dataframe tbody tr th:only-of-type {\n",
       "        vertical-align: middle;\n",
       "    }\n",
       "\n",
       "    .dataframe tbody tr th {\n",
       "        vertical-align: top;\n",
       "    }\n",
       "\n",
       "    .dataframe thead th {\n",
       "        text-align: right;\n",
       "    }\n",
       "</style>\n",
       "<table border=\"1\" class=\"dataframe\">\n",
       "  <thead>\n",
       "    <tr style=\"text-align: right;\">\n",
       "      <th></th>\n",
       "      <th>sentiment_count</th>\n",
       "    </tr>\n",
       "    <tr>\n",
       "      <th>date</th>\n",
       "      <th></th>\n",
       "    </tr>\n",
       "  </thead>\n",
       "  <tbody>\n",
       "    <tr>\n",
       "      <th>2011-11-30</th>\n",
       "      <td>7.0</td>\n",
       "    </tr>\n",
       "    <tr>\n",
       "      <th>2011-12-31</th>\n",
       "      <td>NaN</td>\n",
       "    </tr>\n",
       "    <tr>\n",
       "      <th>2012-01-31</th>\n",
       "      <td>NaN</td>\n",
       "    </tr>\n",
       "    <tr>\n",
       "      <th>2012-02-29</th>\n",
       "      <td>NaN</td>\n",
       "    </tr>\n",
       "    <tr>\n",
       "      <th>2012-03-31</th>\n",
       "      <td>NaN</td>\n",
       "    </tr>\n",
       "  </tbody>\n",
       "</table>\n",
       "</div>"
      ],
      "text/plain": [
       "            sentiment_count\n",
       "date                       \n",
       "2011-11-30              7.0\n",
       "2011-12-31              NaN\n",
       "2012-01-31              NaN\n",
       "2012-02-29              NaN\n",
       "2012-03-31              NaN"
      ]
     },
     "execution_count": 96,
     "metadata": {},
     "output_type": "execute_result"
    }
   ],
   "source": [
    "office_neg=office_neg.resample('M').mean()\n",
    "office_neg.head()"
   ]
  },
  {
   "cell_type": "code",
   "execution_count": 97,
   "id": "af66e413",
   "metadata": {},
   "outputs": [
    {
     "data": {
      "text/plain": [
       "sentiment_count    40\n",
       "dtype: int64"
      ]
     },
     "execution_count": 97,
     "metadata": {},
     "output_type": "execute_result"
    }
   ],
   "source": [
    "office_neg.isnull().sum()"
   ]
  },
  {
   "cell_type": "code",
   "execution_count": 98,
   "id": "e361a23b",
   "metadata": {},
   "outputs": [],
   "source": [
    "office_neg.dropna(inplace=True)"
   ]
  },
  {
   "cell_type": "code",
   "execution_count": 99,
   "id": "b63e882f",
   "metadata": {},
   "outputs": [
    {
     "data": {
      "image/png": "[encoded data removed]",
      "text/plain": [
       "<Figure size 1080x576 with 4 Axes>"
      ]
     },
     "metadata": {},
     "output_type": "display_data"
    }
   ],
   "source": [
    "tsa_comp(office_neg)"
   ]
  },
  {
   "cell_type": "code",
   "execution_count": 100,
   "id": "baaa5975",
   "metadata": {},
   "outputs": [
    {
     "name": "stdout",
     "output_type": "stream",
     "text": [
      "pvalue: 6.111318183792052e-16\n"
     ]
    },
    {
     "data": {
      "text/plain": [
       "'Data is Stationary. Proceed to model building'"
      ]
     },
     "execution_count": 100,
     "metadata": {},
     "output_type": "execute_result"
    }
   ],
   "source": [
    "checkStationarity(office_neg)"
   ]
  },
  {
   "cell_type": "code",
   "execution_count": 102,
   "id": "926d9ed1",
   "metadata": {},
   "outputs": [
    {
     "name": "stdout",
     "output_type": "stream",
     "text": [
      "Total=36, Train=25, Test=11\n"
     ]
    }
   ],
   "source": [
    "ratio = 0.7\n",
    "rows = int(ratio * len(office_neg))\n",
    "train3 =office_neg[:rows]\n",
    "test3 = office_neg[rows:]\n",
    "\n",
    "print(\"Total={}, Train={}, Test={}\".format(len(office_neg), len(train3), len(test3)))"
   ]
  },
  {
   "cell_type": "code",
   "execution_count": 103,
   "id": "8c410f49",
   "metadata": {},
   "outputs": [
    {
     "data": {
      "image/png": "[encoded data removed]",
      "text/plain": [
       "<Figure size 1080x360 with 2 Axes>"
      ]
     },
     "metadata": {
      "needs_background": "light"
     },
     "output_type": "display_data"
    }
   ],
   "source": [
    "p_and_q(office_neg)"
   ]
  },
  {
   "cell_type": "code",
   "execution_count": 116,
   "id": "b49e42b7",
   "metadata": {},
   "outputs": [
    {
     "name": "stdout",
     "output_type": "stream",
     "text": [
      "Model 1 Not a good model\n",
      "Model 2 Good model\n",
      "Model 3 Good model\n",
      "Model 4 Good model\n",
      "Model 5 Good model\n",
      "Model 6 Good model\n",
      "Model 7 Good model\n",
      "Model 8 Good model\n",
      "Model 9 Good model\n"
     ]
    }
   ],
   "source": [
    "d=0;\n",
    "lis=[]\n",
    "for p in range(3):\n",
    "    for q in range(3):\n",
    "        lis.append((p,d,q))\n",
    "\n",
    "# building model\n",
    "model=[]\n",
    "for i in lis:\n",
    "    m =ARIMA(train3, order=i).fit() \n",
    "    model.append(m)\n",
    "\n",
    "# checking model is good or not\n",
    "model_st=[]\n",
    "c=1\n",
    "for i in model:\n",
    "    pvalue = sm.stats.acorr_ljungbox(i.resid, lags=[1], return_df=True)['lb_pvalue'].values\n",
    "    if pvalue < 0.05:\n",
    "        print(f'Model {c} Not a good model')\n",
    "    else:\n",
    "        print(f'Model {c} Good model')\n",
    "    c+=1"
   ]
  },
  {
   "cell_type": "code",
   "execution_count": 117,
   "id": "380dba5d",
   "metadata": {},
   "outputs": [
    {
     "data": {
      "text/html": [
       "<div>\n",
       "<style scoped>\n",
       "    .dataframe tbody tr th:only-of-type {\n",
       "        vertical-align: middle;\n",
       "    }\n",
       "\n",
       "    .dataframe tbody tr th {\n",
       "        vertical-align: top;\n",
       "    }\n",
       "\n",
       "    .dataframe thead th {\n",
       "        text-align: right;\n",
       "    }\n",
       "</style>\n",
       "<table border=\"1\" class=\"dataframe\">\n",
       "  <thead>\n",
       "    <tr style=\"text-align: right;\">\n",
       "      <th></th>\n",
       "      <th>Model No.</th>\n",
       "      <th>(p, d, q)</th>\n",
       "      <th>AIC</th>\n",
       "      <th>BIC</th>\n",
       "      <th>MSE</th>\n",
       "      <th>RMSE</th>\n",
       "    </tr>\n",
       "  </thead>\n",
       "  <tbody>\n",
       "    <tr>\n",
       "      <th>0</th>\n",
       "      <td>Model 0</td>\n",
       "      <td>(0, 0, 0)</td>\n",
       "      <td>107.908019</td>\n",
       "      <td>110.345771</td>\n",
       "      <td>3.473309</td>\n",
       "      <td>1.863681</td>\n",
       "    </tr>\n",
       "    <tr>\n",
       "      <th>1</th>\n",
       "      <td>Model 1</td>\n",
       "      <td>(0, 0, 1)</td>\n",
       "      <td>104.891173</td>\n",
       "      <td>108.547801</td>\n",
       "      <td>3.397126</td>\n",
       "      <td>1.843129</td>\n",
       "    </tr>\n",
       "    <tr>\n",
       "      <th>2</th>\n",
       "      <td>Model 2</td>\n",
       "      <td>(0, 0, 2)</td>\n",
       "      <td>106.002902</td>\n",
       "      <td>110.878405</td>\n",
       "      <td>3.218326</td>\n",
       "      <td>1.793969</td>\n",
       "    </tr>\n",
       "    <tr>\n",
       "      <th>3</th>\n",
       "      <td>Model 3</td>\n",
       "      <td>(1, 0, 0)</td>\n",
       "      <td>104.637100</td>\n",
       "      <td>108.293728</td>\n",
       "      <td>2.962228</td>\n",
       "      <td>1.721113</td>\n",
       "    </tr>\n",
       "    <tr>\n",
       "      <th>4</th>\n",
       "      <td>Model 4</td>\n",
       "      <td>(1, 0, 1)</td>\n",
       "      <td>106.387558</td>\n",
       "      <td>111.263061</td>\n",
       "      <td>3.157984</td>\n",
       "      <td>1.777072</td>\n",
       "    </tr>\n",
       "    <tr>\n",
       "      <th>5</th>\n",
       "      <td>Model 5</td>\n",
       "      <td>(1, 0, 2)</td>\n",
       "      <td>107.945651</td>\n",
       "      <td>114.040030</td>\n",
       "      <td>3.305664</td>\n",
       "      <td>1.818149</td>\n",
       "    </tr>\n",
       "    <tr>\n",
       "      <th>6</th>\n",
       "      <td>Model 6</td>\n",
       "      <td>(2, 0, 0)</td>\n",
       "      <td>106.200165</td>\n",
       "      <td>111.075668</td>\n",
       "      <td>3.372012</td>\n",
       "      <td>1.836304</td>\n",
       "    </tr>\n",
       "    <tr>\n",
       "      <th>7</th>\n",
       "      <td>Model 7</td>\n",
       "      <td>(2, 0, 1)</td>\n",
       "      <td>108.498260</td>\n",
       "      <td>114.592639</td>\n",
       "      <td>4.009514</td>\n",
       "      <td>2.002377</td>\n",
       "    </tr>\n",
       "    <tr>\n",
       "      <th>8</th>\n",
       "      <td>Model 8</td>\n",
       "      <td>(2, 0, 2)</td>\n",
       "      <td>108.045072</td>\n",
       "      <td>115.358327</td>\n",
       "      <td>5.136122</td>\n",
       "      <td>2.266301</td>\n",
       "    </tr>\n",
       "  </tbody>\n",
       "</table>\n",
       "</div>"
      ],
      "text/plain": [
       "  Model No.  (p, d, q)         AIC         BIC       MSE      RMSE\n",
       "0   Model 0  (0, 0, 0)  107.908019  110.345771  3.473309  1.863681\n",
       "1   Model 1  (0, 0, 1)  104.891173  108.547801  3.397126  1.843129\n",
       "2   Model 2  (0, 0, 2)  106.002902  110.878405  3.218326  1.793969\n",
       "3   Model 3  (1, 0, 0)  104.637100  108.293728  2.962228  1.721113\n",
       "4   Model 4  (1, 0, 1)  106.387558  111.263061  3.157984  1.777072\n",
       "5   Model 5  (1, 0, 2)  107.945651  114.040030  3.305664  1.818149\n",
       "6   Model 6  (2, 0, 0)  106.200165  111.075668  3.372012  1.836304\n",
       "7   Model 7  (2, 0, 1)  108.498260  114.592639  4.009514  2.002377\n",
       "8   Model 8  (2, 0, 2)  108.045072  115.358327  5.136122  2.266301"
      ]
     },
     "execution_count": 117,
     "metadata": {},
     "output_type": "execute_result"
    }
   ],
   "source": [
    "aic=[]\n",
    "bic=[]\n",
    "for i in model[0:]:\n",
    "    aic.append(i.aic)\n",
    "    bic.append(i.bic)\n",
    "\n",
    "# predicting values\n",
    "forecast=[]\n",
    "for i in model[0:]:\n",
    "    fcast = i.predict(start=len(train3), end=len(train3)+len(test3)-1)\n",
    "    forecast.append(fcast)\n",
    "\n",
    "# calculating MSE and RMSE score\n",
    "MSE = []\n",
    "RMSE = []\n",
    "for i in forecast:\n",
    "    mse = mean_squared_error(test3, i)\n",
    "    rmse = np.sqrt(mse)\n",
    "    MSE.append(mse)\n",
    "    RMSE.append(rmse)\n",
    "\n",
    "# printing model numbers\n",
    "model_no=[]\n",
    "for i in range(0,len(model)):\n",
    "    model_no.append('Model '+str(i))\n",
    "    \n",
    "# dataframe of all results\n",
    "df_results3 = pd.DataFrame({'Model No.': model_no, '(p, d, q)':lis[0:], 'AIC': aic, 'BIC': bic, 'MSE': MSE, 'RMSE': RMSE})\n",
    "df_results3"
   ]
  },
  {
   "cell_type": "code",
   "execution_count": 118,
   "id": "ed627101",
   "metadata": {},
   "outputs": [
    {
     "name": "stdout",
     "output_type": "stream",
     "text": [
      "Taking model with lowest RMSE score:\n"
     ]
    },
    {
     "data": {
      "text/html": [
       "<div>\n",
       "<style scoped>\n",
       "    .dataframe tbody tr th:only-of-type {\n",
       "        vertical-align: middle;\n",
       "    }\n",
       "\n",
       "    .dataframe tbody tr th {\n",
       "        vertical-align: top;\n",
       "    }\n",
       "\n",
       "    .dataframe thead th {\n",
       "        text-align: right;\n",
       "    }\n",
       "</style>\n",
       "<table border=\"1\" class=\"dataframe\">\n",
       "  <thead>\n",
       "    <tr style=\"text-align: right;\">\n",
       "      <th></th>\n",
       "      <th>Model No.</th>\n",
       "      <th>(p, d, q)</th>\n",
       "      <th>AIC</th>\n",
       "      <th>BIC</th>\n",
       "      <th>MSE</th>\n",
       "      <th>RMSE</th>\n",
       "    </tr>\n",
       "  </thead>\n",
       "  <tbody>\n",
       "    <tr>\n",
       "      <th>3</th>\n",
       "      <td>Model 3</td>\n",
       "      <td>(1, 0, 0)</td>\n",
       "      <td>104.6371</td>\n",
       "      <td>108.293728</td>\n",
       "      <td>2.962228</td>\n",
       "      <td>1.721113</td>\n",
       "    </tr>\n",
       "  </tbody>\n",
       "</table>\n",
       "</div>"
      ],
      "text/plain": [
       "  Model No.  (p, d, q)       AIC         BIC       MSE      RMSE\n",
       "3   Model 3  (1, 0, 0)  104.6371  108.293728  2.962228  1.721113"
      ]
     },
     "execution_count": 118,
     "metadata": {},
     "output_type": "execute_result"
    }
   ],
   "source": [
    "print('Taking model with lowest RMSE score:')\n",
    "df_results3[df_results3.RMSE==df_results3.RMSE.min()]\n"
   ]
  },
  {
   "cell_type": "code",
   "execution_count": 119,
   "id": "ddd43724",
   "metadata": {},
   "outputs": [
    {
     "name": "stdout",
     "output_type": "stream",
     "text": [
      "Taking model with lowest BIC score:\n"
     ]
    },
    {
     "data": {
      "text/html": [
       "<div>\n",
       "<style scoped>\n",
       "    .dataframe tbody tr th:only-of-type {\n",
       "        vertical-align: middle;\n",
       "    }\n",
       "\n",
       "    .dataframe tbody tr th {\n",
       "        vertical-align: top;\n",
       "    }\n",
       "\n",
       "    .dataframe thead th {\n",
       "        text-align: right;\n",
       "    }\n",
       "</style>\n",
       "<table border=\"1\" class=\"dataframe\">\n",
       "  <thead>\n",
       "    <tr style=\"text-align: right;\">\n",
       "      <th></th>\n",
       "      <th>Model No.</th>\n",
       "      <th>(p, d, q)</th>\n",
       "      <th>AIC</th>\n",
       "      <th>BIC</th>\n",
       "      <th>MSE</th>\n",
       "      <th>RMSE</th>\n",
       "    </tr>\n",
       "  </thead>\n",
       "  <tbody>\n",
       "    <tr>\n",
       "      <th>3</th>\n",
       "      <td>Model 3</td>\n",
       "      <td>(1, 0, 0)</td>\n",
       "      <td>104.6371</td>\n",
       "      <td>108.293728</td>\n",
       "      <td>2.962228</td>\n",
       "      <td>1.721113</td>\n",
       "    </tr>\n",
       "  </tbody>\n",
       "</table>\n",
       "</div>"
      ],
      "text/plain": [
       "  Model No.  (p, d, q)       AIC         BIC       MSE      RMSE\n",
       "3   Model 3  (1, 0, 0)  104.6371  108.293728  2.962228  1.721113"
      ]
     },
     "execution_count": 119,
     "metadata": {},
     "output_type": "execute_result"
    }
   ],
   "source": [
    "print('Taking model with lowest BIC score:')\n",
    "\n",
    "df_results3[df_results3.BIC==df_results3.BIC.min()]"
   ]
  },
  {
   "cell_type": "code",
   "execution_count": 120,
   "id": "b7a9f092",
   "metadata": {},
   "outputs": [
    {
     "name": "stdout",
     "output_type": "stream",
     "text": [
      "Taking model with lowest AIC score:\n"
     ]
    },
    {
     "data": {
      "text/html": [
       "<div>\n",
       "<style scoped>\n",
       "    .dataframe tbody tr th:only-of-type {\n",
       "        vertical-align: middle;\n",
       "    }\n",
       "\n",
       "    .dataframe tbody tr th {\n",
       "        vertical-align: top;\n",
       "    }\n",
       "\n",
       "    .dataframe thead th {\n",
       "        text-align: right;\n",
       "    }\n",
       "</style>\n",
       "<table border=\"1\" class=\"dataframe\">\n",
       "  <thead>\n",
       "    <tr style=\"text-align: right;\">\n",
       "      <th></th>\n",
       "      <th>Model No.</th>\n",
       "      <th>(p, d, q)</th>\n",
       "      <th>AIC</th>\n",
       "      <th>BIC</th>\n",
       "      <th>MSE</th>\n",
       "      <th>RMSE</th>\n",
       "    </tr>\n",
       "  </thead>\n",
       "  <tbody>\n",
       "    <tr>\n",
       "      <th>3</th>\n",
       "      <td>Model 3</td>\n",
       "      <td>(1, 0, 0)</td>\n",
       "      <td>104.6371</td>\n",
       "      <td>108.293728</td>\n",
       "      <td>2.962228</td>\n",
       "      <td>1.721113</td>\n",
       "    </tr>\n",
       "  </tbody>\n",
       "</table>\n",
       "</div>"
      ],
      "text/plain": [
       "  Model No.  (p, d, q)       AIC         BIC       MSE      RMSE\n",
       "3   Model 3  (1, 0, 0)  104.6371  108.293728  2.962228  1.721113"
      ]
     },
     "execution_count": 120,
     "metadata": {},
     "output_type": "execute_result"
    }
   ],
   "source": [
    "print('Taking model with lowest AIC score:')\n",
    "df_results3[df_results3.AIC==df_results3.AIC.min()]"
   ]
  },
  {
   "cell_type": "code",
   "execution_count": 121,
   "id": "9cc534f1",
   "metadata": {},
   "outputs": [
    {
     "data": {
      "text/html": [
       "<table class=\"simpletable\">\n",
       "<caption>SARIMAX Results</caption>\n",
       "<tr>\n",
       "  <th>Dep. Variable:</th>            <td>sentiment_count</td>         <th>  No. Observations:  </th>   <td>36</td>   \n",
       "</tr>\n",
       "<tr>\n",
       "  <th>Model:</th>           <td>SARIMAX(2, 0, 2)x(1, 0, [1], 12)</td> <th>  Log Likelihood     </th> <td>-75.519</td>\n",
       "</tr>\n",
       "<tr>\n",
       "  <th>Date:</th>                    <td>Wed, 25 Jan 2023</td>         <th>  AIC                </th> <td>165.038</td>\n",
       "</tr>\n",
       "<tr>\n",
       "  <th>Time:</th>                        <td>14:58:21</td>             <th>  BIC                </th> <td>176.123</td>\n",
       "</tr>\n",
       "<tr>\n",
       "  <th>Sample:</th>                          <td>0</td>                <th>  HQIC               </th> <td>168.907</td>\n",
       "</tr>\n",
       "<tr>\n",
       "  <th></th>                               <td> - 36</td>              <th>                     </th>    <td> </td>   \n",
       "</tr>\n",
       "<tr>\n",
       "  <th>Covariance Type:</th>                <td>opg</td>               <th>                     </th>    <td> </td>   \n",
       "</tr>\n",
       "</table>\n",
       "<table class=\"simpletable\">\n",
       "<tr>\n",
       "      <td></td>        <th>coef</th>     <th>std err</th>      <th>z</th>      <th>P>|z|</th>  <th>[0.025</th>    <th>0.975]</th>  \n",
       "</tr>\n",
       "<tr>\n",
       "  <th>ar.L1</th>    <td>    0.0026</td> <td>    0.361</td> <td>    0.007</td> <td> 0.994</td> <td>   -0.704</td> <td>    0.709</td>\n",
       "</tr>\n",
       "<tr>\n",
       "  <th>ar.L2</th>    <td>    0.9974</td> <td>    0.361</td> <td>    2.763</td> <td> 0.006</td> <td>    0.290</td> <td>    1.705</td>\n",
       "</tr>\n",
       "<tr>\n",
       "  <th>ma.L1</th>    <td>   -0.0890</td> <td>    0.448</td> <td>   -0.199</td> <td> 0.843</td> <td>   -0.967</td> <td>    0.789</td>\n",
       "</tr>\n",
       "<tr>\n",
       "  <th>ma.L2</th>    <td>   -0.8312</td> <td>    0.455</td> <td>   -1.827</td> <td> 0.068</td> <td>   -1.723</td> <td>    0.061</td>\n",
       "</tr>\n",
       "<tr>\n",
       "  <th>ar.S.L12</th> <td>    0.4187</td> <td>    1.923</td> <td>    0.218</td> <td> 0.828</td> <td>   -3.351</td> <td>    4.188</td>\n",
       "</tr>\n",
       "<tr>\n",
       "  <th>ma.S.L12</th> <td>   -0.9147</td> <td>    7.181</td> <td>   -0.127</td> <td> 0.899</td> <td>  -14.989</td> <td>   13.159</td>\n",
       "</tr>\n",
       "<tr>\n",
       "  <th>sigma2</th>   <td>    2.7853</td> <td>   14.193</td> <td>    0.196</td> <td> 0.844</td> <td>  -25.032</td> <td>   30.602</td>\n",
       "</tr>\n",
       "</table>\n",
       "<table class=\"simpletable\">\n",
       "<tr>\n",
       "  <th>Ljung-Box (L1) (Q):</th>     <td>2.67</td> <th>  Jarque-Bera (JB):  </th> <td>0.55</td>\n",
       "</tr>\n",
       "<tr>\n",
       "  <th>Prob(Q):</th>                <td>0.10</td> <th>  Prob(JB):          </th> <td>0.76</td>\n",
       "</tr>\n",
       "<tr>\n",
       "  <th>Heteroskedasticity (H):</th> <td>0.63</td> <th>  Skew:              </th> <td>0.10</td>\n",
       "</tr>\n",
       "<tr>\n",
       "  <th>Prob(H) (two-sided):</th>    <td>0.44</td> <th>  Kurtosis:          </th> <td>2.43</td>\n",
       "</tr>\n",
       "</table><br/><br/>Warnings:<br/>[1] Covariance matrix calculated using the outer product of gradients (complex-step)."
      ],
      "text/plain": [
       "<class 'statsmodels.iolib.summary.Summary'>\n",
       "\"\"\"\n",
       "                                      SARIMAX Results                                       \n",
       "============================================================================================\n",
       "Dep. Variable:                      sentiment_count   No. Observations:                   36\n",
       "Model:             SARIMAX(2, 0, 2)x(1, 0, [1], 12)   Log Likelihood                 -75.519\n",
       "Date:                              Wed, 25 Jan 2023   AIC                            165.038\n",
       "Time:                                      14:58:21   BIC                            176.123\n",
       "Sample:                                           0   HQIC                           168.907\n",
       "                                               - 36                                         \n",
       "Covariance Type:                                opg                                         \n",
       "==============================================================================\n",
       "                 coef    std err          z      P>|z|      [0.025      0.975]\n",
       "------------------------------------------------------------------------------\n",
       "ar.L1          0.0026      0.361      0.007      0.994      -0.704       0.709\n",
       "ar.L2          0.9974      0.361      2.763      0.006       0.290       1.705\n",
       "ma.L1         -0.0890      0.448     -0.199      0.843      -0.967       0.789\n",
       "ma.L2         -0.8312      0.455     -1.827      0.068      -1.723       0.061\n",
       "ar.S.L12       0.4187      1.923      0.218      0.828      -3.351       4.188\n",
       "ma.S.L12      -0.9147      7.181     -0.127      0.899     -14.989      13.159\n",
       "sigma2         2.7853     14.193      0.196      0.844     -25.032      30.602\n",
       "===================================================================================\n",
       "Ljung-Box (L1) (Q):                   2.67   Jarque-Bera (JB):                 0.55\n",
       "Prob(Q):                              0.10   Prob(JB):                         0.76\n",
       "Heteroskedasticity (H):               0.63   Skew:                             0.10\n",
       "Prob(H) (two-sided):                  0.44   Kurtosis:                         2.43\n",
       "===================================================================================\n",
       "\n",
       "Warnings:\n",
       "[1] Covariance matrix calculated using the outer product of gradients (complex-step).\n",
       "\"\"\""
      ]
     },
     "execution_count": 121,
     "metadata": {},
     "output_type": "execute_result"
    }
   ],
   "source": [
    "p=2;q=2;d=0\n",
    "P=1;Q=1;D=0\n",
    "m3 = sm.tsa.statespace.SARIMAX(office_neg['sentiment_count'],order=(p,d,q),seasonal_order=(P,D,Q,12)).fit()\n",
    "# summarise the model\n",
    "m3.summary()\n"
   ]
  },
  {
   "cell_type": "code",
   "execution_count": 122,
   "id": "de99208f",
   "metadata": {},
   "outputs": [
    {
     "name": "stdout",
     "output_type": "stream",
     "text": [
      "Fail-to-Reject H0. Good model\n"
     ]
    }
   ],
   "source": [
    "# LJung-Box test\n",
    "pvalue = sm.stats.acorr_ljungbox(m3.resid,lags=[1],return_df=True)['lb_pvalue'].values\n",
    "if pvalue < 0.05:\n",
    "    print(\"Reject H0. Bad model\")\n",
    "else:\n",
    "    print(\"Fail-to-Reject H0. Good model\")"
   ]
  },
  {
   "cell_type": "code",
   "execution_count": 123,
   "id": "ef96d268",
   "metadata": {},
   "outputs": [
    {
     "name": "stdout",
     "output_type": "stream",
     "text": [
      "start = 25, end = 35\n"
     ]
    }
   ],
   "source": [
    "start = len(train3) \n",
    "end = len(train3) + len(test3) - 1\n",
    "\n",
    "print('start = {}, end = {}'.format(start,end))"
   ]
  },
  {
   "cell_type": "code",
   "execution_count": 124,
   "id": "1a953889",
   "metadata": {},
   "outputs": [
    {
     "name": "stdout",
     "output_type": "stream",
     "text": [
      "date\n",
      "2017-03-31    5.002803\n",
      "2017-04-30    6.456644\n",
      "2017-05-31    5.404794\n",
      "2017-06-30    6.499433\n",
      "2017-07-31    4.609743\n",
      "Name: predicted_mean, dtype: float64\n"
     ]
    }
   ],
   "source": [
    "predictions = m3.predict(start,end)\n",
    "predictions.index=test3.index\n",
    "print(predictions.head())"
   ]
  },
  {
   "cell_type": "code",
   "execution_count": 125,
   "id": "fb22d451",
   "metadata": {},
   "outputs": [
    {
     "name": "stdout",
     "output_type": "stream",
     "text": [
      "            actual  predicted     error\n",
      "date                                   \n",
      "2017-03-31     4.0   5.002803 -1.002803\n",
      "2017-04-30    10.0   6.456644  3.543356\n",
      "2017-05-31     5.0   5.404794 -0.404794\n",
      "2017-06-30     6.0   6.499433 -0.499433\n",
      "2017-07-31     4.0   4.609743 -0.609743\n"
     ]
    }
   ],
   "source": [
    "actual = []; pred = []\n",
    "test3.reset_index(drop=True)\n",
    "for i in range(len(predictions)):\n",
    "    actual.append(test3['sentiment_count'][i])\n",
    "    pred.append(predictions[i])\n",
    "\n",
    "df_res3 = pd.DataFrame({'actual':actual, 'predicted':pred})\n",
    "df_res3['error'] = df_res3.actual - df_res3.predicted\n",
    "df_res3.index=test3.index\n",
    "print(df_res3.head())"
   ]
  },
  {
   "cell_type": "code",
   "execution_count": 128,
   "id": "6ca79dfc",
   "metadata": {},
   "outputs": [
    {
     "data": {
      "text/html": [
       "<div>\n",
       "<style scoped>\n",
       "    .dataframe tbody tr th:only-of-type {\n",
       "        vertical-align: middle;\n",
       "    }\n",
       "\n",
       "    .dataframe tbody tr th {\n",
       "        vertical-align: top;\n",
       "    }\n",
       "\n",
       "    .dataframe thead th {\n",
       "        text-align: right;\n",
       "    }\n",
       "</style>\n",
       "<table border=\"1\" class=\"dataframe\">\n",
       "  <thead>\n",
       "    <tr style=\"text-align: right;\">\n",
       "      <th></th>\n",
       "      <th>actual</th>\n",
       "      <th>predicted</th>\n",
       "      <th>error</th>\n",
       "    </tr>\n",
       "    <tr>\n",
       "      <th>date</th>\n",
       "      <th></th>\n",
       "      <th></th>\n",
       "      <th></th>\n",
       "    </tr>\n",
       "  </thead>\n",
       "  <tbody>\n",
       "    <tr>\n",
       "      <th>2017-09-30</th>\n",
       "      <td>6.0</td>\n",
       "      <td>6.194965</td>\n",
       "      <td>-0.194965</td>\n",
       "    </tr>\n",
       "    <tr>\n",
       "      <th>2017-10-31</th>\n",
       "      <td>4.0</td>\n",
       "      <td>6.659291</td>\n",
       "      <td>-2.659291</td>\n",
       "    </tr>\n",
       "    <tr>\n",
       "      <th>2017-11-30</th>\n",
       "      <td>7.0</td>\n",
       "      <td>5.227825</td>\n",
       "      <td>1.772175</td>\n",
       "    </tr>\n",
       "    <tr>\n",
       "      <th>2018-01-31</th>\n",
       "      <td>8.0</td>\n",
       "      <td>7.276737</td>\n",
       "      <td>0.723263</td>\n",
       "    </tr>\n",
       "    <tr>\n",
       "      <th>2018-02-28</th>\n",
       "      <td>7.0</td>\n",
       "      <td>6.346331</td>\n",
       "      <td>0.653669</td>\n",
       "    </tr>\n",
       "  </tbody>\n",
       "</table>\n",
       "</div>"
      ],
      "text/plain": [
       "            actual  predicted     error\n",
       "date                                   \n",
       "2017-09-30     6.0   6.194965 -0.194965\n",
       "2017-10-31     4.0   6.659291 -2.659291\n",
       "2017-11-30     7.0   5.227825  1.772175\n",
       "2018-01-31     8.0   7.276737  0.723263\n",
       "2018-02-28     7.0   6.346331  0.653669"
      ]
     },
     "execution_count": 128,
     "metadata": {},
     "output_type": "execute_result"
    }
   ],
   "source": [
    "df_res3.tail(5)"
   ]
  },
  {
   "cell_type": "code",
   "execution_count": 126,
   "id": "ff0192d3",
   "metadata": {},
   "outputs": [
    {
     "name": "stdout",
     "output_type": "stream",
     "text": [
      "mse: 2.326377850838405\n",
      "rmse: 1.5252468163672412\n"
     ]
    }
   ],
   "source": [
    "mse3=mean_squared_error(df_res3.actual,df_res3.predicted)\n",
    "rmse3=np.sqrt(mse3)\n",
    "print('mse:',mse3)\n",
    "print('rmse:',rmse3)"
   ]
  },
  {
   "cell_type": "code",
   "execution_count": 127,
   "id": "861f7083",
   "metadata": {},
   "outputs": [
    {
     "data": {
      "text/plain": [
       "Text(0.5, 1.0, 'SARIMA Model. Order=(2,0,2)')"
      ]
     },
     "execution_count": 127,
     "metadata": {},
     "output_type": "execute_result"
    },
    {
     "data": {
      "image/png": "[encoded data removed]",
      "text/plain": [
       "<Figure size 720x576 with 1 Axes>"
      ]
     },
     "metadata": {
      "needs_background": "light"
     },
     "output_type": "display_data"
    }
   ],
   "source": [
    "msg = 'SARIMA Model. Order=(' + str(p) + ',' + str(d) + ',' + str(q) + ')'\n",
    "df_res3.actual.plot(figsize=(10,8),legend=True)\n",
    "df_res3.predicted.plot(legend=True)\n",
    "plt.title(msg)"
   ]
  },
  {
   "cell_type": "code",
   "execution_count": 129,
   "id": "da5fc959",
   "metadata": {},
   "outputs": [],
   "source": [
    "future_dates=pd.DataFrame()\n",
    "future_dates['date']=[     \n",
    "'2018-02-28',    \n",
    "'2018-04-30',       \n",
    "'2018-07-31',   \n",
    "'2018-12-31',  \n",
    "'2019-01-31',   \n",
    "'2019-04-30',\n",
    "'2019-07-31']      \n",
    "future_dates=pd.to_datetime(future_dates['date'])\n",
    "future_dates=pd.DataFrame(future_dates)"
   ]
  },
  {
   "cell_type": "code",
   "execution_count": 133,
   "id": "f4ac5e7f",
   "metadata": {},
   "outputs": [
    {
     "name": "stdout",
     "output_type": "stream",
     "text": [
      "date\n",
      "2018-02-28    6.346331\n",
      "2018-04-30    7.299408\n",
      "2018-07-31    6.046591\n",
      "2018-12-31    5.197875\n",
      "2019-01-31    6.278455\n",
      "Name: Forecast, dtype: float64\n"
     ]
    }
   ],
   "source": [
    "fcast3 = m3.predict(end,end+6).rename('Forecast')\n",
    "fcast3.index=future_dates.date\n",
    "print(fcast3.head())"
   ]
  },
  {
   "cell_type": "code",
   "execution_count": 134,
   "id": "6ef95eb6",
   "metadata": {},
   "outputs": [
    {
     "data": {
      "text/plain": [
       "<AxesSubplot:xlabel='date', ylabel='count of negative sentiment'>"
      ]
     },
     "execution_count": 134,
     "metadata": {},
     "output_type": "execute_result"
    },
    {
     "data": {
      "image/png": "[encoded data removed]",
      "text/plain": [
       "<Figure size 720x576 with 1 Axes>"
      ]
     },
     "metadata": {
      "needs_background": "light"
     },
     "output_type": "display_data"
    }
   ],
   "source": [
    "df_res3.actual.tail(20).plot(figsize=(10,8),legend=True)\n",
    "df_res3.predicted.tail(20).plot(legend=True)\n",
    "plt.ylabel('count of negative sentiment')\n",
    "fcast3.plot(legend=True)\n"
   ]
  },
  {
   "cell_type": "code",
   "execution_count": 135,
   "id": "80b6fc67",
   "metadata": {},
   "outputs": [
    {
     "data": {
      "text/plain": [
       "<matplotlib.legend.Legend at 0x177055cf4c0>"
      ]
     },
     "execution_count": 135,
     "metadata": {},
     "output_type": "execute_result"
    },
    {
     "data": {
      "image/png": "[encoded data removed]",
      "text/plain": [
       "<Figure size 720x576 with 1 Axes>"
      ]
     },
     "metadata": {
      "needs_background": "light"
     },
     "output_type": "display_data"
    }
   ],
   "source": [
    "plt.figure(figsize=(10,8))\n",
    "plt.title('Sentiment Forecast')\n",
    "plt.ylabel('count of sentiment')\n",
    "fcast1.plot(label='postive')\n",
    "fcast2.plot(label='neutral')\n",
    "fcast3.plot(label='negative')\n",
    "plt.legend()"
   ]
  },
  {
   "cell_type": "code",
   "execution_count": null,
   "id": "c41de6a2",
   "metadata": {},
   "outputs": [],
   "source": []
  }
 ],
 "metadata": {
  "kernelspec": {
   "display_name": "Python 3 (ipykernel)",
   "language": "python",
   "name": "python3"
  },
  "language_info": {
   "codemirror_mode": {
    "name": "ipython",
    "version": 3
   },
   "file_extension": ".py",
   "mimetype": "text/x-python",
   "name": "python",
   "nbconvert_exporter": "python",
   "pygments_lexer": "ipython3",
   "version": "3.9.12"
  }
 },
 "nbformat": 4,
 "nbformat_minor": 5
}
